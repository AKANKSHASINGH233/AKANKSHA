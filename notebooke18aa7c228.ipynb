{
 "cells": [
  {
   "cell_type": "code",
   "execution_count": 1,
   "id": "640ef0bc",
   "metadata": {
    "_cell_guid": "b1076dfc-b9ad-4769-8c92-a6c4dae69d19",
    "_uuid": "8f2839f25d086af736a60e9eeb907d3b93b6e0e5",
    "execution": {
     "iopub.execute_input": "2022-12-20T18:43:51.273421Z",
     "iopub.status.busy": "2022-12-20T18:43:51.272898Z",
     "iopub.status.idle": "2022-12-20T18:43:51.294877Z",
     "shell.execute_reply": "2022-12-20T18:43:51.293707Z"
    },
    "papermill": {
     "duration": 0.039086,
     "end_time": "2022-12-20T18:43:51.297633",
     "exception": false,
     "start_time": "2022-12-20T18:43:51.258547",
     "status": "completed"
    },
    "tags": []
   },
   "outputs": [
    {
     "name": "stdout",
     "output_type": "stream",
     "text": [
      "/kaggle/input/softwaredefectcm1/software-defects-cm1.csv\n"
     ]
    }
   ],
   "source": [
    "\n",
    "\n",
    "import numpy as np \n",
    "import pandas as pd \n",
    "\n",
    "\n",
    "\n",
    "import os\n",
    "for dirname, _, filenames in os.walk('/kaggle/input'):\n",
    "    for filename in filenames:\n",
    "        print(os.path.join(dirname, filename))\n",
    "\n"
   ]
  },
  {
   "cell_type": "code",
   "execution_count": 2,
   "id": "5604a8cd",
   "metadata": {
    "execution": {
     "iopub.execute_input": "2022-12-20T18:43:51.324498Z",
     "iopub.status.busy": "2022-12-20T18:43:51.323710Z",
     "iopub.status.idle": "2022-12-20T18:43:51.331244Z",
     "shell.execute_reply": "2022-12-20T18:43:51.330122Z"
    },
    "papermill": {
     "duration": 0.024451,
     "end_time": "2022-12-20T18:43:51.333725",
     "exception": false,
     "start_time": "2022-12-20T18:43:51.309274",
     "status": "completed"
    },
    "tags": []
   },
   "outputs": [],
   "source": [
    "from matplotlib import pyplot as plt\n",
    "%matplotlib inline"
   ]
  },
  {
   "cell_type": "code",
   "execution_count": 3,
   "id": "7e109813",
   "metadata": {
    "execution": {
     "iopub.execute_input": "2022-12-20T18:43:51.358917Z",
     "iopub.status.busy": "2022-12-20T18:43:51.357747Z",
     "iopub.status.idle": "2022-12-20T18:43:52.287222Z",
     "shell.execute_reply": "2022-12-20T18:43:52.286279Z"
    },
    "papermill": {
     "duration": 0.944472,
     "end_time": "2022-12-20T18:43:52.289647",
     "exception": false,
     "start_time": "2022-12-20T18:43:51.345175",
     "status": "completed"
    },
    "tags": []
   },
   "outputs": [],
   "source": [
    "import seaborn as sns"
   ]
  },
  {
   "cell_type": "markdown",
   "id": "c64e4f79",
   "metadata": {
    "papermill": {
     "duration": 0.010939,
     "end_time": "2022-12-20T18:43:52.312123",
     "exception": false,
     "start_time": "2022-12-20T18:43:52.301184",
     "status": "completed"
    },
    "tags": []
   },
   "source": []
  },
  {
   "cell_type": "code",
   "execution_count": 4,
   "id": "9b5c3b6a",
   "metadata": {
    "execution": {
     "iopub.execute_input": "2022-12-20T18:43:52.335250Z",
     "iopub.status.busy": "2022-12-20T18:43:52.334852Z",
     "iopub.status.idle": "2022-12-20T18:43:52.386788Z",
     "shell.execute_reply": "2022-12-20T18:43:52.385739Z"
    },
    "papermill": {
     "duration": 0.066828,
     "end_time": "2022-12-20T18:43:52.389549",
     "exception": false,
     "start_time": "2022-12-20T18:43:52.322721",
     "status": "completed"
    },
    "tags": []
   },
   "outputs": [
    {
     "data": {
      "text/html": [
       "        <script type=\"text/javascript\">\n",
       "        window.PlotlyConfig = {MathJaxConfig: 'local'};\n",
       "        if (window.MathJax && window.MathJax.Hub && window.MathJax.Hub.Config) {window.MathJax.Hub.Config({SVG: {font: \"STIX-Web\"}});}\n",
       "        if (typeof require !== 'undefined') {\n",
       "        require.undef(\"plotly\");\n",
       "        requirejs.config({\n",
       "            paths: {\n",
       "                'plotly': ['https://cdn.plot.ly/plotly-2.14.0.min']\n",
       "            }\n",
       "        });\n",
       "        require(['plotly'], function(Plotly) {\n",
       "            window._Plotly = Plotly;\n",
       "        });\n",
       "        }\n",
       "        </script>\n",
       "        "
      ]
     },
     "metadata": {},
     "output_type": "display_data"
    }
   ],
   "source": [
    "from plotly.offline import init_notebook_mode, iplot\n",
    "init_notebook_mode(connected=True)\n",
    "\n",
    "import plotly.graph_objs as go"
   ]
  },
  {
   "cell_type": "code",
   "execution_count": 5,
   "id": "c621f251",
   "metadata": {
    "execution": {
     "iopub.execute_input": "2022-12-20T18:43:52.414238Z",
     "iopub.status.busy": "2022-12-20T18:43:52.413825Z",
     "iopub.status.idle": "2022-12-20T18:43:52.420126Z",
     "shell.execute_reply": "2022-12-20T18:43:52.418763Z"
    },
    "papermill": {
     "duration": 0.021207,
     "end_time": "2022-12-20T18:43:52.422439",
     "exception": false,
     "start_time": "2022-12-20T18:43:52.401232",
     "status": "completed"
    },
    "tags": []
   },
   "outputs": [
    {
     "name": "stdout",
     "output_type": "stream",
     "text": [
      "['softwaredefectcm1']\n"
     ]
    }
   ],
   "source": [
    "\n",
    "import os\n",
    "print(os.listdir(\"../input\"))"
   ]
  },
  {
   "cell_type": "code",
   "execution_count": 6,
   "id": "f1975227",
   "metadata": {
    "execution": {
     "iopub.execute_input": "2022-12-20T18:43:52.447155Z",
     "iopub.status.busy": "2022-12-20T18:43:52.446753Z",
     "iopub.status.idle": "2022-12-20T18:43:52.468770Z",
     "shell.execute_reply": "2022-12-20T18:43:52.467945Z"
    },
    "papermill": {
     "duration": 0.03735,
     "end_time": "2022-12-20T18:43:52.471367",
     "exception": false,
     "start_time": "2022-12-20T18:43:52.434017",
     "status": "completed"
    },
    "tags": []
   },
   "outputs": [],
   "source": [
    "data = pd.read_csv('../input/softwaredefectcm1/software-defects-cm1.csv')"
   ]
  },
  {
   "cell_type": "code",
   "execution_count": 7,
   "id": "3b07cdc7",
   "metadata": {
    "execution": {
     "iopub.execute_input": "2022-12-20T18:43:52.496499Z",
     "iopub.status.busy": "2022-12-20T18:43:52.495609Z",
     "iopub.status.idle": "2022-12-20T18:43:52.520093Z",
     "shell.execute_reply": "2022-12-20T18:43:52.518524Z"
    },
    "papermill": {
     "duration": 0.039817,
     "end_time": "2022-12-20T18:43:52.522642",
     "exception": false,
     "start_time": "2022-12-20T18:43:52.482825",
     "status": "completed"
    },
    "tags": []
   },
   "outputs": [
    {
     "name": "stdout",
     "output_type": "stream",
     "text": [
      "<class 'pandas.core.frame.DataFrame'>\n",
      "RangeIndex: 498 entries, 0 to 497\n",
      "Data columns (total 22 columns):\n",
      " #   Column             Non-Null Count  Dtype  \n",
      "---  ------             --------------  -----  \n",
      " 0   loc                498 non-null    float64\n",
      " 1   v(g)               498 non-null    float64\n",
      " 2   ev(g)              498 non-null    float64\n",
      " 3   iv(g)              498 non-null    float64\n",
      " 4   n                  498 non-null    float64\n",
      " 5   v                  498 non-null    float64\n",
      " 6   l                  498 non-null    float64\n",
      " 7   d                  498 non-null    float64\n",
      " 8   i                  498 non-null    float64\n",
      " 9   e                  498 non-null    float64\n",
      " 10  b                  498 non-null    float64\n",
      " 11  t                  498 non-null    float64\n",
      " 12  lOCode             498 non-null    int64  \n",
      " 13  lOComment          498 non-null    int64  \n",
      " 14  lOBlank            498 non-null    int64  \n",
      " 15  locCodeAndComment  498 non-null    int64  \n",
      " 16  uniq_Op            498 non-null    float64\n",
      " 17  uniq_Opnd          498 non-null    float64\n",
      " 18  total_Op           498 non-null    float64\n",
      " 19  total_Opnd         498 non-null    float64\n",
      " 20  branchCount        498 non-null    float64\n",
      " 21  defects            498 non-null    int64  \n",
      "dtypes: float64(17), int64(5)\n",
      "memory usage: 85.7 KB\n"
     ]
    }
   ],
   "source": [
    "data.info()"
   ]
  },
  {
   "cell_type": "code",
   "execution_count": 8,
   "id": "fd420a7c",
   "metadata": {
    "execution": {
     "iopub.execute_input": "2022-12-20T18:43:52.547499Z",
     "iopub.status.busy": "2022-12-20T18:43:52.547104Z",
     "iopub.status.idle": "2022-12-20T18:43:52.583698Z",
     "shell.execute_reply": "2022-12-20T18:43:52.582691Z"
    },
    "papermill": {
     "duration": 0.051889,
     "end_time": "2022-12-20T18:43:52.586032",
     "exception": false,
     "start_time": "2022-12-20T18:43:52.534143",
     "status": "completed"
    },
    "tags": []
   },
   "outputs": [
    {
     "data": {
      "text/html": [
       "<div>\n",
       "<style scoped>\n",
       "    .dataframe tbody tr th:only-of-type {\n",
       "        vertical-align: middle;\n",
       "    }\n",
       "\n",
       "    .dataframe tbody tr th {\n",
       "        vertical-align: top;\n",
       "    }\n",
       "\n",
       "    .dataframe thead th {\n",
       "        text-align: right;\n",
       "    }\n",
       "</style>\n",
       "<table border=\"1\" class=\"dataframe\">\n",
       "  <thead>\n",
       "    <tr style=\"text-align: right;\">\n",
       "      <th></th>\n",
       "      <th>loc</th>\n",
       "      <th>v(g)</th>\n",
       "      <th>ev(g)</th>\n",
       "      <th>iv(g)</th>\n",
       "      <th>n</th>\n",
       "      <th>v</th>\n",
       "      <th>l</th>\n",
       "      <th>d</th>\n",
       "      <th>i</th>\n",
       "      <th>e</th>\n",
       "      <th>...</th>\n",
       "      <th>lOCode</th>\n",
       "      <th>lOComment</th>\n",
       "      <th>lOBlank</th>\n",
       "      <th>locCodeAndComment</th>\n",
       "      <th>uniq_Op</th>\n",
       "      <th>uniq_Opnd</th>\n",
       "      <th>total_Op</th>\n",
       "      <th>total_Opnd</th>\n",
       "      <th>branchCount</th>\n",
       "      <th>defects</th>\n",
       "    </tr>\n",
       "  </thead>\n",
       "  <tbody>\n",
       "    <tr>\n",
       "      <th>0</th>\n",
       "      <td>1.1</td>\n",
       "      <td>1.4</td>\n",
       "      <td>1.4</td>\n",
       "      <td>1.4</td>\n",
       "      <td>1.3</td>\n",
       "      <td>1.30</td>\n",
       "      <td>1.30</td>\n",
       "      <td>1.30</td>\n",
       "      <td>1.30</td>\n",
       "      <td>1.30</td>\n",
       "      <td>...</td>\n",
       "      <td>2</td>\n",
       "      <td>2</td>\n",
       "      <td>2</td>\n",
       "      <td>2</td>\n",
       "      <td>1.2</td>\n",
       "      <td>1.2</td>\n",
       "      <td>1.2</td>\n",
       "      <td>1.2</td>\n",
       "      <td>1.4</td>\n",
       "      <td>0</td>\n",
       "    </tr>\n",
       "    <tr>\n",
       "      <th>1</th>\n",
       "      <td>1.0</td>\n",
       "      <td>1.0</td>\n",
       "      <td>1.0</td>\n",
       "      <td>1.0</td>\n",
       "      <td>1.0</td>\n",
       "      <td>1.00</td>\n",
       "      <td>1.00</td>\n",
       "      <td>1.00</td>\n",
       "      <td>1.00</td>\n",
       "      <td>1.00</td>\n",
       "      <td>...</td>\n",
       "      <td>1</td>\n",
       "      <td>1</td>\n",
       "      <td>1</td>\n",
       "      <td>1</td>\n",
       "      <td>1.0</td>\n",
       "      <td>1.0</td>\n",
       "      <td>1.0</td>\n",
       "      <td>1.0</td>\n",
       "      <td>1.0</td>\n",
       "      <td>1</td>\n",
       "    </tr>\n",
       "    <tr>\n",
       "      <th>2</th>\n",
       "      <td>24.0</td>\n",
       "      <td>5.0</td>\n",
       "      <td>1.0</td>\n",
       "      <td>3.0</td>\n",
       "      <td>63.0</td>\n",
       "      <td>309.13</td>\n",
       "      <td>0.11</td>\n",
       "      <td>9.50</td>\n",
       "      <td>32.54</td>\n",
       "      <td>2936.77</td>\n",
       "      <td>...</td>\n",
       "      <td>1</td>\n",
       "      <td>0</td>\n",
       "      <td>6</td>\n",
       "      <td>0</td>\n",
       "      <td>15.0</td>\n",
       "      <td>15.0</td>\n",
       "      <td>44.0</td>\n",
       "      <td>19.0</td>\n",
       "      <td>9.0</td>\n",
       "      <td>0</td>\n",
       "    </tr>\n",
       "    <tr>\n",
       "      <th>3</th>\n",
       "      <td>20.0</td>\n",
       "      <td>4.0</td>\n",
       "      <td>4.0</td>\n",
       "      <td>2.0</td>\n",
       "      <td>47.0</td>\n",
       "      <td>215.49</td>\n",
       "      <td>0.06</td>\n",
       "      <td>16.00</td>\n",
       "      <td>13.47</td>\n",
       "      <td>3447.89</td>\n",
       "      <td>...</td>\n",
       "      <td>0</td>\n",
       "      <td>0</td>\n",
       "      <td>3</td>\n",
       "      <td>0</td>\n",
       "      <td>16.0</td>\n",
       "      <td>8.0</td>\n",
       "      <td>31.0</td>\n",
       "      <td>16.0</td>\n",
       "      <td>7.0</td>\n",
       "      <td>0</td>\n",
       "    </tr>\n",
       "    <tr>\n",
       "      <th>4</th>\n",
       "      <td>24.0</td>\n",
       "      <td>6.0</td>\n",
       "      <td>6.0</td>\n",
       "      <td>2.0</td>\n",
       "      <td>72.0</td>\n",
       "      <td>346.13</td>\n",
       "      <td>0.06</td>\n",
       "      <td>17.33</td>\n",
       "      <td>19.97</td>\n",
       "      <td>5999.58</td>\n",
       "      <td>...</td>\n",
       "      <td>0</td>\n",
       "      <td>0</td>\n",
       "      <td>3</td>\n",
       "      <td>0</td>\n",
       "      <td>16.0</td>\n",
       "      <td>12.0</td>\n",
       "      <td>46.0</td>\n",
       "      <td>26.0</td>\n",
       "      <td>11.0</td>\n",
       "      <td>0</td>\n",
       "    </tr>\n",
       "  </tbody>\n",
       "</table>\n",
       "<p>5 rows × 22 columns</p>\n",
       "</div>"
      ],
      "text/plain": [
       "    loc  v(g)  ev(g)  iv(g)     n       v     l      d      i        e  ...  \\\n",
       "0   1.1   1.4    1.4    1.4   1.3    1.30  1.30   1.30   1.30     1.30  ...   \n",
       "1   1.0   1.0    1.0    1.0   1.0    1.00  1.00   1.00   1.00     1.00  ...   \n",
       "2  24.0   5.0    1.0    3.0  63.0  309.13  0.11   9.50  32.54  2936.77  ...   \n",
       "3  20.0   4.0    4.0    2.0  47.0  215.49  0.06  16.00  13.47  3447.89  ...   \n",
       "4  24.0   6.0    6.0    2.0  72.0  346.13  0.06  17.33  19.97  5999.58  ...   \n",
       "\n",
       "   lOCode  lOComment  lOBlank  locCodeAndComment  uniq_Op  uniq_Opnd  \\\n",
       "0       2          2        2                  2      1.2        1.2   \n",
       "1       1          1        1                  1      1.0        1.0   \n",
       "2       1          0        6                  0     15.0       15.0   \n",
       "3       0          0        3                  0     16.0        8.0   \n",
       "4       0          0        3                  0     16.0       12.0   \n",
       "\n",
       "   total_Op  total_Opnd  branchCount  defects  \n",
       "0       1.2         1.2          1.4        0  \n",
       "1       1.0         1.0          1.0        1  \n",
       "2      44.0        19.0          9.0        0  \n",
       "3      31.0        16.0          7.0        0  \n",
       "4      46.0        26.0         11.0        0  \n",
       "\n",
       "[5 rows x 22 columns]"
      ]
     },
     "execution_count": 8,
     "metadata": {},
     "output_type": "execute_result"
    }
   ],
   "source": [
    "data.head()"
   ]
  },
  {
   "cell_type": "code",
   "execution_count": 9,
   "id": "6e89e503",
   "metadata": {
    "execution": {
     "iopub.execute_input": "2022-12-20T18:43:52.612212Z",
     "iopub.status.busy": "2022-12-20T18:43:52.611557Z",
     "iopub.status.idle": "2022-12-20T18:43:52.639341Z",
     "shell.execute_reply": "2022-12-20T18:43:52.638143Z"
    },
    "papermill": {
     "duration": 0.043317,
     "end_time": "2022-12-20T18:43:52.641524",
     "exception": false,
     "start_time": "2022-12-20T18:43:52.598207",
     "status": "completed"
    },
    "tags": []
   },
   "outputs": [
    {
     "data": {
      "text/html": [
       "<div>\n",
       "<style scoped>\n",
       "    .dataframe tbody tr th:only-of-type {\n",
       "        vertical-align: middle;\n",
       "    }\n",
       "\n",
       "    .dataframe tbody tr th {\n",
       "        vertical-align: top;\n",
       "    }\n",
       "\n",
       "    .dataframe thead th {\n",
       "        text-align: right;\n",
       "    }\n",
       "</style>\n",
       "<table border=\"1\" class=\"dataframe\">\n",
       "  <thead>\n",
       "    <tr style=\"text-align: right;\">\n",
       "      <th></th>\n",
       "      <th>loc</th>\n",
       "      <th>v(g)</th>\n",
       "      <th>ev(g)</th>\n",
       "      <th>iv(g)</th>\n",
       "      <th>n</th>\n",
       "      <th>v</th>\n",
       "      <th>l</th>\n",
       "      <th>d</th>\n",
       "      <th>i</th>\n",
       "      <th>e</th>\n",
       "      <th>...</th>\n",
       "      <th>lOCode</th>\n",
       "      <th>lOComment</th>\n",
       "      <th>lOBlank</th>\n",
       "      <th>locCodeAndComment</th>\n",
       "      <th>uniq_Op</th>\n",
       "      <th>uniq_Opnd</th>\n",
       "      <th>total_Op</th>\n",
       "      <th>total_Opnd</th>\n",
       "      <th>branchCount</th>\n",
       "      <th>defects</th>\n",
       "    </tr>\n",
       "  </thead>\n",
       "  <tbody>\n",
       "    <tr>\n",
       "      <th>493</th>\n",
       "      <td>47.0</td>\n",
       "      <td>3.0</td>\n",
       "      <td>1.0</td>\n",
       "      <td>3.0</td>\n",
       "      <td>256.0</td>\n",
       "      <td>1563.78</td>\n",
       "      <td>0.04</td>\n",
       "      <td>28.00</td>\n",
       "      <td>55.85</td>\n",
       "      <td>43785.90</td>\n",
       "      <td>...</td>\n",
       "      <td>2</td>\n",
       "      <td>13</td>\n",
       "      <td>2</td>\n",
       "      <td>0</td>\n",
       "      <td>23.0</td>\n",
       "      <td>46.0</td>\n",
       "      <td>144.0</td>\n",
       "      <td>112.0</td>\n",
       "      <td>5.0</td>\n",
       "      <td>1</td>\n",
       "    </tr>\n",
       "    <tr>\n",
       "      <th>494</th>\n",
       "      <td>24.0</td>\n",
       "      <td>4.0</td>\n",
       "      <td>3.0</td>\n",
       "      <td>3.0</td>\n",
       "      <td>107.0</td>\n",
       "      <td>587.63</td>\n",
       "      <td>0.05</td>\n",
       "      <td>19.13</td>\n",
       "      <td>30.72</td>\n",
       "      <td>11241.58</td>\n",
       "      <td>...</td>\n",
       "      <td>1</td>\n",
       "      <td>7</td>\n",
       "      <td>4</td>\n",
       "      <td>0</td>\n",
       "      <td>22.0</td>\n",
       "      <td>23.0</td>\n",
       "      <td>67.0</td>\n",
       "      <td>40.0</td>\n",
       "      <td>7.0</td>\n",
       "      <td>1</td>\n",
       "    </tr>\n",
       "    <tr>\n",
       "      <th>495</th>\n",
       "      <td>82.0</td>\n",
       "      <td>11.0</td>\n",
       "      <td>3.0</td>\n",
       "      <td>10.0</td>\n",
       "      <td>475.0</td>\n",
       "      <td>3155.83</td>\n",
       "      <td>0.02</td>\n",
       "      <td>44.71</td>\n",
       "      <td>70.59</td>\n",
       "      <td>141084.24</td>\n",
       "      <td>...</td>\n",
       "      <td>9</td>\n",
       "      <td>59</td>\n",
       "      <td>35</td>\n",
       "      <td>0</td>\n",
       "      <td>32.0</td>\n",
       "      <td>68.0</td>\n",
       "      <td>285.0</td>\n",
       "      <td>190.0</td>\n",
       "      <td>21.0</td>\n",
       "      <td>1</td>\n",
       "    </tr>\n",
       "    <tr>\n",
       "      <th>496</th>\n",
       "      <td>10.0</td>\n",
       "      <td>2.0</td>\n",
       "      <td>1.0</td>\n",
       "      <td>1.0</td>\n",
       "      <td>32.0</td>\n",
       "      <td>150.41</td>\n",
       "      <td>0.15</td>\n",
       "      <td>6.50</td>\n",
       "      <td>23.14</td>\n",
       "      <td>977.69</td>\n",
       "      <td>...</td>\n",
       "      <td>1</td>\n",
       "      <td>12</td>\n",
       "      <td>4</td>\n",
       "      <td>0</td>\n",
       "      <td>13.0</td>\n",
       "      <td>13.0</td>\n",
       "      <td>19.0</td>\n",
       "      <td>13.0</td>\n",
       "      <td>3.0</td>\n",
       "      <td>1</td>\n",
       "    </tr>\n",
       "    <tr>\n",
       "      <th>497</th>\n",
       "      <td>28.0</td>\n",
       "      <td>6.0</td>\n",
       "      <td>5.0</td>\n",
       "      <td>5.0</td>\n",
       "      <td>104.0</td>\n",
       "      <td>564.33</td>\n",
       "      <td>0.06</td>\n",
       "      <td>16.09</td>\n",
       "      <td>35.08</td>\n",
       "      <td>9078.38</td>\n",
       "      <td>...</td>\n",
       "      <td>2</td>\n",
       "      <td>7</td>\n",
       "      <td>0</td>\n",
       "      <td>0</td>\n",
       "      <td>20.0</td>\n",
       "      <td>23.0</td>\n",
       "      <td>67.0</td>\n",
       "      <td>37.0</td>\n",
       "      <td>11.0</td>\n",
       "      <td>1</td>\n",
       "    </tr>\n",
       "  </tbody>\n",
       "</table>\n",
       "<p>5 rows × 22 columns</p>\n",
       "</div>"
      ],
      "text/plain": [
       "      loc  v(g)  ev(g)  iv(g)      n        v     l      d      i          e  \\\n",
       "493  47.0   3.0    1.0    3.0  256.0  1563.78  0.04  28.00  55.85   43785.90   \n",
       "494  24.0   4.0    3.0    3.0  107.0   587.63  0.05  19.13  30.72   11241.58   \n",
       "495  82.0  11.0    3.0   10.0  475.0  3155.83  0.02  44.71  70.59  141084.24   \n",
       "496  10.0   2.0    1.0    1.0   32.0   150.41  0.15   6.50  23.14     977.69   \n",
       "497  28.0   6.0    5.0    5.0  104.0   564.33  0.06  16.09  35.08    9078.38   \n",
       "\n",
       "     ...  lOCode  lOComment  lOBlank  locCodeAndComment  uniq_Op  uniq_Opnd  \\\n",
       "493  ...       2         13        2                  0     23.0       46.0   \n",
       "494  ...       1          7        4                  0     22.0       23.0   \n",
       "495  ...       9         59       35                  0     32.0       68.0   \n",
       "496  ...       1         12        4                  0     13.0       13.0   \n",
       "497  ...       2          7        0                  0     20.0       23.0   \n",
       "\n",
       "     total_Op  total_Opnd  branchCount  defects  \n",
       "493     144.0       112.0          5.0        1  \n",
       "494      67.0        40.0          7.0        1  \n",
       "495     285.0       190.0         21.0        1  \n",
       "496      19.0        13.0          3.0        1  \n",
       "497      67.0        37.0         11.0        1  \n",
       "\n",
       "[5 rows x 22 columns]"
      ]
     },
     "execution_count": 9,
     "metadata": {},
     "output_type": "execute_result"
    }
   ],
   "source": [
    "data.tail()"
   ]
  },
  {
   "cell_type": "code",
   "execution_count": 10,
   "id": "d0120c67",
   "metadata": {
    "execution": {
     "iopub.execute_input": "2022-12-20T18:43:52.667689Z",
     "iopub.status.busy": "2022-12-20T18:43:52.667296Z",
     "iopub.status.idle": "2022-12-20T18:43:52.703477Z",
     "shell.execute_reply": "2022-12-20T18:43:52.702169Z"
    },
    "papermill": {
     "duration": 0.052188,
     "end_time": "2022-12-20T18:43:52.706018",
     "exception": false,
     "start_time": "2022-12-20T18:43:52.653830",
     "status": "completed"
    },
    "tags": []
   },
   "outputs": [
    {
     "data": {
      "text/html": [
       "<div>\n",
       "<style scoped>\n",
       "    .dataframe tbody tr th:only-of-type {\n",
       "        vertical-align: middle;\n",
       "    }\n",
       "\n",
       "    .dataframe tbody tr th {\n",
       "        vertical-align: top;\n",
       "    }\n",
       "\n",
       "    .dataframe thead th {\n",
       "        text-align: right;\n",
       "    }\n",
       "</style>\n",
       "<table border=\"1\" class=\"dataframe\">\n",
       "  <thead>\n",
       "    <tr style=\"text-align: right;\">\n",
       "      <th></th>\n",
       "      <th>loc</th>\n",
       "      <th>v(g)</th>\n",
       "      <th>ev(g)</th>\n",
       "      <th>iv(g)</th>\n",
       "      <th>n</th>\n",
       "      <th>v</th>\n",
       "      <th>l</th>\n",
       "      <th>d</th>\n",
       "      <th>i</th>\n",
       "      <th>e</th>\n",
       "      <th>...</th>\n",
       "      <th>lOCode</th>\n",
       "      <th>lOComment</th>\n",
       "      <th>lOBlank</th>\n",
       "      <th>locCodeAndComment</th>\n",
       "      <th>uniq_Op</th>\n",
       "      <th>uniq_Opnd</th>\n",
       "      <th>total_Op</th>\n",
       "      <th>total_Opnd</th>\n",
       "      <th>branchCount</th>\n",
       "      <th>defects</th>\n",
       "    </tr>\n",
       "  </thead>\n",
       "  <tbody>\n",
       "    <tr>\n",
       "      <th>414</th>\n",
       "      <td>21.0</td>\n",
       "      <td>4.0</td>\n",
       "      <td>4.0</td>\n",
       "      <td>4.0</td>\n",
       "      <td>96.0</td>\n",
       "      <td>492.41</td>\n",
       "      <td>0.10</td>\n",
       "      <td>10.50</td>\n",
       "      <td>46.90</td>\n",
       "      <td>5170.32</td>\n",
       "      <td>...</td>\n",
       "      <td>3</td>\n",
       "      <td>7</td>\n",
       "      <td>7</td>\n",
       "      <td>0</td>\n",
       "      <td>15.0</td>\n",
       "      <td>20.0</td>\n",
       "      <td>68.0</td>\n",
       "      <td>28.0</td>\n",
       "      <td>7.0</td>\n",
       "      <td>0</td>\n",
       "    </tr>\n",
       "    <tr>\n",
       "      <th>396</th>\n",
       "      <td>6.0</td>\n",
       "      <td>2.0</td>\n",
       "      <td>1.0</td>\n",
       "      <td>2.0</td>\n",
       "      <td>27.0</td>\n",
       "      <td>112.59</td>\n",
       "      <td>0.16</td>\n",
       "      <td>6.29</td>\n",
       "      <td>17.91</td>\n",
       "      <td>707.70</td>\n",
       "      <td>...</td>\n",
       "      <td>2</td>\n",
       "      <td>6</td>\n",
       "      <td>4</td>\n",
       "      <td>0</td>\n",
       "      <td>11.0</td>\n",
       "      <td>7.0</td>\n",
       "      <td>19.0</td>\n",
       "      <td>8.0</td>\n",
       "      <td>3.0</td>\n",
       "      <td>0</td>\n",
       "    </tr>\n",
       "    <tr>\n",
       "      <th>119</th>\n",
       "      <td>125.0</td>\n",
       "      <td>18.0</td>\n",
       "      <td>1.0</td>\n",
       "      <td>13.0</td>\n",
       "      <td>438.0</td>\n",
       "      <td>3131.59</td>\n",
       "      <td>0.02</td>\n",
       "      <td>40.25</td>\n",
       "      <td>77.80</td>\n",
       "      <td>126046.47</td>\n",
       "      <td>...</td>\n",
       "      <td>13</td>\n",
       "      <td>50</td>\n",
       "      <td>21</td>\n",
       "      <td>0</td>\n",
       "      <td>46.0</td>\n",
       "      <td>96.0</td>\n",
       "      <td>270.0</td>\n",
       "      <td>168.0</td>\n",
       "      <td>31.0</td>\n",
       "      <td>0</td>\n",
       "    </tr>\n",
       "    <tr>\n",
       "      <th>53</th>\n",
       "      <td>41.0</td>\n",
       "      <td>6.0</td>\n",
       "      <td>1.0</td>\n",
       "      <td>5.0</td>\n",
       "      <td>169.0</td>\n",
       "      <td>985.76</td>\n",
       "      <td>0.06</td>\n",
       "      <td>17.21</td>\n",
       "      <td>57.28</td>\n",
       "      <td>16963.26</td>\n",
       "      <td>...</td>\n",
       "      <td>3</td>\n",
       "      <td>47</td>\n",
       "      <td>40</td>\n",
       "      <td>0</td>\n",
       "      <td>21.0</td>\n",
       "      <td>36.0</td>\n",
       "      <td>110.0</td>\n",
       "      <td>59.0</td>\n",
       "      <td>11.0</td>\n",
       "      <td>0</td>\n",
       "    </tr>\n",
       "    <tr>\n",
       "      <th>287</th>\n",
       "      <td>17.0</td>\n",
       "      <td>5.0</td>\n",
       "      <td>4.0</td>\n",
       "      <td>2.0</td>\n",
       "      <td>120.0</td>\n",
       "      <td>620.39</td>\n",
       "      <td>0.04</td>\n",
       "      <td>23.47</td>\n",
       "      <td>26.43</td>\n",
       "      <td>14560.94</td>\n",
       "      <td>...</td>\n",
       "      <td>1</td>\n",
       "      <td>10</td>\n",
       "      <td>4</td>\n",
       "      <td>0</td>\n",
       "      <td>19.0</td>\n",
       "      <td>17.0</td>\n",
       "      <td>78.0</td>\n",
       "      <td>42.0</td>\n",
       "      <td>9.0</td>\n",
       "      <td>0</td>\n",
       "    </tr>\n",
       "    <tr>\n",
       "      <th>454</th>\n",
       "      <td>33.0</td>\n",
       "      <td>6.0</td>\n",
       "      <td>1.0</td>\n",
       "      <td>5.0</td>\n",
       "      <td>172.0</td>\n",
       "      <td>989.84</td>\n",
       "      <td>0.05</td>\n",
       "      <td>18.46</td>\n",
       "      <td>53.63</td>\n",
       "      <td>18269.63</td>\n",
       "      <td>...</td>\n",
       "      <td>7</td>\n",
       "      <td>30</td>\n",
       "      <td>31</td>\n",
       "      <td>0</td>\n",
       "      <td>19.0</td>\n",
       "      <td>35.0</td>\n",
       "      <td>104.0</td>\n",
       "      <td>68.0</td>\n",
       "      <td>11.0</td>\n",
       "      <td>1</td>\n",
       "    </tr>\n",
       "    <tr>\n",
       "      <th>256</th>\n",
       "      <td>52.0</td>\n",
       "      <td>10.0</td>\n",
       "      <td>3.0</td>\n",
       "      <td>6.0</td>\n",
       "      <td>342.0</td>\n",
       "      <td>2220.21</td>\n",
       "      <td>0.02</td>\n",
       "      <td>46.67</td>\n",
       "      <td>47.58</td>\n",
       "      <td>103609.98</td>\n",
       "      <td>...</td>\n",
       "      <td>12</td>\n",
       "      <td>25</td>\n",
       "      <td>31</td>\n",
       "      <td>0</td>\n",
       "      <td>36.0</td>\n",
       "      <td>54.0</td>\n",
       "      <td>202.0</td>\n",
       "      <td>140.0</td>\n",
       "      <td>19.0</td>\n",
       "      <td>0</td>\n",
       "    </tr>\n",
       "    <tr>\n",
       "      <th>104</th>\n",
       "      <td>34.0</td>\n",
       "      <td>6.0</td>\n",
       "      <td>1.0</td>\n",
       "      <td>6.0</td>\n",
       "      <td>146.0</td>\n",
       "      <td>771.67</td>\n",
       "      <td>0.08</td>\n",
       "      <td>12.00</td>\n",
       "      <td>64.31</td>\n",
       "      <td>9260.02</td>\n",
       "      <td>...</td>\n",
       "      <td>4</td>\n",
       "      <td>0</td>\n",
       "      <td>10</td>\n",
       "      <td>0</td>\n",
       "      <td>12.0</td>\n",
       "      <td>27.0</td>\n",
       "      <td>92.0</td>\n",
       "      <td>54.0</td>\n",
       "      <td>11.0</td>\n",
       "      <td>0</td>\n",
       "    </tr>\n",
       "    <tr>\n",
       "      <th>324</th>\n",
       "      <td>15.0</td>\n",
       "      <td>2.0</td>\n",
       "      <td>1.0</td>\n",
       "      <td>1.0</td>\n",
       "      <td>42.0</td>\n",
       "      <td>178.41</td>\n",
       "      <td>0.10</td>\n",
       "      <td>9.63</td>\n",
       "      <td>18.54</td>\n",
       "      <td>1717.22</td>\n",
       "      <td>...</td>\n",
       "      <td>0</td>\n",
       "      <td>0</td>\n",
       "      <td>3</td>\n",
       "      <td>0</td>\n",
       "      <td>11.0</td>\n",
       "      <td>8.0</td>\n",
       "      <td>28.0</td>\n",
       "      <td>14.0</td>\n",
       "      <td>3.0</td>\n",
       "      <td>0</td>\n",
       "    </tr>\n",
       "    <tr>\n",
       "      <th>55</th>\n",
       "      <td>8.0</td>\n",
       "      <td>2.0</td>\n",
       "      <td>1.0</td>\n",
       "      <td>1.0</td>\n",
       "      <td>36.0</td>\n",
       "      <td>158.12</td>\n",
       "      <td>0.18</td>\n",
       "      <td>5.50</td>\n",
       "      <td>28.75</td>\n",
       "      <td>869.68</td>\n",
       "      <td>...</td>\n",
       "      <td>0</td>\n",
       "      <td>6</td>\n",
       "      <td>7</td>\n",
       "      <td>0</td>\n",
       "      <td>11.0</td>\n",
       "      <td>10.0</td>\n",
       "      <td>26.0</td>\n",
       "      <td>10.0</td>\n",
       "      <td>3.0</td>\n",
       "      <td>0</td>\n",
       "    </tr>\n",
       "  </tbody>\n",
       "</table>\n",
       "<p>10 rows × 22 columns</p>\n",
       "</div>"
      ],
      "text/plain": [
       "       loc  v(g)  ev(g)  iv(g)      n        v     l      d      i          e  \\\n",
       "414   21.0   4.0    4.0    4.0   96.0   492.41  0.10  10.50  46.90    5170.32   \n",
       "396    6.0   2.0    1.0    2.0   27.0   112.59  0.16   6.29  17.91     707.70   \n",
       "119  125.0  18.0    1.0   13.0  438.0  3131.59  0.02  40.25  77.80  126046.47   \n",
       "53    41.0   6.0    1.0    5.0  169.0   985.76  0.06  17.21  57.28   16963.26   \n",
       "287   17.0   5.0    4.0    2.0  120.0   620.39  0.04  23.47  26.43   14560.94   \n",
       "454   33.0   6.0    1.0    5.0  172.0   989.84  0.05  18.46  53.63   18269.63   \n",
       "256   52.0  10.0    3.0    6.0  342.0  2220.21  0.02  46.67  47.58  103609.98   \n",
       "104   34.0   6.0    1.0    6.0  146.0   771.67  0.08  12.00  64.31    9260.02   \n",
       "324   15.0   2.0    1.0    1.0   42.0   178.41  0.10   9.63  18.54    1717.22   \n",
       "55     8.0   2.0    1.0    1.0   36.0   158.12  0.18   5.50  28.75     869.68   \n",
       "\n",
       "     ...  lOCode  lOComment  lOBlank  locCodeAndComment  uniq_Op  uniq_Opnd  \\\n",
       "414  ...       3          7        7                  0     15.0       20.0   \n",
       "396  ...       2          6        4                  0     11.0        7.0   \n",
       "119  ...      13         50       21                  0     46.0       96.0   \n",
       "53   ...       3         47       40                  0     21.0       36.0   \n",
       "287  ...       1         10        4                  0     19.0       17.0   \n",
       "454  ...       7         30       31                  0     19.0       35.0   \n",
       "256  ...      12         25       31                  0     36.0       54.0   \n",
       "104  ...       4          0       10                  0     12.0       27.0   \n",
       "324  ...       0          0        3                  0     11.0        8.0   \n",
       "55   ...       0          6        7                  0     11.0       10.0   \n",
       "\n",
       "     total_Op  total_Opnd  branchCount  defects  \n",
       "414      68.0        28.0          7.0        0  \n",
       "396      19.0         8.0          3.0        0  \n",
       "119     270.0       168.0         31.0        0  \n",
       "53      110.0        59.0         11.0        0  \n",
       "287      78.0        42.0          9.0        0  \n",
       "454     104.0        68.0         11.0        1  \n",
       "256     202.0       140.0         19.0        0  \n",
       "104      92.0        54.0         11.0        0  \n",
       "324      28.0        14.0          3.0        0  \n",
       "55       26.0        10.0          3.0        0  \n",
       "\n",
       "[10 rows x 22 columns]"
      ]
     },
     "execution_count": 10,
     "metadata": {},
     "output_type": "execute_result"
    }
   ],
   "source": [
    "data.sample(10)"
   ]
  },
  {
   "cell_type": "code",
   "execution_count": 11,
   "id": "b168be4c",
   "metadata": {
    "execution": {
     "iopub.execute_input": "2022-12-20T18:43:52.733038Z",
     "iopub.status.busy": "2022-12-20T18:43:52.732615Z",
     "iopub.status.idle": "2022-12-20T18:43:52.740208Z",
     "shell.execute_reply": "2022-12-20T18:43:52.738828Z"
    },
    "papermill": {
     "duration": 0.023849,
     "end_time": "2022-12-20T18:43:52.742551",
     "exception": false,
     "start_time": "2022-12-20T18:43:52.718702",
     "status": "completed"
    },
    "tags": []
   },
   "outputs": [
    {
     "data": {
      "text/plain": [
       "(498, 22)"
      ]
     },
     "execution_count": 11,
     "metadata": {},
     "output_type": "execute_result"
    }
   ],
   "source": [
    "data.shape"
   ]
  },
  {
   "cell_type": "code",
   "execution_count": 12,
   "id": "9c1da750",
   "metadata": {
    "execution": {
     "iopub.execute_input": "2022-12-20T18:43:52.770096Z",
     "iopub.status.busy": "2022-12-20T18:43:52.769653Z",
     "iopub.status.idle": "2022-12-20T18:43:52.843796Z",
     "shell.execute_reply": "2022-12-20T18:43:52.842703Z"
    },
    "papermill": {
     "duration": 0.090491,
     "end_time": "2022-12-20T18:43:52.846226",
     "exception": false,
     "start_time": "2022-12-20T18:43:52.755735",
     "status": "completed"
    },
    "tags": []
   },
   "outputs": [
    {
     "data": {
      "text/html": [
       "<div>\n",
       "<style scoped>\n",
       "    .dataframe tbody tr th:only-of-type {\n",
       "        vertical-align: middle;\n",
       "    }\n",
       "\n",
       "    .dataframe tbody tr th {\n",
       "        vertical-align: top;\n",
       "    }\n",
       "\n",
       "    .dataframe thead th {\n",
       "        text-align: right;\n",
       "    }\n",
       "</style>\n",
       "<table border=\"1\" class=\"dataframe\">\n",
       "  <thead>\n",
       "    <tr style=\"text-align: right;\">\n",
       "      <th></th>\n",
       "      <th>loc</th>\n",
       "      <th>v(g)</th>\n",
       "      <th>ev(g)</th>\n",
       "      <th>iv(g)</th>\n",
       "      <th>n</th>\n",
       "      <th>v</th>\n",
       "      <th>l</th>\n",
       "      <th>d</th>\n",
       "      <th>i</th>\n",
       "      <th>e</th>\n",
       "      <th>...</th>\n",
       "      <th>lOCode</th>\n",
       "      <th>lOComment</th>\n",
       "      <th>lOBlank</th>\n",
       "      <th>locCodeAndComment</th>\n",
       "      <th>uniq_Op</th>\n",
       "      <th>uniq_Opnd</th>\n",
       "      <th>total_Op</th>\n",
       "      <th>total_Opnd</th>\n",
       "      <th>branchCount</th>\n",
       "      <th>defects</th>\n",
       "    </tr>\n",
       "  </thead>\n",
       "  <tbody>\n",
       "    <tr>\n",
       "      <th>count</th>\n",
       "      <td>498.000000</td>\n",
       "      <td>498.000000</td>\n",
       "      <td>498.000000</td>\n",
       "      <td>498.000000</td>\n",
       "      <td>498.000000</td>\n",
       "      <td>498.000000</td>\n",
       "      <td>498.000000</td>\n",
       "      <td>498.000000</td>\n",
       "      <td>498.000000</td>\n",
       "      <td>4.980000e+02</td>\n",
       "      <td>...</td>\n",
       "      <td>498.000000</td>\n",
       "      <td>498.000000</td>\n",
       "      <td>498.000000</td>\n",
       "      <td>498.000000</td>\n",
       "      <td>498.000000</td>\n",
       "      <td>498.000000</td>\n",
       "      <td>498.000000</td>\n",
       "      <td>498.000000</td>\n",
       "      <td>498.000000</td>\n",
       "      <td>498.000000</td>\n",
       "    </tr>\n",
       "    <tr>\n",
       "      <th>mean</th>\n",
       "      <td>29.644779</td>\n",
       "      <td>5.382329</td>\n",
       "      <td>2.490763</td>\n",
       "      <td>3.528916</td>\n",
       "      <td>143.956426</td>\n",
       "      <td>900.175823</td>\n",
       "      <td>0.146325</td>\n",
       "      <td>15.829378</td>\n",
       "      <td>38.455361</td>\n",
       "      <td>3.488493e+04</td>\n",
       "      <td>...</td>\n",
       "      <td>3.787149</td>\n",
       "      <td>12.283133</td>\n",
       "      <td>11.534137</td>\n",
       "      <td>0.006024</td>\n",
       "      <td>15.199197</td>\n",
       "      <td>25.452209</td>\n",
       "      <td>88.389960</td>\n",
       "      <td>55.570683</td>\n",
       "      <td>9.348193</td>\n",
       "      <td>0.098394</td>\n",
       "    </tr>\n",
       "    <tr>\n",
       "      <th>std</th>\n",
       "      <td>42.753572</td>\n",
       "      <td>8.347359</td>\n",
       "      <td>3.658847</td>\n",
       "      <td>5.464398</td>\n",
       "      <td>221.049888</td>\n",
       "      <td>1690.814334</td>\n",
       "      <td>0.159337</td>\n",
       "      <td>15.330960</td>\n",
       "      <td>36.996297</td>\n",
       "      <td>1.341647e+05</td>\n",
       "      <td>...</td>\n",
       "      <td>8.508658</td>\n",
       "      <td>25.828605</td>\n",
       "      <td>19.981476</td>\n",
       "      <td>0.100120</td>\n",
       "      <td>9.617815</td>\n",
       "      <td>33.925816</td>\n",
       "      <td>134.917513</td>\n",
       "      <td>86.969527</td>\n",
       "      <td>15.072219</td>\n",
       "      <td>0.298146</td>\n",
       "    </tr>\n",
       "    <tr>\n",
       "      <th>min</th>\n",
       "      <td>1.000000</td>\n",
       "      <td>1.000000</td>\n",
       "      <td>1.000000</td>\n",
       "      <td>1.000000</td>\n",
       "      <td>1.000000</td>\n",
       "      <td>0.000000</td>\n",
       "      <td>0.000000</td>\n",
       "      <td>0.000000</td>\n",
       "      <td>0.000000</td>\n",
       "      <td>0.000000e+00</td>\n",
       "      <td>...</td>\n",
       "      <td>0.000000</td>\n",
       "      <td>0.000000</td>\n",
       "      <td>0.000000</td>\n",
       "      <td>0.000000</td>\n",
       "      <td>1.000000</td>\n",
       "      <td>0.000000</td>\n",
       "      <td>1.000000</td>\n",
       "      <td>0.000000</td>\n",
       "      <td>1.000000</td>\n",
       "      <td>0.000000</td>\n",
       "    </tr>\n",
       "    <tr>\n",
       "      <th>25%</th>\n",
       "      <td>8.000000</td>\n",
       "      <td>1.000000</td>\n",
       "      <td>1.000000</td>\n",
       "      <td>1.000000</td>\n",
       "      <td>25.000000</td>\n",
       "      <td>102.190000</td>\n",
       "      <td>0.050000</td>\n",
       "      <td>5.630000</td>\n",
       "      <td>16.210000</td>\n",
       "      <td>6.061700e+02</td>\n",
       "      <td>...</td>\n",
       "      <td>0.000000</td>\n",
       "      <td>0.000000</td>\n",
       "      <td>1.000000</td>\n",
       "      <td>0.000000</td>\n",
       "      <td>9.000000</td>\n",
       "      <td>7.000000</td>\n",
       "      <td>15.000000</td>\n",
       "      <td>10.000000</td>\n",
       "      <td>1.000000</td>\n",
       "      <td>0.000000</td>\n",
       "    </tr>\n",
       "    <tr>\n",
       "      <th>50%</th>\n",
       "      <td>17.000000</td>\n",
       "      <td>3.000000</td>\n",
       "      <td>1.000000</td>\n",
       "      <td>2.000000</td>\n",
       "      <td>67.500000</td>\n",
       "      <td>329.820000</td>\n",
       "      <td>0.090000</td>\n",
       "      <td>11.640000</td>\n",
       "      <td>27.400000</td>\n",
       "      <td>3.677620e+03</td>\n",
       "      <td>...</td>\n",
       "      <td>1.000000</td>\n",
       "      <td>4.000000</td>\n",
       "      <td>5.000000</td>\n",
       "      <td>0.000000</td>\n",
       "      <td>14.000000</td>\n",
       "      <td>15.000000</td>\n",
       "      <td>42.000000</td>\n",
       "      <td>26.000000</td>\n",
       "      <td>5.000000</td>\n",
       "      <td>0.000000</td>\n",
       "    </tr>\n",
       "    <tr>\n",
       "      <th>75%</th>\n",
       "      <td>31.000000</td>\n",
       "      <td>6.000000</td>\n",
       "      <td>1.000000</td>\n",
       "      <td>4.000000</td>\n",
       "      <td>151.750000</td>\n",
       "      <td>861.460000</td>\n",
       "      <td>0.177500</td>\n",
       "      <td>21.142500</td>\n",
       "      <td>46.900000</td>\n",
       "      <td>1.663334e+04</td>\n",
       "      <td>...</td>\n",
       "      <td>4.000000</td>\n",
       "      <td>14.000000</td>\n",
       "      <td>13.000000</td>\n",
       "      <td>0.000000</td>\n",
       "      <td>20.000000</td>\n",
       "      <td>30.000000</td>\n",
       "      <td>94.750000</td>\n",
       "      <td>59.750000</td>\n",
       "      <td>11.000000</td>\n",
       "      <td>0.000000</td>\n",
       "    </tr>\n",
       "    <tr>\n",
       "      <th>max</th>\n",
       "      <td>423.000000</td>\n",
       "      <td>96.000000</td>\n",
       "      <td>30.000000</td>\n",
       "      <td>63.000000</td>\n",
       "      <td>2075.000000</td>\n",
       "      <td>17124.280000</td>\n",
       "      <td>1.300000</td>\n",
       "      <td>125.770000</td>\n",
       "      <td>293.680000</td>\n",
       "      <td>2.153691e+06</td>\n",
       "      <td>...</td>\n",
       "      <td>80.000000</td>\n",
       "      <td>339.000000</td>\n",
       "      <td>164.000000</td>\n",
       "      <td>2.000000</td>\n",
       "      <td>72.000000</td>\n",
       "      <td>314.000000</td>\n",
       "      <td>1261.000000</td>\n",
       "      <td>814.000000</td>\n",
       "      <td>162.000000</td>\n",
       "      <td>1.000000</td>\n",
       "    </tr>\n",
       "  </tbody>\n",
       "</table>\n",
       "<p>8 rows × 22 columns</p>\n",
       "</div>"
      ],
      "text/plain": [
       "              loc        v(g)       ev(g)       iv(g)            n  \\\n",
       "count  498.000000  498.000000  498.000000  498.000000   498.000000   \n",
       "mean    29.644779    5.382329    2.490763    3.528916   143.956426   \n",
       "std     42.753572    8.347359    3.658847    5.464398   221.049888   \n",
       "min      1.000000    1.000000    1.000000    1.000000     1.000000   \n",
       "25%      8.000000    1.000000    1.000000    1.000000    25.000000   \n",
       "50%     17.000000    3.000000    1.000000    2.000000    67.500000   \n",
       "75%     31.000000    6.000000    1.000000    4.000000   151.750000   \n",
       "max    423.000000   96.000000   30.000000   63.000000  2075.000000   \n",
       "\n",
       "                  v           l           d           i             e  ...  \\\n",
       "count    498.000000  498.000000  498.000000  498.000000  4.980000e+02  ...   \n",
       "mean     900.175823    0.146325   15.829378   38.455361  3.488493e+04  ...   \n",
       "std     1690.814334    0.159337   15.330960   36.996297  1.341647e+05  ...   \n",
       "min        0.000000    0.000000    0.000000    0.000000  0.000000e+00  ...   \n",
       "25%      102.190000    0.050000    5.630000   16.210000  6.061700e+02  ...   \n",
       "50%      329.820000    0.090000   11.640000   27.400000  3.677620e+03  ...   \n",
       "75%      861.460000    0.177500   21.142500   46.900000  1.663334e+04  ...   \n",
       "max    17124.280000    1.300000  125.770000  293.680000  2.153691e+06  ...   \n",
       "\n",
       "           lOCode   lOComment     lOBlank  locCodeAndComment     uniq_Op  \\\n",
       "count  498.000000  498.000000  498.000000         498.000000  498.000000   \n",
       "mean     3.787149   12.283133   11.534137           0.006024   15.199197   \n",
       "std      8.508658   25.828605   19.981476           0.100120    9.617815   \n",
       "min      0.000000    0.000000    0.000000           0.000000    1.000000   \n",
       "25%      0.000000    0.000000    1.000000           0.000000    9.000000   \n",
       "50%      1.000000    4.000000    5.000000           0.000000   14.000000   \n",
       "75%      4.000000   14.000000   13.000000           0.000000   20.000000   \n",
       "max     80.000000  339.000000  164.000000           2.000000   72.000000   \n",
       "\n",
       "        uniq_Opnd     total_Op  total_Opnd  branchCount     defects  \n",
       "count  498.000000   498.000000  498.000000   498.000000  498.000000  \n",
       "mean    25.452209    88.389960   55.570683     9.348193    0.098394  \n",
       "std     33.925816   134.917513   86.969527    15.072219    0.298146  \n",
       "min      0.000000     1.000000    0.000000     1.000000    0.000000  \n",
       "25%      7.000000    15.000000   10.000000     1.000000    0.000000  \n",
       "50%     15.000000    42.000000   26.000000     5.000000    0.000000  \n",
       "75%     30.000000    94.750000   59.750000    11.000000    0.000000  \n",
       "max    314.000000  1261.000000  814.000000   162.000000    1.000000  \n",
       "\n",
       "[8 rows x 22 columns]"
      ]
     },
     "execution_count": 12,
     "metadata": {},
     "output_type": "execute_result"
    }
   ],
   "source": [
    "data.describe()"
   ]
  },
  {
   "cell_type": "code",
   "execution_count": 13,
   "id": "1e1f7663",
   "metadata": {
    "execution": {
     "iopub.execute_input": "2022-12-20T18:43:52.875827Z",
     "iopub.status.busy": "2022-12-20T18:43:52.875461Z",
     "iopub.status.idle": "2022-12-20T18:43:52.885544Z",
     "shell.execute_reply": "2022-12-20T18:43:52.884553Z"
    },
    "papermill": {
     "duration": 0.028492,
     "end_time": "2022-12-20T18:43:52.887696",
     "exception": false,
     "start_time": "2022-12-20T18:43:52.859204",
     "status": "completed"
    },
    "tags": []
   },
   "outputs": [
    {
     "name": "stdout",
     "output_type": "stream",
     "text": [
      "False :  449\n",
      "True :  49\n"
     ]
    }
   ],
   "source": [
    "defects_true_false = data.groupby('defects')['b'].apply(lambda x: x.count()) #defect rates (true/false)\n",
    "print('False : ' , defects_true_false[0])\n",
    "print('True : ' , defects_true_false[1])"
   ]
  },
  {
   "cell_type": "code",
   "execution_count": 14,
   "id": "a9fae9b2",
   "metadata": {
    "execution": {
     "iopub.execute_input": "2022-12-20T18:43:52.915446Z",
     "iopub.status.busy": "2022-12-20T18:43:52.915082Z",
     "iopub.status.idle": "2022-12-20T18:43:53.655109Z",
     "shell.execute_reply": "2022-12-20T18:43:53.653974Z"
    },
    "papermill": {
     "duration": 0.756702,
     "end_time": "2022-12-20T18:43:53.657471",
     "exception": false,
     "start_time": "2022-12-20T18:43:52.900769",
     "status": "completed"
    },
    "tags": []
   },
   "outputs": [
    {
     "data": {
      "application/vnd.plotly.v1+json": {
       "config": {
        "linkText": "Export to plot.ly",
        "plotlyServerURL": "https://plot.ly",
        "showLink": false
       },
       "data": [
        {
         "marker": {
          "color": "green"
         },
         "name": "Defects",
         "opacity": 0.75,
         "type": "histogram",
         "x": [
          0,
          1,
          0,
          0,
          0,
          0,
          0,
          0,
          0,
          0,
          0,
          0,
          0,
          0,
          0,
          0,
          0,
          0,
          0,
          0,
          0,
          0,
          0,
          0,
          0,
          0,
          0,
          0,
          0,
          0,
          0,
          0,
          0,
          0,
          0,
          0,
          0,
          0,
          0,
          0,
          0,
          0,
          0,
          0,
          0,
          0,
          0,
          0,
          0,
          0,
          0,
          0,
          0,
          0,
          0,
          0,
          0,
          0,
          0,
          0,
          0,
          0,
          0,
          0,
          0,
          0,
          0,
          0,
          0,
          0,
          0,
          0,
          0,
          0,
          0,
          0,
          0,
          0,
          0,
          0,
          0,
          0,
          0,
          0,
          0,
          0,
          0,
          0,
          0,
          0,
          0,
          0,
          0,
          0,
          0,
          0,
          0,
          0,
          0,
          0,
          0,
          0,
          0,
          0,
          0,
          0,
          0,
          0,
          0,
          0,
          0,
          0,
          0,
          0,
          0,
          0,
          0,
          0,
          0,
          0,
          0,
          0,
          0,
          0,
          0,
          0,
          0,
          0,
          0,
          0,
          0,
          0,
          0,
          0,
          0,
          0,
          0,
          0,
          0,
          0,
          0,
          0,
          0,
          0,
          0,
          0,
          0,
          0,
          0,
          0,
          0,
          0,
          0,
          0,
          0,
          0,
          0,
          0,
          0,
          0,
          0,
          0,
          0,
          0,
          0,
          0,
          0,
          0,
          0,
          0,
          0,
          0,
          0,
          0,
          0,
          0,
          0,
          0,
          0,
          0,
          0,
          0,
          0,
          0,
          0,
          0,
          0,
          0,
          0,
          0,
          0,
          0,
          0,
          0,
          0,
          0,
          0,
          0,
          0,
          0,
          0,
          0,
          0,
          0,
          0,
          0,
          0,
          0,
          0,
          0,
          0,
          0,
          0,
          0,
          0,
          0,
          0,
          0,
          0,
          0,
          0,
          0,
          0,
          0,
          0,
          0,
          0,
          0,
          0,
          0,
          0,
          0,
          0,
          0,
          0,
          0,
          0,
          0,
          0,
          0,
          0,
          0,
          0,
          0,
          0,
          0,
          0,
          0,
          0,
          0,
          0,
          0,
          0,
          0,
          0,
          0,
          0,
          0,
          0,
          0,
          0,
          0,
          0,
          0,
          0,
          0,
          0,
          0,
          0,
          0,
          0,
          0,
          0,
          0,
          0,
          0,
          0,
          0,
          0,
          0,
          0,
          0,
          0,
          0,
          0,
          0,
          0,
          0,
          0,
          0,
          0,
          0,
          0,
          0,
          0,
          0,
          0,
          0,
          0,
          0,
          0,
          0,
          0,
          0,
          0,
          0,
          0,
          0,
          0,
          0,
          0,
          0,
          0,
          0,
          0,
          0,
          0,
          0,
          0,
          0,
          0,
          0,
          0,
          0,
          0,
          0,
          0,
          0,
          0,
          0,
          0,
          0,
          0,
          0,
          0,
          0,
          0,
          0,
          0,
          0,
          0,
          0,
          0,
          0,
          0,
          0,
          0,
          0,
          0,
          0,
          0,
          0,
          0,
          0,
          0,
          0,
          0,
          0,
          0,
          0,
          0,
          0,
          0,
          0,
          0,
          0,
          0,
          0,
          0,
          0,
          0,
          0,
          0,
          0,
          0,
          0,
          0,
          0,
          0,
          0,
          0,
          0,
          0,
          0,
          0,
          0,
          0,
          0,
          0,
          0,
          0,
          0,
          0,
          0,
          0,
          0,
          0,
          0,
          0,
          0,
          0,
          0,
          0,
          0,
          0,
          0,
          0,
          0,
          0,
          0,
          0,
          0,
          0,
          0,
          0,
          0,
          0,
          0,
          0,
          0,
          0,
          0,
          0,
          0,
          0,
          0,
          0,
          0,
          0,
          0,
          0,
          0,
          0,
          0,
          0,
          0,
          0,
          0,
          0,
          0,
          0,
          0,
          0,
          0,
          0,
          0,
          0,
          0,
          0,
          0,
          1,
          1,
          1,
          1,
          1,
          1,
          1,
          1,
          1,
          1,
          1,
          1,
          1,
          1,
          1,
          1,
          1,
          1,
          1,
          1,
          1,
          1,
          1,
          1,
          1,
          1,
          1,
          1,
          1,
          1,
          1,
          1,
          1,
          1,
          1,
          1,
          1,
          1,
          1,
          1,
          1,
          1,
          1,
          1,
          1,
          1,
          1,
          1
         ]
        }
       ],
       "layout": {
        "barmode": "overlay",
        "template": {
         "data": {
          "bar": [
           {
            "error_x": {
             "color": "#2a3f5f"
            },
            "error_y": {
             "color": "#2a3f5f"
            },
            "marker": {
             "line": {
              "color": "#E5ECF6",
              "width": 0.5
             },
             "pattern": {
              "fillmode": "overlay",
              "size": 10,
              "solidity": 0.2
             }
            },
            "type": "bar"
           }
          ],
          "barpolar": [
           {
            "marker": {
             "line": {
              "color": "#E5ECF6",
              "width": 0.5
             },
             "pattern": {
              "fillmode": "overlay",
              "size": 10,
              "solidity": 0.2
             }
            },
            "type": "barpolar"
           }
          ],
          "carpet": [
           {
            "aaxis": {
             "endlinecolor": "#2a3f5f",
             "gridcolor": "white",
             "linecolor": "white",
             "minorgridcolor": "white",
             "startlinecolor": "#2a3f5f"
            },
            "baxis": {
             "endlinecolor": "#2a3f5f",
             "gridcolor": "white",
             "linecolor": "white",
             "minorgridcolor": "white",
             "startlinecolor": "#2a3f5f"
            },
            "type": "carpet"
           }
          ],
          "choropleth": [
           {
            "colorbar": {
             "outlinewidth": 0,
             "ticks": ""
            },
            "type": "choropleth"
           }
          ],
          "contour": [
           {
            "colorbar": {
             "outlinewidth": 0,
             "ticks": ""
            },
            "colorscale": [
             [
              0.0,
              "#0d0887"
             ],
             [
              0.1111111111111111,
              "#46039f"
             ],
             [
              0.2222222222222222,
              "#7201a8"
             ],
             [
              0.3333333333333333,
              "#9c179e"
             ],
             [
              0.4444444444444444,
              "#bd3786"
             ],
             [
              0.5555555555555556,
              "#d8576b"
             ],
             [
              0.6666666666666666,
              "#ed7953"
             ],
             [
              0.7777777777777778,
              "#fb9f3a"
             ],
             [
              0.8888888888888888,
              "#fdca26"
             ],
             [
              1.0,
              "#f0f921"
             ]
            ],
            "type": "contour"
           }
          ],
          "contourcarpet": [
           {
            "colorbar": {
             "outlinewidth": 0,
             "ticks": ""
            },
            "type": "contourcarpet"
           }
          ],
          "heatmap": [
           {
            "colorbar": {
             "outlinewidth": 0,
             "ticks": ""
            },
            "colorscale": [
             [
              0.0,
              "#0d0887"
             ],
             [
              0.1111111111111111,
              "#46039f"
             ],
             [
              0.2222222222222222,
              "#7201a8"
             ],
             [
              0.3333333333333333,
              "#9c179e"
             ],
             [
              0.4444444444444444,
              "#bd3786"
             ],
             [
              0.5555555555555556,
              "#d8576b"
             ],
             [
              0.6666666666666666,
              "#ed7953"
             ],
             [
              0.7777777777777778,
              "#fb9f3a"
             ],
             [
              0.8888888888888888,
              "#fdca26"
             ],
             [
              1.0,
              "#f0f921"
             ]
            ],
            "type": "heatmap"
           }
          ],
          "heatmapgl": [
           {
            "colorbar": {
             "outlinewidth": 0,
             "ticks": ""
            },
            "colorscale": [
             [
              0.0,
              "#0d0887"
             ],
             [
              0.1111111111111111,
              "#46039f"
             ],
             [
              0.2222222222222222,
              "#7201a8"
             ],
             [
              0.3333333333333333,
              "#9c179e"
             ],
             [
              0.4444444444444444,
              "#bd3786"
             ],
             [
              0.5555555555555556,
              "#d8576b"
             ],
             [
              0.6666666666666666,
              "#ed7953"
             ],
             [
              0.7777777777777778,
              "#fb9f3a"
             ],
             [
              0.8888888888888888,
              "#fdca26"
             ],
             [
              1.0,
              "#f0f921"
             ]
            ],
            "type": "heatmapgl"
           }
          ],
          "histogram": [
           {
            "marker": {
             "pattern": {
              "fillmode": "overlay",
              "size": 10,
              "solidity": 0.2
             }
            },
            "type": "histogram"
           }
          ],
          "histogram2d": [
           {
            "colorbar": {
             "outlinewidth": 0,
             "ticks": ""
            },
            "colorscale": [
             [
              0.0,
              "#0d0887"
             ],
             [
              0.1111111111111111,
              "#46039f"
             ],
             [
              0.2222222222222222,
              "#7201a8"
             ],
             [
              0.3333333333333333,
              "#9c179e"
             ],
             [
              0.4444444444444444,
              "#bd3786"
             ],
             [
              0.5555555555555556,
              "#d8576b"
             ],
             [
              0.6666666666666666,
              "#ed7953"
             ],
             [
              0.7777777777777778,
              "#fb9f3a"
             ],
             [
              0.8888888888888888,
              "#fdca26"
             ],
             [
              1.0,
              "#f0f921"
             ]
            ],
            "type": "histogram2d"
           }
          ],
          "histogram2dcontour": [
           {
            "colorbar": {
             "outlinewidth": 0,
             "ticks": ""
            },
            "colorscale": [
             [
              0.0,
              "#0d0887"
             ],
             [
              0.1111111111111111,
              "#46039f"
             ],
             [
              0.2222222222222222,
              "#7201a8"
             ],
             [
              0.3333333333333333,
              "#9c179e"
             ],
             [
              0.4444444444444444,
              "#bd3786"
             ],
             [
              0.5555555555555556,
              "#d8576b"
             ],
             [
              0.6666666666666666,
              "#ed7953"
             ],
             [
              0.7777777777777778,
              "#fb9f3a"
             ],
             [
              0.8888888888888888,
              "#fdca26"
             ],
             [
              1.0,
              "#f0f921"
             ]
            ],
            "type": "histogram2dcontour"
           }
          ],
          "mesh3d": [
           {
            "colorbar": {
             "outlinewidth": 0,
             "ticks": ""
            },
            "type": "mesh3d"
           }
          ],
          "parcoords": [
           {
            "line": {
             "colorbar": {
              "outlinewidth": 0,
              "ticks": ""
             }
            },
            "type": "parcoords"
           }
          ],
          "pie": [
           {
            "automargin": true,
            "type": "pie"
           }
          ],
          "scatter": [
           {
            "fillpattern": {
             "fillmode": "overlay",
             "size": 10,
             "solidity": 0.2
            },
            "type": "scatter"
           }
          ],
          "scatter3d": [
           {
            "line": {
             "colorbar": {
              "outlinewidth": 0,
              "ticks": ""
             }
            },
            "marker": {
             "colorbar": {
              "outlinewidth": 0,
              "ticks": ""
             }
            },
            "type": "scatter3d"
           }
          ],
          "scattercarpet": [
           {
            "marker": {
             "colorbar": {
              "outlinewidth": 0,
              "ticks": ""
             }
            },
            "type": "scattercarpet"
           }
          ],
          "scattergeo": [
           {
            "marker": {
             "colorbar": {
              "outlinewidth": 0,
              "ticks": ""
             }
            },
            "type": "scattergeo"
           }
          ],
          "scattergl": [
           {
            "marker": {
             "colorbar": {
              "outlinewidth": 0,
              "ticks": ""
             }
            },
            "type": "scattergl"
           }
          ],
          "scattermapbox": [
           {
            "marker": {
             "colorbar": {
              "outlinewidth": 0,
              "ticks": ""
             }
            },
            "type": "scattermapbox"
           }
          ],
          "scatterpolar": [
           {
            "marker": {
             "colorbar": {
              "outlinewidth": 0,
              "ticks": ""
             }
            },
            "type": "scatterpolar"
           }
          ],
          "scatterpolargl": [
           {
            "marker": {
             "colorbar": {
              "outlinewidth": 0,
              "ticks": ""
             }
            },
            "type": "scatterpolargl"
           }
          ],
          "scatterternary": [
           {
            "marker": {
             "colorbar": {
              "outlinewidth": 0,
              "ticks": ""
             }
            },
            "type": "scatterternary"
           }
          ],
          "surface": [
           {
            "colorbar": {
             "outlinewidth": 0,
             "ticks": ""
            },
            "colorscale": [
             [
              0.0,
              "#0d0887"
             ],
             [
              0.1111111111111111,
              "#46039f"
             ],
             [
              0.2222222222222222,
              "#7201a8"
             ],
             [
              0.3333333333333333,
              "#9c179e"
             ],
             [
              0.4444444444444444,
              "#bd3786"
             ],
             [
              0.5555555555555556,
              "#d8576b"
             ],
             [
              0.6666666666666666,
              "#ed7953"
             ],
             [
              0.7777777777777778,
              "#fb9f3a"
             ],
             [
              0.8888888888888888,
              "#fdca26"
             ],
             [
              1.0,
              "#f0f921"
             ]
            ],
            "type": "surface"
           }
          ],
          "table": [
           {
            "cells": {
             "fill": {
              "color": "#EBF0F8"
             },
             "line": {
              "color": "white"
             }
            },
            "header": {
             "fill": {
              "color": "#C8D4E3"
             },
             "line": {
              "color": "white"
             }
            },
            "type": "table"
           }
          ]
         },
         "layout": {
          "annotationdefaults": {
           "arrowcolor": "#2a3f5f",
           "arrowhead": 0,
           "arrowwidth": 1
          },
          "autotypenumbers": "strict",
          "coloraxis": {
           "colorbar": {
            "outlinewidth": 0,
            "ticks": ""
           }
          },
          "colorscale": {
           "diverging": [
            [
             0,
             "#8e0152"
            ],
            [
             0.1,
             "#c51b7d"
            ],
            [
             0.2,
             "#de77ae"
            ],
            [
             0.3,
             "#f1b6da"
            ],
            [
             0.4,
             "#fde0ef"
            ],
            [
             0.5,
             "#f7f7f7"
            ],
            [
             0.6,
             "#e6f5d0"
            ],
            [
             0.7,
             "#b8e186"
            ],
            [
             0.8,
             "#7fbc41"
            ],
            [
             0.9,
             "#4d9221"
            ],
            [
             1,
             "#276419"
            ]
           ],
           "sequential": [
            [
             0.0,
             "#0d0887"
            ],
            [
             0.1111111111111111,
             "#46039f"
            ],
            [
             0.2222222222222222,
             "#7201a8"
            ],
            [
             0.3333333333333333,
             "#9c179e"
            ],
            [
             0.4444444444444444,
             "#bd3786"
            ],
            [
             0.5555555555555556,
             "#d8576b"
            ],
            [
             0.6666666666666666,
             "#ed7953"
            ],
            [
             0.7777777777777778,
             "#fb9f3a"
            ],
            [
             0.8888888888888888,
             "#fdca26"
            ],
            [
             1.0,
             "#f0f921"
            ]
           ],
           "sequentialminus": [
            [
             0.0,
             "#0d0887"
            ],
            [
             0.1111111111111111,
             "#46039f"
            ],
            [
             0.2222222222222222,
             "#7201a8"
            ],
            [
             0.3333333333333333,
             "#9c179e"
            ],
            [
             0.4444444444444444,
             "#bd3786"
            ],
            [
             0.5555555555555556,
             "#d8576b"
            ],
            [
             0.6666666666666666,
             "#ed7953"
            ],
            [
             0.7777777777777778,
             "#fb9f3a"
            ],
            [
             0.8888888888888888,
             "#fdca26"
            ],
            [
             1.0,
             "#f0f921"
            ]
           ]
          },
          "colorway": [
           "#636efa",
           "#EF553B",
           "#00cc96",
           "#ab63fa",
           "#FFA15A",
           "#19d3f3",
           "#FF6692",
           "#B6E880",
           "#FF97FF",
           "#FECB52"
          ],
          "font": {
           "color": "#2a3f5f"
          },
          "geo": {
           "bgcolor": "white",
           "lakecolor": "white",
           "landcolor": "#E5ECF6",
           "showlakes": true,
           "showland": true,
           "subunitcolor": "white"
          },
          "hoverlabel": {
           "align": "left"
          },
          "hovermode": "closest",
          "mapbox": {
           "style": "light"
          },
          "paper_bgcolor": "white",
          "plot_bgcolor": "#E5ECF6",
          "polar": {
           "angularaxis": {
            "gridcolor": "white",
            "linecolor": "white",
            "ticks": ""
           },
           "bgcolor": "#E5ECF6",
           "radialaxis": {
            "gridcolor": "white",
            "linecolor": "white",
            "ticks": ""
           }
          },
          "scene": {
           "xaxis": {
            "backgroundcolor": "#E5ECF6",
            "gridcolor": "white",
            "gridwidth": 2,
            "linecolor": "white",
            "showbackground": true,
            "ticks": "",
            "zerolinecolor": "white"
           },
           "yaxis": {
            "backgroundcolor": "#E5ECF6",
            "gridcolor": "white",
            "gridwidth": 2,
            "linecolor": "white",
            "showbackground": true,
            "ticks": "",
            "zerolinecolor": "white"
           },
           "zaxis": {
            "backgroundcolor": "#E5ECF6",
            "gridcolor": "white",
            "gridwidth": 2,
            "linecolor": "white",
            "showbackground": true,
            "ticks": "",
            "zerolinecolor": "white"
           }
          },
          "shapedefaults": {
           "line": {
            "color": "#2a3f5f"
           }
          },
          "ternary": {
           "aaxis": {
            "gridcolor": "white",
            "linecolor": "white",
            "ticks": ""
           },
           "baxis": {
            "gridcolor": "white",
            "linecolor": "white",
            "ticks": ""
           },
           "bgcolor": "#E5ECF6",
           "caxis": {
            "gridcolor": "white",
            "linecolor": "white",
            "ticks": ""
           }
          },
          "title": {
           "x": 0.05
          },
          "xaxis": {
           "automargin": true,
           "gridcolor": "white",
           "linecolor": "white",
           "ticks": "",
           "title": {
            "standoff": 15
           },
           "zerolinecolor": "white",
           "zerolinewidth": 2
          },
          "yaxis": {
           "automargin": true,
           "gridcolor": "white",
           "linecolor": "white",
           "ticks": "",
           "title": {
            "standoff": 15
           },
           "zerolinecolor": "white",
           "zerolinewidth": 2
          }
         }
        },
        "title": {
         "text": "Defects"
        },
        "xaxis": {
         "title": {
          "text": "True - False"
         }
        },
        "yaxis": {
         "title": {
          "text": "Frequency"
         }
        }
       }
      },
      "text/html": [
       "<div>                            <div id=\"6c305483-0203-478a-8a87-900b084b1d2e\" class=\"plotly-graph-div\" style=\"height:525px; width:100%;\"></div>            <script type=\"text/javascript\">                require([\"plotly\"], function(Plotly) {                    window.PLOTLYENV=window.PLOTLYENV || {};                                    if (document.getElementById(\"6c305483-0203-478a-8a87-900b084b1d2e\")) {                    Plotly.newPlot(                        \"6c305483-0203-478a-8a87-900b084b1d2e\",                        [{\"marker\":{\"color\":\"green\"},\"name\":\"Defects\",\"opacity\":0.75,\"x\":[0,1,0,0,0,0,0,0,0,0,0,0,0,0,0,0,0,0,0,0,0,0,0,0,0,0,0,0,0,0,0,0,0,0,0,0,0,0,0,0,0,0,0,0,0,0,0,0,0,0,0,0,0,0,0,0,0,0,0,0,0,0,0,0,0,0,0,0,0,0,0,0,0,0,0,0,0,0,0,0,0,0,0,0,0,0,0,0,0,0,0,0,0,0,0,0,0,0,0,0,0,0,0,0,0,0,0,0,0,0,0,0,0,0,0,0,0,0,0,0,0,0,0,0,0,0,0,0,0,0,0,0,0,0,0,0,0,0,0,0,0,0,0,0,0,0,0,0,0,0,0,0,0,0,0,0,0,0,0,0,0,0,0,0,0,0,0,0,0,0,0,0,0,0,0,0,0,0,0,0,0,0,0,0,0,0,0,0,0,0,0,0,0,0,0,0,0,0,0,0,0,0,0,0,0,0,0,0,0,0,0,0,0,0,0,0,0,0,0,0,0,0,0,0,0,0,0,0,0,0,0,0,0,0,0,0,0,0,0,0,0,0,0,0,0,0,0,0,0,0,0,0,0,0,0,0,0,0,0,0,0,0,0,0,0,0,0,0,0,0,0,0,0,0,0,0,0,0,0,0,0,0,0,0,0,0,0,0,0,0,0,0,0,0,0,0,0,0,0,0,0,0,0,0,0,0,0,0,0,0,0,0,0,0,0,0,0,0,0,0,0,0,0,0,0,0,0,0,0,0,0,0,0,0,0,0,0,0,0,0,0,0,0,0,0,0,0,0,0,0,0,0,0,0,0,0,0,0,0,0,0,0,0,0,0,0,0,0,0,0,0,0,0,0,0,0,0,0,0,0,0,0,0,0,0,0,0,0,0,0,0,0,0,0,0,0,0,0,0,0,0,0,0,0,0,0,0,0,0,0,0,0,0,0,0,0,0,0,0,0,0,0,0,0,0,0,0,0,0,0,0,0,0,0,0,0,0,0,0,0,0,0,0,0,0,0,0,0,0,0,1,1,1,1,1,1,1,1,1,1,1,1,1,1,1,1,1,1,1,1,1,1,1,1,1,1,1,1,1,1,1,1,1,1,1,1,1,1,1,1,1,1,1,1,1,1,1,1],\"type\":\"histogram\"}],                        {\"barmode\":\"overlay\",\"template\":{\"data\":{\"barpolar\":[{\"marker\":{\"line\":{\"color\":\"#E5ECF6\",\"width\":0.5},\"pattern\":{\"fillmode\":\"overlay\",\"size\":10,\"solidity\":0.2}},\"type\":\"barpolar\"}],\"bar\":[{\"error_x\":{\"color\":\"#2a3f5f\"},\"error_y\":{\"color\":\"#2a3f5f\"},\"marker\":{\"line\":{\"color\":\"#E5ECF6\",\"width\":0.5},\"pattern\":{\"fillmode\":\"overlay\",\"size\":10,\"solidity\":0.2}},\"type\":\"bar\"}],\"carpet\":[{\"aaxis\":{\"endlinecolor\":\"#2a3f5f\",\"gridcolor\":\"white\",\"linecolor\":\"white\",\"minorgridcolor\":\"white\",\"startlinecolor\":\"#2a3f5f\"},\"baxis\":{\"endlinecolor\":\"#2a3f5f\",\"gridcolor\":\"white\",\"linecolor\":\"white\",\"minorgridcolor\":\"white\",\"startlinecolor\":\"#2a3f5f\"},\"type\":\"carpet\"}],\"choropleth\":[{\"colorbar\":{\"outlinewidth\":0,\"ticks\":\"\"},\"type\":\"choropleth\"}],\"contourcarpet\":[{\"colorbar\":{\"outlinewidth\":0,\"ticks\":\"\"},\"type\":\"contourcarpet\"}],\"contour\":[{\"colorbar\":{\"outlinewidth\":0,\"ticks\":\"\"},\"colorscale\":[[0.0,\"#0d0887\"],[0.1111111111111111,\"#46039f\"],[0.2222222222222222,\"#7201a8\"],[0.3333333333333333,\"#9c179e\"],[0.4444444444444444,\"#bd3786\"],[0.5555555555555556,\"#d8576b\"],[0.6666666666666666,\"#ed7953\"],[0.7777777777777778,\"#fb9f3a\"],[0.8888888888888888,\"#fdca26\"],[1.0,\"#f0f921\"]],\"type\":\"contour\"}],\"heatmapgl\":[{\"colorbar\":{\"outlinewidth\":0,\"ticks\":\"\"},\"colorscale\":[[0.0,\"#0d0887\"],[0.1111111111111111,\"#46039f\"],[0.2222222222222222,\"#7201a8\"],[0.3333333333333333,\"#9c179e\"],[0.4444444444444444,\"#bd3786\"],[0.5555555555555556,\"#d8576b\"],[0.6666666666666666,\"#ed7953\"],[0.7777777777777778,\"#fb9f3a\"],[0.8888888888888888,\"#fdca26\"],[1.0,\"#f0f921\"]],\"type\":\"heatmapgl\"}],\"heatmap\":[{\"colorbar\":{\"outlinewidth\":0,\"ticks\":\"\"},\"colorscale\":[[0.0,\"#0d0887\"],[0.1111111111111111,\"#46039f\"],[0.2222222222222222,\"#7201a8\"],[0.3333333333333333,\"#9c179e\"],[0.4444444444444444,\"#bd3786\"],[0.5555555555555556,\"#d8576b\"],[0.6666666666666666,\"#ed7953\"],[0.7777777777777778,\"#fb9f3a\"],[0.8888888888888888,\"#fdca26\"],[1.0,\"#f0f921\"]],\"type\":\"heatmap\"}],\"histogram2dcontour\":[{\"colorbar\":{\"outlinewidth\":0,\"ticks\":\"\"},\"colorscale\":[[0.0,\"#0d0887\"],[0.1111111111111111,\"#46039f\"],[0.2222222222222222,\"#7201a8\"],[0.3333333333333333,\"#9c179e\"],[0.4444444444444444,\"#bd3786\"],[0.5555555555555556,\"#d8576b\"],[0.6666666666666666,\"#ed7953\"],[0.7777777777777778,\"#fb9f3a\"],[0.8888888888888888,\"#fdca26\"],[1.0,\"#f0f921\"]],\"type\":\"histogram2dcontour\"}],\"histogram2d\":[{\"colorbar\":{\"outlinewidth\":0,\"ticks\":\"\"},\"colorscale\":[[0.0,\"#0d0887\"],[0.1111111111111111,\"#46039f\"],[0.2222222222222222,\"#7201a8\"],[0.3333333333333333,\"#9c179e\"],[0.4444444444444444,\"#bd3786\"],[0.5555555555555556,\"#d8576b\"],[0.6666666666666666,\"#ed7953\"],[0.7777777777777778,\"#fb9f3a\"],[0.8888888888888888,\"#fdca26\"],[1.0,\"#f0f921\"]],\"type\":\"histogram2d\"}],\"histogram\":[{\"marker\":{\"pattern\":{\"fillmode\":\"overlay\",\"size\":10,\"solidity\":0.2}},\"type\":\"histogram\"}],\"mesh3d\":[{\"colorbar\":{\"outlinewidth\":0,\"ticks\":\"\"},\"type\":\"mesh3d\"}],\"parcoords\":[{\"line\":{\"colorbar\":{\"outlinewidth\":0,\"ticks\":\"\"}},\"type\":\"parcoords\"}],\"pie\":[{\"automargin\":true,\"type\":\"pie\"}],\"scatter3d\":[{\"line\":{\"colorbar\":{\"outlinewidth\":0,\"ticks\":\"\"}},\"marker\":{\"colorbar\":{\"outlinewidth\":0,\"ticks\":\"\"}},\"type\":\"scatter3d\"}],\"scattercarpet\":[{\"marker\":{\"colorbar\":{\"outlinewidth\":0,\"ticks\":\"\"}},\"type\":\"scattercarpet\"}],\"scattergeo\":[{\"marker\":{\"colorbar\":{\"outlinewidth\":0,\"ticks\":\"\"}},\"type\":\"scattergeo\"}],\"scattergl\":[{\"marker\":{\"colorbar\":{\"outlinewidth\":0,\"ticks\":\"\"}},\"type\":\"scattergl\"}],\"scattermapbox\":[{\"marker\":{\"colorbar\":{\"outlinewidth\":0,\"ticks\":\"\"}},\"type\":\"scattermapbox\"}],\"scatterpolargl\":[{\"marker\":{\"colorbar\":{\"outlinewidth\":0,\"ticks\":\"\"}},\"type\":\"scatterpolargl\"}],\"scatterpolar\":[{\"marker\":{\"colorbar\":{\"outlinewidth\":0,\"ticks\":\"\"}},\"type\":\"scatterpolar\"}],\"scatter\":[{\"fillpattern\":{\"fillmode\":\"overlay\",\"size\":10,\"solidity\":0.2},\"type\":\"scatter\"}],\"scatterternary\":[{\"marker\":{\"colorbar\":{\"outlinewidth\":0,\"ticks\":\"\"}},\"type\":\"scatterternary\"}],\"surface\":[{\"colorbar\":{\"outlinewidth\":0,\"ticks\":\"\"},\"colorscale\":[[0.0,\"#0d0887\"],[0.1111111111111111,\"#46039f\"],[0.2222222222222222,\"#7201a8\"],[0.3333333333333333,\"#9c179e\"],[0.4444444444444444,\"#bd3786\"],[0.5555555555555556,\"#d8576b\"],[0.6666666666666666,\"#ed7953\"],[0.7777777777777778,\"#fb9f3a\"],[0.8888888888888888,\"#fdca26\"],[1.0,\"#f0f921\"]],\"type\":\"surface\"}],\"table\":[{\"cells\":{\"fill\":{\"color\":\"#EBF0F8\"},\"line\":{\"color\":\"white\"}},\"header\":{\"fill\":{\"color\":\"#C8D4E3\"},\"line\":{\"color\":\"white\"}},\"type\":\"table\"}]},\"layout\":{\"annotationdefaults\":{\"arrowcolor\":\"#2a3f5f\",\"arrowhead\":0,\"arrowwidth\":1},\"autotypenumbers\":\"strict\",\"coloraxis\":{\"colorbar\":{\"outlinewidth\":0,\"ticks\":\"\"}},\"colorscale\":{\"diverging\":[[0,\"#8e0152\"],[0.1,\"#c51b7d\"],[0.2,\"#de77ae\"],[0.3,\"#f1b6da\"],[0.4,\"#fde0ef\"],[0.5,\"#f7f7f7\"],[0.6,\"#e6f5d0\"],[0.7,\"#b8e186\"],[0.8,\"#7fbc41\"],[0.9,\"#4d9221\"],[1,\"#276419\"]],\"sequential\":[[0.0,\"#0d0887\"],[0.1111111111111111,\"#46039f\"],[0.2222222222222222,\"#7201a8\"],[0.3333333333333333,\"#9c179e\"],[0.4444444444444444,\"#bd3786\"],[0.5555555555555556,\"#d8576b\"],[0.6666666666666666,\"#ed7953\"],[0.7777777777777778,\"#fb9f3a\"],[0.8888888888888888,\"#fdca26\"],[1.0,\"#f0f921\"]],\"sequentialminus\":[[0.0,\"#0d0887\"],[0.1111111111111111,\"#46039f\"],[0.2222222222222222,\"#7201a8\"],[0.3333333333333333,\"#9c179e\"],[0.4444444444444444,\"#bd3786\"],[0.5555555555555556,\"#d8576b\"],[0.6666666666666666,\"#ed7953\"],[0.7777777777777778,\"#fb9f3a\"],[0.8888888888888888,\"#fdca26\"],[1.0,\"#f0f921\"]]},\"colorway\":[\"#636efa\",\"#EF553B\",\"#00cc96\",\"#ab63fa\",\"#FFA15A\",\"#19d3f3\",\"#FF6692\",\"#B6E880\",\"#FF97FF\",\"#FECB52\"],\"font\":{\"color\":\"#2a3f5f\"},\"geo\":{\"bgcolor\":\"white\",\"lakecolor\":\"white\",\"landcolor\":\"#E5ECF6\",\"showlakes\":true,\"showland\":true,\"subunitcolor\":\"white\"},\"hoverlabel\":{\"align\":\"left\"},\"hovermode\":\"closest\",\"mapbox\":{\"style\":\"light\"},\"paper_bgcolor\":\"white\",\"plot_bgcolor\":\"#E5ECF6\",\"polar\":{\"angularaxis\":{\"gridcolor\":\"white\",\"linecolor\":\"white\",\"ticks\":\"\"},\"bgcolor\":\"#E5ECF6\",\"radialaxis\":{\"gridcolor\":\"white\",\"linecolor\":\"white\",\"ticks\":\"\"}},\"scene\":{\"xaxis\":{\"backgroundcolor\":\"#E5ECF6\",\"gridcolor\":\"white\",\"gridwidth\":2,\"linecolor\":\"white\",\"showbackground\":true,\"ticks\":\"\",\"zerolinecolor\":\"white\"},\"yaxis\":{\"backgroundcolor\":\"#E5ECF6\",\"gridcolor\":\"white\",\"gridwidth\":2,\"linecolor\":\"white\",\"showbackground\":true,\"ticks\":\"\",\"zerolinecolor\":\"white\"},\"zaxis\":{\"backgroundcolor\":\"#E5ECF6\",\"gridcolor\":\"white\",\"gridwidth\":2,\"linecolor\":\"white\",\"showbackground\":true,\"ticks\":\"\",\"zerolinecolor\":\"white\"}},\"shapedefaults\":{\"line\":{\"color\":\"#2a3f5f\"}},\"ternary\":{\"aaxis\":{\"gridcolor\":\"white\",\"linecolor\":\"white\",\"ticks\":\"\"},\"baxis\":{\"gridcolor\":\"white\",\"linecolor\":\"white\",\"ticks\":\"\"},\"bgcolor\":\"#E5ECF6\",\"caxis\":{\"gridcolor\":\"white\",\"linecolor\":\"white\",\"ticks\":\"\"}},\"title\":{\"x\":0.05},\"xaxis\":{\"automargin\":true,\"gridcolor\":\"white\",\"linecolor\":\"white\",\"ticks\":\"\",\"title\":{\"standoff\":15},\"zerolinecolor\":\"white\",\"zerolinewidth\":2},\"yaxis\":{\"automargin\":true,\"gridcolor\":\"white\",\"linecolor\":\"white\",\"ticks\":\"\",\"title\":{\"standoff\":15},\"zerolinecolor\":\"white\",\"zerolinewidth\":2}}},\"title\":{\"text\":\"Defects\"},\"xaxis\":{\"title\":{\"text\":\"True - False\"}},\"yaxis\":{\"title\":{\"text\":\"Frequency\"}}},                        {\"responsive\": true}                    ).then(function(){\n",
       "                            \n",
       "var gd = document.getElementById('6c305483-0203-478a-8a87-900b084b1d2e');\n",
       "var x = new MutationObserver(function (mutations, observer) {{\n",
       "        var display = window.getComputedStyle(gd).display;\n",
       "        if (!display || display === 'none') {{\n",
       "            console.log([gd, 'removed!']);\n",
       "            Plotly.purge(gd);\n",
       "            observer.disconnect();\n",
       "        }}\n",
       "}});\n",
       "\n",
       "// Listen for the removal of the full notebook cells\n",
       "var notebookContainer = gd.closest('#notebook-container');\n",
       "if (notebookContainer) {{\n",
       "    x.observe(notebookContainer, {childList: true});\n",
       "}}\n",
       "\n",
       "// Listen for the clearing of the current output cell\n",
       "var outputEl = gd.closest('.output');\n",
       "if (outputEl) {{\n",
       "    x.observe(outputEl, {childList: true});\n",
       "}}\n",
       "\n",
       "                        })                };                });            </script>        </div>"
      ]
     },
     "metadata": {},
     "output_type": "display_data"
    }
   ],
   "source": [
    "trace = go.Histogram(\n",
    "    x = data.defects,\n",
    "    opacity = 0.75,\n",
    "    name = \"Defects\",\n",
    "    marker = dict(color = 'green'))\n",
    "\n",
    "hist_data = [trace]\n",
    "hist_layout = go.Layout(barmode='overlay',\n",
    "                   title = 'Defects',\n",
    "                   xaxis = dict(title = 'True - False'),\n",
    "                   yaxis = dict(title = 'Frequency'),\n",
    ")\n",
    "fig = go.Figure(data = hist_data, layout = hist_layout)\n",
    "iplot(fig)"
   ]
  },
  {
   "cell_type": "code",
   "execution_count": 15,
   "id": "7c6c3678",
   "metadata": {
    "execution": {
     "iopub.execute_input": "2022-12-20T18:43:53.696116Z",
     "iopub.status.busy": "2022-12-20T18:43:53.695735Z",
     "iopub.status.idle": "2022-12-20T18:43:53.730862Z",
     "shell.execute_reply": "2022-12-20T18:43:53.729861Z"
    },
    "papermill": {
     "duration": 0.057256,
     "end_time": "2022-12-20T18:43:53.733228",
     "exception": false,
     "start_time": "2022-12-20T18:43:53.675972",
     "status": "completed"
    },
    "tags": []
   },
   "outputs": [
    {
     "data": {
      "text/html": [
       "<div>\n",
       "<style scoped>\n",
       "    .dataframe tbody tr th:only-of-type {\n",
       "        vertical-align: middle;\n",
       "    }\n",
       "\n",
       "    .dataframe tbody tr th {\n",
       "        vertical-align: top;\n",
       "    }\n",
       "\n",
       "    .dataframe thead th {\n",
       "        text-align: right;\n",
       "    }\n",
       "</style>\n",
       "<table border=\"1\" class=\"dataframe\">\n",
       "  <thead>\n",
       "    <tr style=\"text-align: right;\">\n",
       "      <th></th>\n",
       "      <th>loc</th>\n",
       "      <th>v(g)</th>\n",
       "      <th>ev(g)</th>\n",
       "      <th>iv(g)</th>\n",
       "      <th>n</th>\n",
       "      <th>v</th>\n",
       "      <th>l</th>\n",
       "      <th>d</th>\n",
       "      <th>i</th>\n",
       "      <th>e</th>\n",
       "      <th>...</th>\n",
       "      <th>lOCode</th>\n",
       "      <th>lOComment</th>\n",
       "      <th>lOBlank</th>\n",
       "      <th>locCodeAndComment</th>\n",
       "      <th>uniq_Op</th>\n",
       "      <th>uniq_Opnd</th>\n",
       "      <th>total_Op</th>\n",
       "      <th>total_Opnd</th>\n",
       "      <th>branchCount</th>\n",
       "      <th>defects</th>\n",
       "    </tr>\n",
       "  </thead>\n",
       "  <tbody>\n",
       "    <tr>\n",
       "      <th>loc</th>\n",
       "      <td>1.000000</td>\n",
       "      <td>0.942908</td>\n",
       "      <td>0.773607</td>\n",
       "      <td>0.919270</td>\n",
       "      <td>0.940466</td>\n",
       "      <td>0.952699</td>\n",
       "      <td>-0.357998</td>\n",
       "      <td>0.728502</td>\n",
       "      <td>0.797565</td>\n",
       "      <td>0.814611</td>\n",
       "      <td>...</td>\n",
       "      <td>0.679721</td>\n",
       "      <td>0.862704</td>\n",
       "      <td>0.679942</td>\n",
       "      <td>-0.040300</td>\n",
       "      <td>0.803036</td>\n",
       "      <td>0.943241</td>\n",
       "      <td>0.941778</td>\n",
       "      <td>0.929347</td>\n",
       "      <td>0.940823</td>\n",
       "      <td>0.246467</td>\n",
       "    </tr>\n",
       "    <tr>\n",
       "      <th>v(g)</th>\n",
       "      <td>0.942908</td>\n",
       "      <td>1.000000</td>\n",
       "      <td>0.806544</td>\n",
       "      <td>0.929741</td>\n",
       "      <td>0.907581</td>\n",
       "      <td>0.919714</td>\n",
       "      <td>-0.342571</td>\n",
       "      <td>0.773446</td>\n",
       "      <td>0.668793</td>\n",
       "      <td>0.856458</td>\n",
       "      <td>...</td>\n",
       "      <td>0.733292</td>\n",
       "      <td>0.795747</td>\n",
       "      <td>0.666712</td>\n",
       "      <td>-0.029726</td>\n",
       "      <td>0.801255</td>\n",
       "      <td>0.860150</td>\n",
       "      <td>0.910242</td>\n",
       "      <td>0.894691</td>\n",
       "      <td>0.991826</td>\n",
       "      <td>0.166761</td>\n",
       "    </tr>\n",
       "    <tr>\n",
       "      <th>ev(g)</th>\n",
       "      <td>0.773607</td>\n",
       "      <td>0.806544</td>\n",
       "      <td>1.000000</td>\n",
       "      <td>0.714994</td>\n",
       "      <td>0.770008</td>\n",
       "      <td>0.773645</td>\n",
       "      <td>-0.280011</td>\n",
       "      <td>0.675765</td>\n",
       "      <td>0.554699</td>\n",
       "      <td>0.685490</td>\n",
       "      <td>...</td>\n",
       "      <td>0.605862</td>\n",
       "      <td>0.682972</td>\n",
       "      <td>0.568783</td>\n",
       "      <td>-0.020170</td>\n",
       "      <td>0.649567</td>\n",
       "      <td>0.710749</td>\n",
       "      <td>0.775750</td>\n",
       "      <td>0.753672</td>\n",
       "      <td>0.829226</td>\n",
       "      <td>0.105047</td>\n",
       "    </tr>\n",
       "    <tr>\n",
       "      <th>iv(g)</th>\n",
       "      <td>0.919270</td>\n",
       "      <td>0.929741</td>\n",
       "      <td>0.714994</td>\n",
       "      <td>1.000000</td>\n",
       "      <td>0.870063</td>\n",
       "      <td>0.889894</td>\n",
       "      <td>-0.300078</td>\n",
       "      <td>0.679901</td>\n",
       "      <td>0.696397</td>\n",
       "      <td>0.826191</td>\n",
       "      <td>...</td>\n",
       "      <td>0.674501</td>\n",
       "      <td>0.739883</td>\n",
       "      <td>0.647548</td>\n",
       "      <td>-0.024960</td>\n",
       "      <td>0.755188</td>\n",
       "      <td>0.857157</td>\n",
       "      <td>0.873645</td>\n",
       "      <td>0.856111</td>\n",
       "      <td>0.911202</td>\n",
       "      <td>0.202645</td>\n",
       "    </tr>\n",
       "    <tr>\n",
       "      <th>n</th>\n",
       "      <td>0.940466</td>\n",
       "      <td>0.907581</td>\n",
       "      <td>0.770008</td>\n",
       "      <td>0.870063</td>\n",
       "      <td>1.000000</td>\n",
       "      <td>0.993306</td>\n",
       "      <td>-0.397294</td>\n",
       "      <td>0.841433</td>\n",
       "      <td>0.810141</td>\n",
       "      <td>0.844168</td>\n",
       "      <td>...</td>\n",
       "      <td>0.727183</td>\n",
       "      <td>0.794619</td>\n",
       "      <td>0.731518</td>\n",
       "      <td>-0.038936</td>\n",
       "      <td>0.837047</td>\n",
       "      <td>0.947383</td>\n",
       "      <td>0.997563</td>\n",
       "      <td>0.994124</td>\n",
       "      <td>0.912958</td>\n",
       "      <td>0.214049</td>\n",
       "    </tr>\n",
       "    <tr>\n",
       "      <th>v</th>\n",
       "      <td>0.952699</td>\n",
       "      <td>0.919714</td>\n",
       "      <td>0.773645</td>\n",
       "      <td>0.889894</td>\n",
       "      <td>0.993306</td>\n",
       "      <td>1.000000</td>\n",
       "      <td>-0.346625</td>\n",
       "      <td>0.797672</td>\n",
       "      <td>0.792191</td>\n",
       "      <td>0.876855</td>\n",
       "      <td>...</td>\n",
       "      <td>0.731986</td>\n",
       "      <td>0.813944</td>\n",
       "      <td>0.721394</td>\n",
       "      <td>-0.032055</td>\n",
       "      <td>0.808148</td>\n",
       "      <td>0.948709</td>\n",
       "      <td>0.990824</td>\n",
       "      <td>0.987568</td>\n",
       "      <td>0.920633</td>\n",
       "      <td>0.206623</td>\n",
       "    </tr>\n",
       "    <tr>\n",
       "      <th>l</th>\n",
       "      <td>-0.357998</td>\n",
       "      <td>-0.342571</td>\n",
       "      <td>-0.280011</td>\n",
       "      <td>-0.300078</td>\n",
       "      <td>-0.397294</td>\n",
       "      <td>-0.346625</td>\n",
       "      <td>1.000000</td>\n",
       "      <td>-0.540916</td>\n",
       "      <td>-0.404108</td>\n",
       "      <td>-0.196933</td>\n",
       "      <td>...</td>\n",
       "      <td>-0.266412</td>\n",
       "      <td>-0.289062</td>\n",
       "      <td>-0.331775</td>\n",
       "      <td>0.398689</td>\n",
       "      <td>-0.629990</td>\n",
       "      <td>-0.402986</td>\n",
       "      <td>-0.397856</td>\n",
       "      <td>-0.392290</td>\n",
       "      <td>-0.358672</td>\n",
       "      <td>-0.132567</td>\n",
       "    </tr>\n",
       "    <tr>\n",
       "      <th>d</th>\n",
       "      <td>0.728502</td>\n",
       "      <td>0.773446</td>\n",
       "      <td>0.675765</td>\n",
       "      <td>0.679901</td>\n",
       "      <td>0.841433</td>\n",
       "      <td>0.797672</td>\n",
       "      <td>-0.540916</td>\n",
       "      <td>1.000000</td>\n",
       "      <td>0.514898</td>\n",
       "      <td>0.717773</td>\n",
       "      <td>...</td>\n",
       "      <td>0.614364</td>\n",
       "      <td>0.614590</td>\n",
       "      <td>0.642382</td>\n",
       "      <td>-0.057531</td>\n",
       "      <td>0.884115</td>\n",
       "      <td>0.697731</td>\n",
       "      <td>0.840947</td>\n",
       "      <td>0.834040</td>\n",
       "      <td>0.773032</td>\n",
       "      <td>0.168173</td>\n",
       "    </tr>\n",
       "    <tr>\n",
       "      <th>i</th>\n",
       "      <td>0.797565</td>\n",
       "      <td>0.668793</td>\n",
       "      <td>0.554699</td>\n",
       "      <td>0.696397</td>\n",
       "      <td>0.810141</td>\n",
       "      <td>0.792191</td>\n",
       "      <td>-0.404108</td>\n",
       "      <td>0.514898</td>\n",
       "      <td>1.000000</td>\n",
       "      <td>0.468739</td>\n",
       "      <td>...</td>\n",
       "      <td>0.511707</td>\n",
       "      <td>0.645486</td>\n",
       "      <td>0.580700</td>\n",
       "      <td>-0.060712</td>\n",
       "      <td>0.649853</td>\n",
       "      <td>0.914101</td>\n",
       "      <td>0.809787</td>\n",
       "      <td>0.802842</td>\n",
       "      <td>0.699037</td>\n",
       "      <td>0.267764</td>\n",
       "    </tr>\n",
       "    <tr>\n",
       "      <th>e</th>\n",
       "      <td>0.814611</td>\n",
       "      <td>0.856458</td>\n",
       "      <td>0.685490</td>\n",
       "      <td>0.826191</td>\n",
       "      <td>0.844168</td>\n",
       "      <td>0.876855</td>\n",
       "      <td>-0.196933</td>\n",
       "      <td>0.717773</td>\n",
       "      <td>0.468739</td>\n",
       "      <td>1.000000</td>\n",
       "      <td>...</td>\n",
       "      <td>0.664990</td>\n",
       "      <td>0.683293</td>\n",
       "      <td>0.591581</td>\n",
       "      <td>-0.015676</td>\n",
       "      <td>0.656657</td>\n",
       "      <td>0.715288</td>\n",
       "      <td>0.842162</td>\n",
       "      <td>0.839142</td>\n",
       "      <td>0.825467</td>\n",
       "      <td>0.097784</td>\n",
       "    </tr>\n",
       "    <tr>\n",
       "      <th>b</th>\n",
       "      <td>0.943339</td>\n",
       "      <td>0.912008</td>\n",
       "      <td>0.767676</td>\n",
       "      <td>0.882737</td>\n",
       "      <td>0.983928</td>\n",
       "      <td>0.991551</td>\n",
       "      <td>-0.292865</td>\n",
       "      <td>0.786756</td>\n",
       "      <td>0.780379</td>\n",
       "      <td>0.871322</td>\n",
       "      <td>...</td>\n",
       "      <td>0.726786</td>\n",
       "      <td>0.807475</td>\n",
       "      <td>0.714450</td>\n",
       "      <td>0.095367</td>\n",
       "      <td>0.792996</td>\n",
       "      <td>0.938821</td>\n",
       "      <td>0.981453</td>\n",
       "      <td>0.978368</td>\n",
       "      <td>0.912537</td>\n",
       "      <td>0.215214</td>\n",
       "    </tr>\n",
       "    <tr>\n",
       "      <th>t</th>\n",
       "      <td>0.814611</td>\n",
       "      <td>0.856457</td>\n",
       "      <td>0.685490</td>\n",
       "      <td>0.826190</td>\n",
       "      <td>0.844168</td>\n",
       "      <td>0.876855</td>\n",
       "      <td>-0.196929</td>\n",
       "      <td>0.717773</td>\n",
       "      <td>0.468739</td>\n",
       "      <td>1.000000</td>\n",
       "      <td>...</td>\n",
       "      <td>0.664990</td>\n",
       "      <td>0.683293</td>\n",
       "      <td>0.591581</td>\n",
       "      <td>-0.015667</td>\n",
       "      <td>0.656657</td>\n",
       "      <td>0.715288</td>\n",
       "      <td>0.842161</td>\n",
       "      <td>0.839142</td>\n",
       "      <td>0.825467</td>\n",
       "      <td>0.097785</td>\n",
       "    </tr>\n",
       "    <tr>\n",
       "      <th>lOCode</th>\n",
       "      <td>0.679721</td>\n",
       "      <td>0.733292</td>\n",
       "      <td>0.605862</td>\n",
       "      <td>0.674501</td>\n",
       "      <td>0.727183</td>\n",
       "      <td>0.731986</td>\n",
       "      <td>-0.266412</td>\n",
       "      <td>0.614364</td>\n",
       "      <td>0.511707</td>\n",
       "      <td>0.664990</td>\n",
       "      <td>...</td>\n",
       "      <td>1.000000</td>\n",
       "      <td>0.549449</td>\n",
       "      <td>0.693612</td>\n",
       "      <td>-0.015025</td>\n",
       "      <td>0.632740</td>\n",
       "      <td>0.678222</td>\n",
       "      <td>0.718539</td>\n",
       "      <td>0.733581</td>\n",
       "      <td>0.737888</td>\n",
       "      <td>0.063000</td>\n",
       "    </tr>\n",
       "    <tr>\n",
       "      <th>lOComment</th>\n",
       "      <td>0.862704</td>\n",
       "      <td>0.795747</td>\n",
       "      <td>0.682972</td>\n",
       "      <td>0.739883</td>\n",
       "      <td>0.794619</td>\n",
       "      <td>0.813944</td>\n",
       "      <td>-0.289062</td>\n",
       "      <td>0.614590</td>\n",
       "      <td>0.645486</td>\n",
       "      <td>0.683293</td>\n",
       "      <td>...</td>\n",
       "      <td>0.549449</td>\n",
       "      <td>1.000000</td>\n",
       "      <td>0.609803</td>\n",
       "      <td>-0.024781</td>\n",
       "      <td>0.689660</td>\n",
       "      <td>0.816564</td>\n",
       "      <td>0.795034</td>\n",
       "      <td>0.786305</td>\n",
       "      <td>0.802225</td>\n",
       "      <td>0.301556</td>\n",
       "    </tr>\n",
       "    <tr>\n",
       "      <th>lOBlank</th>\n",
       "      <td>0.679942</td>\n",
       "      <td>0.666712</td>\n",
       "      <td>0.568783</td>\n",
       "      <td>0.647548</td>\n",
       "      <td>0.731518</td>\n",
       "      <td>0.721394</td>\n",
       "      <td>-0.331775</td>\n",
       "      <td>0.642382</td>\n",
       "      <td>0.580700</td>\n",
       "      <td>0.591581</td>\n",
       "      <td>...</td>\n",
       "      <td>0.693612</td>\n",
       "      <td>0.609803</td>\n",
       "      <td>1.000000</td>\n",
       "      <td>-0.029773</td>\n",
       "      <td>0.686980</td>\n",
       "      <td>0.704932</td>\n",
       "      <td>0.726415</td>\n",
       "      <td>0.732367</td>\n",
       "      <td>0.665335</td>\n",
       "      <td>0.173542</td>\n",
       "    </tr>\n",
       "    <tr>\n",
       "      <th>locCodeAndComment</th>\n",
       "      <td>-0.040300</td>\n",
       "      <td>-0.029726</td>\n",
       "      <td>-0.020170</td>\n",
       "      <td>-0.024960</td>\n",
       "      <td>-0.038936</td>\n",
       "      <td>-0.032055</td>\n",
       "      <td>0.398689</td>\n",
       "      <td>-0.057531</td>\n",
       "      <td>-0.060712</td>\n",
       "      <td>-0.015676</td>\n",
       "      <td>...</td>\n",
       "      <td>-0.015025</td>\n",
       "      <td>-0.024781</td>\n",
       "      <td>-0.029773</td>\n",
       "      <td>1.000000</td>\n",
       "      <td>-0.088173</td>\n",
       "      <td>-0.043217</td>\n",
       "      <td>-0.038992</td>\n",
       "      <td>-0.037738</td>\n",
       "      <td>-0.032327</td>\n",
       "      <td>0.047509</td>\n",
       "    </tr>\n",
       "    <tr>\n",
       "      <th>uniq_Op</th>\n",
       "      <td>0.803036</td>\n",
       "      <td>0.801255</td>\n",
       "      <td>0.649567</td>\n",
       "      <td>0.755188</td>\n",
       "      <td>0.837047</td>\n",
       "      <td>0.808148</td>\n",
       "      <td>-0.629990</td>\n",
       "      <td>0.884115</td>\n",
       "      <td>0.649853</td>\n",
       "      <td>0.656657</td>\n",
       "      <td>...</td>\n",
       "      <td>0.632740</td>\n",
       "      <td>0.689660</td>\n",
       "      <td>0.686980</td>\n",
       "      <td>-0.088173</td>\n",
       "      <td>1.000000</td>\n",
       "      <td>0.812307</td>\n",
       "      <td>0.842038</td>\n",
       "      <td>0.821177</td>\n",
       "      <td>0.799938</td>\n",
       "      <td>0.249264</td>\n",
       "    </tr>\n",
       "    <tr>\n",
       "      <th>uniq_Opnd</th>\n",
       "      <td>0.943241</td>\n",
       "      <td>0.860150</td>\n",
       "      <td>0.710749</td>\n",
       "      <td>0.857157</td>\n",
       "      <td>0.947383</td>\n",
       "      <td>0.948709</td>\n",
       "      <td>-0.402986</td>\n",
       "      <td>0.697731</td>\n",
       "      <td>0.914101</td>\n",
       "      <td>0.715288</td>\n",
       "      <td>...</td>\n",
       "      <td>0.678222</td>\n",
       "      <td>0.816564</td>\n",
       "      <td>0.704932</td>\n",
       "      <td>-0.043217</td>\n",
       "      <td>0.812307</td>\n",
       "      <td>1.000000</td>\n",
       "      <td>0.943385</td>\n",
       "      <td>0.944432</td>\n",
       "      <td>0.874637</td>\n",
       "      <td>0.261552</td>\n",
       "    </tr>\n",
       "    <tr>\n",
       "      <th>total_Op</th>\n",
       "      <td>0.941778</td>\n",
       "      <td>0.910242</td>\n",
       "      <td>0.775750</td>\n",
       "      <td>0.873645</td>\n",
       "      <td>0.997563</td>\n",
       "      <td>0.990824</td>\n",
       "      <td>-0.397856</td>\n",
       "      <td>0.840947</td>\n",
       "      <td>0.809787</td>\n",
       "      <td>0.842162</td>\n",
       "      <td>...</td>\n",
       "      <td>0.718539</td>\n",
       "      <td>0.795034</td>\n",
       "      <td>0.726415</td>\n",
       "      <td>-0.038992</td>\n",
       "      <td>0.842038</td>\n",
       "      <td>0.943385</td>\n",
       "      <td>1.000000</td>\n",
       "      <td>0.984148</td>\n",
       "      <td>0.914498</td>\n",
       "      <td>0.214082</td>\n",
       "    </tr>\n",
       "    <tr>\n",
       "      <th>total_Opnd</th>\n",
       "      <td>0.929347</td>\n",
       "      <td>0.894691</td>\n",
       "      <td>0.753672</td>\n",
       "      <td>0.856111</td>\n",
       "      <td>0.994124</td>\n",
       "      <td>0.987568</td>\n",
       "      <td>-0.392290</td>\n",
       "      <td>0.834040</td>\n",
       "      <td>0.802842</td>\n",
       "      <td>0.839142</td>\n",
       "      <td>...</td>\n",
       "      <td>0.733581</td>\n",
       "      <td>0.786305</td>\n",
       "      <td>0.732367</td>\n",
       "      <td>-0.037738</td>\n",
       "      <td>0.821177</td>\n",
       "      <td>0.944432</td>\n",
       "      <td>0.984148</td>\n",
       "      <td>1.000000</td>\n",
       "      <td>0.901754</td>\n",
       "      <td>0.211999</td>\n",
       "    </tr>\n",
       "    <tr>\n",
       "      <th>branchCount</th>\n",
       "      <td>0.940823</td>\n",
       "      <td>0.991826</td>\n",
       "      <td>0.829226</td>\n",
       "      <td>0.911202</td>\n",
       "      <td>0.912958</td>\n",
       "      <td>0.920633</td>\n",
       "      <td>-0.358672</td>\n",
       "      <td>0.773032</td>\n",
       "      <td>0.699037</td>\n",
       "      <td>0.825467</td>\n",
       "      <td>...</td>\n",
       "      <td>0.737888</td>\n",
       "      <td>0.802225</td>\n",
       "      <td>0.665335</td>\n",
       "      <td>-0.032327</td>\n",
       "      <td>0.799938</td>\n",
       "      <td>0.874637</td>\n",
       "      <td>0.914498</td>\n",
       "      <td>0.901754</td>\n",
       "      <td>1.000000</td>\n",
       "      <td>0.169671</td>\n",
       "    </tr>\n",
       "    <tr>\n",
       "      <th>defects</th>\n",
       "      <td>0.246467</td>\n",
       "      <td>0.166761</td>\n",
       "      <td>0.105047</td>\n",
       "      <td>0.202645</td>\n",
       "      <td>0.214049</td>\n",
       "      <td>0.206623</td>\n",
       "      <td>-0.132567</td>\n",
       "      <td>0.168173</td>\n",
       "      <td>0.267764</td>\n",
       "      <td>0.097784</td>\n",
       "      <td>...</td>\n",
       "      <td>0.063000</td>\n",
       "      <td>0.301556</td>\n",
       "      <td>0.173542</td>\n",
       "      <td>0.047509</td>\n",
       "      <td>0.249264</td>\n",
       "      <td>0.261552</td>\n",
       "      <td>0.214082</td>\n",
       "      <td>0.211999</td>\n",
       "      <td>0.169671</td>\n",
       "      <td>1.000000</td>\n",
       "    </tr>\n",
       "  </tbody>\n",
       "</table>\n",
       "<p>22 rows × 22 columns</p>\n",
       "</div>"
      ],
      "text/plain": [
       "                        loc      v(g)     ev(g)     iv(g)         n         v  \\\n",
       "loc                1.000000  0.942908  0.773607  0.919270  0.940466  0.952699   \n",
       "v(g)               0.942908  1.000000  0.806544  0.929741  0.907581  0.919714   \n",
       "ev(g)              0.773607  0.806544  1.000000  0.714994  0.770008  0.773645   \n",
       "iv(g)              0.919270  0.929741  0.714994  1.000000  0.870063  0.889894   \n",
       "n                  0.940466  0.907581  0.770008  0.870063  1.000000  0.993306   \n",
       "v                  0.952699  0.919714  0.773645  0.889894  0.993306  1.000000   \n",
       "l                 -0.357998 -0.342571 -0.280011 -0.300078 -0.397294 -0.346625   \n",
       "d                  0.728502  0.773446  0.675765  0.679901  0.841433  0.797672   \n",
       "i                  0.797565  0.668793  0.554699  0.696397  0.810141  0.792191   \n",
       "e                  0.814611  0.856458  0.685490  0.826191  0.844168  0.876855   \n",
       "b                  0.943339  0.912008  0.767676  0.882737  0.983928  0.991551   \n",
       "t                  0.814611  0.856457  0.685490  0.826190  0.844168  0.876855   \n",
       "lOCode             0.679721  0.733292  0.605862  0.674501  0.727183  0.731986   \n",
       "lOComment          0.862704  0.795747  0.682972  0.739883  0.794619  0.813944   \n",
       "lOBlank            0.679942  0.666712  0.568783  0.647548  0.731518  0.721394   \n",
       "locCodeAndComment -0.040300 -0.029726 -0.020170 -0.024960 -0.038936 -0.032055   \n",
       "uniq_Op            0.803036  0.801255  0.649567  0.755188  0.837047  0.808148   \n",
       "uniq_Opnd          0.943241  0.860150  0.710749  0.857157  0.947383  0.948709   \n",
       "total_Op           0.941778  0.910242  0.775750  0.873645  0.997563  0.990824   \n",
       "total_Opnd         0.929347  0.894691  0.753672  0.856111  0.994124  0.987568   \n",
       "branchCount        0.940823  0.991826  0.829226  0.911202  0.912958  0.920633   \n",
       "defects            0.246467  0.166761  0.105047  0.202645  0.214049  0.206623   \n",
       "\n",
       "                          l         d         i         e  ...    lOCode  \\\n",
       "loc               -0.357998  0.728502  0.797565  0.814611  ...  0.679721   \n",
       "v(g)              -0.342571  0.773446  0.668793  0.856458  ...  0.733292   \n",
       "ev(g)             -0.280011  0.675765  0.554699  0.685490  ...  0.605862   \n",
       "iv(g)             -0.300078  0.679901  0.696397  0.826191  ...  0.674501   \n",
       "n                 -0.397294  0.841433  0.810141  0.844168  ...  0.727183   \n",
       "v                 -0.346625  0.797672  0.792191  0.876855  ...  0.731986   \n",
       "l                  1.000000 -0.540916 -0.404108 -0.196933  ... -0.266412   \n",
       "d                 -0.540916  1.000000  0.514898  0.717773  ...  0.614364   \n",
       "i                 -0.404108  0.514898  1.000000  0.468739  ...  0.511707   \n",
       "e                 -0.196933  0.717773  0.468739  1.000000  ...  0.664990   \n",
       "b                 -0.292865  0.786756  0.780379  0.871322  ...  0.726786   \n",
       "t                 -0.196929  0.717773  0.468739  1.000000  ...  0.664990   \n",
       "lOCode            -0.266412  0.614364  0.511707  0.664990  ...  1.000000   \n",
       "lOComment         -0.289062  0.614590  0.645486  0.683293  ...  0.549449   \n",
       "lOBlank           -0.331775  0.642382  0.580700  0.591581  ...  0.693612   \n",
       "locCodeAndComment  0.398689 -0.057531 -0.060712 -0.015676  ... -0.015025   \n",
       "uniq_Op           -0.629990  0.884115  0.649853  0.656657  ...  0.632740   \n",
       "uniq_Opnd         -0.402986  0.697731  0.914101  0.715288  ...  0.678222   \n",
       "total_Op          -0.397856  0.840947  0.809787  0.842162  ...  0.718539   \n",
       "total_Opnd        -0.392290  0.834040  0.802842  0.839142  ...  0.733581   \n",
       "branchCount       -0.358672  0.773032  0.699037  0.825467  ...  0.737888   \n",
       "defects           -0.132567  0.168173  0.267764  0.097784  ...  0.063000   \n",
       "\n",
       "                   lOComment   lOBlank  locCodeAndComment   uniq_Op  \\\n",
       "loc                 0.862704  0.679942          -0.040300  0.803036   \n",
       "v(g)                0.795747  0.666712          -0.029726  0.801255   \n",
       "ev(g)               0.682972  0.568783          -0.020170  0.649567   \n",
       "iv(g)               0.739883  0.647548          -0.024960  0.755188   \n",
       "n                   0.794619  0.731518          -0.038936  0.837047   \n",
       "v                   0.813944  0.721394          -0.032055  0.808148   \n",
       "l                  -0.289062 -0.331775           0.398689 -0.629990   \n",
       "d                   0.614590  0.642382          -0.057531  0.884115   \n",
       "i                   0.645486  0.580700          -0.060712  0.649853   \n",
       "e                   0.683293  0.591581          -0.015676  0.656657   \n",
       "b                   0.807475  0.714450           0.095367  0.792996   \n",
       "t                   0.683293  0.591581          -0.015667  0.656657   \n",
       "lOCode              0.549449  0.693612          -0.015025  0.632740   \n",
       "lOComment           1.000000  0.609803          -0.024781  0.689660   \n",
       "lOBlank             0.609803  1.000000          -0.029773  0.686980   \n",
       "locCodeAndComment  -0.024781 -0.029773           1.000000 -0.088173   \n",
       "uniq_Op             0.689660  0.686980          -0.088173  1.000000   \n",
       "uniq_Opnd           0.816564  0.704932          -0.043217  0.812307   \n",
       "total_Op            0.795034  0.726415          -0.038992  0.842038   \n",
       "total_Opnd          0.786305  0.732367          -0.037738  0.821177   \n",
       "branchCount         0.802225  0.665335          -0.032327  0.799938   \n",
       "defects             0.301556  0.173542           0.047509  0.249264   \n",
       "\n",
       "                   uniq_Opnd  total_Op  total_Opnd  branchCount   defects  \n",
       "loc                 0.943241  0.941778    0.929347     0.940823  0.246467  \n",
       "v(g)                0.860150  0.910242    0.894691     0.991826  0.166761  \n",
       "ev(g)               0.710749  0.775750    0.753672     0.829226  0.105047  \n",
       "iv(g)               0.857157  0.873645    0.856111     0.911202  0.202645  \n",
       "n                   0.947383  0.997563    0.994124     0.912958  0.214049  \n",
       "v                   0.948709  0.990824    0.987568     0.920633  0.206623  \n",
       "l                  -0.402986 -0.397856   -0.392290    -0.358672 -0.132567  \n",
       "d                   0.697731  0.840947    0.834040     0.773032  0.168173  \n",
       "i                   0.914101  0.809787    0.802842     0.699037  0.267764  \n",
       "e                   0.715288  0.842162    0.839142     0.825467  0.097784  \n",
       "b                   0.938821  0.981453    0.978368     0.912537  0.215214  \n",
       "t                   0.715288  0.842161    0.839142     0.825467  0.097785  \n",
       "lOCode              0.678222  0.718539    0.733581     0.737888  0.063000  \n",
       "lOComment           0.816564  0.795034    0.786305     0.802225  0.301556  \n",
       "lOBlank             0.704932  0.726415    0.732367     0.665335  0.173542  \n",
       "locCodeAndComment  -0.043217 -0.038992   -0.037738    -0.032327  0.047509  \n",
       "uniq_Op             0.812307  0.842038    0.821177     0.799938  0.249264  \n",
       "uniq_Opnd           1.000000  0.943385    0.944432     0.874637  0.261552  \n",
       "total_Op            0.943385  1.000000    0.984148     0.914498  0.214082  \n",
       "total_Opnd          0.944432  0.984148    1.000000     0.901754  0.211999  \n",
       "branchCount         0.874637  0.914498    0.901754     1.000000  0.169671  \n",
       "defects             0.261552  0.214082    0.211999     0.169671  1.000000  \n",
       "\n",
       "[22 rows x 22 columns]"
      ]
     },
     "execution_count": 15,
     "metadata": {},
     "output_type": "execute_result"
    }
   ],
   "source": [
    "data.corr()"
   ]
  },
  {
   "cell_type": "code",
   "execution_count": 16,
   "id": "37981d8d",
   "metadata": {
    "execution": {
     "iopub.execute_input": "2022-12-20T18:43:53.774086Z",
     "iopub.status.busy": "2022-12-20T18:43:53.773713Z",
     "iopub.status.idle": "2022-12-20T18:43:56.118714Z",
     "shell.execute_reply": "2022-12-20T18:43:56.117734Z"
    },
    "papermill": {
     "duration": 2.370898,
     "end_time": "2022-12-20T18:43:56.123475",
     "exception": false,
     "start_time": "2022-12-20T18:43:53.752577",
     "status": "completed"
    },
    "tags": []
   },
   "outputs": [
    {
     "data": {
      "image/png": "[encoded data removed]",
      "text/plain": [
       "<Figure size 1080x1080 with 2 Axes>"
      ]
     },
     "metadata": {
      "needs_background": "light"
     },
     "output_type": "display_data"
    }
   ],
   "source": [
    "f,ax = plt.subplots(figsize = (15, 15))\n",
    "sns.heatmap(data.corr(), annot = True, linewidths = .5, fmt = '.2f')\n",
    "plt.show()"
   ]
  },
  {
   "cell_type": "code",
   "execution_count": 17,
   "id": "92ed1661",
   "metadata": {
    "execution": {
     "iopub.execute_input": "2022-12-20T18:43:56.173247Z",
     "iopub.status.busy": "2022-12-20T18:43:56.172193Z",
     "iopub.status.idle": "2022-12-20T18:43:56.218626Z",
     "shell.execute_reply": "2022-12-20T18:43:56.217648Z"
    },
    "papermill": {
     "duration": 0.075187,
     "end_time": "2022-12-20T18:43:56.222252",
     "exception": false,
     "start_time": "2022-12-20T18:43:56.147065",
     "status": "completed"
    },
    "tags": []
   },
   "outputs": [
    {
     "data": {
      "application/vnd.plotly.v1+json": {
       "config": {
        "linkText": "Export to plot.ly",
        "plotlyServerURL": "https://plot.ly",
        "showLink": false
       },
       "data": [
        {
         "marker": {
          "color": "darkblue"
         },
         "mode": "markers",
         "name": "Volume - Bug",
         "text": "Bug (b)",
         "type": "scatter",
         "x": [
          1.3,
          1.0,
          309.13,
          215.49,
          346.13,
          346.13,
          34.87,
          94.01,
          548.83,
          1362.41,
          856.15,
          143.06,
          770.38,
          474.97,
          1303.73,
          655.13,
          271.03,
          55.51,
          745.68,
          55.51,
          105.49,
          48.43,
          110.41,
          170.97,
          215.22,
          39.0,
          19.65,
          370.17,
          3327.01,
          5580.79,
          185.47,
          15345.64,
          1948.67,
          2653.0,
          351.75,
          540.0,
          260.0,
          295.0,
          686.95,
          684.05,
          381.56,
          707.02,
          625.77,
          1075.51,
          2002.42,
          1653.06,
          181.32,
          428.6,
          30.88,
          1626.95,
          5334.7,
          391.73,
          1284.0,
          985.76,
          236.84,
          158.12,
          475.0,
          39.86,
          535.29,
          1047.94,
          809.39,
          310.34,
          310.34,
          97.67,
          57.36,
          569.35,
          459.04,
          1311.63,
          937.19,
          498.55,
          3124.36,
          911.39,
          260.06,
          2164.46,
          125.02,
          358.2,
          142.62,
          174.17,
          192.57,
          521.73,
          604.1,
          28.07,
          494.94,
          27.0,
          134.89,
          183.48,
          140.65,
          22.46,
          511.82,
          97.67,
          365.32,
          46.51,
          82.45,
          745.68,
          34.87,
          618.27,
          27.0,
          30.0,
          33.22,
          285.29,
          289.51,
          293.44,
          5103.0,
          630.73,
          771.67,
          1299.55,
          252.01,
          252.01,
          1125.09,
          69.74,
          36.54,
          30.88,
          2692.19,
          5664.24,
          551.83,
          312.75,
          282.39,
          298.06,
          5143.61,
          3131.59,
          100.08,
          4697.07,
          110.41,
          372.23,
          452.78,
          851.67,
          3442.98,
          1980.76,
          15.51,
          15.51,
          892.43,
          15.51,
          75.28,
          92.51,
          92.51,
          1472.15,
          852.22,
          19.65,
          288.85,
          5575.99,
          22.46,
          353.11,
          179.72,
          298.21,
          44.97,
          151.24,
          151.24,
          744.63,
          300.0,
          525.0,
          43.19,
          185.75,
          1738.63,
          11.61,
          62.27,
          110.41,
          92.51,
          2746.2,
          4677.38,
          15.51,
          15.51,
          1573.33,
          8.0,
          11.61,
          19.65,
          27.0,
          73.08,
          396.41,
          221.65,
          919.26,
          360.0,
          144.95,
          1316.03,
          22.46,
          328.76,
          456.57,
          88.81,
          39.0,
          284.61,
          39.86,
          116.0,
          8.0,
          74.01,
          31.7,
          421.97,
          508.75,
          366.41,
          675.0,
          2643.35,
          369.21,
          1005.29,
          28.53,
          341.84,
          18.09,
          105.49,
          48.43,
          110.41,
          170.97,
          215.22,
          39.0,
          19.65,
          1149.16,
          11.61,
          591.46,
          11.61,
          591.46,
          2609.12,
          11.61,
          11.61,
          516.99,
          15.51,
          2490.74,
          734.53,
          503.61,
          666.05,
          801.91,
          121.01,
          759.68,
          206.32,
          206.32,
          11.61,
          266.27,
          526.35,
          809.46,
          34.87,
          1810.2,
          102.19,
          102.19,
          102.19,
          102.19,
          102.19,
          102.19,
          102.19,
          130.8,
          207.45,
          484.48,
          104.0,
          110.36,
          185.84,
          147.15,
          3428.87,
          5588.41,
          216.1,
          1619.65,
          916.14,
          472.09,
          92.0,
          51.81,
          53.3,
          162.63,
          143.06,
          474.06,
          167.37,
          3289.76,
          912.7,
          5767.59,
          2220.21,
          76.0,
          146.95,
          507.8,
          707.82,
          114.45,
          264.4,
          239.72,
          215.49,
          1626.88,
          178.38,
          173.92,
          340.0,
          70.31,
          294.8,
          11.61,
          124.0,
          4887.38,
          3695.31,
          1092.77,
          2739.78,
          454.54,
          162.52,
          718.97,
          337.6,
          11.61,
          2312.59,
          2312.59,
          2272.66,
          2272.66,
          620.39,
          620.39,
          671.25,
          671.25,
          2183.89,
          3190.77,
          1299.55,
          1905.86,
          1252.14,
          602.54,
          1453.01,
          1758.75,
          355.74,
          480.56,
          5219.89,
          75.28,
          2203.49,
          744.63,
          364.66,
          19.65,
          218.72,
          768.92,
          2414.97,
          1130.3,
          18.09,
          567.78,
          103.73,
          366.61,
          34.87,
          36.54,
          36.54,
          36.54,
          261.33,
          87.57,
          155.42,
          68.53,
          33.22,
          191.82,
          178.41,
          171.3,
          27.0,
          886.6,
          138.97,
          294.8,
          122.62,
          101.58,
          147.15,
          2263.14,
          466.76,
          84.0,
          525.14,
          19.65,
          187.65,
          185.84,
          232.79,
          731.56,
          43.19,
          1005.29,
          360.0,
          3670.05,
          1114.08,
          188.87,
          196.0,
          102.8,
          888.01,
          1138.69,
          1627.38,
          552.36,
          17124.28,
          1061.18,
          109.39,
          2602.9,
          4031.99,
          347.83,
          1282.9,
          8593.51,
          505.41,
          267.19,
          1571.12,
          3343.21,
          427.18,
          773.25,
          842.16,
          1633.09,
          1655.41,
          3559.65,
          3235.94,
          48.43,
          106.2,
          11.61,
          16.25,
          249.98,
          48.43,
          108.42,
          313.82,
          11.61,
          16.25,
          64.73,
          59.21,
          183.4,
          84.0,
          84.0,
          629.75,
          43.19,
          85.95,
          79.95,
          112.59,
          43.19,
          85.95,
          79.95,
          112.59,
          0.0,
          0.0,
          0.0,
          11.61,
          51.89,
          408.66,
          11.61,
          47.55,
          105.49,
          171.3,
          215.49,
          835.34,
          277.33,
          863.23,
          125.34,
          121.01,
          142.7,
          492.41,
          492.41,
          240.44,
          377.85,
          380.55,
          531.77,
          1113.43,
          310.91,
          91.38,
          733.36,
          640.3,
          757.88,
          1310.28,
          508.75,
          366.41,
          675.0,
          104.25,
          70.31,
          955.03,
          71.7,
          2982.34,
          1207.79,
          380.39,
          24.0,
          169.92,
          1335.73,
          360.55,
          39.86,
          105.49,
          48.43,
          110.41,
          170.97,
          215.22,
          39.0,
          19.65,
          227.43,
          829.45,
          641.73,
          1251.39,
          385.5,
          989.84,
          6234.84,
          1746.31,
          4996.93,
          9135.35,
          159.91,
          159.91,
          4185.91,
          557.19,
          3740.26,
          745.8,
          5081.36,
          12749.77,
          3817.28,
          4282.56,
          1227.81,
          1318.43,
          1341.48,
          1038.71,
          835.29,
          164.23,
          1993.0,
          575.06,
          440.83,
          2318.71,
          561.08,
          2603.24,
          648.26,
          2274.9,
          574.11,
          3366.16,
          122.62,
          439.44,
          297.25,
          439.53,
          330.88,
          103.73,
          971.26,
          4176.06,
          1563.78,
          587.63,
          3155.83,
          150.41,
          564.33
         ],
         "y": [
          1.3,
          1.0,
          0.1,
          0.07,
          0.12,
          0.12,
          0.01,
          0.03,
          0.18,
          0.45,
          0.29,
          0.05,
          0.26,
          0.16,
          0.43,
          0.22,
          0.09,
          0.02,
          0.25,
          0.02,
          0.04,
          0.02,
          0.04,
          0.06,
          0.07,
          0.01,
          0.01,
          0.12,
          1.11,
          1.86,
          0.06,
          5.12,
          0.65,
          0.88,
          0.12,
          0.18,
          0.09,
          0.1,
          0.23,
          0.23,
          0.13,
          0.24,
          0.21,
          0.36,
          0.67,
          0.55,
          0.06,
          0.14,
          0.01,
          0.54,
          1.78,
          0.13,
          0.43,
          0.33,
          0.08,
          0.05,
          0.16,
          0.01,
          0.18,
          0.35,
          0.27,
          0.1,
          0.1,
          0.03,
          0.02,
          0.19,
          0.15,
          0.44,
          0.31,
          0.17,
          1.04,
          0.3,
          0.09,
          0.72,
          0.04,
          0.12,
          0.05,
          0.06,
          0.06,
          0.17,
          0.2,
          0.01,
          0.16,
          0.01,
          0.04,
          0.06,
          0.05,
          0.01,
          0.17,
          0.03,
          0.12,
          0.02,
          0.03,
          0.25,
          0.01,
          0.21,
          0.01,
          0.01,
          0.01,
          0.1,
          0.1,
          0.1,
          1.7,
          0.21,
          0.26,
          0.43,
          0.08,
          0.08,
          0.38,
          0.02,
          0.01,
          0.01,
          0.9,
          1.89,
          0.18,
          0.1,
          0.09,
          0.1,
          1.71,
          1.04,
          0.03,
          1.57,
          0.04,
          0.12,
          0.15,
          0.28,
          1.15,
          0.66,
          0.01,
          0.01,
          0.3,
          0.01,
          0.03,
          0.03,
          0.03,
          0.49,
          0.28,
          0.01,
          0.1,
          1.86,
          0.01,
          0.12,
          0.06,
          0.1,
          0.01,
          0.05,
          0.05,
          0.25,
          0.1,
          0.18,
          0.01,
          0.06,
          0.58,
          0.0,
          0.02,
          0.04,
          0.03,
          0.92,
          1.56,
          0.01,
          0.01,
          0.52,
          0.0,
          0.0,
          0.01,
          0.01,
          0.02,
          0.13,
          0.07,
          0.31,
          0.12,
          0.05,
          0.44,
          0.01,
          0.11,
          0.15,
          0.03,
          0.01,
          0.09,
          0.01,
          0.04,
          0.0,
          0.02,
          0.01,
          0.14,
          0.17,
          0.12,
          0.23,
          0.88,
          0.12,
          0.34,
          0.01,
          0.11,
          0.01,
          0.04,
          0.02,
          0.04,
          0.06,
          0.07,
          0.01,
          0.01,
          0.38,
          0.0,
          0.2,
          0.0,
          0.2,
          0.87,
          0.0,
          0.0,
          0.17,
          0.01,
          0.83,
          0.24,
          0.17,
          0.22,
          0.27,
          0.04,
          0.25,
          0.07,
          0.07,
          0.0,
          0.09,
          0.18,
          0.27,
          0.01,
          0.6,
          0.03,
          0.03,
          0.03,
          0.03,
          0.03,
          0.03,
          0.03,
          0.04,
          0.07,
          0.16,
          0.03,
          0.04,
          0.06,
          0.05,
          1.14,
          1.86,
          0.07,
          0.54,
          0.31,
          0.16,
          0.03,
          0.02,
          0.02,
          0.05,
          0.05,
          0.16,
          0.06,
          1.1,
          0.3,
          1.92,
          0.74,
          0.03,
          0.05,
          0.17,
          0.24,
          0.04,
          0.09,
          0.08,
          0.07,
          0.54,
          0.06,
          0.06,
          0.11,
          0.02,
          0.1,
          0.0,
          0.04,
          1.63,
          1.23,
          0.36,
          0.91,
          0.15,
          0.05,
          0.24,
          0.11,
          0.0,
          0.77,
          0.77,
          0.76,
          0.76,
          0.21,
          0.21,
          0.22,
          0.22,
          0.73,
          1.06,
          0.43,
          0.64,
          0.42,
          0.2,
          0.48,
          0.59,
          0.12,
          0.16,
          1.74,
          0.03,
          0.73,
          0.25,
          0.12,
          0.01,
          0.07,
          0.26,
          0.8,
          0.38,
          0.01,
          0.19,
          0.03,
          0.12,
          0.01,
          0.01,
          0.01,
          0.01,
          0.09,
          0.03,
          0.05,
          0.02,
          0.01,
          0.06,
          0.06,
          0.06,
          0.01,
          0.3,
          0.05,
          0.1,
          0.04,
          0.03,
          0.05,
          0.75,
          0.16,
          0.03,
          0.18,
          0.01,
          0.06,
          0.06,
          0.08,
          0.24,
          0.01,
          0.34,
          0.12,
          1.22,
          0.37,
          0.06,
          0.07,
          0.03,
          0.3,
          0.38,
          0.54,
          0.18,
          5.71,
          0.35,
          0.04,
          0.87,
          1.34,
          0.12,
          0.43,
          2.86,
          0.17,
          0.09,
          0.52,
          1.11,
          0.14,
          0.26,
          0.28,
          0.54,
          0.55,
          1.19,
          1.08,
          0.02,
          0.04,
          0.0,
          0.01,
          0.08,
          0.02,
          0.04,
          0.1,
          0.0,
          0.01,
          0.02,
          0.02,
          0.06,
          0.03,
          0.03,
          0.21,
          0.01,
          0.03,
          0.03,
          0.04,
          0.01,
          0.03,
          0.03,
          0.04,
          0.0,
          0.0,
          0.0,
          0.0,
          0.02,
          0.14,
          0.0,
          0.02,
          0.04,
          0.06,
          0.07,
          0.28,
          0.09,
          0.29,
          0.04,
          0.04,
          0.05,
          0.16,
          0.16,
          0.08,
          0.13,
          0.13,
          0.18,
          0.37,
          0.1,
          0.03,
          0.24,
          0.21,
          0.25,
          0.44,
          0.17,
          0.12,
          0.23,
          0.03,
          0.02,
          0.32,
          0.02,
          0.99,
          0.4,
          0.13,
          0.01,
          0.06,
          0.45,
          0.12,
          0.01,
          0.04,
          0.02,
          0.04,
          0.06,
          0.07,
          0.01,
          0.01,
          0.08,
          0.28,
          0.21,
          0.42,
          0.13,
          0.33,
          2.08,
          0.58,
          1.67,
          3.05,
          0.05,
          0.05,
          1.4,
          0.19,
          1.25,
          0.25,
          1.69,
          4.25,
          1.27,
          1.43,
          0.41,
          0.44,
          0.45,
          0.35,
          0.28,
          0.05,
          0.66,
          0.19,
          0.15,
          0.77,
          0.19,
          0.87,
          0.22,
          0.76,
          0.19,
          1.12,
          0.04,
          0.15,
          0.1,
          0.15,
          0.11,
          0.03,
          0.32,
          1.39,
          0.52,
          0.2,
          1.05,
          0.05,
          0.19
         ]
        }
       ],
       "layout": {
        "template": {
         "data": {
          "bar": [
           {
            "error_x": {
             "color": "#2a3f5f"
            },
            "error_y": {
             "color": "#2a3f5f"
            },
            "marker": {
             "line": {
              "color": "#E5ECF6",
              "width": 0.5
             },
             "pattern": {
              "fillmode": "overlay",
              "size": 10,
              "solidity": 0.2
             }
            },
            "type": "bar"
           }
          ],
          "barpolar": [
           {
            "marker": {
             "line": {
              "color": "#E5ECF6",
              "width": 0.5
             },
             "pattern": {
              "fillmode": "overlay",
              "size": 10,
              "solidity": 0.2
             }
            },
            "type": "barpolar"
           }
          ],
          "carpet": [
           {
            "aaxis": {
             "endlinecolor": "#2a3f5f",
             "gridcolor": "white",
             "linecolor": "white",
             "minorgridcolor": "white",
             "startlinecolor": "#2a3f5f"
            },
            "baxis": {
             "endlinecolor": "#2a3f5f",
             "gridcolor": "white",
             "linecolor": "white",
             "minorgridcolor": "white",
             "startlinecolor": "#2a3f5f"
            },
            "type": "carpet"
           }
          ],
          "choropleth": [
           {
            "colorbar": {
             "outlinewidth": 0,
             "ticks": ""
            },
            "type": "choropleth"
           }
          ],
          "contour": [
           {
            "colorbar": {
             "outlinewidth": 0,
             "ticks": ""
            },
            "colorscale": [
             [
              0.0,
              "#0d0887"
             ],
             [
              0.1111111111111111,
              "#46039f"
             ],
             [
              0.2222222222222222,
              "#7201a8"
             ],
             [
              0.3333333333333333,
              "#9c179e"
             ],
             [
              0.4444444444444444,
              "#bd3786"
             ],
             [
              0.5555555555555556,
              "#d8576b"
             ],
             [
              0.6666666666666666,
              "#ed7953"
             ],
             [
              0.7777777777777778,
              "#fb9f3a"
             ],
             [
              0.8888888888888888,
              "#fdca26"
             ],
             [
              1.0,
              "#f0f921"
             ]
            ],
            "type": "contour"
           }
          ],
          "contourcarpet": [
           {
            "colorbar": {
             "outlinewidth": 0,
             "ticks": ""
            },
            "type": "contourcarpet"
           }
          ],
          "heatmap": [
           {
            "colorbar": {
             "outlinewidth": 0,
             "ticks": ""
            },
            "colorscale": [
             [
              0.0,
              "#0d0887"
             ],
             [
              0.1111111111111111,
              "#46039f"
             ],
             [
              0.2222222222222222,
              "#7201a8"
             ],
             [
              0.3333333333333333,
              "#9c179e"
             ],
             [
              0.4444444444444444,
              "#bd3786"
             ],
             [
              0.5555555555555556,
              "#d8576b"
             ],
             [
              0.6666666666666666,
              "#ed7953"
             ],
             [
              0.7777777777777778,
              "#fb9f3a"
             ],
             [
              0.8888888888888888,
              "#fdca26"
             ],
             [
              1.0,
              "#f0f921"
             ]
            ],
            "type": "heatmap"
           }
          ],
          "heatmapgl": [
           {
            "colorbar": {
             "outlinewidth": 0,
             "ticks": ""
            },
            "colorscale": [
             [
              0.0,
              "#0d0887"
             ],
             [
              0.1111111111111111,
              "#46039f"
             ],
             [
              0.2222222222222222,
              "#7201a8"
             ],
             [
              0.3333333333333333,
              "#9c179e"
             ],
             [
              0.4444444444444444,
              "#bd3786"
             ],
             [
              0.5555555555555556,
              "#d8576b"
             ],
             [
              0.6666666666666666,
              "#ed7953"
             ],
             [
              0.7777777777777778,
              "#fb9f3a"
             ],
             [
              0.8888888888888888,
              "#fdca26"
             ],
             [
              1.0,
              "#f0f921"
             ]
            ],
            "type": "heatmapgl"
           }
          ],
          "histogram": [
           {
            "marker": {
             "pattern": {
              "fillmode": "overlay",
              "size": 10,
              "solidity": 0.2
             }
            },
            "type": "histogram"
           }
          ],
          "histogram2d": [
           {
            "colorbar": {
             "outlinewidth": 0,
             "ticks": ""
            },
            "colorscale": [
             [
              0.0,
              "#0d0887"
             ],
             [
              0.1111111111111111,
              "#46039f"
             ],
             [
              0.2222222222222222,
              "#7201a8"
             ],
             [
              0.3333333333333333,
              "#9c179e"
             ],
             [
              0.4444444444444444,
              "#bd3786"
             ],
             [
              0.5555555555555556,
              "#d8576b"
             ],
             [
              0.6666666666666666,
              "#ed7953"
             ],
             [
              0.7777777777777778,
              "#fb9f3a"
             ],
             [
              0.8888888888888888,
              "#fdca26"
             ],
             [
              1.0,
              "#f0f921"
             ]
            ],
            "type": "histogram2d"
           }
          ],
          "histogram2dcontour": [
           {
            "colorbar": {
             "outlinewidth": 0,
             "ticks": ""
            },
            "colorscale": [
             [
              0.0,
              "#0d0887"
             ],
             [
              0.1111111111111111,
              "#46039f"
             ],
             [
              0.2222222222222222,
              "#7201a8"
             ],
             [
              0.3333333333333333,
              "#9c179e"
             ],
             [
              0.4444444444444444,
              "#bd3786"
             ],
             [
              0.5555555555555556,
              "#d8576b"
             ],
             [
              0.6666666666666666,
              "#ed7953"
             ],
             [
              0.7777777777777778,
              "#fb9f3a"
             ],
             [
              0.8888888888888888,
              "#fdca26"
             ],
             [
              1.0,
              "#f0f921"
             ]
            ],
            "type": "histogram2dcontour"
           }
          ],
          "mesh3d": [
           {
            "colorbar": {
             "outlinewidth": 0,
             "ticks": ""
            },
            "type": "mesh3d"
           }
          ],
          "parcoords": [
           {
            "line": {
             "colorbar": {
              "outlinewidth": 0,
              "ticks": ""
             }
            },
            "type": "parcoords"
           }
          ],
          "pie": [
           {
            "automargin": true,
            "type": "pie"
           }
          ],
          "scatter": [
           {
            "fillpattern": {
             "fillmode": "overlay",
             "size": 10,
             "solidity": 0.2
            },
            "type": "scatter"
           }
          ],
          "scatter3d": [
           {
            "line": {
             "colorbar": {
              "outlinewidth": 0,
              "ticks": ""
             }
            },
            "marker": {
             "colorbar": {
              "outlinewidth": 0,
              "ticks": ""
             }
            },
            "type": "scatter3d"
           }
          ],
          "scattercarpet": [
           {
            "marker": {
             "colorbar": {
              "outlinewidth": 0,
              "ticks": ""
             }
            },
            "type": "scattercarpet"
           }
          ],
          "scattergeo": [
           {
            "marker": {
             "colorbar": {
              "outlinewidth": 0,
              "ticks": ""
             }
            },
            "type": "scattergeo"
           }
          ],
          "scattergl": [
           {
            "marker": {
             "colorbar": {
              "outlinewidth": 0,
              "ticks": ""
             }
            },
            "type": "scattergl"
           }
          ],
          "scattermapbox": [
           {
            "marker": {
             "colorbar": {
              "outlinewidth": 0,
              "ticks": ""
             }
            },
            "type": "scattermapbox"
           }
          ],
          "scatterpolar": [
           {
            "marker": {
             "colorbar": {
              "outlinewidth": 0,
              "ticks": ""
             }
            },
            "type": "scatterpolar"
           }
          ],
          "scatterpolargl": [
           {
            "marker": {
             "colorbar": {
              "outlinewidth": 0,
              "ticks": ""
             }
            },
            "type": "scatterpolargl"
           }
          ],
          "scatterternary": [
           {
            "marker": {
             "colorbar": {
              "outlinewidth": 0,
              "ticks": ""
             }
            },
            "type": "scatterternary"
           }
          ],
          "surface": [
           {
            "colorbar": {
             "outlinewidth": 0,
             "ticks": ""
            },
            "colorscale": [
             [
              0.0,
              "#0d0887"
             ],
             [
              0.1111111111111111,
              "#46039f"
             ],
             [
              0.2222222222222222,
              "#7201a8"
             ],
             [
              0.3333333333333333,
              "#9c179e"
             ],
             [
              0.4444444444444444,
              "#bd3786"
             ],
             [
              0.5555555555555556,
              "#d8576b"
             ],
             [
              0.6666666666666666,
              "#ed7953"
             ],
             [
              0.7777777777777778,
              "#fb9f3a"
             ],
             [
              0.8888888888888888,
              "#fdca26"
             ],
             [
              1.0,
              "#f0f921"
             ]
            ],
            "type": "surface"
           }
          ],
          "table": [
           {
            "cells": {
             "fill": {
              "color": "#EBF0F8"
             },
             "line": {
              "color": "white"
             }
            },
            "header": {
             "fill": {
              "color": "#C8D4E3"
             },
             "line": {
              "color": "white"
             }
            },
            "type": "table"
           }
          ]
         },
         "layout": {
          "annotationdefaults": {
           "arrowcolor": "#2a3f5f",
           "arrowhead": 0,
           "arrowwidth": 1
          },
          "autotypenumbers": "strict",
          "coloraxis": {
           "colorbar": {
            "outlinewidth": 0,
            "ticks": ""
           }
          },
          "colorscale": {
           "diverging": [
            [
             0,
             "#8e0152"
            ],
            [
             0.1,
             "#c51b7d"
            ],
            [
             0.2,
             "#de77ae"
            ],
            [
             0.3,
             "#f1b6da"
            ],
            [
             0.4,
             "#fde0ef"
            ],
            [
             0.5,
             "#f7f7f7"
            ],
            [
             0.6,
             "#e6f5d0"
            ],
            [
             0.7,
             "#b8e186"
            ],
            [
             0.8,
             "#7fbc41"
            ],
            [
             0.9,
             "#4d9221"
            ],
            [
             1,
             "#276419"
            ]
           ],
           "sequential": [
            [
             0.0,
             "#0d0887"
            ],
            [
             0.1111111111111111,
             "#46039f"
            ],
            [
             0.2222222222222222,
             "#7201a8"
            ],
            [
             0.3333333333333333,
             "#9c179e"
            ],
            [
             0.4444444444444444,
             "#bd3786"
            ],
            [
             0.5555555555555556,
             "#d8576b"
            ],
            [
             0.6666666666666666,
             "#ed7953"
            ],
            [
             0.7777777777777778,
             "#fb9f3a"
            ],
            [
             0.8888888888888888,
             "#fdca26"
            ],
            [
             1.0,
             "#f0f921"
            ]
           ],
           "sequentialminus": [
            [
             0.0,
             "#0d0887"
            ],
            [
             0.1111111111111111,
             "#46039f"
            ],
            [
             0.2222222222222222,
             "#7201a8"
            ],
            [
             0.3333333333333333,
             "#9c179e"
            ],
            [
             0.4444444444444444,
             "#bd3786"
            ],
            [
             0.5555555555555556,
             "#d8576b"
            ],
            [
             0.6666666666666666,
             "#ed7953"
            ],
            [
             0.7777777777777778,
             "#fb9f3a"
            ],
            [
             0.8888888888888888,
             "#fdca26"
            ],
            [
             1.0,
             "#f0f921"
            ]
           ]
          },
          "colorway": [
           "#636efa",
           "#EF553B",
           "#00cc96",
           "#ab63fa",
           "#FFA15A",
           "#19d3f3",
           "#FF6692",
           "#B6E880",
           "#FF97FF",
           "#FECB52"
          ],
          "font": {
           "color": "#2a3f5f"
          },
          "geo": {
           "bgcolor": "white",
           "lakecolor": "white",
           "landcolor": "#E5ECF6",
           "showlakes": true,
           "showland": true,
           "subunitcolor": "white"
          },
          "hoverlabel": {
           "align": "left"
          },
          "hovermode": "closest",
          "mapbox": {
           "style": "light"
          },
          "paper_bgcolor": "white",
          "plot_bgcolor": "#E5ECF6",
          "polar": {
           "angularaxis": {
            "gridcolor": "white",
            "linecolor": "white",
            "ticks": ""
           },
           "bgcolor": "#E5ECF6",
           "radialaxis": {
            "gridcolor": "white",
            "linecolor": "white",
            "ticks": ""
           }
          },
          "scene": {
           "xaxis": {
            "backgroundcolor": "#E5ECF6",
            "gridcolor": "white",
            "gridwidth": 2,
            "linecolor": "white",
            "showbackground": true,
            "ticks": "",
            "zerolinecolor": "white"
           },
           "yaxis": {
            "backgroundcolor": "#E5ECF6",
            "gridcolor": "white",
            "gridwidth": 2,
            "linecolor": "white",
            "showbackground": true,
            "ticks": "",
            "zerolinecolor": "white"
           },
           "zaxis": {
            "backgroundcolor": "#E5ECF6",
            "gridcolor": "white",
            "gridwidth": 2,
            "linecolor": "white",
            "showbackground": true,
            "ticks": "",
            "zerolinecolor": "white"
           }
          },
          "shapedefaults": {
           "line": {
            "color": "#2a3f5f"
           }
          },
          "ternary": {
           "aaxis": {
            "gridcolor": "white",
            "linecolor": "white",
            "ticks": ""
           },
           "baxis": {
            "gridcolor": "white",
            "linecolor": "white",
            "ticks": ""
           },
           "bgcolor": "#E5ECF6",
           "caxis": {
            "gridcolor": "white",
            "linecolor": "white",
            "ticks": ""
           }
          },
          "title": {
           "x": 0.05
          },
          "xaxis": {
           "automargin": true,
           "gridcolor": "white",
           "linecolor": "white",
           "ticks": "",
           "title": {
            "standoff": 15
           },
           "zerolinecolor": "white",
           "zerolinewidth": 2
          },
          "yaxis": {
           "automargin": true,
           "gridcolor": "white",
           "linecolor": "white",
           "ticks": "",
           "title": {
            "standoff": 15
           },
           "zerolinecolor": "white",
           "zerolinewidth": 2
          }
         }
        },
        "title": {
         "text": "Volume - Bug"
        },
        "xaxis": {
         "ticklen": 5,
         "title": {
          "text": "Volume"
         }
        },
        "yaxis": {
         "ticklen": 5,
         "title": {
          "text": "Bug"
         }
        }
       }
      },
      "text/html": [
       "<div>                            <div id=\"b4d1d43f-bc5f-42ed-bdd8-0cd2205af713\" class=\"plotly-graph-div\" style=\"height:525px; width:100%;\"></div>            <script type=\"text/javascript\">                require([\"plotly\"], function(Plotly) {                    window.PLOTLYENV=window.PLOTLYENV || {};                                    if (document.getElementById(\"b4d1d43f-bc5f-42ed-bdd8-0cd2205af713\")) {                    Plotly.newPlot(                        \"b4d1d43f-bc5f-42ed-bdd8-0cd2205af713\",                        [{\"marker\":{\"color\":\"darkblue\"},\"mode\":\"markers\",\"name\":\"Volume - Bug\",\"text\":\"Bug (b)\",\"x\":[1.3,1.0,309.13,215.49,346.13,346.13,34.87,94.01,548.83,1362.41,856.15,143.06,770.38,474.97,1303.73,655.13,271.03,55.51,745.68,55.51,105.49,48.43,110.41,170.97,215.22,39.0,19.65,370.17,3327.01,5580.79,185.47,15345.64,1948.67,2653.0,351.75,540.0,260.0,295.0,686.95,684.05,381.56,707.02,625.77,1075.51,2002.42,1653.06,181.32,428.6,30.88,1626.95,5334.7,391.73,1284.0,985.76,236.84,158.12,475.0,39.86,535.29,1047.94,809.39,310.34,310.34,97.67,57.36,569.35,459.04,1311.63,937.19,498.55,3124.36,911.39,260.06,2164.46,125.02,358.2,142.62,174.17,192.57,521.73,604.1,28.07,494.94,27.0,134.89,183.48,140.65,22.46,511.82,97.67,365.32,46.51,82.45,745.68,34.87,618.27,27.0,30.0,33.22,285.29,289.51,293.44,5103.0,630.73,771.67,1299.55,252.01,252.01,1125.09,69.74,36.54,30.88,2692.19,5664.24,551.83,312.75,282.39,298.06,5143.61,3131.59,100.08,4697.07,110.41,372.23,452.78,851.67,3442.98,1980.76,15.51,15.51,892.43,15.51,75.28,92.51,92.51,1472.15,852.22,19.65,288.85,5575.99,22.46,353.11,179.72,298.21,44.97,151.24,151.24,744.63,300.0,525.0,43.19,185.75,1738.63,11.61,62.27,110.41,92.51,2746.2,4677.38,15.51,15.51,1573.33,8.0,11.61,19.65,27.0,73.08,396.41,221.65,919.26,360.0,144.95,1316.03,22.46,328.76,456.57,88.81,39.0,284.61,39.86,116.0,8.0,74.01,31.7,421.97,508.75,366.41,675.0,2643.35,369.21,1005.29,28.53,341.84,18.09,105.49,48.43,110.41,170.97,215.22,39.0,19.65,1149.16,11.61,591.46,11.61,591.46,2609.12,11.61,11.61,516.99,15.51,2490.74,734.53,503.61,666.05,801.91,121.01,759.68,206.32,206.32,11.61,266.27,526.35,809.46,34.87,1810.2,102.19,102.19,102.19,102.19,102.19,102.19,102.19,130.8,207.45,484.48,104.0,110.36,185.84,147.15,3428.87,5588.41,216.1,1619.65,916.14,472.09,92.0,51.81,53.3,162.63,143.06,474.06,167.37,3289.76,912.7,5767.59,2220.21,76.0,146.95,507.8,707.82,114.45,264.4,239.72,215.49,1626.88,178.38,173.92,340.0,70.31,294.8,11.61,124.0,4887.38,3695.31,1092.77,2739.78,454.54,162.52,718.97,337.6,11.61,2312.59,2312.59,2272.66,2272.66,620.39,620.39,671.25,671.25,2183.89,3190.77,1299.55,1905.86,1252.14,602.54,1453.01,1758.75,355.74,480.56,5219.89,75.28,2203.49,744.63,364.66,19.65,218.72,768.92,2414.97,1130.3,18.09,567.78,103.73,366.61,34.87,36.54,36.54,36.54,261.33,87.57,155.42,68.53,33.22,191.82,178.41,171.3,27.0,886.6,138.97,294.8,122.62,101.58,147.15,2263.14,466.76,84.0,525.14,19.65,187.65,185.84,232.79,731.56,43.19,1005.29,360.0,3670.05,1114.08,188.87,196.0,102.8,888.01,1138.69,1627.38,552.36,17124.28,1061.18,109.39,2602.9,4031.99,347.83,1282.9,8593.51,505.41,267.19,1571.12,3343.21,427.18,773.25,842.16,1633.09,1655.41,3559.65,3235.94,48.43,106.2,11.61,16.25,249.98,48.43,108.42,313.82,11.61,16.25,64.73,59.21,183.4,84.0,84.0,629.75,43.19,85.95,79.95,112.59,43.19,85.95,79.95,112.59,0.0,0.0,0.0,11.61,51.89,408.66,11.61,47.55,105.49,171.3,215.49,835.34,277.33,863.23,125.34,121.01,142.7,492.41,492.41,240.44,377.85,380.55,531.77,1113.43,310.91,91.38,733.36,640.3,757.88,1310.28,508.75,366.41,675.0,104.25,70.31,955.03,71.7,2982.34,1207.79,380.39,24.0,169.92,1335.73,360.55,39.86,105.49,48.43,110.41,170.97,215.22,39.0,19.65,227.43,829.45,641.73,1251.39,385.5,989.84,6234.84,1746.31,4996.93,9135.35,159.91,159.91,4185.91,557.19,3740.26,745.8,5081.36,12749.77,3817.28,4282.56,1227.81,1318.43,1341.48,1038.71,835.29,164.23,1993.0,575.06,440.83,2318.71,561.08,2603.24,648.26,2274.9,574.11,3366.16,122.62,439.44,297.25,439.53,330.88,103.73,971.26,4176.06,1563.78,587.63,3155.83,150.41,564.33],\"y\":[1.3,1.0,0.1,0.07,0.12,0.12,0.01,0.03,0.18,0.45,0.29,0.05,0.26,0.16,0.43,0.22,0.09,0.02,0.25,0.02,0.04,0.02,0.04,0.06,0.07,0.01,0.01,0.12,1.11,1.86,0.06,5.12,0.65,0.88,0.12,0.18,0.09,0.1,0.23,0.23,0.13,0.24,0.21,0.36,0.67,0.55,0.06,0.14,0.01,0.54,1.78,0.13,0.43,0.33,0.08,0.05,0.16,0.01,0.18,0.35,0.27,0.1,0.1,0.03,0.02,0.19,0.15,0.44,0.31,0.17,1.04,0.3,0.09,0.72,0.04,0.12,0.05,0.06,0.06,0.17,0.2,0.01,0.16,0.01,0.04,0.06,0.05,0.01,0.17,0.03,0.12,0.02,0.03,0.25,0.01,0.21,0.01,0.01,0.01,0.1,0.1,0.1,1.7,0.21,0.26,0.43,0.08,0.08,0.38,0.02,0.01,0.01,0.9,1.89,0.18,0.1,0.09,0.1,1.71,1.04,0.03,1.57,0.04,0.12,0.15,0.28,1.15,0.66,0.01,0.01,0.3,0.01,0.03,0.03,0.03,0.49,0.28,0.01,0.1,1.86,0.01,0.12,0.06,0.1,0.01,0.05,0.05,0.25,0.1,0.18,0.01,0.06,0.58,0.0,0.02,0.04,0.03,0.92,1.56,0.01,0.01,0.52,0.0,0.0,0.01,0.01,0.02,0.13,0.07,0.31,0.12,0.05,0.44,0.01,0.11,0.15,0.03,0.01,0.09,0.01,0.04,0.0,0.02,0.01,0.14,0.17,0.12,0.23,0.88,0.12,0.34,0.01,0.11,0.01,0.04,0.02,0.04,0.06,0.07,0.01,0.01,0.38,0.0,0.2,0.0,0.2,0.87,0.0,0.0,0.17,0.01,0.83,0.24,0.17,0.22,0.27,0.04,0.25,0.07,0.07,0.0,0.09,0.18,0.27,0.01,0.6,0.03,0.03,0.03,0.03,0.03,0.03,0.03,0.04,0.07,0.16,0.03,0.04,0.06,0.05,1.14,1.86,0.07,0.54,0.31,0.16,0.03,0.02,0.02,0.05,0.05,0.16,0.06,1.1,0.3,1.92,0.74,0.03,0.05,0.17,0.24,0.04,0.09,0.08,0.07,0.54,0.06,0.06,0.11,0.02,0.1,0.0,0.04,1.63,1.23,0.36,0.91,0.15,0.05,0.24,0.11,0.0,0.77,0.77,0.76,0.76,0.21,0.21,0.22,0.22,0.73,1.06,0.43,0.64,0.42,0.2,0.48,0.59,0.12,0.16,1.74,0.03,0.73,0.25,0.12,0.01,0.07,0.26,0.8,0.38,0.01,0.19,0.03,0.12,0.01,0.01,0.01,0.01,0.09,0.03,0.05,0.02,0.01,0.06,0.06,0.06,0.01,0.3,0.05,0.1,0.04,0.03,0.05,0.75,0.16,0.03,0.18,0.01,0.06,0.06,0.08,0.24,0.01,0.34,0.12,1.22,0.37,0.06,0.07,0.03,0.3,0.38,0.54,0.18,5.71,0.35,0.04,0.87,1.34,0.12,0.43,2.86,0.17,0.09,0.52,1.11,0.14,0.26,0.28,0.54,0.55,1.19,1.08,0.02,0.04,0.0,0.01,0.08,0.02,0.04,0.1,0.0,0.01,0.02,0.02,0.06,0.03,0.03,0.21,0.01,0.03,0.03,0.04,0.01,0.03,0.03,0.04,0.0,0.0,0.0,0.0,0.02,0.14,0.0,0.02,0.04,0.06,0.07,0.28,0.09,0.29,0.04,0.04,0.05,0.16,0.16,0.08,0.13,0.13,0.18,0.37,0.1,0.03,0.24,0.21,0.25,0.44,0.17,0.12,0.23,0.03,0.02,0.32,0.02,0.99,0.4,0.13,0.01,0.06,0.45,0.12,0.01,0.04,0.02,0.04,0.06,0.07,0.01,0.01,0.08,0.28,0.21,0.42,0.13,0.33,2.08,0.58,1.67,3.05,0.05,0.05,1.4,0.19,1.25,0.25,1.69,4.25,1.27,1.43,0.41,0.44,0.45,0.35,0.28,0.05,0.66,0.19,0.15,0.77,0.19,0.87,0.22,0.76,0.19,1.12,0.04,0.15,0.1,0.15,0.11,0.03,0.32,1.39,0.52,0.2,1.05,0.05,0.19],\"type\":\"scatter\"}],                        {\"template\":{\"data\":{\"barpolar\":[{\"marker\":{\"line\":{\"color\":\"#E5ECF6\",\"width\":0.5},\"pattern\":{\"fillmode\":\"overlay\",\"size\":10,\"solidity\":0.2}},\"type\":\"barpolar\"}],\"bar\":[{\"error_x\":{\"color\":\"#2a3f5f\"},\"error_y\":{\"color\":\"#2a3f5f\"},\"marker\":{\"line\":{\"color\":\"#E5ECF6\",\"width\":0.5},\"pattern\":{\"fillmode\":\"overlay\",\"size\":10,\"solidity\":0.2}},\"type\":\"bar\"}],\"carpet\":[{\"aaxis\":{\"endlinecolor\":\"#2a3f5f\",\"gridcolor\":\"white\",\"linecolor\":\"white\",\"minorgridcolor\":\"white\",\"startlinecolor\":\"#2a3f5f\"},\"baxis\":{\"endlinecolor\":\"#2a3f5f\",\"gridcolor\":\"white\",\"linecolor\":\"white\",\"minorgridcolor\":\"white\",\"startlinecolor\":\"#2a3f5f\"},\"type\":\"carpet\"}],\"choropleth\":[{\"colorbar\":{\"outlinewidth\":0,\"ticks\":\"\"},\"type\":\"choropleth\"}],\"contourcarpet\":[{\"colorbar\":{\"outlinewidth\":0,\"ticks\":\"\"},\"type\":\"contourcarpet\"}],\"contour\":[{\"colorbar\":{\"outlinewidth\":0,\"ticks\":\"\"},\"colorscale\":[[0.0,\"#0d0887\"],[0.1111111111111111,\"#46039f\"],[0.2222222222222222,\"#7201a8\"],[0.3333333333333333,\"#9c179e\"],[0.4444444444444444,\"#bd3786\"],[0.5555555555555556,\"#d8576b\"],[0.6666666666666666,\"#ed7953\"],[0.7777777777777778,\"#fb9f3a\"],[0.8888888888888888,\"#fdca26\"],[1.0,\"#f0f921\"]],\"type\":\"contour\"}],\"heatmapgl\":[{\"colorbar\":{\"outlinewidth\":0,\"ticks\":\"\"},\"colorscale\":[[0.0,\"#0d0887\"],[0.1111111111111111,\"#46039f\"],[0.2222222222222222,\"#7201a8\"],[0.3333333333333333,\"#9c179e\"],[0.4444444444444444,\"#bd3786\"],[0.5555555555555556,\"#d8576b\"],[0.6666666666666666,\"#ed7953\"],[0.7777777777777778,\"#fb9f3a\"],[0.8888888888888888,\"#fdca26\"],[1.0,\"#f0f921\"]],\"type\":\"heatmapgl\"}],\"heatmap\":[{\"colorbar\":{\"outlinewidth\":0,\"ticks\":\"\"},\"colorscale\":[[0.0,\"#0d0887\"],[0.1111111111111111,\"#46039f\"],[0.2222222222222222,\"#7201a8\"],[0.3333333333333333,\"#9c179e\"],[0.4444444444444444,\"#bd3786\"],[0.5555555555555556,\"#d8576b\"],[0.6666666666666666,\"#ed7953\"],[0.7777777777777778,\"#fb9f3a\"],[0.8888888888888888,\"#fdca26\"],[1.0,\"#f0f921\"]],\"type\":\"heatmap\"}],\"histogram2dcontour\":[{\"colorbar\":{\"outlinewidth\":0,\"ticks\":\"\"},\"colorscale\":[[0.0,\"#0d0887\"],[0.1111111111111111,\"#46039f\"],[0.2222222222222222,\"#7201a8\"],[0.3333333333333333,\"#9c179e\"],[0.4444444444444444,\"#bd3786\"],[0.5555555555555556,\"#d8576b\"],[0.6666666666666666,\"#ed7953\"],[0.7777777777777778,\"#fb9f3a\"],[0.8888888888888888,\"#fdca26\"],[1.0,\"#f0f921\"]],\"type\":\"histogram2dcontour\"}],\"histogram2d\":[{\"colorbar\":{\"outlinewidth\":0,\"ticks\":\"\"},\"colorscale\":[[0.0,\"#0d0887\"],[0.1111111111111111,\"#46039f\"],[0.2222222222222222,\"#7201a8\"],[0.3333333333333333,\"#9c179e\"],[0.4444444444444444,\"#bd3786\"],[0.5555555555555556,\"#d8576b\"],[0.6666666666666666,\"#ed7953\"],[0.7777777777777778,\"#fb9f3a\"],[0.8888888888888888,\"#fdca26\"],[1.0,\"#f0f921\"]],\"type\":\"histogram2d\"}],\"histogram\":[{\"marker\":{\"pattern\":{\"fillmode\":\"overlay\",\"size\":10,\"solidity\":0.2}},\"type\":\"histogram\"}],\"mesh3d\":[{\"colorbar\":{\"outlinewidth\":0,\"ticks\":\"\"},\"type\":\"mesh3d\"}],\"parcoords\":[{\"line\":{\"colorbar\":{\"outlinewidth\":0,\"ticks\":\"\"}},\"type\":\"parcoords\"}],\"pie\":[{\"automargin\":true,\"type\":\"pie\"}],\"scatter3d\":[{\"line\":{\"colorbar\":{\"outlinewidth\":0,\"ticks\":\"\"}},\"marker\":{\"colorbar\":{\"outlinewidth\":0,\"ticks\":\"\"}},\"type\":\"scatter3d\"}],\"scattercarpet\":[{\"marker\":{\"colorbar\":{\"outlinewidth\":0,\"ticks\":\"\"}},\"type\":\"scattercarpet\"}],\"scattergeo\":[{\"marker\":{\"colorbar\":{\"outlinewidth\":0,\"ticks\":\"\"}},\"type\":\"scattergeo\"}],\"scattergl\":[{\"marker\":{\"colorbar\":{\"outlinewidth\":0,\"ticks\":\"\"}},\"type\":\"scattergl\"}],\"scattermapbox\":[{\"marker\":{\"colorbar\":{\"outlinewidth\":0,\"ticks\":\"\"}},\"type\":\"scattermapbox\"}],\"scatterpolargl\":[{\"marker\":{\"colorbar\":{\"outlinewidth\":0,\"ticks\":\"\"}},\"type\":\"scatterpolargl\"}],\"scatterpolar\":[{\"marker\":{\"colorbar\":{\"outlinewidth\":0,\"ticks\":\"\"}},\"type\":\"scatterpolar\"}],\"scatter\":[{\"fillpattern\":{\"fillmode\":\"overlay\",\"size\":10,\"solidity\":0.2},\"type\":\"scatter\"}],\"scatterternary\":[{\"marker\":{\"colorbar\":{\"outlinewidth\":0,\"ticks\":\"\"}},\"type\":\"scatterternary\"}],\"surface\":[{\"colorbar\":{\"outlinewidth\":0,\"ticks\":\"\"},\"colorscale\":[[0.0,\"#0d0887\"],[0.1111111111111111,\"#46039f\"],[0.2222222222222222,\"#7201a8\"],[0.3333333333333333,\"#9c179e\"],[0.4444444444444444,\"#bd3786\"],[0.5555555555555556,\"#d8576b\"],[0.6666666666666666,\"#ed7953\"],[0.7777777777777778,\"#fb9f3a\"],[0.8888888888888888,\"#fdca26\"],[1.0,\"#f0f921\"]],\"type\":\"surface\"}],\"table\":[{\"cells\":{\"fill\":{\"color\":\"#EBF0F8\"},\"line\":{\"color\":\"white\"}},\"header\":{\"fill\":{\"color\":\"#C8D4E3\"},\"line\":{\"color\":\"white\"}},\"type\":\"table\"}]},\"layout\":{\"annotationdefaults\":{\"arrowcolor\":\"#2a3f5f\",\"arrowhead\":0,\"arrowwidth\":1},\"autotypenumbers\":\"strict\",\"coloraxis\":{\"colorbar\":{\"outlinewidth\":0,\"ticks\":\"\"}},\"colorscale\":{\"diverging\":[[0,\"#8e0152\"],[0.1,\"#c51b7d\"],[0.2,\"#de77ae\"],[0.3,\"#f1b6da\"],[0.4,\"#fde0ef\"],[0.5,\"#f7f7f7\"],[0.6,\"#e6f5d0\"],[0.7,\"#b8e186\"],[0.8,\"#7fbc41\"],[0.9,\"#4d9221\"],[1,\"#276419\"]],\"sequential\":[[0.0,\"#0d0887\"],[0.1111111111111111,\"#46039f\"],[0.2222222222222222,\"#7201a8\"],[0.3333333333333333,\"#9c179e\"],[0.4444444444444444,\"#bd3786\"],[0.5555555555555556,\"#d8576b\"],[0.6666666666666666,\"#ed7953\"],[0.7777777777777778,\"#fb9f3a\"],[0.8888888888888888,\"#fdca26\"],[1.0,\"#f0f921\"]],\"sequentialminus\":[[0.0,\"#0d0887\"],[0.1111111111111111,\"#46039f\"],[0.2222222222222222,\"#7201a8\"],[0.3333333333333333,\"#9c179e\"],[0.4444444444444444,\"#bd3786\"],[0.5555555555555556,\"#d8576b\"],[0.6666666666666666,\"#ed7953\"],[0.7777777777777778,\"#fb9f3a\"],[0.8888888888888888,\"#fdca26\"],[1.0,\"#f0f921\"]]},\"colorway\":[\"#636efa\",\"#EF553B\",\"#00cc96\",\"#ab63fa\",\"#FFA15A\",\"#19d3f3\",\"#FF6692\",\"#B6E880\",\"#FF97FF\",\"#FECB52\"],\"font\":{\"color\":\"#2a3f5f\"},\"geo\":{\"bgcolor\":\"white\",\"lakecolor\":\"white\",\"landcolor\":\"#E5ECF6\",\"showlakes\":true,\"showland\":true,\"subunitcolor\":\"white\"},\"hoverlabel\":{\"align\":\"left\"},\"hovermode\":\"closest\",\"mapbox\":{\"style\":\"light\"},\"paper_bgcolor\":\"white\",\"plot_bgcolor\":\"#E5ECF6\",\"polar\":{\"angularaxis\":{\"gridcolor\":\"white\",\"linecolor\":\"white\",\"ticks\":\"\"},\"bgcolor\":\"#E5ECF6\",\"radialaxis\":{\"gridcolor\":\"white\",\"linecolor\":\"white\",\"ticks\":\"\"}},\"scene\":{\"xaxis\":{\"backgroundcolor\":\"#E5ECF6\",\"gridcolor\":\"white\",\"gridwidth\":2,\"linecolor\":\"white\",\"showbackground\":true,\"ticks\":\"\",\"zerolinecolor\":\"white\"},\"yaxis\":{\"backgroundcolor\":\"#E5ECF6\",\"gridcolor\":\"white\",\"gridwidth\":2,\"linecolor\":\"white\",\"showbackground\":true,\"ticks\":\"\",\"zerolinecolor\":\"white\"},\"zaxis\":{\"backgroundcolor\":\"#E5ECF6\",\"gridcolor\":\"white\",\"gridwidth\":2,\"linecolor\":\"white\",\"showbackground\":true,\"ticks\":\"\",\"zerolinecolor\":\"white\"}},\"shapedefaults\":{\"line\":{\"color\":\"#2a3f5f\"}},\"ternary\":{\"aaxis\":{\"gridcolor\":\"white\",\"linecolor\":\"white\",\"ticks\":\"\"},\"baxis\":{\"gridcolor\":\"white\",\"linecolor\":\"white\",\"ticks\":\"\"},\"bgcolor\":\"#E5ECF6\",\"caxis\":{\"gridcolor\":\"white\",\"linecolor\":\"white\",\"ticks\":\"\"}},\"title\":{\"x\":0.05},\"xaxis\":{\"automargin\":true,\"gridcolor\":\"white\",\"linecolor\":\"white\",\"ticks\":\"\",\"title\":{\"standoff\":15},\"zerolinecolor\":\"white\",\"zerolinewidth\":2},\"yaxis\":{\"automargin\":true,\"gridcolor\":\"white\",\"linecolor\":\"white\",\"ticks\":\"\",\"title\":{\"standoff\":15},\"zerolinecolor\":\"white\",\"zerolinewidth\":2}}},\"title\":{\"text\":\"Volume - Bug\"},\"xaxis\":{\"ticklen\":5,\"title\":{\"text\":\"Volume\"}},\"yaxis\":{\"ticklen\":5,\"title\":{\"text\":\"Bug\"}}},                        {\"responsive\": true}                    ).then(function(){\n",
       "                            \n",
       "var gd = document.getElementById('b4d1d43f-bc5f-42ed-bdd8-0cd2205af713');\n",
       "var x = new MutationObserver(function (mutations, observer) {{\n",
       "        var display = window.getComputedStyle(gd).display;\n",
       "        if (!display || display === 'none') {{\n",
       "            console.log([gd, 'removed!']);\n",
       "            Plotly.purge(gd);\n",
       "            observer.disconnect();\n",
       "        }}\n",
       "}});\n",
       "\n",
       "// Listen for the removal of the full notebook cells\n",
       "var notebookContainer = gd.closest('#notebook-container');\n",
       "if (notebookContainer) {{\n",
       "    x.observe(notebookContainer, {childList: true});\n",
       "}}\n",
       "\n",
       "// Listen for the clearing of the current output cell\n",
       "var outputEl = gd.closest('.output');\n",
       "if (outputEl) {{\n",
       "    x.observe(outputEl, {childList: true});\n",
       "}}\n",
       "\n",
       "                        })                };                });            </script>        </div>"
      ]
     },
     "metadata": {},
     "output_type": "display_data"
    }
   ],
   "source": [
    "    trace = go.Scatter(x = data.v,\n",
    "    y = data.b,\n",
    "    mode = \"markers\",\n",
    "    name = \"Volume - Bug\",\n",
    "    marker = dict(color = 'darkblue'),\n",
    "    text = \"Bug (b)\")\n",
    "\n",
    "scatter_data = [trace]\n",
    "scatter_layout = dict(title = 'Volume - Bug',\n",
    "              xaxis = dict(title = 'Volume', ticklen = 5),\n",
    "              yaxis = dict(title = 'Bug' , ticklen = 5),\n",
    "             )\n",
    "fig = dict(data = scatter_data, layout = scatter_layout)\n",
    "iplot(fig)"
   ]
  },
  {
   "cell_type": "code",
   "execution_count": 18,
   "id": "518abe9e",
   "metadata": {
    "execution": {
     "iopub.execute_input": "2022-12-20T18:43:56.288167Z",
     "iopub.status.busy": "2022-12-20T18:43:56.287689Z",
     "iopub.status.idle": "2022-12-20T18:43:56.297007Z",
     "shell.execute_reply": "2022-12-20T18:43:56.295978Z"
    },
    "papermill": {
     "duration": 0.044873,
     "end_time": "2022-12-20T18:43:56.299321",
     "exception": false,
     "start_time": "2022-12-20T18:43:56.254448",
     "status": "completed"
    },
    "tags": []
   },
   "outputs": [
    {
     "data": {
      "text/plain": [
       "loc                  0\n",
       "v(g)                 0\n",
       "ev(g)                0\n",
       "iv(g)                0\n",
       "n                    0\n",
       "v                    0\n",
       "l                    0\n",
       "d                    0\n",
       "i                    0\n",
       "e                    0\n",
       "b                    0\n",
       "t                    0\n",
       "lOCode               0\n",
       "lOComment            0\n",
       "lOBlank              0\n",
       "locCodeAndComment    0\n",
       "uniq_Op              0\n",
       "uniq_Opnd            0\n",
       "total_Op             0\n",
       "total_Opnd           0\n",
       "branchCount          0\n",
       "defects              0\n",
       "dtype: int64"
      ]
     },
     "execution_count": 18,
     "metadata": {},
     "output_type": "execute_result"
    }
   ],
   "source": [
    "data.isnull().sum()"
   ]
  },
  {
   "cell_type": "code",
   "execution_count": 19,
   "id": "b3db2806",
   "metadata": {
    "execution": {
     "iopub.execute_input": "2022-12-20T18:43:56.363521Z",
     "iopub.status.busy": "2022-12-20T18:43:56.362778Z",
     "iopub.status.idle": "2022-12-20T18:43:56.407692Z",
     "shell.execute_reply": "2022-12-20T18:43:56.406396Z"
    },
    "papermill": {
     "duration": 0.07973,
     "end_time": "2022-12-20T18:43:56.410094",
     "exception": false,
     "start_time": "2022-12-20T18:43:56.330364",
     "status": "completed"
    },
    "tags": []
   },
   "outputs": [
    {
     "data": {
      "application/vnd.plotly.v1+json": {
       "config": {
        "linkText": "Export to plot.ly",
        "plotlyServerURL": "https://plot.ly",
        "showLink": false
       },
       "data": [
        {
         "marker": {
          "color": "blue"
         },
         "name": "Unique Operators",
         "type": "box",
         "x": [
          1.2,
          1.0,
          15.0,
          16.0,
          16.0,
          16.0,
          4.0,
          10.0,
          15.0,
          15.0,
          19.0,
          9.0,
          17.0,
          14.0,
          22.0,
          19.0,
          14.0,
          8.0,
          12.0,
          8.0,
          10.0,
          7.0,
          6.0,
          11.0,
          12.0,
          4.0,
          5.0,
          15.0,
          19.0,
          45.0,
          15.0,
          69.0,
          36.0,
          13.0,
          14.0,
          18.0,
          13.0,
          15.0,
          17.0,
          19.0,
          15.0,
          21.0,
          16.0,
          21.0,
          24.0,
          17.0,
          7.0,
          13.0,
          4.0,
          20.0,
          25.0,
          12.0,
          18.0,
          21.0,
          12.0,
          11.0,
          16.0,
          6.0,
          17.0,
          22.0,
          18.0,
          15.0,
          15.0,
          10.0,
          7.0,
          17.0,
          14.0,
          25.0,
          21.0,
          21.0,
          16.0,
          19.0,
          11.0,
          26.0,
          7.0,
          12.0,
          11.0,
          11.0,
          14.0,
          25.0,
          23.0,
          4.0,
          20.0,
          5.0,
          9.0,
          9.0,
          9.0,
          5.0,
          16.0,
          9.0,
          9.0,
          7.0,
          8.0,
          17.0,
          7.0,
          15.0,
          5.0,
          6.0,
          7.0,
          12.0,
          9.0,
          11.0,
          34.0,
          15.0,
          12.0,
          23.0,
          15.0,
          15.0,
          17.0,
          5.0,
          6.0,
          4.0,
          35.0,
          36.0,
          17.0,
          16.0,
          15.0,
          12.0,
          36.0,
          46.0,
          11.0,
          25.0,
          5.0,
          17.0,
          16.0,
          17.0,
          29.0,
          21.0,
          4.0,
          4.0,
          19.0,
          4.0,
          4.0,
          4.0,
          4.0,
          17.0,
          17.0,
          5.0,
          16.0,
          31.0,
          4.0,
          12.0,
          5.0,
          10.0,
          7.0,
          10.0,
          10.0,
          15.0,
          16.0,
          16.0,
          6.0,
          14.0,
          23.0,
          3.0,
          4.0,
          5.0,
          4.0,
          31.0,
          32.0,
          4.0,
          4.0,
          22.0,
          3.0,
          4.0,
          5.0,
          5.0,
          3.0,
          18.0,
          6.0,
          20.0,
          15.0,
          13.0,
          18.0,
          4.0,
          13.0,
          12.0,
          8.0,
          4.0,
          11.0,
          7.0,
          10.0,
          3.0,
          7.0,
          6.0,
          17.0,
          19.0,
          14.0,
          17.0,
          19.0,
          16.0,
          19.0,
          6.0,
          15.0,
          5.0,
          10.0,
          7.0,
          6.0,
          11.0,
          12.0,
          4.0,
          5.0,
          25.0,
          3.0,
          24.0,
          3.0,
          24.0,
          27.0,
          3.0,
          3.0,
          17.0,
          4.0,
          32.0,
          12.0,
          21.0,
          19.0,
          22.0,
          10.0,
          14.0,
          14.0,
          14.0,
          4.0,
          14.0,
          17.0,
          21.0,
          7.0,
          28.0,
          9.0,
          9.0,
          9.0,
          9.0,
          9.0,
          9.0,
          9.0,
          12.0,
          12.0,
          18.0,
          10.0,
          11.0,
          11.0,
          11.0,
          32.0,
          27.0,
          7.0,
          19.0,
          19.0,
          16.0,
          9.0,
          9.0,
          9.0,
          10.0,
          9.0,
          20.0,
          13.0,
          33.0,
          26.0,
          44.0,
          36.0,
          8.0,
          8.0,
          11.0,
          20.0,
          10.0,
          16.0,
          13.0,
          11.0,
          35.0,
          13.0,
          13.0,
          17.0,
          8.0,
          15.0,
          4.0,
          9.0,
          49.0,
          31.0,
          27.0,
          20.0,
          15.0,
          10.0,
          17.0,
          12.0,
          3.0,
          28.0,
          28.0,
          31.0,
          31.0,
          19.0,
          19.0,
          20.0,
          20.0,
          23.0,
          23.0,
          23.0,
          29.0,
          19.0,
          20.0,
          17.0,
          25.0,
          11.0,
          17.0,
          38.0,
          8.0,
          26.0,
          20.0,
          16.0,
          4.0,
          16.0,
          24.0,
          32.0,
          24.0,
          4.0,
          19.0,
          10.0,
          13.0,
          7.0,
          7.0,
          6.0,
          6.0,
          11.0,
          9.0,
          5.0,
          10.0,
          6.0,
          9.0,
          11.0,
          13.0,
          6.0,
          24.0,
          9.0,
          11.0,
          9.0,
          9.0,
          12.0,
          24.0,
          18.0,
          9.0,
          14.0,
          4.0,
          10.0,
          12.0,
          13.0,
          16.0,
          5.0,
          16.0,
          14.0,
          32.0,
          10.0,
          12.0,
          3.0,
          8.0,
          23.0,
          19.0,
          20.0,
          21.0,
          72.0,
          11.0,
          7.0,
          24.0,
          32.0,
          14.0,
          21.0,
          32.0,
          8.0,
          14.0,
          20.0,
          31.0,
          18.0,
          26.0,
          27.0,
          10.0,
          21.0,
          33.0,
          33.0,
          7.0,
          11.0,
          4.0,
          3.0,
          17.0,
          7.0,
          9.0,
          13.0,
          4.0,
          3.0,
          9.0,
          8.0,
          13.0,
          9.0,
          9.0,
          16.0,
          5.0,
          10.0,
          9.0,
          11.0,
          5.0,
          10.0,
          9.0,
          11.0,
          1.0,
          1.0,
          1.0,
          4.0,
          7.0,
          11.0,
          3.0,
          5.0,
          8.0,
          12.0,
          11.0,
          29.0,
          16.0,
          26.0,
          11.0,
          11.0,
          14.0,
          15.0,
          15.0,
          13.0,
          17.0,
          17.0,
          17.0,
          19.0,
          16.0,
          10.0,
          13.0,
          20.0,
          13.0,
          18.0,
          19.0,
          14.0,
          17.0,
          9.0,
          6.0,
          22.0,
          5.0,
          35.0,
          20.0,
          9.0,
          4.0,
          9.0,
          21.0,
          13.0,
          7.0,
          10.0,
          7.0,
          6.0,
          11.0,
          12.0,
          4.0,
          5.0,
          10.0,
          27.0,
          22.0,
          26.0,
          19.0,
          19.0,
          24.0,
          25.0,
          24.0,
          52.0,
          12.0,
          12.0,
          50.0,
          20.0,
          28.0,
          19.0,
          32.0,
          48.0,
          24.0,
          38.0,
          17.0,
          32.0,
          15.0,
          21.0,
          20.0,
          11.0,
          26.0,
          12.0,
          17.0,
          26.0,
          8.0,
          34.0,
          19.0,
          32.0,
          14.0,
          37.0,
          9.0,
          15.0,
          14.0,
          19.0,
          18.0,
          10.0,
          20.0,
          22.0,
          23.0,
          22.0,
          32.0,
          13.0,
          20.0
         ]
        }
       ],
       "layout": {
        "template": {
         "data": {
          "bar": [
           {
            "error_x": {
             "color": "#2a3f5f"
            },
            "error_y": {
             "color": "#2a3f5f"
            },
            "marker": {
             "line": {
              "color": "#E5ECF6",
              "width": 0.5
             },
             "pattern": {
              "fillmode": "overlay",
              "size": 10,
              "solidity": 0.2
             }
            },
            "type": "bar"
           }
          ],
          "barpolar": [
           {
            "marker": {
             "line": {
              "color": "#E5ECF6",
              "width": 0.5
             },
             "pattern": {
              "fillmode": "overlay",
              "size": 10,
              "solidity": 0.2
             }
            },
            "type": "barpolar"
           }
          ],
          "carpet": [
           {
            "aaxis": {
             "endlinecolor": "#2a3f5f",
             "gridcolor": "white",
             "linecolor": "white",
             "minorgridcolor": "white",
             "startlinecolor": "#2a3f5f"
            },
            "baxis": {
             "endlinecolor": "#2a3f5f",
             "gridcolor": "white",
             "linecolor": "white",
             "minorgridcolor": "white",
             "startlinecolor": "#2a3f5f"
            },
            "type": "carpet"
           }
          ],
          "choropleth": [
           {
            "colorbar": {
             "outlinewidth": 0,
             "ticks": ""
            },
            "type": "choropleth"
           }
          ],
          "contour": [
           {
            "colorbar": {
             "outlinewidth": 0,
             "ticks": ""
            },
            "colorscale": [
             [
              0.0,
              "#0d0887"
             ],
             [
              0.1111111111111111,
              "#46039f"
             ],
             [
              0.2222222222222222,
              "#7201a8"
             ],
             [
              0.3333333333333333,
              "#9c179e"
             ],
             [
              0.4444444444444444,
              "#bd3786"
             ],
             [
              0.5555555555555556,
              "#d8576b"
             ],
             [
              0.6666666666666666,
              "#ed7953"
             ],
             [
              0.7777777777777778,
              "#fb9f3a"
             ],
             [
              0.8888888888888888,
              "#fdca26"
             ],
             [
              1.0,
              "#f0f921"
             ]
            ],
            "type": "contour"
           }
          ],
          "contourcarpet": [
           {
            "colorbar": {
             "outlinewidth": 0,
             "ticks": ""
            },
            "type": "contourcarpet"
           }
          ],
          "heatmap": [
           {
            "colorbar": {
             "outlinewidth": 0,
             "ticks": ""
            },
            "colorscale": [
             [
              0.0,
              "#0d0887"
             ],
             [
              0.1111111111111111,
              "#46039f"
             ],
             [
              0.2222222222222222,
              "#7201a8"
             ],
             [
              0.3333333333333333,
              "#9c179e"
             ],
             [
              0.4444444444444444,
              "#bd3786"
             ],
             [
              0.5555555555555556,
              "#d8576b"
             ],
             [
              0.6666666666666666,
              "#ed7953"
             ],
             [
              0.7777777777777778,
              "#fb9f3a"
             ],
             [
              0.8888888888888888,
              "#fdca26"
             ],
             [
              1.0,
              "#f0f921"
             ]
            ],
            "type": "heatmap"
           }
          ],
          "heatmapgl": [
           {
            "colorbar": {
             "outlinewidth": 0,
             "ticks": ""
            },
            "colorscale": [
             [
              0.0,
              "#0d0887"
             ],
             [
              0.1111111111111111,
              "#46039f"
             ],
             [
              0.2222222222222222,
              "#7201a8"
             ],
             [
              0.3333333333333333,
              "#9c179e"
             ],
             [
              0.4444444444444444,
              "#bd3786"
             ],
             [
              0.5555555555555556,
              "#d8576b"
             ],
             [
              0.6666666666666666,
              "#ed7953"
             ],
             [
              0.7777777777777778,
              "#fb9f3a"
             ],
             [
              0.8888888888888888,
              "#fdca26"
             ],
             [
              1.0,
              "#f0f921"
             ]
            ],
            "type": "heatmapgl"
           }
          ],
          "histogram": [
           {
            "marker": {
             "pattern": {
              "fillmode": "overlay",
              "size": 10,
              "solidity": 0.2
             }
            },
            "type": "histogram"
           }
          ],
          "histogram2d": [
           {
            "colorbar": {
             "outlinewidth": 0,
             "ticks": ""
            },
            "colorscale": [
             [
              0.0,
              "#0d0887"
             ],
             [
              0.1111111111111111,
              "#46039f"
             ],
             [
              0.2222222222222222,
              "#7201a8"
             ],
             [
              0.3333333333333333,
              "#9c179e"
             ],
             [
              0.4444444444444444,
              "#bd3786"
             ],
             [
              0.5555555555555556,
              "#d8576b"
             ],
             [
              0.6666666666666666,
              "#ed7953"
             ],
             [
              0.7777777777777778,
              "#fb9f3a"
             ],
             [
              0.8888888888888888,
              "#fdca26"
             ],
             [
              1.0,
              "#f0f921"
             ]
            ],
            "type": "histogram2d"
           }
          ],
          "histogram2dcontour": [
           {
            "colorbar": {
             "outlinewidth": 0,
             "ticks": ""
            },
            "colorscale": [
             [
              0.0,
              "#0d0887"
             ],
             [
              0.1111111111111111,
              "#46039f"
             ],
             [
              0.2222222222222222,
              "#7201a8"
             ],
             [
              0.3333333333333333,
              "#9c179e"
             ],
             [
              0.4444444444444444,
              "#bd3786"
             ],
             [
              0.5555555555555556,
              "#d8576b"
             ],
             [
              0.6666666666666666,
              "#ed7953"
             ],
             [
              0.7777777777777778,
              "#fb9f3a"
             ],
             [
              0.8888888888888888,
              "#fdca26"
             ],
             [
              1.0,
              "#f0f921"
             ]
            ],
            "type": "histogram2dcontour"
           }
          ],
          "mesh3d": [
           {
            "colorbar": {
             "outlinewidth": 0,
             "ticks": ""
            },
            "type": "mesh3d"
           }
          ],
          "parcoords": [
           {
            "line": {
             "colorbar": {
              "outlinewidth": 0,
              "ticks": ""
             }
            },
            "type": "parcoords"
           }
          ],
          "pie": [
           {
            "automargin": true,
            "type": "pie"
           }
          ],
          "scatter": [
           {
            "fillpattern": {
             "fillmode": "overlay",
             "size": 10,
             "solidity": 0.2
            },
            "type": "scatter"
           }
          ],
          "scatter3d": [
           {
            "line": {
             "colorbar": {
              "outlinewidth": 0,
              "ticks": ""
             }
            },
            "marker": {
             "colorbar": {
              "outlinewidth": 0,
              "ticks": ""
             }
            },
            "type": "scatter3d"
           }
          ],
          "scattercarpet": [
           {
            "marker": {
             "colorbar": {
              "outlinewidth": 0,
              "ticks": ""
             }
            },
            "type": "scattercarpet"
           }
          ],
          "scattergeo": [
           {
            "marker": {
             "colorbar": {
              "outlinewidth": 0,
              "ticks": ""
             }
            },
            "type": "scattergeo"
           }
          ],
          "scattergl": [
           {
            "marker": {
             "colorbar": {
              "outlinewidth": 0,
              "ticks": ""
             }
            },
            "type": "scattergl"
           }
          ],
          "scattermapbox": [
           {
            "marker": {
             "colorbar": {
              "outlinewidth": 0,
              "ticks": ""
             }
            },
            "type": "scattermapbox"
           }
          ],
          "scatterpolar": [
           {
            "marker": {
             "colorbar": {
              "outlinewidth": 0,
              "ticks": ""
             }
            },
            "type": "scatterpolar"
           }
          ],
          "scatterpolargl": [
           {
            "marker": {
             "colorbar": {
              "outlinewidth": 0,
              "ticks": ""
             }
            },
            "type": "scatterpolargl"
           }
          ],
          "scatterternary": [
           {
            "marker": {
             "colorbar": {
              "outlinewidth": 0,
              "ticks": ""
             }
            },
            "type": "scatterternary"
           }
          ],
          "surface": [
           {
            "colorbar": {
             "outlinewidth": 0,
             "ticks": ""
            },
            "colorscale": [
             [
              0.0,
              "#0d0887"
             ],
             [
              0.1111111111111111,
              "#46039f"
             ],
             [
              0.2222222222222222,
              "#7201a8"
             ],
             [
              0.3333333333333333,
              "#9c179e"
             ],
             [
              0.4444444444444444,
              "#bd3786"
             ],
             [
              0.5555555555555556,
              "#d8576b"
             ],
             [
              0.6666666666666666,
              "#ed7953"
             ],
             [
              0.7777777777777778,
              "#fb9f3a"
             ],
             [
              0.8888888888888888,
              "#fdca26"
             ],
             [
              1.0,
              "#f0f921"
             ]
            ],
            "type": "surface"
           }
          ],
          "table": [
           {
            "cells": {
             "fill": {
              "color": "#EBF0F8"
             },
             "line": {
              "color": "white"
             }
            },
            "header": {
             "fill": {
              "color": "#C8D4E3"
             },
             "line": {
              "color": "white"
             }
            },
            "type": "table"
           }
          ]
         },
         "layout": {
          "annotationdefaults": {
           "arrowcolor": "#2a3f5f",
           "arrowhead": 0,
           "arrowwidth": 1
          },
          "autotypenumbers": "strict",
          "coloraxis": {
           "colorbar": {
            "outlinewidth": 0,
            "ticks": ""
           }
          },
          "colorscale": {
           "diverging": [
            [
             0,
             "#8e0152"
            ],
            [
             0.1,
             "#c51b7d"
            ],
            [
             0.2,
             "#de77ae"
            ],
            [
             0.3,
             "#f1b6da"
            ],
            [
             0.4,
             "#fde0ef"
            ],
            [
             0.5,
             "#f7f7f7"
            ],
            [
             0.6,
             "#e6f5d0"
            ],
            [
             0.7,
             "#b8e186"
            ],
            [
             0.8,
             "#7fbc41"
            ],
            [
             0.9,
             "#4d9221"
            ],
            [
             1,
             "#276419"
            ]
           ],
           "sequential": [
            [
             0.0,
             "#0d0887"
            ],
            [
             0.1111111111111111,
             "#46039f"
            ],
            [
             0.2222222222222222,
             "#7201a8"
            ],
            [
             0.3333333333333333,
             "#9c179e"
            ],
            [
             0.4444444444444444,
             "#bd3786"
            ],
            [
             0.5555555555555556,
             "#d8576b"
            ],
            [
             0.6666666666666666,
             "#ed7953"
            ],
            [
             0.7777777777777778,
             "#fb9f3a"
            ],
            [
             0.8888888888888888,
             "#fdca26"
            ],
            [
             1.0,
             "#f0f921"
            ]
           ],
           "sequentialminus": [
            [
             0.0,
             "#0d0887"
            ],
            [
             0.1111111111111111,
             "#46039f"
            ],
            [
             0.2222222222222222,
             "#7201a8"
            ],
            [
             0.3333333333333333,
             "#9c179e"
            ],
            [
             0.4444444444444444,
             "#bd3786"
            ],
            [
             0.5555555555555556,
             "#d8576b"
            ],
            [
             0.6666666666666666,
             "#ed7953"
            ],
            [
             0.7777777777777778,
             "#fb9f3a"
            ],
            [
             0.8888888888888888,
             "#fdca26"
            ],
            [
             1.0,
             "#f0f921"
            ]
           ]
          },
          "colorway": [
           "#636efa",
           "#EF553B",
           "#00cc96",
           "#ab63fa",
           "#FFA15A",
           "#19d3f3",
           "#FF6692",
           "#B6E880",
           "#FF97FF",
           "#FECB52"
          ],
          "font": {
           "color": "#2a3f5f"
          },
          "geo": {
           "bgcolor": "white",
           "lakecolor": "white",
           "landcolor": "#E5ECF6",
           "showlakes": true,
           "showland": true,
           "subunitcolor": "white"
          },
          "hoverlabel": {
           "align": "left"
          },
          "hovermode": "closest",
          "mapbox": {
           "style": "light"
          },
          "paper_bgcolor": "white",
          "plot_bgcolor": "#E5ECF6",
          "polar": {
           "angularaxis": {
            "gridcolor": "white",
            "linecolor": "white",
            "ticks": ""
           },
           "bgcolor": "#E5ECF6",
           "radialaxis": {
            "gridcolor": "white",
            "linecolor": "white",
            "ticks": ""
           }
          },
          "scene": {
           "xaxis": {
            "backgroundcolor": "#E5ECF6",
            "gridcolor": "white",
            "gridwidth": 2,
            "linecolor": "white",
            "showbackground": true,
            "ticks": "",
            "zerolinecolor": "white"
           },
           "yaxis": {
            "backgroundcolor": "#E5ECF6",
            "gridcolor": "white",
            "gridwidth": 2,
            "linecolor": "white",
            "showbackground": true,
            "ticks": "",
            "zerolinecolor": "white"
           },
           "zaxis": {
            "backgroundcolor": "#E5ECF6",
            "gridcolor": "white",
            "gridwidth": 2,
            "linecolor": "white",
            "showbackground": true,
            "ticks": "",
            "zerolinecolor": "white"
           }
          },
          "shapedefaults": {
           "line": {
            "color": "#2a3f5f"
           }
          },
          "ternary": {
           "aaxis": {
            "gridcolor": "white",
            "linecolor": "white",
            "ticks": ""
           },
           "baxis": {
            "gridcolor": "white",
            "linecolor": "white",
            "ticks": ""
           },
           "bgcolor": "#E5ECF6",
           "caxis": {
            "gridcolor": "white",
            "linecolor": "white",
            "ticks": ""
           }
          },
          "title": {
           "x": 0.05
          },
          "xaxis": {
           "automargin": true,
           "gridcolor": "white",
           "linecolor": "white",
           "ticks": "",
           "title": {
            "standoff": 15
           },
           "zerolinecolor": "white",
           "zerolinewidth": 2
          },
          "yaxis": {
           "automargin": true,
           "gridcolor": "white",
           "linecolor": "white",
           "ticks": "",
           "title": {
            "standoff": 15
           },
           "zerolinecolor": "white",
           "zerolinewidth": 2
          }
         }
        }
       }
      },
      "text/html": [
       "<div>                            <div id=\"faa5853c-4b7c-4bdc-b04c-38671aaebbb0\" class=\"plotly-graph-div\" style=\"height:525px; width:100%;\"></div>            <script type=\"text/javascript\">                require([\"plotly\"], function(Plotly) {                    window.PLOTLYENV=window.PLOTLYENV || {};                                    if (document.getElementById(\"faa5853c-4b7c-4bdc-b04c-38671aaebbb0\")) {                    Plotly.newPlot(                        \"faa5853c-4b7c-4bdc-b04c-38671aaebbb0\",                        [{\"marker\":{\"color\":\"blue\"},\"name\":\"Unique Operators\",\"x\":[1.2,1.0,15.0,16.0,16.0,16.0,4.0,10.0,15.0,15.0,19.0,9.0,17.0,14.0,22.0,19.0,14.0,8.0,12.0,8.0,10.0,7.0,6.0,11.0,12.0,4.0,5.0,15.0,19.0,45.0,15.0,69.0,36.0,13.0,14.0,18.0,13.0,15.0,17.0,19.0,15.0,21.0,16.0,21.0,24.0,17.0,7.0,13.0,4.0,20.0,25.0,12.0,18.0,21.0,12.0,11.0,16.0,6.0,17.0,22.0,18.0,15.0,15.0,10.0,7.0,17.0,14.0,25.0,21.0,21.0,16.0,19.0,11.0,26.0,7.0,12.0,11.0,11.0,14.0,25.0,23.0,4.0,20.0,5.0,9.0,9.0,9.0,5.0,16.0,9.0,9.0,7.0,8.0,17.0,7.0,15.0,5.0,6.0,7.0,12.0,9.0,11.0,34.0,15.0,12.0,23.0,15.0,15.0,17.0,5.0,6.0,4.0,35.0,36.0,17.0,16.0,15.0,12.0,36.0,46.0,11.0,25.0,5.0,17.0,16.0,17.0,29.0,21.0,4.0,4.0,19.0,4.0,4.0,4.0,4.0,17.0,17.0,5.0,16.0,31.0,4.0,12.0,5.0,10.0,7.0,10.0,10.0,15.0,16.0,16.0,6.0,14.0,23.0,3.0,4.0,5.0,4.0,31.0,32.0,4.0,4.0,22.0,3.0,4.0,5.0,5.0,3.0,18.0,6.0,20.0,15.0,13.0,18.0,4.0,13.0,12.0,8.0,4.0,11.0,7.0,10.0,3.0,7.0,6.0,17.0,19.0,14.0,17.0,19.0,16.0,19.0,6.0,15.0,5.0,10.0,7.0,6.0,11.0,12.0,4.0,5.0,25.0,3.0,24.0,3.0,24.0,27.0,3.0,3.0,17.0,4.0,32.0,12.0,21.0,19.0,22.0,10.0,14.0,14.0,14.0,4.0,14.0,17.0,21.0,7.0,28.0,9.0,9.0,9.0,9.0,9.0,9.0,9.0,12.0,12.0,18.0,10.0,11.0,11.0,11.0,32.0,27.0,7.0,19.0,19.0,16.0,9.0,9.0,9.0,10.0,9.0,20.0,13.0,33.0,26.0,44.0,36.0,8.0,8.0,11.0,20.0,10.0,16.0,13.0,11.0,35.0,13.0,13.0,17.0,8.0,15.0,4.0,9.0,49.0,31.0,27.0,20.0,15.0,10.0,17.0,12.0,3.0,28.0,28.0,31.0,31.0,19.0,19.0,20.0,20.0,23.0,23.0,23.0,29.0,19.0,20.0,17.0,25.0,11.0,17.0,38.0,8.0,26.0,20.0,16.0,4.0,16.0,24.0,32.0,24.0,4.0,19.0,10.0,13.0,7.0,7.0,6.0,6.0,11.0,9.0,5.0,10.0,6.0,9.0,11.0,13.0,6.0,24.0,9.0,11.0,9.0,9.0,12.0,24.0,18.0,9.0,14.0,4.0,10.0,12.0,13.0,16.0,5.0,16.0,14.0,32.0,10.0,12.0,3.0,8.0,23.0,19.0,20.0,21.0,72.0,11.0,7.0,24.0,32.0,14.0,21.0,32.0,8.0,14.0,20.0,31.0,18.0,26.0,27.0,10.0,21.0,33.0,33.0,7.0,11.0,4.0,3.0,17.0,7.0,9.0,13.0,4.0,3.0,9.0,8.0,13.0,9.0,9.0,16.0,5.0,10.0,9.0,11.0,5.0,10.0,9.0,11.0,1.0,1.0,1.0,4.0,7.0,11.0,3.0,5.0,8.0,12.0,11.0,29.0,16.0,26.0,11.0,11.0,14.0,15.0,15.0,13.0,17.0,17.0,17.0,19.0,16.0,10.0,13.0,20.0,13.0,18.0,19.0,14.0,17.0,9.0,6.0,22.0,5.0,35.0,20.0,9.0,4.0,9.0,21.0,13.0,7.0,10.0,7.0,6.0,11.0,12.0,4.0,5.0,10.0,27.0,22.0,26.0,19.0,19.0,24.0,25.0,24.0,52.0,12.0,12.0,50.0,20.0,28.0,19.0,32.0,48.0,24.0,38.0,17.0,32.0,15.0,21.0,20.0,11.0,26.0,12.0,17.0,26.0,8.0,34.0,19.0,32.0,14.0,37.0,9.0,15.0,14.0,19.0,18.0,10.0,20.0,22.0,23.0,22.0,32.0,13.0,20.0],\"type\":\"box\"}],                        {\"template\":{\"data\":{\"barpolar\":[{\"marker\":{\"line\":{\"color\":\"#E5ECF6\",\"width\":0.5},\"pattern\":{\"fillmode\":\"overlay\",\"size\":10,\"solidity\":0.2}},\"type\":\"barpolar\"}],\"bar\":[{\"error_x\":{\"color\":\"#2a3f5f\"},\"error_y\":{\"color\":\"#2a3f5f\"},\"marker\":{\"line\":{\"color\":\"#E5ECF6\",\"width\":0.5},\"pattern\":{\"fillmode\":\"overlay\",\"size\":10,\"solidity\":0.2}},\"type\":\"bar\"}],\"carpet\":[{\"aaxis\":{\"endlinecolor\":\"#2a3f5f\",\"gridcolor\":\"white\",\"linecolor\":\"white\",\"minorgridcolor\":\"white\",\"startlinecolor\":\"#2a3f5f\"},\"baxis\":{\"endlinecolor\":\"#2a3f5f\",\"gridcolor\":\"white\",\"linecolor\":\"white\",\"minorgridcolor\":\"white\",\"startlinecolor\":\"#2a3f5f\"},\"type\":\"carpet\"}],\"choropleth\":[{\"colorbar\":{\"outlinewidth\":0,\"ticks\":\"\"},\"type\":\"choropleth\"}],\"contourcarpet\":[{\"colorbar\":{\"outlinewidth\":0,\"ticks\":\"\"},\"type\":\"contourcarpet\"}],\"contour\":[{\"colorbar\":{\"outlinewidth\":0,\"ticks\":\"\"},\"colorscale\":[[0.0,\"#0d0887\"],[0.1111111111111111,\"#46039f\"],[0.2222222222222222,\"#7201a8\"],[0.3333333333333333,\"#9c179e\"],[0.4444444444444444,\"#bd3786\"],[0.5555555555555556,\"#d8576b\"],[0.6666666666666666,\"#ed7953\"],[0.7777777777777778,\"#fb9f3a\"],[0.8888888888888888,\"#fdca26\"],[1.0,\"#f0f921\"]],\"type\":\"contour\"}],\"heatmapgl\":[{\"colorbar\":{\"outlinewidth\":0,\"ticks\":\"\"},\"colorscale\":[[0.0,\"#0d0887\"],[0.1111111111111111,\"#46039f\"],[0.2222222222222222,\"#7201a8\"],[0.3333333333333333,\"#9c179e\"],[0.4444444444444444,\"#bd3786\"],[0.5555555555555556,\"#d8576b\"],[0.6666666666666666,\"#ed7953\"],[0.7777777777777778,\"#fb9f3a\"],[0.8888888888888888,\"#fdca26\"],[1.0,\"#f0f921\"]],\"type\":\"heatmapgl\"}],\"heatmap\":[{\"colorbar\":{\"outlinewidth\":0,\"ticks\":\"\"},\"colorscale\":[[0.0,\"#0d0887\"],[0.1111111111111111,\"#46039f\"],[0.2222222222222222,\"#7201a8\"],[0.3333333333333333,\"#9c179e\"],[0.4444444444444444,\"#bd3786\"],[0.5555555555555556,\"#d8576b\"],[0.6666666666666666,\"#ed7953\"],[0.7777777777777778,\"#fb9f3a\"],[0.8888888888888888,\"#fdca26\"],[1.0,\"#f0f921\"]],\"type\":\"heatmap\"}],\"histogram2dcontour\":[{\"colorbar\":{\"outlinewidth\":0,\"ticks\":\"\"},\"colorscale\":[[0.0,\"#0d0887\"],[0.1111111111111111,\"#46039f\"],[0.2222222222222222,\"#7201a8\"],[0.3333333333333333,\"#9c179e\"],[0.4444444444444444,\"#bd3786\"],[0.5555555555555556,\"#d8576b\"],[0.6666666666666666,\"#ed7953\"],[0.7777777777777778,\"#fb9f3a\"],[0.8888888888888888,\"#fdca26\"],[1.0,\"#f0f921\"]],\"type\":\"histogram2dcontour\"}],\"histogram2d\":[{\"colorbar\":{\"outlinewidth\":0,\"ticks\":\"\"},\"colorscale\":[[0.0,\"#0d0887\"],[0.1111111111111111,\"#46039f\"],[0.2222222222222222,\"#7201a8\"],[0.3333333333333333,\"#9c179e\"],[0.4444444444444444,\"#bd3786\"],[0.5555555555555556,\"#d8576b\"],[0.6666666666666666,\"#ed7953\"],[0.7777777777777778,\"#fb9f3a\"],[0.8888888888888888,\"#fdca26\"],[1.0,\"#f0f921\"]],\"type\":\"histogram2d\"}],\"histogram\":[{\"marker\":{\"pattern\":{\"fillmode\":\"overlay\",\"size\":10,\"solidity\":0.2}},\"type\":\"histogram\"}],\"mesh3d\":[{\"colorbar\":{\"outlinewidth\":0,\"ticks\":\"\"},\"type\":\"mesh3d\"}],\"parcoords\":[{\"line\":{\"colorbar\":{\"outlinewidth\":0,\"ticks\":\"\"}},\"type\":\"parcoords\"}],\"pie\":[{\"automargin\":true,\"type\":\"pie\"}],\"scatter3d\":[{\"line\":{\"colorbar\":{\"outlinewidth\":0,\"ticks\":\"\"}},\"marker\":{\"colorbar\":{\"outlinewidth\":0,\"ticks\":\"\"}},\"type\":\"scatter3d\"}],\"scattercarpet\":[{\"marker\":{\"colorbar\":{\"outlinewidth\":0,\"ticks\":\"\"}},\"type\":\"scattercarpet\"}],\"scattergeo\":[{\"marker\":{\"colorbar\":{\"outlinewidth\":0,\"ticks\":\"\"}},\"type\":\"scattergeo\"}],\"scattergl\":[{\"marker\":{\"colorbar\":{\"outlinewidth\":0,\"ticks\":\"\"}},\"type\":\"scattergl\"}],\"scattermapbox\":[{\"marker\":{\"colorbar\":{\"outlinewidth\":0,\"ticks\":\"\"}},\"type\":\"scattermapbox\"}],\"scatterpolargl\":[{\"marker\":{\"colorbar\":{\"outlinewidth\":0,\"ticks\":\"\"}},\"type\":\"scatterpolargl\"}],\"scatterpolar\":[{\"marker\":{\"colorbar\":{\"outlinewidth\":0,\"ticks\":\"\"}},\"type\":\"scatterpolar\"}],\"scatter\":[{\"fillpattern\":{\"fillmode\":\"overlay\",\"size\":10,\"solidity\":0.2},\"type\":\"scatter\"}],\"scatterternary\":[{\"marker\":{\"colorbar\":{\"outlinewidth\":0,\"ticks\":\"\"}},\"type\":\"scatterternary\"}],\"surface\":[{\"colorbar\":{\"outlinewidth\":0,\"ticks\":\"\"},\"colorscale\":[[0.0,\"#0d0887\"],[0.1111111111111111,\"#46039f\"],[0.2222222222222222,\"#7201a8\"],[0.3333333333333333,\"#9c179e\"],[0.4444444444444444,\"#bd3786\"],[0.5555555555555556,\"#d8576b\"],[0.6666666666666666,\"#ed7953\"],[0.7777777777777778,\"#fb9f3a\"],[0.8888888888888888,\"#fdca26\"],[1.0,\"#f0f921\"]],\"type\":\"surface\"}],\"table\":[{\"cells\":{\"fill\":{\"color\":\"#EBF0F8\"},\"line\":{\"color\":\"white\"}},\"header\":{\"fill\":{\"color\":\"#C8D4E3\"},\"line\":{\"color\":\"white\"}},\"type\":\"table\"}]},\"layout\":{\"annotationdefaults\":{\"arrowcolor\":\"#2a3f5f\",\"arrowhead\":0,\"arrowwidth\":1},\"autotypenumbers\":\"strict\",\"coloraxis\":{\"colorbar\":{\"outlinewidth\":0,\"ticks\":\"\"}},\"colorscale\":{\"diverging\":[[0,\"#8e0152\"],[0.1,\"#c51b7d\"],[0.2,\"#de77ae\"],[0.3,\"#f1b6da\"],[0.4,\"#fde0ef\"],[0.5,\"#f7f7f7\"],[0.6,\"#e6f5d0\"],[0.7,\"#b8e186\"],[0.8,\"#7fbc41\"],[0.9,\"#4d9221\"],[1,\"#276419\"]],\"sequential\":[[0.0,\"#0d0887\"],[0.1111111111111111,\"#46039f\"],[0.2222222222222222,\"#7201a8\"],[0.3333333333333333,\"#9c179e\"],[0.4444444444444444,\"#bd3786\"],[0.5555555555555556,\"#d8576b\"],[0.6666666666666666,\"#ed7953\"],[0.7777777777777778,\"#fb9f3a\"],[0.8888888888888888,\"#fdca26\"],[1.0,\"#f0f921\"]],\"sequentialminus\":[[0.0,\"#0d0887\"],[0.1111111111111111,\"#46039f\"],[0.2222222222222222,\"#7201a8\"],[0.3333333333333333,\"#9c179e\"],[0.4444444444444444,\"#bd3786\"],[0.5555555555555556,\"#d8576b\"],[0.6666666666666666,\"#ed7953\"],[0.7777777777777778,\"#fb9f3a\"],[0.8888888888888888,\"#fdca26\"],[1.0,\"#f0f921\"]]},\"colorway\":[\"#636efa\",\"#EF553B\",\"#00cc96\",\"#ab63fa\",\"#FFA15A\",\"#19d3f3\",\"#FF6692\",\"#B6E880\",\"#FF97FF\",\"#FECB52\"],\"font\":{\"color\":\"#2a3f5f\"},\"geo\":{\"bgcolor\":\"white\",\"lakecolor\":\"white\",\"landcolor\":\"#E5ECF6\",\"showlakes\":true,\"showland\":true,\"subunitcolor\":\"white\"},\"hoverlabel\":{\"align\":\"left\"},\"hovermode\":\"closest\",\"mapbox\":{\"style\":\"light\"},\"paper_bgcolor\":\"white\",\"plot_bgcolor\":\"#E5ECF6\",\"polar\":{\"angularaxis\":{\"gridcolor\":\"white\",\"linecolor\":\"white\",\"ticks\":\"\"},\"bgcolor\":\"#E5ECF6\",\"radialaxis\":{\"gridcolor\":\"white\",\"linecolor\":\"white\",\"ticks\":\"\"}},\"scene\":{\"xaxis\":{\"backgroundcolor\":\"#E5ECF6\",\"gridcolor\":\"white\",\"gridwidth\":2,\"linecolor\":\"white\",\"showbackground\":true,\"ticks\":\"\",\"zerolinecolor\":\"white\"},\"yaxis\":{\"backgroundcolor\":\"#E5ECF6\",\"gridcolor\":\"white\",\"gridwidth\":2,\"linecolor\":\"white\",\"showbackground\":true,\"ticks\":\"\",\"zerolinecolor\":\"white\"},\"zaxis\":{\"backgroundcolor\":\"#E5ECF6\",\"gridcolor\":\"white\",\"gridwidth\":2,\"linecolor\":\"white\",\"showbackground\":true,\"ticks\":\"\",\"zerolinecolor\":\"white\"}},\"shapedefaults\":{\"line\":{\"color\":\"#2a3f5f\"}},\"ternary\":{\"aaxis\":{\"gridcolor\":\"white\",\"linecolor\":\"white\",\"ticks\":\"\"},\"baxis\":{\"gridcolor\":\"white\",\"linecolor\":\"white\",\"ticks\":\"\"},\"bgcolor\":\"#E5ECF6\",\"caxis\":{\"gridcolor\":\"white\",\"linecolor\":\"white\",\"ticks\":\"\"}},\"title\":{\"x\":0.05},\"xaxis\":{\"automargin\":true,\"gridcolor\":\"white\",\"linecolor\":\"white\",\"ticks\":\"\",\"title\":{\"standoff\":15},\"zerolinecolor\":\"white\",\"zerolinewidth\":2},\"yaxis\":{\"automargin\":true,\"gridcolor\":\"white\",\"linecolor\":\"white\",\"ticks\":\"\",\"title\":{\"standoff\":15},\"zerolinecolor\":\"white\",\"zerolinewidth\":2}}}},                        {\"responsive\": true}                    ).then(function(){\n",
       "                            \n",
       "var gd = document.getElementById('faa5853c-4b7c-4bdc-b04c-38671aaebbb0');\n",
       "var x = new MutationObserver(function (mutations, observer) {{\n",
       "        var display = window.getComputedStyle(gd).display;\n",
       "        if (!display || display === 'none') {{\n",
       "            console.log([gd, 'removed!']);\n",
       "            Plotly.purge(gd);\n",
       "            observer.disconnect();\n",
       "        }}\n",
       "}});\n",
       "\n",
       "// Listen for the removal of the full notebook cells\n",
       "var notebookContainer = gd.closest('#notebook-container');\n",
       "if (notebookContainer) {{\n",
       "    x.observe(notebookContainer, {childList: true});\n",
       "}}\n",
       "\n",
       "// Listen for the clearing of the current output cell\n",
       "var outputEl = gd.closest('.output');\n",
       "if (outputEl) {{\n",
       "    x.observe(outputEl, {childList: true});\n",
       "}}\n",
       "\n",
       "                        })                };                });            </script>        </div>"
      ]
     },
     "metadata": {},
     "output_type": "display_data"
    }
   ],
   "source": [
    "trace1 = go.Box(\n",
    "    x = data.uniq_Op,\n",
    "    name = 'Unique Operators',\n",
    "    marker = dict(color = 'blue')\n",
    "    )\n",
    "box_data = [trace1]\n",
    "iplot(box_data)\n"
   ]
  },
  {
   "cell_type": "code",
   "execution_count": 20,
   "id": "e06b7e26",
   "metadata": {
    "execution": {
     "iopub.execute_input": "2022-12-20T18:43:56.488278Z",
     "iopub.status.busy": "2022-12-20T18:43:56.487862Z",
     "iopub.status.idle": "2022-12-20T18:43:56.494584Z",
     "shell.execute_reply": "2022-12-20T18:43:56.493426Z"
    },
    "papermill": {
     "duration": 0.049603,
     "end_time": "2022-12-20T18:43:56.497407",
     "exception": false,
     "start_time": "2022-12-20T18:43:56.447804",
     "status": "completed"
    },
    "tags": []
   },
   "outputs": [],
   "source": [
    "def evaluation_control(data):    \n",
    "    evaluation = (data.n < 300) & (data.v < 1000 ) & (data.d < 50) & (data.e < 500000) & (data.t < 5000)\n",
    "    data['complexityEvaluation'] = pd.DataFrame(evaluation)\n",
    "    data['complexityEvaluation'] = ['Succesful' if evaluation == True else 'Redesign' for evaluation in data.complexityEvaluation]"
   ]
  },
  {
   "cell_type": "code",
   "execution_count": 21,
   "id": "6c83fafc",
   "metadata": {
    "execution": {
     "iopub.execute_input": "2022-12-20T18:43:56.574837Z",
     "iopub.status.busy": "2022-12-20T18:43:56.574394Z",
     "iopub.status.idle": "2022-12-20T18:43:56.617179Z",
     "shell.execute_reply": "2022-12-20T18:43:56.615910Z"
    },
    "papermill": {
     "duration": 0.083706,
     "end_time": "2022-12-20T18:43:56.619486",
     "exception": false,
     "start_time": "2022-12-20T18:43:56.535780",
     "status": "completed"
    },
    "tags": []
   },
   "outputs": [
    {
     "data": {
      "text/html": [
       "<div>\n",
       "<style scoped>\n",
       "    .dataframe tbody tr th:only-of-type {\n",
       "        vertical-align: middle;\n",
       "    }\n",
       "\n",
       "    .dataframe tbody tr th {\n",
       "        vertical-align: top;\n",
       "    }\n",
       "\n",
       "    .dataframe thead th {\n",
       "        text-align: right;\n",
       "    }\n",
       "</style>\n",
       "<table border=\"1\" class=\"dataframe\">\n",
       "  <thead>\n",
       "    <tr style=\"text-align: right;\">\n",
       "      <th></th>\n",
       "      <th>loc</th>\n",
       "      <th>v(g)</th>\n",
       "      <th>ev(g)</th>\n",
       "      <th>iv(g)</th>\n",
       "      <th>n</th>\n",
       "      <th>v</th>\n",
       "      <th>l</th>\n",
       "      <th>d</th>\n",
       "      <th>i</th>\n",
       "      <th>e</th>\n",
       "      <th>...</th>\n",
       "      <th>lOComment</th>\n",
       "      <th>lOBlank</th>\n",
       "      <th>locCodeAndComment</th>\n",
       "      <th>uniq_Op</th>\n",
       "      <th>uniq_Opnd</th>\n",
       "      <th>total_Op</th>\n",
       "      <th>total_Opnd</th>\n",
       "      <th>branchCount</th>\n",
       "      <th>defects</th>\n",
       "      <th>complexityEvaluation</th>\n",
       "    </tr>\n",
       "  </thead>\n",
       "  <tbody>\n",
       "    <tr>\n",
       "      <th>0</th>\n",
       "      <td>1.1</td>\n",
       "      <td>1.4</td>\n",
       "      <td>1.4</td>\n",
       "      <td>1.4</td>\n",
       "      <td>1.3</td>\n",
       "      <td>1.30</td>\n",
       "      <td>1.30</td>\n",
       "      <td>1.30</td>\n",
       "      <td>1.30</td>\n",
       "      <td>1.30</td>\n",
       "      <td>...</td>\n",
       "      <td>2</td>\n",
       "      <td>2</td>\n",
       "      <td>2</td>\n",
       "      <td>1.2</td>\n",
       "      <td>1.2</td>\n",
       "      <td>1.2</td>\n",
       "      <td>1.2</td>\n",
       "      <td>1.4</td>\n",
       "      <td>0</td>\n",
       "      <td>Succesful</td>\n",
       "    </tr>\n",
       "    <tr>\n",
       "      <th>1</th>\n",
       "      <td>1.0</td>\n",
       "      <td>1.0</td>\n",
       "      <td>1.0</td>\n",
       "      <td>1.0</td>\n",
       "      <td>1.0</td>\n",
       "      <td>1.00</td>\n",
       "      <td>1.00</td>\n",
       "      <td>1.00</td>\n",
       "      <td>1.00</td>\n",
       "      <td>1.00</td>\n",
       "      <td>...</td>\n",
       "      <td>1</td>\n",
       "      <td>1</td>\n",
       "      <td>1</td>\n",
       "      <td>1.0</td>\n",
       "      <td>1.0</td>\n",
       "      <td>1.0</td>\n",
       "      <td>1.0</td>\n",
       "      <td>1.0</td>\n",
       "      <td>1</td>\n",
       "      <td>Succesful</td>\n",
       "    </tr>\n",
       "    <tr>\n",
       "      <th>2</th>\n",
       "      <td>24.0</td>\n",
       "      <td>5.0</td>\n",
       "      <td>1.0</td>\n",
       "      <td>3.0</td>\n",
       "      <td>63.0</td>\n",
       "      <td>309.13</td>\n",
       "      <td>0.11</td>\n",
       "      <td>9.50</td>\n",
       "      <td>32.54</td>\n",
       "      <td>2936.77</td>\n",
       "      <td>...</td>\n",
       "      <td>0</td>\n",
       "      <td>6</td>\n",
       "      <td>0</td>\n",
       "      <td>15.0</td>\n",
       "      <td>15.0</td>\n",
       "      <td>44.0</td>\n",
       "      <td>19.0</td>\n",
       "      <td>9.0</td>\n",
       "      <td>0</td>\n",
       "      <td>Succesful</td>\n",
       "    </tr>\n",
       "    <tr>\n",
       "      <th>3</th>\n",
       "      <td>20.0</td>\n",
       "      <td>4.0</td>\n",
       "      <td>4.0</td>\n",
       "      <td>2.0</td>\n",
       "      <td>47.0</td>\n",
       "      <td>215.49</td>\n",
       "      <td>0.06</td>\n",
       "      <td>16.00</td>\n",
       "      <td>13.47</td>\n",
       "      <td>3447.89</td>\n",
       "      <td>...</td>\n",
       "      <td>0</td>\n",
       "      <td>3</td>\n",
       "      <td>0</td>\n",
       "      <td>16.0</td>\n",
       "      <td>8.0</td>\n",
       "      <td>31.0</td>\n",
       "      <td>16.0</td>\n",
       "      <td>7.0</td>\n",
       "      <td>0</td>\n",
       "      <td>Succesful</td>\n",
       "    </tr>\n",
       "    <tr>\n",
       "      <th>4</th>\n",
       "      <td>24.0</td>\n",
       "      <td>6.0</td>\n",
       "      <td>6.0</td>\n",
       "      <td>2.0</td>\n",
       "      <td>72.0</td>\n",
       "      <td>346.13</td>\n",
       "      <td>0.06</td>\n",
       "      <td>17.33</td>\n",
       "      <td>19.97</td>\n",
       "      <td>5999.58</td>\n",
       "      <td>...</td>\n",
       "      <td>0</td>\n",
       "      <td>3</td>\n",
       "      <td>0</td>\n",
       "      <td>16.0</td>\n",
       "      <td>12.0</td>\n",
       "      <td>46.0</td>\n",
       "      <td>26.0</td>\n",
       "      <td>11.0</td>\n",
       "      <td>0</td>\n",
       "      <td>Succesful</td>\n",
       "    </tr>\n",
       "    <tr>\n",
       "      <th>...</th>\n",
       "      <td>...</td>\n",
       "      <td>...</td>\n",
       "      <td>...</td>\n",
       "      <td>...</td>\n",
       "      <td>...</td>\n",
       "      <td>...</td>\n",
       "      <td>...</td>\n",
       "      <td>...</td>\n",
       "      <td>...</td>\n",
       "      <td>...</td>\n",
       "      <td>...</td>\n",
       "      <td>...</td>\n",
       "      <td>...</td>\n",
       "      <td>...</td>\n",
       "      <td>...</td>\n",
       "      <td>...</td>\n",
       "      <td>...</td>\n",
       "      <td>...</td>\n",
       "      <td>...</td>\n",
       "      <td>...</td>\n",
       "      <td>...</td>\n",
       "    </tr>\n",
       "    <tr>\n",
       "      <th>493</th>\n",
       "      <td>47.0</td>\n",
       "      <td>3.0</td>\n",
       "      <td>1.0</td>\n",
       "      <td>3.0</td>\n",
       "      <td>256.0</td>\n",
       "      <td>1563.78</td>\n",
       "      <td>0.04</td>\n",
       "      <td>28.00</td>\n",
       "      <td>55.85</td>\n",
       "      <td>43785.90</td>\n",
       "      <td>...</td>\n",
       "      <td>13</td>\n",
       "      <td>2</td>\n",
       "      <td>0</td>\n",
       "      <td>23.0</td>\n",
       "      <td>46.0</td>\n",
       "      <td>144.0</td>\n",
       "      <td>112.0</td>\n",
       "      <td>5.0</td>\n",
       "      <td>1</td>\n",
       "      <td>Redesign</td>\n",
       "    </tr>\n",
       "    <tr>\n",
       "      <th>494</th>\n",
       "      <td>24.0</td>\n",
       "      <td>4.0</td>\n",
       "      <td>3.0</td>\n",
       "      <td>3.0</td>\n",
       "      <td>107.0</td>\n",
       "      <td>587.63</td>\n",
       "      <td>0.05</td>\n",
       "      <td>19.13</td>\n",
       "      <td>30.72</td>\n",
       "      <td>11241.58</td>\n",
       "      <td>...</td>\n",
       "      <td>7</td>\n",
       "      <td>4</td>\n",
       "      <td>0</td>\n",
       "      <td>22.0</td>\n",
       "      <td>23.0</td>\n",
       "      <td>67.0</td>\n",
       "      <td>40.0</td>\n",
       "      <td>7.0</td>\n",
       "      <td>1</td>\n",
       "      <td>Succesful</td>\n",
       "    </tr>\n",
       "    <tr>\n",
       "      <th>495</th>\n",
       "      <td>82.0</td>\n",
       "      <td>11.0</td>\n",
       "      <td>3.0</td>\n",
       "      <td>10.0</td>\n",
       "      <td>475.0</td>\n",
       "      <td>3155.83</td>\n",
       "      <td>0.02</td>\n",
       "      <td>44.71</td>\n",
       "      <td>70.59</td>\n",
       "      <td>141084.24</td>\n",
       "      <td>...</td>\n",
       "      <td>59</td>\n",
       "      <td>35</td>\n",
       "      <td>0</td>\n",
       "      <td>32.0</td>\n",
       "      <td>68.0</td>\n",
       "      <td>285.0</td>\n",
       "      <td>190.0</td>\n",
       "      <td>21.0</td>\n",
       "      <td>1</td>\n",
       "      <td>Redesign</td>\n",
       "    </tr>\n",
       "    <tr>\n",
       "      <th>496</th>\n",
       "      <td>10.0</td>\n",
       "      <td>2.0</td>\n",
       "      <td>1.0</td>\n",
       "      <td>1.0</td>\n",
       "      <td>32.0</td>\n",
       "      <td>150.41</td>\n",
       "      <td>0.15</td>\n",
       "      <td>6.50</td>\n",
       "      <td>23.14</td>\n",
       "      <td>977.69</td>\n",
       "      <td>...</td>\n",
       "      <td>12</td>\n",
       "      <td>4</td>\n",
       "      <td>0</td>\n",
       "      <td>13.0</td>\n",
       "      <td>13.0</td>\n",
       "      <td>19.0</td>\n",
       "      <td>13.0</td>\n",
       "      <td>3.0</td>\n",
       "      <td>1</td>\n",
       "      <td>Succesful</td>\n",
       "    </tr>\n",
       "    <tr>\n",
       "      <th>497</th>\n",
       "      <td>28.0</td>\n",
       "      <td>6.0</td>\n",
       "      <td>5.0</td>\n",
       "      <td>5.0</td>\n",
       "      <td>104.0</td>\n",
       "      <td>564.33</td>\n",
       "      <td>0.06</td>\n",
       "      <td>16.09</td>\n",
       "      <td>35.08</td>\n",
       "      <td>9078.38</td>\n",
       "      <td>...</td>\n",
       "      <td>7</td>\n",
       "      <td>0</td>\n",
       "      <td>0</td>\n",
       "      <td>20.0</td>\n",
       "      <td>23.0</td>\n",
       "      <td>67.0</td>\n",
       "      <td>37.0</td>\n",
       "      <td>11.0</td>\n",
       "      <td>1</td>\n",
       "      <td>Succesful</td>\n",
       "    </tr>\n",
       "  </tbody>\n",
       "</table>\n",
       "<p>498 rows × 23 columns</p>\n",
       "</div>"
      ],
      "text/plain": [
       "      loc  v(g)  ev(g)  iv(g)      n        v     l      d      i          e  \\\n",
       "0     1.1   1.4    1.4    1.4    1.3     1.30  1.30   1.30   1.30       1.30   \n",
       "1     1.0   1.0    1.0    1.0    1.0     1.00  1.00   1.00   1.00       1.00   \n",
       "2    24.0   5.0    1.0    3.0   63.0   309.13  0.11   9.50  32.54    2936.77   \n",
       "3    20.0   4.0    4.0    2.0   47.0   215.49  0.06  16.00  13.47    3447.89   \n",
       "4    24.0   6.0    6.0    2.0   72.0   346.13  0.06  17.33  19.97    5999.58   \n",
       "..    ...   ...    ...    ...    ...      ...   ...    ...    ...        ...   \n",
       "493  47.0   3.0    1.0    3.0  256.0  1563.78  0.04  28.00  55.85   43785.90   \n",
       "494  24.0   4.0    3.0    3.0  107.0   587.63  0.05  19.13  30.72   11241.58   \n",
       "495  82.0  11.0    3.0   10.0  475.0  3155.83  0.02  44.71  70.59  141084.24   \n",
       "496  10.0   2.0    1.0    1.0   32.0   150.41  0.15   6.50  23.14     977.69   \n",
       "497  28.0   6.0    5.0    5.0  104.0   564.33  0.06  16.09  35.08    9078.38   \n",
       "\n",
       "     ...  lOComment  lOBlank  locCodeAndComment  uniq_Op  uniq_Opnd  total_Op  \\\n",
       "0    ...          2        2                  2      1.2        1.2       1.2   \n",
       "1    ...          1        1                  1      1.0        1.0       1.0   \n",
       "2    ...          0        6                  0     15.0       15.0      44.0   \n",
       "3    ...          0        3                  0     16.0        8.0      31.0   \n",
       "4    ...          0        3                  0     16.0       12.0      46.0   \n",
       "..   ...        ...      ...                ...      ...        ...       ...   \n",
       "493  ...         13        2                  0     23.0       46.0     144.0   \n",
       "494  ...          7        4                  0     22.0       23.0      67.0   \n",
       "495  ...         59       35                  0     32.0       68.0     285.0   \n",
       "496  ...         12        4                  0     13.0       13.0      19.0   \n",
       "497  ...          7        0                  0     20.0       23.0      67.0   \n",
       "\n",
       "     total_Opnd  branchCount  defects  complexityEvaluation  \n",
       "0           1.2          1.4        0             Succesful  \n",
       "1           1.0          1.0        1             Succesful  \n",
       "2          19.0          9.0        0             Succesful  \n",
       "3          16.0          7.0        0             Succesful  \n",
       "4          26.0         11.0        0             Succesful  \n",
       "..          ...          ...      ...                   ...  \n",
       "493       112.0          5.0        1              Redesign  \n",
       "494        40.0          7.0        1             Succesful  \n",
       "495       190.0         21.0        1              Redesign  \n",
       "496        13.0          3.0        1             Succesful  \n",
       "497        37.0         11.0        1             Succesful  \n",
       "\n",
       "[498 rows x 23 columns]"
      ]
     },
     "execution_count": 21,
     "metadata": {},
     "output_type": "execute_result"
    }
   ],
   "source": [
    "evaluation_control(data)\n",
    "data\n"
   ]
  },
  {
   "cell_type": "code",
   "execution_count": 22,
   "id": "b9b9c3ea",
   "metadata": {
    "execution": {
     "iopub.execute_input": "2022-12-20T18:43:56.697300Z",
     "iopub.status.busy": "2022-12-20T18:43:56.696864Z",
     "iopub.status.idle": "2022-12-20T18:43:56.711164Z",
     "shell.execute_reply": "2022-12-20T18:43:56.709989Z"
    },
    "papermill": {
     "duration": 0.056459,
     "end_time": "2022-12-20T18:43:56.713676",
     "exception": false,
     "start_time": "2022-12-20T18:43:56.657217",
     "status": "completed"
    },
    "tags": []
   },
   "outputs": [
    {
     "name": "stdout",
     "output_type": "stream",
     "text": [
      "<class 'pandas.core.frame.DataFrame'>\n",
      "RangeIndex: 498 entries, 0 to 497\n",
      "Data columns (total 23 columns):\n",
      " #   Column                Non-Null Count  Dtype  \n",
      "---  ------                --------------  -----  \n",
      " 0   loc                   498 non-null    float64\n",
      " 1   v(g)                  498 non-null    float64\n",
      " 2   ev(g)                 498 non-null    float64\n",
      " 3   iv(g)                 498 non-null    float64\n",
      " 4   n                     498 non-null    float64\n",
      " 5   v                     498 non-null    float64\n",
      " 6   l                     498 non-null    float64\n",
      " 7   d                     498 non-null    float64\n",
      " 8   i                     498 non-null    float64\n",
      " 9   e                     498 non-null    float64\n",
      " 10  b                     498 non-null    float64\n",
      " 11  t                     498 non-null    float64\n",
      " 12  lOCode                498 non-null    int64  \n",
      " 13  lOComment             498 non-null    int64  \n",
      " 14  lOBlank               498 non-null    int64  \n",
      " 15  locCodeAndComment     498 non-null    int64  \n",
      " 16  uniq_Op               498 non-null    float64\n",
      " 17  uniq_Opnd             498 non-null    float64\n",
      " 18  total_Op              498 non-null    float64\n",
      " 19  total_Opnd            498 non-null    float64\n",
      " 20  branchCount           498 non-null    float64\n",
      " 21  defects               498 non-null    int64  \n",
      " 22  complexityEvaluation  498 non-null    object \n",
      "dtypes: float64(17), int64(5), object(1)\n",
      "memory usage: 89.6+ KB\n"
     ]
    }
   ],
   "source": [
    "data.info()"
   ]
  },
  {
   "cell_type": "code",
   "execution_count": 23,
   "id": "55d241d2",
   "metadata": {
    "execution": {
     "iopub.execute_input": "2022-12-20T18:43:56.792279Z",
     "iopub.status.busy": "2022-12-20T18:43:56.791848Z",
     "iopub.status.idle": "2022-12-20T18:43:56.800134Z",
     "shell.execute_reply": "2022-12-20T18:43:56.799290Z"
    },
    "papermill": {
     "duration": 0.050044,
     "end_time": "2022-12-20T18:43:56.802308",
     "exception": false,
     "start_time": "2022-12-20T18:43:56.752264",
     "status": "completed"
    },
    "tags": []
   },
   "outputs": [
    {
     "data": {
      "text/plain": [
       "complexityEvaluation\n",
       "Redesign     112\n",
       "Succesful    386\n",
       "dtype: int64"
      ]
     },
     "execution_count": 23,
     "metadata": {},
     "output_type": "execute_result"
    }
   ],
   "source": [
    "data.groupby(\"complexityEvaluation\").size()"
   ]
  },
  {
   "cell_type": "code",
   "execution_count": 24,
   "id": "6cf7ee36",
   "metadata": {
    "execution": {
     "iopub.execute_input": "2022-12-20T18:43:56.880570Z",
     "iopub.status.busy": "2022-12-20T18:43:56.879371Z",
     "iopub.status.idle": "2022-12-20T18:43:56.919320Z",
     "shell.execute_reply": "2022-12-20T18:43:56.918312Z"
    },
    "papermill": {
     "duration": 0.082133,
     "end_time": "2022-12-20T18:43:56.922109",
     "exception": false,
     "start_time": "2022-12-20T18:43:56.839976",
     "status": "completed"
    },
    "tags": []
   },
   "outputs": [
    {
     "data": {
      "application/vnd.plotly.v1+json": {
       "config": {
        "linkText": "Export to plot.ly",
        "plotlyServerURL": "https://plot.ly",
        "showLink": false
       },
       "data": [
        {
         "marker": {
          "color": "pink"
         },
         "name": "Complexity Evaluation",
         "opacity": 0.75,
         "type": "histogram",
         "x": [
          "Succesful",
          "Succesful",
          "Succesful",
          "Succesful",
          "Succesful",
          "Succesful",
          "Succesful",
          "Succesful",
          "Succesful",
          "Redesign",
          "Succesful",
          "Succesful",
          "Succesful",
          "Succesful",
          "Redesign",
          "Succesful",
          "Succesful",
          "Succesful",
          "Succesful",
          "Succesful",
          "Succesful",
          "Succesful",
          "Succesful",
          "Succesful",
          "Succesful",
          "Succesful",
          "Succesful",
          "Succesful",
          "Redesign",
          "Redesign",
          "Succesful",
          "Redesign",
          "Redesign",
          "Redesign",
          "Succesful",
          "Succesful",
          "Succesful",
          "Succesful",
          "Succesful",
          "Succesful",
          "Succesful",
          "Succesful",
          "Succesful",
          "Redesign",
          "Redesign",
          "Redesign",
          "Succesful",
          "Succesful",
          "Succesful",
          "Redesign",
          "Redesign",
          "Succesful",
          "Redesign",
          "Succesful",
          "Succesful",
          "Succesful",
          "Succesful",
          "Succesful",
          "Succesful",
          "Redesign",
          "Succesful",
          "Succesful",
          "Succesful",
          "Succesful",
          "Succesful",
          "Succesful",
          "Succesful",
          "Redesign",
          "Succesful",
          "Succesful",
          "Redesign",
          "Succesful",
          "Succesful",
          "Redesign",
          "Succesful",
          "Succesful",
          "Succesful",
          "Succesful",
          "Succesful",
          "Succesful",
          "Succesful",
          "Succesful",
          "Succesful",
          "Succesful",
          "Succesful",
          "Succesful",
          "Succesful",
          "Succesful",
          "Succesful",
          "Succesful",
          "Succesful",
          "Succesful",
          "Succesful",
          "Succesful",
          "Succesful",
          "Succesful",
          "Succesful",
          "Succesful",
          "Succesful",
          "Succesful",
          "Succesful",
          "Succesful",
          "Redesign",
          "Succesful",
          "Succesful",
          "Redesign",
          "Succesful",
          "Succesful",
          "Redesign",
          "Succesful",
          "Succesful",
          "Succesful",
          "Redesign",
          "Redesign",
          "Succesful",
          "Succesful",
          "Succesful",
          "Succesful",
          "Redesign",
          "Redesign",
          "Succesful",
          "Redesign",
          "Succesful",
          "Succesful",
          "Succesful",
          "Succesful",
          "Redesign",
          "Redesign",
          "Succesful",
          "Succesful",
          "Succesful",
          "Succesful",
          "Succesful",
          "Succesful",
          "Succesful",
          "Redesign",
          "Succesful",
          "Succesful",
          "Succesful",
          "Redesign",
          "Succesful",
          "Succesful",
          "Succesful",
          "Succesful",
          "Succesful",
          "Succesful",
          "Succesful",
          "Succesful",
          "Succesful",
          "Succesful",
          "Succesful",
          "Succesful",
          "Redesign",
          "Succesful",
          "Succesful",
          "Succesful",
          "Succesful",
          "Redesign",
          "Redesign",
          "Succesful",
          "Succesful",
          "Redesign",
          "Succesful",
          "Succesful",
          "Succesful",
          "Succesful",
          "Succesful",
          "Succesful",
          "Succesful",
          "Succesful",
          "Succesful",
          "Succesful",
          "Redesign",
          "Succesful",
          "Succesful",
          "Succesful",
          "Succesful",
          "Succesful",
          "Succesful",
          "Succesful",
          "Succesful",
          "Succesful",
          "Succesful",
          "Succesful",
          "Succesful",
          "Succesful",
          "Succesful",
          "Succesful",
          "Redesign",
          "Succesful",
          "Redesign",
          "Succesful",
          "Succesful",
          "Succesful",
          "Succesful",
          "Succesful",
          "Succesful",
          "Succesful",
          "Succesful",
          "Succesful",
          "Succesful",
          "Redesign",
          "Succesful",
          "Succesful",
          "Succesful",
          "Succesful",
          "Redesign",
          "Succesful",
          "Succesful",
          "Succesful",
          "Succesful",
          "Redesign",
          "Succesful",
          "Succesful",
          "Succesful",
          "Succesful",
          "Succesful",
          "Succesful",
          "Succesful",
          "Succesful",
          "Succesful",
          "Succesful",
          "Succesful",
          "Succesful",
          "Succesful",
          "Redesign",
          "Succesful",
          "Succesful",
          "Succesful",
          "Succesful",
          "Succesful",
          "Succesful",
          "Succesful",
          "Succesful",
          "Succesful",
          "Succesful",
          "Succesful",
          "Succesful",
          "Succesful",
          "Succesful",
          "Redesign",
          "Redesign",
          "Succesful",
          "Redesign",
          "Succesful",
          "Succesful",
          "Succesful",
          "Succesful",
          "Succesful",
          "Succesful",
          "Succesful",
          "Succesful",
          "Succesful",
          "Redesign",
          "Succesful",
          "Redesign",
          "Redesign",
          "Succesful",
          "Succesful",
          "Succesful",
          "Succesful",
          "Succesful",
          "Succesful",
          "Succesful",
          "Succesful",
          "Redesign",
          "Succesful",
          "Succesful",
          "Succesful",
          "Succesful",
          "Succesful",
          "Succesful",
          "Succesful",
          "Redesign",
          "Redesign",
          "Redesign",
          "Redesign",
          "Succesful",
          "Succesful",
          "Succesful",
          "Succesful",
          "Succesful",
          "Redesign",
          "Redesign",
          "Redesign",
          "Redesign",
          "Succesful",
          "Succesful",
          "Succesful",
          "Succesful",
          "Redesign",
          "Redesign",
          "Redesign",
          "Redesign",
          "Redesign",
          "Succesful",
          "Redesign",
          "Redesign",
          "Succesful",
          "Succesful",
          "Redesign",
          "Succesful",
          "Redesign",
          "Succesful",
          "Succesful",
          "Succesful",
          "Succesful",
          "Succesful",
          "Redesign",
          "Redesign",
          "Succesful",
          "Succesful",
          "Succesful",
          "Succesful",
          "Succesful",
          "Succesful",
          "Succesful",
          "Succesful",
          "Succesful",
          "Succesful",
          "Succesful",
          "Succesful",
          "Succesful",
          "Succesful",
          "Succesful",
          "Succesful",
          "Succesful",
          "Succesful",
          "Succesful",
          "Succesful",
          "Succesful",
          "Succesful",
          "Succesful",
          "Redesign",
          "Succesful",
          "Succesful",
          "Succesful",
          "Succesful",
          "Succesful",
          "Succesful",
          "Succesful",
          "Succesful",
          "Succesful",
          "Redesign",
          "Succesful",
          "Redesign",
          "Redesign",
          "Succesful",
          "Succesful",
          "Succesful",
          "Succesful",
          "Redesign",
          "Redesign",
          "Succesful",
          "Redesign",
          "Redesign",
          "Succesful",
          "Redesign",
          "Redesign",
          "Succesful",
          "Redesign",
          "Redesign",
          "Succesful",
          "Succesful",
          "Redesign",
          "Redesign",
          "Succesful",
          "Succesful",
          "Succesful",
          "Redesign",
          "Redesign",
          "Redesign",
          "Redesign",
          "Succesful",
          "Succesful",
          "Succesful",
          "Succesful",
          "Succesful",
          "Succesful",
          "Succesful",
          "Succesful",
          "Succesful",
          "Succesful",
          "Succesful",
          "Succesful",
          "Succesful",
          "Succesful",
          "Succesful",
          "Succesful",
          "Succesful",
          "Succesful",
          "Succesful",
          "Succesful",
          "Succesful",
          "Succesful",
          "Succesful",
          "Succesful",
          "Succesful",
          "Succesful",
          "Succesful",
          "Succesful",
          "Succesful",
          "Succesful",
          "Succesful",
          "Succesful",
          "Succesful",
          "Succesful",
          "Succesful",
          "Succesful",
          "Succesful",
          "Succesful",
          "Succesful",
          "Succesful",
          "Succesful",
          "Succesful",
          "Succesful",
          "Succesful",
          "Succesful",
          "Succesful",
          "Succesful",
          "Redesign",
          "Succesful",
          "Succesful",
          "Succesful",
          "Succesful",
          "Succesful",
          "Redesign",
          "Succesful",
          "Succesful",
          "Succesful",
          "Succesful",
          "Succesful",
          "Succesful",
          "Succesful",
          "Redesign",
          "Redesign",
          "Succesful",
          "Succesful",
          "Succesful",
          "Redesign",
          "Succesful",
          "Succesful",
          "Succesful",
          "Succesful",
          "Succesful",
          "Succesful",
          "Succesful",
          "Succesful",
          "Succesful",
          "Succesful",
          "Succesful",
          "Succesful",
          "Redesign",
          "Succesful",
          "Succesful",
          "Redesign",
          "Redesign",
          "Redesign",
          "Redesign",
          "Succesful",
          "Succesful",
          "Redesign",
          "Succesful",
          "Redesign",
          "Succesful",
          "Redesign",
          "Redesign",
          "Redesign",
          "Redesign",
          "Redesign",
          "Redesign",
          "Redesign",
          "Redesign",
          "Succesful",
          "Succesful",
          "Redesign",
          "Succesful",
          "Succesful",
          "Redesign",
          "Succesful",
          "Redesign",
          "Succesful",
          "Redesign",
          "Succesful",
          "Redesign",
          "Succesful",
          "Succesful",
          "Succesful",
          "Succesful",
          "Succesful",
          "Succesful",
          "Succesful",
          "Redesign",
          "Redesign",
          "Succesful",
          "Redesign",
          "Succesful",
          "Succesful"
         ]
        }
       ],
       "layout": {
        "barmode": "overlay",
        "template": {
         "data": {
          "bar": [
           {
            "error_x": {
             "color": "#2a3f5f"
            },
            "error_y": {
             "color": "#2a3f5f"
            },
            "marker": {
             "line": {
              "color": "#E5ECF6",
              "width": 0.5
             },
             "pattern": {
              "fillmode": "overlay",
              "size": 10,
              "solidity": 0.2
             }
            },
            "type": "bar"
           }
          ],
          "barpolar": [
           {
            "marker": {
             "line": {
              "color": "#E5ECF6",
              "width": 0.5
             },
             "pattern": {
              "fillmode": "overlay",
              "size": 10,
              "solidity": 0.2
             }
            },
            "type": "barpolar"
           }
          ],
          "carpet": [
           {
            "aaxis": {
             "endlinecolor": "#2a3f5f",
             "gridcolor": "white",
             "linecolor": "white",
             "minorgridcolor": "white",
             "startlinecolor": "#2a3f5f"
            },
            "baxis": {
             "endlinecolor": "#2a3f5f",
             "gridcolor": "white",
             "linecolor": "white",
             "minorgridcolor": "white",
             "startlinecolor": "#2a3f5f"
            },
            "type": "carpet"
           }
          ],
          "choropleth": [
           {
            "colorbar": {
             "outlinewidth": 0,
             "ticks": ""
            },
            "type": "choropleth"
           }
          ],
          "contour": [
           {
            "colorbar": {
             "outlinewidth": 0,
             "ticks": ""
            },
            "colorscale": [
             [
              0.0,
              "#0d0887"
             ],
             [
              0.1111111111111111,
              "#46039f"
             ],
             [
              0.2222222222222222,
              "#7201a8"
             ],
             [
              0.3333333333333333,
              "#9c179e"
             ],
             [
              0.4444444444444444,
              "#bd3786"
             ],
             [
              0.5555555555555556,
              "#d8576b"
             ],
             [
              0.6666666666666666,
              "#ed7953"
             ],
             [
              0.7777777777777778,
              "#fb9f3a"
             ],
             [
              0.8888888888888888,
              "#fdca26"
             ],
             [
              1.0,
              "#f0f921"
             ]
            ],
            "type": "contour"
           }
          ],
          "contourcarpet": [
           {
            "colorbar": {
             "outlinewidth": 0,
             "ticks": ""
            },
            "type": "contourcarpet"
           }
          ],
          "heatmap": [
           {
            "colorbar": {
             "outlinewidth": 0,
             "ticks": ""
            },
            "colorscale": [
             [
              0.0,
              "#0d0887"
             ],
             [
              0.1111111111111111,
              "#46039f"
             ],
             [
              0.2222222222222222,
              "#7201a8"
             ],
             [
              0.3333333333333333,
              "#9c179e"
             ],
             [
              0.4444444444444444,
              "#bd3786"
             ],
             [
              0.5555555555555556,
              "#d8576b"
             ],
             [
              0.6666666666666666,
              "#ed7953"
             ],
             [
              0.7777777777777778,
              "#fb9f3a"
             ],
             [
              0.8888888888888888,
              "#fdca26"
             ],
             [
              1.0,
              "#f0f921"
             ]
            ],
            "type": "heatmap"
           }
          ],
          "heatmapgl": [
           {
            "colorbar": {
             "outlinewidth": 0,
             "ticks": ""
            },
            "colorscale": [
             [
              0.0,
              "#0d0887"
             ],
             [
              0.1111111111111111,
              "#46039f"
             ],
             [
              0.2222222222222222,
              "#7201a8"
             ],
             [
              0.3333333333333333,
              "#9c179e"
             ],
             [
              0.4444444444444444,
              "#bd3786"
             ],
             [
              0.5555555555555556,
              "#d8576b"
             ],
             [
              0.6666666666666666,
              "#ed7953"
             ],
             [
              0.7777777777777778,
              "#fb9f3a"
             ],
             [
              0.8888888888888888,
              "#fdca26"
             ],
             [
              1.0,
              "#f0f921"
             ]
            ],
            "type": "heatmapgl"
           }
          ],
          "histogram": [
           {
            "marker": {
             "pattern": {
              "fillmode": "overlay",
              "size": 10,
              "solidity": 0.2
             }
            },
            "type": "histogram"
           }
          ],
          "histogram2d": [
           {
            "colorbar": {
             "outlinewidth": 0,
             "ticks": ""
            },
            "colorscale": [
             [
              0.0,
              "#0d0887"
             ],
             [
              0.1111111111111111,
              "#46039f"
             ],
             [
              0.2222222222222222,
              "#7201a8"
             ],
             [
              0.3333333333333333,
              "#9c179e"
             ],
             [
              0.4444444444444444,
              "#bd3786"
             ],
             [
              0.5555555555555556,
              "#d8576b"
             ],
             [
              0.6666666666666666,
              "#ed7953"
             ],
             [
              0.7777777777777778,
              "#fb9f3a"
             ],
             [
              0.8888888888888888,
              "#fdca26"
             ],
             [
              1.0,
              "#f0f921"
             ]
            ],
            "type": "histogram2d"
           }
          ],
          "histogram2dcontour": [
           {
            "colorbar": {
             "outlinewidth": 0,
             "ticks": ""
            },
            "colorscale": [
             [
              0.0,
              "#0d0887"
             ],
             [
              0.1111111111111111,
              "#46039f"
             ],
             [
              0.2222222222222222,
              "#7201a8"
             ],
             [
              0.3333333333333333,
              "#9c179e"
             ],
             [
              0.4444444444444444,
              "#bd3786"
             ],
             [
              0.5555555555555556,
              "#d8576b"
             ],
             [
              0.6666666666666666,
              "#ed7953"
             ],
             [
              0.7777777777777778,
              "#fb9f3a"
             ],
             [
              0.8888888888888888,
              "#fdca26"
             ],
             [
              1.0,
              "#f0f921"
             ]
            ],
            "type": "histogram2dcontour"
           }
          ],
          "mesh3d": [
           {
            "colorbar": {
             "outlinewidth": 0,
             "ticks": ""
            },
            "type": "mesh3d"
           }
          ],
          "parcoords": [
           {
            "line": {
             "colorbar": {
              "outlinewidth": 0,
              "ticks": ""
             }
            },
            "type": "parcoords"
           }
          ],
          "pie": [
           {
            "automargin": true,
            "type": "pie"
           }
          ],
          "scatter": [
           {
            "fillpattern": {
             "fillmode": "overlay",
             "size": 10,
             "solidity": 0.2
            },
            "type": "scatter"
           }
          ],
          "scatter3d": [
           {
            "line": {
             "colorbar": {
              "outlinewidth": 0,
              "ticks": ""
             }
            },
            "marker": {
             "colorbar": {
              "outlinewidth": 0,
              "ticks": ""
             }
            },
            "type": "scatter3d"
           }
          ],
          "scattercarpet": [
           {
            "marker": {
             "colorbar": {
              "outlinewidth": 0,
              "ticks": ""
             }
            },
            "type": "scattercarpet"
           }
          ],
          "scattergeo": [
           {
            "marker": {
             "colorbar": {
              "outlinewidth": 0,
              "ticks": ""
             }
            },
            "type": "scattergeo"
           }
          ],
          "scattergl": [
           {
            "marker": {
             "colorbar": {
              "outlinewidth": 0,
              "ticks": ""
             }
            },
            "type": "scattergl"
           }
          ],
          "scattermapbox": [
           {
            "marker": {
             "colorbar": {
              "outlinewidth": 0,
              "ticks": ""
             }
            },
            "type": "scattermapbox"
           }
          ],
          "scatterpolar": [
           {
            "marker": {
             "colorbar": {
              "outlinewidth": 0,
              "ticks": ""
             }
            },
            "type": "scatterpolar"
           }
          ],
          "scatterpolargl": [
           {
            "marker": {
             "colorbar": {
              "outlinewidth": 0,
              "ticks": ""
             }
            },
            "type": "scatterpolargl"
           }
          ],
          "scatterternary": [
           {
            "marker": {
             "colorbar": {
              "outlinewidth": 0,
              "ticks": ""
             }
            },
            "type": "scatterternary"
           }
          ],
          "surface": [
           {
            "colorbar": {
             "outlinewidth": 0,
             "ticks": ""
            },
            "colorscale": [
             [
              0.0,
              "#0d0887"
             ],
             [
              0.1111111111111111,
              "#46039f"
             ],
             [
              0.2222222222222222,
              "#7201a8"
             ],
             [
              0.3333333333333333,
              "#9c179e"
             ],
             [
              0.4444444444444444,
              "#bd3786"
             ],
             [
              0.5555555555555556,
              "#d8576b"
             ],
             [
              0.6666666666666666,
              "#ed7953"
             ],
             [
              0.7777777777777778,
              "#fb9f3a"
             ],
             [
              0.8888888888888888,
              "#fdca26"
             ],
             [
              1.0,
              "#f0f921"
             ]
            ],
            "type": "surface"
           }
          ],
          "table": [
           {
            "cells": {
             "fill": {
              "color": "#EBF0F8"
             },
             "line": {
              "color": "white"
             }
            },
            "header": {
             "fill": {
              "color": "#C8D4E3"
             },
             "line": {
              "color": "white"
             }
            },
            "type": "table"
           }
          ]
         },
         "layout": {
          "annotationdefaults": {
           "arrowcolor": "#2a3f5f",
           "arrowhead": 0,
           "arrowwidth": 1
          },
          "autotypenumbers": "strict",
          "coloraxis": {
           "colorbar": {
            "outlinewidth": 0,
            "ticks": ""
           }
          },
          "colorscale": {
           "diverging": [
            [
             0,
             "#8e0152"
            ],
            [
             0.1,
             "#c51b7d"
            ],
            [
             0.2,
             "#de77ae"
            ],
            [
             0.3,
             "#f1b6da"
            ],
            [
             0.4,
             "#fde0ef"
            ],
            [
             0.5,
             "#f7f7f7"
            ],
            [
             0.6,
             "#e6f5d0"
            ],
            [
             0.7,
             "#b8e186"
            ],
            [
             0.8,
             "#7fbc41"
            ],
            [
             0.9,
             "#4d9221"
            ],
            [
             1,
             "#276419"
            ]
           ],
           "sequential": [
            [
             0.0,
             "#0d0887"
            ],
            [
             0.1111111111111111,
             "#46039f"
            ],
            [
             0.2222222222222222,
             "#7201a8"
            ],
            [
             0.3333333333333333,
             "#9c179e"
            ],
            [
             0.4444444444444444,
             "#bd3786"
            ],
            [
             0.5555555555555556,
             "#d8576b"
            ],
            [
             0.6666666666666666,
             "#ed7953"
            ],
            [
             0.7777777777777778,
             "#fb9f3a"
            ],
            [
             0.8888888888888888,
             "#fdca26"
            ],
            [
             1.0,
             "#f0f921"
            ]
           ],
           "sequentialminus": [
            [
             0.0,
             "#0d0887"
            ],
            [
             0.1111111111111111,
             "#46039f"
            ],
            [
             0.2222222222222222,
             "#7201a8"
            ],
            [
             0.3333333333333333,
             "#9c179e"
            ],
            [
             0.4444444444444444,
             "#bd3786"
            ],
            [
             0.5555555555555556,
             "#d8576b"
            ],
            [
             0.6666666666666666,
             "#ed7953"
            ],
            [
             0.7777777777777778,
             "#fb9f3a"
            ],
            [
             0.8888888888888888,
             "#fdca26"
            ],
            [
             1.0,
             "#f0f921"
            ]
           ]
          },
          "colorway": [
           "#636efa",
           "#EF553B",
           "#00cc96",
           "#ab63fa",
           "#FFA15A",
           "#19d3f3",
           "#FF6692",
           "#B6E880",
           "#FF97FF",
           "#FECB52"
          ],
          "font": {
           "color": "#2a3f5f"
          },
          "geo": {
           "bgcolor": "white",
           "lakecolor": "white",
           "landcolor": "#E5ECF6",
           "showlakes": true,
           "showland": true,
           "subunitcolor": "white"
          },
          "hoverlabel": {
           "align": "left"
          },
          "hovermode": "closest",
          "mapbox": {
           "style": "light"
          },
          "paper_bgcolor": "white",
          "plot_bgcolor": "#E5ECF6",
          "polar": {
           "angularaxis": {
            "gridcolor": "white",
            "linecolor": "white",
            "ticks": ""
           },
           "bgcolor": "#E5ECF6",
           "radialaxis": {
            "gridcolor": "white",
            "linecolor": "white",
            "ticks": ""
           }
          },
          "scene": {
           "xaxis": {
            "backgroundcolor": "#E5ECF6",
            "gridcolor": "white",
            "gridwidth": 2,
            "linecolor": "white",
            "showbackground": true,
            "ticks": "",
            "zerolinecolor": "white"
           },
           "yaxis": {
            "backgroundcolor": "#E5ECF6",
            "gridcolor": "white",
            "gridwidth": 2,
            "linecolor": "white",
            "showbackground": true,
            "ticks": "",
            "zerolinecolor": "white"
           },
           "zaxis": {
            "backgroundcolor": "#E5ECF6",
            "gridcolor": "white",
            "gridwidth": 2,
            "linecolor": "white",
            "showbackground": true,
            "ticks": "",
            "zerolinecolor": "white"
           }
          },
          "shapedefaults": {
           "line": {
            "color": "#2a3f5f"
           }
          },
          "ternary": {
           "aaxis": {
            "gridcolor": "white",
            "linecolor": "white",
            "ticks": ""
           },
           "baxis": {
            "gridcolor": "white",
            "linecolor": "white",
            "ticks": ""
           },
           "bgcolor": "#E5ECF6",
           "caxis": {
            "gridcolor": "white",
            "linecolor": "white",
            "ticks": ""
           }
          },
          "title": {
           "x": 0.05
          },
          "xaxis": {
           "automargin": true,
           "gridcolor": "white",
           "linecolor": "white",
           "ticks": "",
           "title": {
            "standoff": 15
           },
           "zerolinecolor": "white",
           "zerolinewidth": 2
          },
          "yaxis": {
           "automargin": true,
           "gridcolor": "white",
           "linecolor": "white",
           "ticks": "",
           "title": {
            "standoff": 15
           },
           "zerolinecolor": "white",
           "zerolinewidth": 2
          }
         }
        },
        "title": {
         "text": "Complexity Evaluation"
        },
        "xaxis": {
         "title": {
          "text": "Succesful - Redesign"
         }
        },
        "yaxis": {
         "title": {
          "text": "Frequency"
         }
        }
       }
      },
      "text/html": [
       "<div>                            <div id=\"f28687e3-bd76-4bd5-b25d-cc209c0fd4db\" class=\"plotly-graph-div\" style=\"height:525px; width:100%;\"></div>            <script type=\"text/javascript\">                require([\"plotly\"], function(Plotly) {                    window.PLOTLYENV=window.PLOTLYENV || {};                                    if (document.getElementById(\"f28687e3-bd76-4bd5-b25d-cc209c0fd4db\")) {                    Plotly.newPlot(                        \"f28687e3-bd76-4bd5-b25d-cc209c0fd4db\",                        [{\"marker\":{\"color\":\"pink\"},\"name\":\"Complexity Evaluation\",\"opacity\":0.75,\"x\":[\"Succesful\",\"Succesful\",\"Succesful\",\"Succesful\",\"Succesful\",\"Succesful\",\"Succesful\",\"Succesful\",\"Succesful\",\"Redesign\",\"Succesful\",\"Succesful\",\"Succesful\",\"Succesful\",\"Redesign\",\"Succesful\",\"Succesful\",\"Succesful\",\"Succesful\",\"Succesful\",\"Succesful\",\"Succesful\",\"Succesful\",\"Succesful\",\"Succesful\",\"Succesful\",\"Succesful\",\"Succesful\",\"Redesign\",\"Redesign\",\"Succesful\",\"Redesign\",\"Redesign\",\"Redesign\",\"Succesful\",\"Succesful\",\"Succesful\",\"Succesful\",\"Succesful\",\"Succesful\",\"Succesful\",\"Succesful\",\"Succesful\",\"Redesign\",\"Redesign\",\"Redesign\",\"Succesful\",\"Succesful\",\"Succesful\",\"Redesign\",\"Redesign\",\"Succesful\",\"Redesign\",\"Succesful\",\"Succesful\",\"Succesful\",\"Succesful\",\"Succesful\",\"Succesful\",\"Redesign\",\"Succesful\",\"Succesful\",\"Succesful\",\"Succesful\",\"Succesful\",\"Succesful\",\"Succesful\",\"Redesign\",\"Succesful\",\"Succesful\",\"Redesign\",\"Succesful\",\"Succesful\",\"Redesign\",\"Succesful\",\"Succesful\",\"Succesful\",\"Succesful\",\"Succesful\",\"Succesful\",\"Succesful\",\"Succesful\",\"Succesful\",\"Succesful\",\"Succesful\",\"Succesful\",\"Succesful\",\"Succesful\",\"Succesful\",\"Succesful\",\"Succesful\",\"Succesful\",\"Succesful\",\"Succesful\",\"Succesful\",\"Succesful\",\"Succesful\",\"Succesful\",\"Succesful\",\"Succesful\",\"Succesful\",\"Succesful\",\"Redesign\",\"Succesful\",\"Succesful\",\"Redesign\",\"Succesful\",\"Succesful\",\"Redesign\",\"Succesful\",\"Succesful\",\"Succesful\",\"Redesign\",\"Redesign\",\"Succesful\",\"Succesful\",\"Succesful\",\"Succesful\",\"Redesign\",\"Redesign\",\"Succesful\",\"Redesign\",\"Succesful\",\"Succesful\",\"Succesful\",\"Succesful\",\"Redesign\",\"Redesign\",\"Succesful\",\"Succesful\",\"Succesful\",\"Succesful\",\"Succesful\",\"Succesful\",\"Succesful\",\"Redesign\",\"Succesful\",\"Succesful\",\"Succesful\",\"Redesign\",\"Succesful\",\"Succesful\",\"Succesful\",\"Succesful\",\"Succesful\",\"Succesful\",\"Succesful\",\"Succesful\",\"Succesful\",\"Succesful\",\"Succesful\",\"Succesful\",\"Redesign\",\"Succesful\",\"Succesful\",\"Succesful\",\"Succesful\",\"Redesign\",\"Redesign\",\"Succesful\",\"Succesful\",\"Redesign\",\"Succesful\",\"Succesful\",\"Succesful\",\"Succesful\",\"Succesful\",\"Succesful\",\"Succesful\",\"Succesful\",\"Succesful\",\"Succesful\",\"Redesign\",\"Succesful\",\"Succesful\",\"Succesful\",\"Succesful\",\"Succesful\",\"Succesful\",\"Succesful\",\"Succesful\",\"Succesful\",\"Succesful\",\"Succesful\",\"Succesful\",\"Succesful\",\"Succesful\",\"Succesful\",\"Redesign\",\"Succesful\",\"Redesign\",\"Succesful\",\"Succesful\",\"Succesful\",\"Succesful\",\"Succesful\",\"Succesful\",\"Succesful\",\"Succesful\",\"Succesful\",\"Succesful\",\"Redesign\",\"Succesful\",\"Succesful\",\"Succesful\",\"Succesful\",\"Redesign\",\"Succesful\",\"Succesful\",\"Succesful\",\"Succesful\",\"Redesign\",\"Succesful\",\"Succesful\",\"Succesful\",\"Succesful\",\"Succesful\",\"Succesful\",\"Succesful\",\"Succesful\",\"Succesful\",\"Succesful\",\"Succesful\",\"Succesful\",\"Succesful\",\"Redesign\",\"Succesful\",\"Succesful\",\"Succesful\",\"Succesful\",\"Succesful\",\"Succesful\",\"Succesful\",\"Succesful\",\"Succesful\",\"Succesful\",\"Succesful\",\"Succesful\",\"Succesful\",\"Succesful\",\"Redesign\",\"Redesign\",\"Succesful\",\"Redesign\",\"Succesful\",\"Succesful\",\"Succesful\",\"Succesful\",\"Succesful\",\"Succesful\",\"Succesful\",\"Succesful\",\"Succesful\",\"Redesign\",\"Succesful\",\"Redesign\",\"Redesign\",\"Succesful\",\"Succesful\",\"Succesful\",\"Succesful\",\"Succesful\",\"Succesful\",\"Succesful\",\"Succesful\",\"Redesign\",\"Succesful\",\"Succesful\",\"Succesful\",\"Succesful\",\"Succesful\",\"Succesful\",\"Succesful\",\"Redesign\",\"Redesign\",\"Redesign\",\"Redesign\",\"Succesful\",\"Succesful\",\"Succesful\",\"Succesful\",\"Succesful\",\"Redesign\",\"Redesign\",\"Redesign\",\"Redesign\",\"Succesful\",\"Succesful\",\"Succesful\",\"Succesful\",\"Redesign\",\"Redesign\",\"Redesign\",\"Redesign\",\"Redesign\",\"Succesful\",\"Redesign\",\"Redesign\",\"Succesful\",\"Succesful\",\"Redesign\",\"Succesful\",\"Redesign\",\"Succesful\",\"Succesful\",\"Succesful\",\"Succesful\",\"Succesful\",\"Redesign\",\"Redesign\",\"Succesful\",\"Succesful\",\"Succesful\",\"Succesful\",\"Succesful\",\"Succesful\",\"Succesful\",\"Succesful\",\"Succesful\",\"Succesful\",\"Succesful\",\"Succesful\",\"Succesful\",\"Succesful\",\"Succesful\",\"Succesful\",\"Succesful\",\"Succesful\",\"Succesful\",\"Succesful\",\"Succesful\",\"Succesful\",\"Succesful\",\"Redesign\",\"Succesful\",\"Succesful\",\"Succesful\",\"Succesful\",\"Succesful\",\"Succesful\",\"Succesful\",\"Succesful\",\"Succesful\",\"Redesign\",\"Succesful\",\"Redesign\",\"Redesign\",\"Succesful\",\"Succesful\",\"Succesful\",\"Succesful\",\"Redesign\",\"Redesign\",\"Succesful\",\"Redesign\",\"Redesign\",\"Succesful\",\"Redesign\",\"Redesign\",\"Succesful\",\"Redesign\",\"Redesign\",\"Succesful\",\"Succesful\",\"Redesign\",\"Redesign\",\"Succesful\",\"Succesful\",\"Succesful\",\"Redesign\",\"Redesign\",\"Redesign\",\"Redesign\",\"Succesful\",\"Succesful\",\"Succesful\",\"Succesful\",\"Succesful\",\"Succesful\",\"Succesful\",\"Succesful\",\"Succesful\",\"Succesful\",\"Succesful\",\"Succesful\",\"Succesful\",\"Succesful\",\"Succesful\",\"Succesful\",\"Succesful\",\"Succesful\",\"Succesful\",\"Succesful\",\"Succesful\",\"Succesful\",\"Succesful\",\"Succesful\",\"Succesful\",\"Succesful\",\"Succesful\",\"Succesful\",\"Succesful\",\"Succesful\",\"Succesful\",\"Succesful\",\"Succesful\",\"Succesful\",\"Succesful\",\"Succesful\",\"Succesful\",\"Succesful\",\"Succesful\",\"Succesful\",\"Succesful\",\"Succesful\",\"Succesful\",\"Succesful\",\"Succesful\",\"Succesful\",\"Succesful\",\"Redesign\",\"Succesful\",\"Succesful\",\"Succesful\",\"Succesful\",\"Succesful\",\"Redesign\",\"Succesful\",\"Succesful\",\"Succesful\",\"Succesful\",\"Succesful\",\"Succesful\",\"Succesful\",\"Redesign\",\"Redesign\",\"Succesful\",\"Succesful\",\"Succesful\",\"Redesign\",\"Succesful\",\"Succesful\",\"Succesful\",\"Succesful\",\"Succesful\",\"Succesful\",\"Succesful\",\"Succesful\",\"Succesful\",\"Succesful\",\"Succesful\",\"Succesful\",\"Redesign\",\"Succesful\",\"Succesful\",\"Redesign\",\"Redesign\",\"Redesign\",\"Redesign\",\"Succesful\",\"Succesful\",\"Redesign\",\"Succesful\",\"Redesign\",\"Succesful\",\"Redesign\",\"Redesign\",\"Redesign\",\"Redesign\",\"Redesign\",\"Redesign\",\"Redesign\",\"Redesign\",\"Succesful\",\"Succesful\",\"Redesign\",\"Succesful\",\"Succesful\",\"Redesign\",\"Succesful\",\"Redesign\",\"Succesful\",\"Redesign\",\"Succesful\",\"Redesign\",\"Succesful\",\"Succesful\",\"Succesful\",\"Succesful\",\"Succesful\",\"Succesful\",\"Succesful\",\"Redesign\",\"Redesign\",\"Succesful\",\"Redesign\",\"Succesful\",\"Succesful\"],\"type\":\"histogram\"}],                        {\"barmode\":\"overlay\",\"template\":{\"data\":{\"barpolar\":[{\"marker\":{\"line\":{\"color\":\"#E5ECF6\",\"width\":0.5},\"pattern\":{\"fillmode\":\"overlay\",\"size\":10,\"solidity\":0.2}},\"type\":\"barpolar\"}],\"bar\":[{\"error_x\":{\"color\":\"#2a3f5f\"},\"error_y\":{\"color\":\"#2a3f5f\"},\"marker\":{\"line\":{\"color\":\"#E5ECF6\",\"width\":0.5},\"pattern\":{\"fillmode\":\"overlay\",\"size\":10,\"solidity\":0.2}},\"type\":\"bar\"}],\"carpet\":[{\"aaxis\":{\"endlinecolor\":\"#2a3f5f\",\"gridcolor\":\"white\",\"linecolor\":\"white\",\"minorgridcolor\":\"white\",\"startlinecolor\":\"#2a3f5f\"},\"baxis\":{\"endlinecolor\":\"#2a3f5f\",\"gridcolor\":\"white\",\"linecolor\":\"white\",\"minorgridcolor\":\"white\",\"startlinecolor\":\"#2a3f5f\"},\"type\":\"carpet\"}],\"choropleth\":[{\"colorbar\":{\"outlinewidth\":0,\"ticks\":\"\"},\"type\":\"choropleth\"}],\"contourcarpet\":[{\"colorbar\":{\"outlinewidth\":0,\"ticks\":\"\"},\"type\":\"contourcarpet\"}],\"contour\":[{\"colorbar\":{\"outlinewidth\":0,\"ticks\":\"\"},\"colorscale\":[[0.0,\"#0d0887\"],[0.1111111111111111,\"#46039f\"],[0.2222222222222222,\"#7201a8\"],[0.3333333333333333,\"#9c179e\"],[0.4444444444444444,\"#bd3786\"],[0.5555555555555556,\"#d8576b\"],[0.6666666666666666,\"#ed7953\"],[0.7777777777777778,\"#fb9f3a\"],[0.8888888888888888,\"#fdca26\"],[1.0,\"#f0f921\"]],\"type\":\"contour\"}],\"heatmapgl\":[{\"colorbar\":{\"outlinewidth\":0,\"ticks\":\"\"},\"colorscale\":[[0.0,\"#0d0887\"],[0.1111111111111111,\"#46039f\"],[0.2222222222222222,\"#7201a8\"],[0.3333333333333333,\"#9c179e\"],[0.4444444444444444,\"#bd3786\"],[0.5555555555555556,\"#d8576b\"],[0.6666666666666666,\"#ed7953\"],[0.7777777777777778,\"#fb9f3a\"],[0.8888888888888888,\"#fdca26\"],[1.0,\"#f0f921\"]],\"type\":\"heatmapgl\"}],\"heatmap\":[{\"colorbar\":{\"outlinewidth\":0,\"ticks\":\"\"},\"colorscale\":[[0.0,\"#0d0887\"],[0.1111111111111111,\"#46039f\"],[0.2222222222222222,\"#7201a8\"],[0.3333333333333333,\"#9c179e\"],[0.4444444444444444,\"#bd3786\"],[0.5555555555555556,\"#d8576b\"],[0.6666666666666666,\"#ed7953\"],[0.7777777777777778,\"#fb9f3a\"],[0.8888888888888888,\"#fdca26\"],[1.0,\"#f0f921\"]],\"type\":\"heatmap\"}],\"histogram2dcontour\":[{\"colorbar\":{\"outlinewidth\":0,\"ticks\":\"\"},\"colorscale\":[[0.0,\"#0d0887\"],[0.1111111111111111,\"#46039f\"],[0.2222222222222222,\"#7201a8\"],[0.3333333333333333,\"#9c179e\"],[0.4444444444444444,\"#bd3786\"],[0.5555555555555556,\"#d8576b\"],[0.6666666666666666,\"#ed7953\"],[0.7777777777777778,\"#fb9f3a\"],[0.8888888888888888,\"#fdca26\"],[1.0,\"#f0f921\"]],\"type\":\"histogram2dcontour\"}],\"histogram2d\":[{\"colorbar\":{\"outlinewidth\":0,\"ticks\":\"\"},\"colorscale\":[[0.0,\"#0d0887\"],[0.1111111111111111,\"#46039f\"],[0.2222222222222222,\"#7201a8\"],[0.3333333333333333,\"#9c179e\"],[0.4444444444444444,\"#bd3786\"],[0.5555555555555556,\"#d8576b\"],[0.6666666666666666,\"#ed7953\"],[0.7777777777777778,\"#fb9f3a\"],[0.8888888888888888,\"#fdca26\"],[1.0,\"#f0f921\"]],\"type\":\"histogram2d\"}],\"histogram\":[{\"marker\":{\"pattern\":{\"fillmode\":\"overlay\",\"size\":10,\"solidity\":0.2}},\"type\":\"histogram\"}],\"mesh3d\":[{\"colorbar\":{\"outlinewidth\":0,\"ticks\":\"\"},\"type\":\"mesh3d\"}],\"parcoords\":[{\"line\":{\"colorbar\":{\"outlinewidth\":0,\"ticks\":\"\"}},\"type\":\"parcoords\"}],\"pie\":[{\"automargin\":true,\"type\":\"pie\"}],\"scatter3d\":[{\"line\":{\"colorbar\":{\"outlinewidth\":0,\"ticks\":\"\"}},\"marker\":{\"colorbar\":{\"outlinewidth\":0,\"ticks\":\"\"}},\"type\":\"scatter3d\"}],\"scattercarpet\":[{\"marker\":{\"colorbar\":{\"outlinewidth\":0,\"ticks\":\"\"}},\"type\":\"scattercarpet\"}],\"scattergeo\":[{\"marker\":{\"colorbar\":{\"outlinewidth\":0,\"ticks\":\"\"}},\"type\":\"scattergeo\"}],\"scattergl\":[{\"marker\":{\"colorbar\":{\"outlinewidth\":0,\"ticks\":\"\"}},\"type\":\"scattergl\"}],\"scattermapbox\":[{\"marker\":{\"colorbar\":{\"outlinewidth\":0,\"ticks\":\"\"}},\"type\":\"scattermapbox\"}],\"scatterpolargl\":[{\"marker\":{\"colorbar\":{\"outlinewidth\":0,\"ticks\":\"\"}},\"type\":\"scatterpolargl\"}],\"scatterpolar\":[{\"marker\":{\"colorbar\":{\"outlinewidth\":0,\"ticks\":\"\"}},\"type\":\"scatterpolar\"}],\"scatter\":[{\"fillpattern\":{\"fillmode\":\"overlay\",\"size\":10,\"solidity\":0.2},\"type\":\"scatter\"}],\"scatterternary\":[{\"marker\":{\"colorbar\":{\"outlinewidth\":0,\"ticks\":\"\"}},\"type\":\"scatterternary\"}],\"surface\":[{\"colorbar\":{\"outlinewidth\":0,\"ticks\":\"\"},\"colorscale\":[[0.0,\"#0d0887\"],[0.1111111111111111,\"#46039f\"],[0.2222222222222222,\"#7201a8\"],[0.3333333333333333,\"#9c179e\"],[0.4444444444444444,\"#bd3786\"],[0.5555555555555556,\"#d8576b\"],[0.6666666666666666,\"#ed7953\"],[0.7777777777777778,\"#fb9f3a\"],[0.8888888888888888,\"#fdca26\"],[1.0,\"#f0f921\"]],\"type\":\"surface\"}],\"table\":[{\"cells\":{\"fill\":{\"color\":\"#EBF0F8\"},\"line\":{\"color\":\"white\"}},\"header\":{\"fill\":{\"color\":\"#C8D4E3\"},\"line\":{\"color\":\"white\"}},\"type\":\"table\"}]},\"layout\":{\"annotationdefaults\":{\"arrowcolor\":\"#2a3f5f\",\"arrowhead\":0,\"arrowwidth\":1},\"autotypenumbers\":\"strict\",\"coloraxis\":{\"colorbar\":{\"outlinewidth\":0,\"ticks\":\"\"}},\"colorscale\":{\"diverging\":[[0,\"#8e0152\"],[0.1,\"#c51b7d\"],[0.2,\"#de77ae\"],[0.3,\"#f1b6da\"],[0.4,\"#fde0ef\"],[0.5,\"#f7f7f7\"],[0.6,\"#e6f5d0\"],[0.7,\"#b8e186\"],[0.8,\"#7fbc41\"],[0.9,\"#4d9221\"],[1,\"#276419\"]],\"sequential\":[[0.0,\"#0d0887\"],[0.1111111111111111,\"#46039f\"],[0.2222222222222222,\"#7201a8\"],[0.3333333333333333,\"#9c179e\"],[0.4444444444444444,\"#bd3786\"],[0.5555555555555556,\"#d8576b\"],[0.6666666666666666,\"#ed7953\"],[0.7777777777777778,\"#fb9f3a\"],[0.8888888888888888,\"#fdca26\"],[1.0,\"#f0f921\"]],\"sequentialminus\":[[0.0,\"#0d0887\"],[0.1111111111111111,\"#46039f\"],[0.2222222222222222,\"#7201a8\"],[0.3333333333333333,\"#9c179e\"],[0.4444444444444444,\"#bd3786\"],[0.5555555555555556,\"#d8576b\"],[0.6666666666666666,\"#ed7953\"],[0.7777777777777778,\"#fb9f3a\"],[0.8888888888888888,\"#fdca26\"],[1.0,\"#f0f921\"]]},\"colorway\":[\"#636efa\",\"#EF553B\",\"#00cc96\",\"#ab63fa\",\"#FFA15A\",\"#19d3f3\",\"#FF6692\",\"#B6E880\",\"#FF97FF\",\"#FECB52\"],\"font\":{\"color\":\"#2a3f5f\"},\"geo\":{\"bgcolor\":\"white\",\"lakecolor\":\"white\",\"landcolor\":\"#E5ECF6\",\"showlakes\":true,\"showland\":true,\"subunitcolor\":\"white\"},\"hoverlabel\":{\"align\":\"left\"},\"hovermode\":\"closest\",\"mapbox\":{\"style\":\"light\"},\"paper_bgcolor\":\"white\",\"plot_bgcolor\":\"#E5ECF6\",\"polar\":{\"angularaxis\":{\"gridcolor\":\"white\",\"linecolor\":\"white\",\"ticks\":\"\"},\"bgcolor\":\"#E5ECF6\",\"radialaxis\":{\"gridcolor\":\"white\",\"linecolor\":\"white\",\"ticks\":\"\"}},\"scene\":{\"xaxis\":{\"backgroundcolor\":\"#E5ECF6\",\"gridcolor\":\"white\",\"gridwidth\":2,\"linecolor\":\"white\",\"showbackground\":true,\"ticks\":\"\",\"zerolinecolor\":\"white\"},\"yaxis\":{\"backgroundcolor\":\"#E5ECF6\",\"gridcolor\":\"white\",\"gridwidth\":2,\"linecolor\":\"white\",\"showbackground\":true,\"ticks\":\"\",\"zerolinecolor\":\"white\"},\"zaxis\":{\"backgroundcolor\":\"#E5ECF6\",\"gridcolor\":\"white\",\"gridwidth\":2,\"linecolor\":\"white\",\"showbackground\":true,\"ticks\":\"\",\"zerolinecolor\":\"white\"}},\"shapedefaults\":{\"line\":{\"color\":\"#2a3f5f\"}},\"ternary\":{\"aaxis\":{\"gridcolor\":\"white\",\"linecolor\":\"white\",\"ticks\":\"\"},\"baxis\":{\"gridcolor\":\"white\",\"linecolor\":\"white\",\"ticks\":\"\"},\"bgcolor\":\"#E5ECF6\",\"caxis\":{\"gridcolor\":\"white\",\"linecolor\":\"white\",\"ticks\":\"\"}},\"title\":{\"x\":0.05},\"xaxis\":{\"automargin\":true,\"gridcolor\":\"white\",\"linecolor\":\"white\",\"ticks\":\"\",\"title\":{\"standoff\":15},\"zerolinecolor\":\"white\",\"zerolinewidth\":2},\"yaxis\":{\"automargin\":true,\"gridcolor\":\"white\",\"linecolor\":\"white\",\"ticks\":\"\",\"title\":{\"standoff\":15},\"zerolinecolor\":\"white\",\"zerolinewidth\":2}}},\"title\":{\"text\":\"Complexity Evaluation\"},\"xaxis\":{\"title\":{\"text\":\"Succesful - Redesign\"}},\"yaxis\":{\"title\":{\"text\":\"Frequency\"}}},                        {\"responsive\": true}                    ).then(function(){\n",
       "                            \n",
       "var gd = document.getElementById('f28687e3-bd76-4bd5-b25d-cc209c0fd4db');\n",
       "var x = new MutationObserver(function (mutations, observer) {{\n",
       "        var display = window.getComputedStyle(gd).display;\n",
       "        if (!display || display === 'none') {{\n",
       "            console.log([gd, 'removed!']);\n",
       "            Plotly.purge(gd);\n",
       "            observer.disconnect();\n",
       "        }}\n",
       "}});\n",
       "\n",
       "// Listen for the removal of the full notebook cells\n",
       "var notebookContainer = gd.closest('#notebook-container');\n",
       "if (notebookContainer) {{\n",
       "    x.observe(notebookContainer, {childList: true});\n",
       "}}\n",
       "\n",
       "// Listen for the clearing of the current output cell\n",
       "var outputEl = gd.closest('.output');\n",
       "if (outputEl) {{\n",
       "    x.observe(outputEl, {childList: true});\n",
       "}}\n",
       "\n",
       "                        })                };                });            </script>        </div>"
      ]
     },
     "metadata": {},
     "output_type": "display_data"
    }
   ],
   "source": [
    "trace = go.Histogram(\n",
    "    x = data.complexityEvaluation,\n",
    "    opacity = 0.75,\n",
    "    name = 'Complexity Evaluation',\n",
    "    marker = dict(color = 'pink')\n",
    ")\n",
    "hist_data = [trace]\n",
    "hist_layout = go.Layout(barmode='overlay',\n",
    "                   title = 'Complexity Evaluation',\n",
    "                   xaxis = dict(title = 'Succesful - Redesign'),\n",
    "                   yaxis = dict(title = 'Frequency')\n",
    ")\n",
    "fig = go.Figure(data = hist_data, layout = hist_layout)\n",
    "iplot(fig)"
   ]
  },
  {
   "cell_type": "code",
   "execution_count": 25,
   "id": "fb060763",
   "metadata": {
    "execution": {
     "iopub.execute_input": "2022-12-20T18:43:57.014524Z",
     "iopub.status.busy": "2022-12-20T18:43:57.014105Z",
     "iopub.status.idle": "2022-12-20T18:43:57.179204Z",
     "shell.execute_reply": "2022-12-20T18:43:57.177990Z"
    },
    "papermill": {
     "duration": 0.213107,
     "end_time": "2022-12-20T18:43:57.181897",
     "exception": false,
     "start_time": "2022-12-20T18:43:56.968790",
     "status": "completed"
    },
    "tags": []
   },
   "outputs": [
    {
     "data": {
      "text/html": [
       "<div>\n",
       "<style scoped>\n",
       "    .dataframe tbody tr th:only-of-type {\n",
       "        vertical-align: middle;\n",
       "    }\n",
       "\n",
       "    .dataframe tbody tr th {\n",
       "        vertical-align: top;\n",
       "    }\n",
       "\n",
       "    .dataframe thead th {\n",
       "        text-align: right;\n",
       "    }\n",
       "</style>\n",
       "<table border=\"1\" class=\"dataframe\">\n",
       "  <thead>\n",
       "    <tr style=\"text-align: right;\">\n",
       "      <th></th>\n",
       "      <th>loc</th>\n",
       "      <th>v(g)</th>\n",
       "      <th>ev(g)</th>\n",
       "      <th>iv(g)</th>\n",
       "      <th>n</th>\n",
       "      <th>v</th>\n",
       "      <th>l</th>\n",
       "      <th>d</th>\n",
       "      <th>i</th>\n",
       "      <th>e</th>\n",
       "      <th>...</th>\n",
       "      <th>locCodeAndComment</th>\n",
       "      <th>uniq_Op</th>\n",
       "      <th>uniq_Opnd</th>\n",
       "      <th>total_Op</th>\n",
       "      <th>total_Opnd</th>\n",
       "      <th>branchCount</th>\n",
       "      <th>defects</th>\n",
       "      <th>complexityEvaluation</th>\n",
       "      <th>v_ScaledUp</th>\n",
       "      <th>b_ScaledUp</th>\n",
       "    </tr>\n",
       "  </thead>\n",
       "  <tbody>\n",
       "    <tr>\n",
       "      <th>0</th>\n",
       "      <td>1.1</td>\n",
       "      <td>1.4</td>\n",
       "      <td>1.4</td>\n",
       "      <td>1.4</td>\n",
       "      <td>1.3</td>\n",
       "      <td>1.30</td>\n",
       "      <td>1.30</td>\n",
       "      <td>1.30</td>\n",
       "      <td>1.30</td>\n",
       "      <td>1.30</td>\n",
       "      <td>...</td>\n",
       "      <td>2</td>\n",
       "      <td>1.2</td>\n",
       "      <td>1.2</td>\n",
       "      <td>1.2</td>\n",
       "      <td>1.2</td>\n",
       "      <td>1.4</td>\n",
       "      <td>0</td>\n",
       "      <td>Succesful</td>\n",
       "      <td>0.000076</td>\n",
       "      <td>0.227671</td>\n",
       "    </tr>\n",
       "    <tr>\n",
       "      <th>1</th>\n",
       "      <td>1.0</td>\n",
       "      <td>1.0</td>\n",
       "      <td>1.0</td>\n",
       "      <td>1.0</td>\n",
       "      <td>1.0</td>\n",
       "      <td>1.00</td>\n",
       "      <td>1.00</td>\n",
       "      <td>1.00</td>\n",
       "      <td>1.00</td>\n",
       "      <td>1.00</td>\n",
       "      <td>...</td>\n",
       "      <td>1</td>\n",
       "      <td>1.0</td>\n",
       "      <td>1.0</td>\n",
       "      <td>1.0</td>\n",
       "      <td>1.0</td>\n",
       "      <td>1.0</td>\n",
       "      <td>1</td>\n",
       "      <td>Succesful</td>\n",
       "      <td>0.000058</td>\n",
       "      <td>0.175131</td>\n",
       "    </tr>\n",
       "    <tr>\n",
       "      <th>2</th>\n",
       "      <td>24.0</td>\n",
       "      <td>5.0</td>\n",
       "      <td>1.0</td>\n",
       "      <td>3.0</td>\n",
       "      <td>63.0</td>\n",
       "      <td>309.13</td>\n",
       "      <td>0.11</td>\n",
       "      <td>9.50</td>\n",
       "      <td>32.54</td>\n",
       "      <td>2936.77</td>\n",
       "      <td>...</td>\n",
       "      <td>0</td>\n",
       "      <td>15.0</td>\n",
       "      <td>15.0</td>\n",
       "      <td>44.0</td>\n",
       "      <td>19.0</td>\n",
       "      <td>9.0</td>\n",
       "      <td>0</td>\n",
       "      <td>Succesful</td>\n",
       "      <td>0.018052</td>\n",
       "      <td>0.017513</td>\n",
       "    </tr>\n",
       "    <tr>\n",
       "      <th>3</th>\n",
       "      <td>20.0</td>\n",
       "      <td>4.0</td>\n",
       "      <td>4.0</td>\n",
       "      <td>2.0</td>\n",
       "      <td>47.0</td>\n",
       "      <td>215.49</td>\n",
       "      <td>0.06</td>\n",
       "      <td>16.00</td>\n",
       "      <td>13.47</td>\n",
       "      <td>3447.89</td>\n",
       "      <td>...</td>\n",
       "      <td>0</td>\n",
       "      <td>16.0</td>\n",
       "      <td>8.0</td>\n",
       "      <td>31.0</td>\n",
       "      <td>16.0</td>\n",
       "      <td>7.0</td>\n",
       "      <td>0</td>\n",
       "      <td>Succesful</td>\n",
       "      <td>0.012584</td>\n",
       "      <td>0.012259</td>\n",
       "    </tr>\n",
       "    <tr>\n",
       "      <th>4</th>\n",
       "      <td>24.0</td>\n",
       "      <td>6.0</td>\n",
       "      <td>6.0</td>\n",
       "      <td>2.0</td>\n",
       "      <td>72.0</td>\n",
       "      <td>346.13</td>\n",
       "      <td>0.06</td>\n",
       "      <td>17.33</td>\n",
       "      <td>19.97</td>\n",
       "      <td>5999.58</td>\n",
       "      <td>...</td>\n",
       "      <td>0</td>\n",
       "      <td>16.0</td>\n",
       "      <td>12.0</td>\n",
       "      <td>46.0</td>\n",
       "      <td>26.0</td>\n",
       "      <td>11.0</td>\n",
       "      <td>0</td>\n",
       "      <td>Succesful</td>\n",
       "      <td>0.020213</td>\n",
       "      <td>0.021016</td>\n",
       "    </tr>\n",
       "    <tr>\n",
       "      <th>...</th>\n",
       "      <td>...</td>\n",
       "      <td>...</td>\n",
       "      <td>...</td>\n",
       "      <td>...</td>\n",
       "      <td>...</td>\n",
       "      <td>...</td>\n",
       "      <td>...</td>\n",
       "      <td>...</td>\n",
       "      <td>...</td>\n",
       "      <td>...</td>\n",
       "      <td>...</td>\n",
       "      <td>...</td>\n",
       "      <td>...</td>\n",
       "      <td>...</td>\n",
       "      <td>...</td>\n",
       "      <td>...</td>\n",
       "      <td>...</td>\n",
       "      <td>...</td>\n",
       "      <td>...</td>\n",
       "      <td>...</td>\n",
       "      <td>...</td>\n",
       "    </tr>\n",
       "    <tr>\n",
       "      <th>493</th>\n",
       "      <td>47.0</td>\n",
       "      <td>3.0</td>\n",
       "      <td>1.0</td>\n",
       "      <td>3.0</td>\n",
       "      <td>256.0</td>\n",
       "      <td>1563.78</td>\n",
       "      <td>0.04</td>\n",
       "      <td>28.00</td>\n",
       "      <td>55.85</td>\n",
       "      <td>43785.90</td>\n",
       "      <td>...</td>\n",
       "      <td>0</td>\n",
       "      <td>23.0</td>\n",
       "      <td>46.0</td>\n",
       "      <td>144.0</td>\n",
       "      <td>112.0</td>\n",
       "      <td>5.0</td>\n",
       "      <td>1</td>\n",
       "      <td>Redesign</td>\n",
       "      <td>0.091319</td>\n",
       "      <td>0.091068</td>\n",
       "    </tr>\n",
       "    <tr>\n",
       "      <th>494</th>\n",
       "      <td>24.0</td>\n",
       "      <td>4.0</td>\n",
       "      <td>3.0</td>\n",
       "      <td>3.0</td>\n",
       "      <td>107.0</td>\n",
       "      <td>587.63</td>\n",
       "      <td>0.05</td>\n",
       "      <td>19.13</td>\n",
       "      <td>30.72</td>\n",
       "      <td>11241.58</td>\n",
       "      <td>...</td>\n",
       "      <td>0</td>\n",
       "      <td>22.0</td>\n",
       "      <td>23.0</td>\n",
       "      <td>67.0</td>\n",
       "      <td>40.0</td>\n",
       "      <td>7.0</td>\n",
       "      <td>1</td>\n",
       "      <td>Succesful</td>\n",
       "      <td>0.034316</td>\n",
       "      <td>0.035026</td>\n",
       "    </tr>\n",
       "    <tr>\n",
       "      <th>495</th>\n",
       "      <td>82.0</td>\n",
       "      <td>11.0</td>\n",
       "      <td>3.0</td>\n",
       "      <td>10.0</td>\n",
       "      <td>475.0</td>\n",
       "      <td>3155.83</td>\n",
       "      <td>0.02</td>\n",
       "      <td>44.71</td>\n",
       "      <td>70.59</td>\n",
       "      <td>141084.24</td>\n",
       "      <td>...</td>\n",
       "      <td>0</td>\n",
       "      <td>32.0</td>\n",
       "      <td>68.0</td>\n",
       "      <td>285.0</td>\n",
       "      <td>190.0</td>\n",
       "      <td>21.0</td>\n",
       "      <td>1</td>\n",
       "      <td>Redesign</td>\n",
       "      <td>0.184290</td>\n",
       "      <td>0.183888</td>\n",
       "    </tr>\n",
       "    <tr>\n",
       "      <th>496</th>\n",
       "      <td>10.0</td>\n",
       "      <td>2.0</td>\n",
       "      <td>1.0</td>\n",
       "      <td>1.0</td>\n",
       "      <td>32.0</td>\n",
       "      <td>150.41</td>\n",
       "      <td>0.15</td>\n",
       "      <td>6.50</td>\n",
       "      <td>23.14</td>\n",
       "      <td>977.69</td>\n",
       "      <td>...</td>\n",
       "      <td>0</td>\n",
       "      <td>13.0</td>\n",
       "      <td>13.0</td>\n",
       "      <td>19.0</td>\n",
       "      <td>13.0</td>\n",
       "      <td>3.0</td>\n",
       "      <td>1</td>\n",
       "      <td>Succesful</td>\n",
       "      <td>0.008783</td>\n",
       "      <td>0.008757</td>\n",
       "    </tr>\n",
       "    <tr>\n",
       "      <th>497</th>\n",
       "      <td>28.0</td>\n",
       "      <td>6.0</td>\n",
       "      <td>5.0</td>\n",
       "      <td>5.0</td>\n",
       "      <td>104.0</td>\n",
       "      <td>564.33</td>\n",
       "      <td>0.06</td>\n",
       "      <td>16.09</td>\n",
       "      <td>35.08</td>\n",
       "      <td>9078.38</td>\n",
       "      <td>...</td>\n",
       "      <td>0</td>\n",
       "      <td>20.0</td>\n",
       "      <td>23.0</td>\n",
       "      <td>67.0</td>\n",
       "      <td>37.0</td>\n",
       "      <td>11.0</td>\n",
       "      <td>1</td>\n",
       "      <td>Succesful</td>\n",
       "      <td>0.032955</td>\n",
       "      <td>0.033275</td>\n",
       "    </tr>\n",
       "  </tbody>\n",
       "</table>\n",
       "<p>498 rows × 25 columns</p>\n",
       "</div>"
      ],
      "text/plain": [
       "      loc  v(g)  ev(g)  iv(g)      n        v     l      d      i          e  \\\n",
       "0     1.1   1.4    1.4    1.4    1.3     1.30  1.30   1.30   1.30       1.30   \n",
       "1     1.0   1.0    1.0    1.0    1.0     1.00  1.00   1.00   1.00       1.00   \n",
       "2    24.0   5.0    1.0    3.0   63.0   309.13  0.11   9.50  32.54    2936.77   \n",
       "3    20.0   4.0    4.0    2.0   47.0   215.49  0.06  16.00  13.47    3447.89   \n",
       "4    24.0   6.0    6.0    2.0   72.0   346.13  0.06  17.33  19.97    5999.58   \n",
       "..    ...   ...    ...    ...    ...      ...   ...    ...    ...        ...   \n",
       "493  47.0   3.0    1.0    3.0  256.0  1563.78  0.04  28.00  55.85   43785.90   \n",
       "494  24.0   4.0    3.0    3.0  107.0   587.63  0.05  19.13  30.72   11241.58   \n",
       "495  82.0  11.0    3.0   10.0  475.0  3155.83  0.02  44.71  70.59  141084.24   \n",
       "496  10.0   2.0    1.0    1.0   32.0   150.41  0.15   6.50  23.14     977.69   \n",
       "497  28.0   6.0    5.0    5.0  104.0   564.33  0.06  16.09  35.08    9078.38   \n",
       "\n",
       "     ...  locCodeAndComment  uniq_Op  uniq_Opnd  total_Op  total_Opnd  \\\n",
       "0    ...                  2      1.2        1.2       1.2         1.2   \n",
       "1    ...                  1      1.0        1.0       1.0         1.0   \n",
       "2    ...                  0     15.0       15.0      44.0        19.0   \n",
       "3    ...                  0     16.0        8.0      31.0        16.0   \n",
       "4    ...                  0     16.0       12.0      46.0        26.0   \n",
       "..   ...                ...      ...        ...       ...         ...   \n",
       "493  ...                  0     23.0       46.0     144.0       112.0   \n",
       "494  ...                  0     22.0       23.0      67.0        40.0   \n",
       "495  ...                  0     32.0       68.0     285.0       190.0   \n",
       "496  ...                  0     13.0       13.0      19.0        13.0   \n",
       "497  ...                  0     20.0       23.0      67.0        37.0   \n",
       "\n",
       "     branchCount  defects  complexityEvaluation  v_ScaledUp  b_ScaledUp  \n",
       "0            1.4        0             Succesful    0.000076    0.227671  \n",
       "1            1.0        1             Succesful    0.000058    0.175131  \n",
       "2            9.0        0             Succesful    0.018052    0.017513  \n",
       "3            7.0        0             Succesful    0.012584    0.012259  \n",
       "4           11.0        0             Succesful    0.020213    0.021016  \n",
       "..           ...      ...                   ...         ...         ...  \n",
       "493          5.0        1              Redesign    0.091319    0.091068  \n",
       "494          7.0        1             Succesful    0.034316    0.035026  \n",
       "495         21.0        1              Redesign    0.184290    0.183888  \n",
       "496          3.0        1             Succesful    0.008783    0.008757  \n",
       "497         11.0        1             Succesful    0.032955    0.033275  \n",
       "\n",
       "[498 rows x 25 columns]"
      ]
     },
     "execution_count": 25,
     "metadata": {},
     "output_type": "execute_result"
    }
   ],
   "source": [
    "from sklearn import preprocessing\n",
    "\n",
    "scale_v = data[['v']]\n",
    "scale_b = data[['b']]\n",
    "\n",
    "minmax_scaler = preprocessing.MinMaxScaler()\n",
    "\n",
    "v_scaled = minmax_scaler.fit_transform(scale_v)\n",
    "b_scaled = minmax_scaler.fit_transform(scale_b)\n",
    "\n",
    "data['v_ScaledUp'] = pd.DataFrame(v_scaled)\n",
    "data['b_ScaledUp'] = pd.DataFrame(b_scaled)\n",
    "\n",
    "data"
   ]
  },
  {
   "cell_type": "code",
   "execution_count": 26,
   "id": "18ed2d4b",
   "metadata": {
    "execution": {
     "iopub.execute_input": "2022-12-20T18:43:57.273419Z",
     "iopub.status.busy": "2022-12-20T18:43:57.272578Z",
     "iopub.status.idle": "2022-12-20T18:43:57.287467Z",
     "shell.execute_reply": "2022-12-20T18:43:57.286694Z"
    },
    "papermill": {
     "duration": 0.063178,
     "end_time": "2022-12-20T18:43:57.289672",
     "exception": false,
     "start_time": "2022-12-20T18:43:57.226494",
     "status": "completed"
    },
    "tags": []
   },
   "outputs": [
    {
     "data": {
      "text/html": [
       "<div>\n",
       "<style scoped>\n",
       "    .dataframe tbody tr th:only-of-type {\n",
       "        vertical-align: middle;\n",
       "    }\n",
       "\n",
       "    .dataframe tbody tr th {\n",
       "        vertical-align: top;\n",
       "    }\n",
       "\n",
       "    .dataframe thead th {\n",
       "        text-align: right;\n",
       "    }\n",
       "</style>\n",
       "<table border=\"1\" class=\"dataframe\">\n",
       "  <thead>\n",
       "    <tr style=\"text-align: right;\">\n",
       "      <th></th>\n",
       "      <th>v</th>\n",
       "      <th>b</th>\n",
       "      <th>v_ScaledUp</th>\n",
       "      <th>b_ScaledUp</th>\n",
       "    </tr>\n",
       "  </thead>\n",
       "  <tbody>\n",
       "    <tr>\n",
       "      <th>0</th>\n",
       "      <td>1.30</td>\n",
       "      <td>1.30</td>\n",
       "      <td>0.000076</td>\n",
       "      <td>0.227671</td>\n",
       "    </tr>\n",
       "    <tr>\n",
       "      <th>1</th>\n",
       "      <td>1.00</td>\n",
       "      <td>1.00</td>\n",
       "      <td>0.000058</td>\n",
       "      <td>0.175131</td>\n",
       "    </tr>\n",
       "    <tr>\n",
       "      <th>2</th>\n",
       "      <td>309.13</td>\n",
       "      <td>0.10</td>\n",
       "      <td>0.018052</td>\n",
       "      <td>0.017513</td>\n",
       "    </tr>\n",
       "    <tr>\n",
       "      <th>3</th>\n",
       "      <td>215.49</td>\n",
       "      <td>0.07</td>\n",
       "      <td>0.012584</td>\n",
       "      <td>0.012259</td>\n",
       "    </tr>\n",
       "    <tr>\n",
       "      <th>4</th>\n",
       "      <td>346.13</td>\n",
       "      <td>0.12</td>\n",
       "      <td>0.020213</td>\n",
       "      <td>0.021016</td>\n",
       "    </tr>\n",
       "    <tr>\n",
       "      <th>...</th>\n",
       "      <td>...</td>\n",
       "      <td>...</td>\n",
       "      <td>...</td>\n",
       "      <td>...</td>\n",
       "    </tr>\n",
       "    <tr>\n",
       "      <th>493</th>\n",
       "      <td>1563.78</td>\n",
       "      <td>0.52</td>\n",
       "      <td>0.091319</td>\n",
       "      <td>0.091068</td>\n",
       "    </tr>\n",
       "    <tr>\n",
       "      <th>494</th>\n",
       "      <td>587.63</td>\n",
       "      <td>0.20</td>\n",
       "      <td>0.034316</td>\n",
       "      <td>0.035026</td>\n",
       "    </tr>\n",
       "    <tr>\n",
       "      <th>495</th>\n",
       "      <td>3155.83</td>\n",
       "      <td>1.05</td>\n",
       "      <td>0.184290</td>\n",
       "      <td>0.183888</td>\n",
       "    </tr>\n",
       "    <tr>\n",
       "      <th>496</th>\n",
       "      <td>150.41</td>\n",
       "      <td>0.05</td>\n",
       "      <td>0.008783</td>\n",
       "      <td>0.008757</td>\n",
       "    </tr>\n",
       "    <tr>\n",
       "      <th>497</th>\n",
       "      <td>564.33</td>\n",
       "      <td>0.19</td>\n",
       "      <td>0.032955</td>\n",
       "      <td>0.033275</td>\n",
       "    </tr>\n",
       "  </tbody>\n",
       "</table>\n",
       "<p>498 rows × 4 columns</p>\n",
       "</div>"
      ],
      "text/plain": [
       "           v     b  v_ScaledUp  b_ScaledUp\n",
       "0       1.30  1.30    0.000076    0.227671\n",
       "1       1.00  1.00    0.000058    0.175131\n",
       "2     309.13  0.10    0.018052    0.017513\n",
       "3     215.49  0.07    0.012584    0.012259\n",
       "4     346.13  0.12    0.020213    0.021016\n",
       "..       ...   ...         ...         ...\n",
       "493  1563.78  0.52    0.091319    0.091068\n",
       "494   587.63  0.20    0.034316    0.035026\n",
       "495  3155.83  1.05    0.184290    0.183888\n",
       "496   150.41  0.05    0.008783    0.008757\n",
       "497   564.33  0.19    0.032955    0.033275\n",
       "\n",
       "[498 rows x 4 columns]"
      ]
     },
     "execution_count": 26,
     "metadata": {},
     "output_type": "execute_result"
    }
   ],
   "source": [
    "scaled_data = pd.concat([data.v , data.b , data.v_ScaledUp , data.b_ScaledUp], axis=1)\n",
    "scaled_data"
   ]
  },
  {
   "cell_type": "code",
   "execution_count": 27,
   "id": "1ce806d8",
   "metadata": {
    "execution": {
     "iopub.execute_input": "2022-12-20T18:43:57.382388Z",
     "iopub.status.busy": "2022-12-20T18:43:57.381803Z",
     "iopub.status.idle": "2022-12-20T18:43:57.393613Z",
     "shell.execute_reply": "2022-12-20T18:43:57.392592Z"
    },
    "papermill": {
     "duration": 0.062314,
     "end_time": "2022-12-20T18:43:57.397113",
     "exception": false,
     "start_time": "2022-12-20T18:43:57.334799",
     "status": "completed"
    },
    "tags": []
   },
   "outputs": [
    {
     "name": "stdout",
     "output_type": "stream",
     "text": [
      "<class 'pandas.core.frame.DataFrame'>\n",
      "RangeIndex: 498 entries, 0 to 497\n",
      "Data columns (total 25 columns):\n",
      " #   Column                Non-Null Count  Dtype  \n",
      "---  ------                --------------  -----  \n",
      " 0   loc                   498 non-null    float64\n",
      " 1   v(g)                  498 non-null    float64\n",
      " 2   ev(g)                 498 non-null    float64\n",
      " 3   iv(g)                 498 non-null    float64\n",
      " 4   n                     498 non-null    float64\n",
      " 5   v                     498 non-null    float64\n",
      " 6   l                     498 non-null    float64\n",
      " 7   d                     498 non-null    float64\n",
      " 8   i                     498 non-null    float64\n",
      " 9   e                     498 non-null    float64\n",
      " 10  b                     498 non-null    float64\n",
      " 11  t                     498 non-null    float64\n",
      " 12  lOCode                498 non-null    int64  \n",
      " 13  lOComment             498 non-null    int64  \n",
      " 14  lOBlank               498 non-null    int64  \n",
      " 15  locCodeAndComment     498 non-null    int64  \n",
      " 16  uniq_Op               498 non-null    float64\n",
      " 17  uniq_Opnd             498 non-null    float64\n",
      " 18  total_Op              498 non-null    float64\n",
      " 19  total_Opnd            498 non-null    float64\n",
      " 20  branchCount           498 non-null    float64\n",
      " 21  defects               498 non-null    int64  \n",
      " 22  complexityEvaluation  498 non-null    object \n",
      " 23  v_ScaledUp            498 non-null    float64\n",
      " 24  b_ScaledUp            498 non-null    float64\n",
      "dtypes: float64(19), int64(5), object(1)\n",
      "memory usage: 97.4+ KB\n"
     ]
    }
   ],
   "source": [
    "data.info()"
   ]
  },
  {
   "cell_type": "code",
   "execution_count": 28,
   "id": "484d409e",
   "metadata": {
    "execution": {
     "iopub.execute_input": "2022-12-20T18:43:57.490007Z",
     "iopub.status.busy": "2022-12-20T18:43:57.488888Z",
     "iopub.status.idle": "2022-12-20T18:43:57.546070Z",
     "shell.execute_reply": "2022-12-20T18:43:57.545122Z"
    },
    "papermill": {
     "duration": 0.10632,
     "end_time": "2022-12-20T18:43:57.548879",
     "exception": false,
     "start_time": "2022-12-20T18:43:57.442559",
     "status": "completed"
    },
    "tags": []
   },
   "outputs": [],
   "source": [
    "from sklearn.metrics import confusion_matrix, classification_report\n",
    "from sklearn.metrics import roc_curve, roc_auc_score\n",
    "from sklearn import model_selection\n",
    "X = data.iloc[:, :-10].values\n",
    "Y = data.complexityEvaluation.values"
   ]
  },
  {
   "cell_type": "code",
   "execution_count": 29,
   "id": "c3a8f2db",
   "metadata": {
    "execution": {
     "iopub.execute_input": "2022-12-20T18:43:57.640433Z",
     "iopub.status.busy": "2022-12-20T18:43:57.640021Z",
     "iopub.status.idle": "2022-12-20T18:43:57.648053Z",
     "shell.execute_reply": "2022-12-20T18:43:57.647301Z"
    },
    "papermill": {
     "duration": 0.05657,
     "end_time": "2022-12-20T18:43:57.650146",
     "exception": false,
     "start_time": "2022-12-20T18:43:57.593576",
     "status": "completed"
    },
    "tags": []
   },
   "outputs": [
    {
     "data": {
      "text/plain": [
       "array(['Succesful', 'Succesful', 'Succesful', 'Succesful', 'Succesful',\n",
       "       'Succesful', 'Succesful', 'Succesful', 'Succesful', 'Redesign',\n",
       "       'Succesful', 'Succesful', 'Succesful', 'Succesful', 'Redesign',\n",
       "       'Succesful', 'Succesful', 'Succesful', 'Succesful', 'Succesful',\n",
       "       'Succesful', 'Succesful', 'Succesful', 'Succesful', 'Succesful',\n",
       "       'Succesful', 'Succesful', 'Succesful', 'Redesign', 'Redesign',\n",
       "       'Succesful', 'Redesign', 'Redesign', 'Redesign', 'Succesful',\n",
       "       'Succesful', 'Succesful', 'Succesful', 'Succesful', 'Succesful',\n",
       "       'Succesful', 'Succesful', 'Succesful', 'Redesign', 'Redesign',\n",
       "       'Redesign', 'Succesful', 'Succesful', 'Succesful', 'Redesign',\n",
       "       'Redesign', 'Succesful', 'Redesign', 'Succesful', 'Succesful',\n",
       "       'Succesful', 'Succesful', 'Succesful', 'Succesful', 'Redesign',\n",
       "       'Succesful', 'Succesful', 'Succesful', 'Succesful', 'Succesful',\n",
       "       'Succesful', 'Succesful', 'Redesign', 'Succesful', 'Succesful',\n",
       "       'Redesign', 'Succesful', 'Succesful', 'Redesign', 'Succesful',\n",
       "       'Succesful', 'Succesful', 'Succesful', 'Succesful', 'Succesful',\n",
       "       'Succesful', 'Succesful', 'Succesful', 'Succesful', 'Succesful',\n",
       "       'Succesful', 'Succesful', 'Succesful', 'Succesful', 'Succesful',\n",
       "       'Succesful', 'Succesful', 'Succesful', 'Succesful', 'Succesful',\n",
       "       'Succesful', 'Succesful', 'Succesful', 'Succesful', 'Succesful',\n",
       "       'Succesful', 'Succesful', 'Redesign', 'Succesful', 'Succesful',\n",
       "       'Redesign', 'Succesful', 'Succesful', 'Redesign', 'Succesful',\n",
       "       'Succesful', 'Succesful', 'Redesign', 'Redesign', 'Succesful',\n",
       "       'Succesful', 'Succesful', 'Succesful', 'Redesign', 'Redesign',\n",
       "       'Succesful', 'Redesign', 'Succesful', 'Succesful', 'Succesful',\n",
       "       'Succesful', 'Redesign', 'Redesign', 'Succesful', 'Succesful',\n",
       "       'Succesful', 'Succesful', 'Succesful', 'Succesful', 'Succesful',\n",
       "       'Redesign', 'Succesful', 'Succesful', 'Succesful', 'Redesign',\n",
       "       'Succesful', 'Succesful', 'Succesful', 'Succesful', 'Succesful',\n",
       "       'Succesful', 'Succesful', 'Succesful', 'Succesful', 'Succesful',\n",
       "       'Succesful', 'Succesful', 'Redesign', 'Succesful', 'Succesful',\n",
       "       'Succesful', 'Succesful', 'Redesign', 'Redesign', 'Succesful',\n",
       "       'Succesful', 'Redesign', 'Succesful', 'Succesful', 'Succesful',\n",
       "       'Succesful', 'Succesful', 'Succesful', 'Succesful', 'Succesful',\n",
       "       'Succesful', 'Succesful', 'Redesign', 'Succesful', 'Succesful',\n",
       "       'Succesful', 'Succesful', 'Succesful', 'Succesful', 'Succesful',\n",
       "       'Succesful', 'Succesful', 'Succesful', 'Succesful', 'Succesful',\n",
       "       'Succesful', 'Succesful', 'Succesful', 'Redesign', 'Succesful',\n",
       "       'Redesign', 'Succesful', 'Succesful', 'Succesful', 'Succesful',\n",
       "       'Succesful', 'Succesful', 'Succesful', 'Succesful', 'Succesful',\n",
       "       'Succesful', 'Redesign', 'Succesful', 'Succesful', 'Succesful',\n",
       "       'Succesful', 'Redesign', 'Succesful', 'Succesful', 'Succesful',\n",
       "       'Succesful', 'Redesign', 'Succesful', 'Succesful', 'Succesful',\n",
       "       'Succesful', 'Succesful', 'Succesful', 'Succesful', 'Succesful',\n",
       "       'Succesful', 'Succesful', 'Succesful', 'Succesful', 'Succesful',\n",
       "       'Redesign', 'Succesful', 'Succesful', 'Succesful', 'Succesful',\n",
       "       'Succesful', 'Succesful', 'Succesful', 'Succesful', 'Succesful',\n",
       "       'Succesful', 'Succesful', 'Succesful', 'Succesful', 'Succesful',\n",
       "       'Redesign', 'Redesign', 'Succesful', 'Redesign', 'Succesful',\n",
       "       'Succesful', 'Succesful', 'Succesful', 'Succesful', 'Succesful',\n",
       "       'Succesful', 'Succesful', 'Succesful', 'Redesign', 'Succesful',\n",
       "       'Redesign', 'Redesign', 'Succesful', 'Succesful', 'Succesful',\n",
       "       'Succesful', 'Succesful', 'Succesful', 'Succesful', 'Succesful',\n",
       "       'Redesign', 'Succesful', 'Succesful', 'Succesful', 'Succesful',\n",
       "       'Succesful', 'Succesful', 'Succesful', 'Redesign', 'Redesign',\n",
       "       'Redesign', 'Redesign', 'Succesful', 'Succesful', 'Succesful',\n",
       "       'Succesful', 'Succesful', 'Redesign', 'Redesign', 'Redesign',\n",
       "       'Redesign', 'Succesful', 'Succesful', 'Succesful', 'Succesful',\n",
       "       'Redesign', 'Redesign', 'Redesign', 'Redesign', 'Redesign',\n",
       "       'Succesful', 'Redesign', 'Redesign', 'Succesful', 'Succesful',\n",
       "       'Redesign', 'Succesful', 'Redesign', 'Succesful', 'Succesful',\n",
       "       'Succesful', 'Succesful', 'Succesful', 'Redesign', 'Redesign',\n",
       "       'Succesful', 'Succesful', 'Succesful', 'Succesful', 'Succesful',\n",
       "       'Succesful', 'Succesful', 'Succesful', 'Succesful', 'Succesful',\n",
       "       'Succesful', 'Succesful', 'Succesful', 'Succesful', 'Succesful',\n",
       "       'Succesful', 'Succesful', 'Succesful', 'Succesful', 'Succesful',\n",
       "       'Succesful', 'Succesful', 'Succesful', 'Redesign', 'Succesful',\n",
       "       'Succesful', 'Succesful', 'Succesful', 'Succesful', 'Succesful',\n",
       "       'Succesful', 'Succesful', 'Succesful', 'Redesign', 'Succesful',\n",
       "       'Redesign', 'Redesign', 'Succesful', 'Succesful', 'Succesful',\n",
       "       'Succesful', 'Redesign', 'Redesign', 'Succesful', 'Redesign',\n",
       "       'Redesign', 'Succesful', 'Redesign', 'Redesign', 'Succesful',\n",
       "       'Redesign', 'Redesign', 'Succesful', 'Succesful', 'Redesign',\n",
       "       'Redesign', 'Succesful', 'Succesful', 'Succesful', 'Redesign',\n",
       "       'Redesign', 'Redesign', 'Redesign', 'Succesful', 'Succesful',\n",
       "       'Succesful', 'Succesful', 'Succesful', 'Succesful', 'Succesful',\n",
       "       'Succesful', 'Succesful', 'Succesful', 'Succesful', 'Succesful',\n",
       "       'Succesful', 'Succesful', 'Succesful', 'Succesful', 'Succesful',\n",
       "       'Succesful', 'Succesful', 'Succesful', 'Succesful', 'Succesful',\n",
       "       'Succesful', 'Succesful', 'Succesful', 'Succesful', 'Succesful',\n",
       "       'Succesful', 'Succesful', 'Succesful', 'Succesful', 'Succesful',\n",
       "       'Succesful', 'Succesful', 'Succesful', 'Succesful', 'Succesful',\n",
       "       'Succesful', 'Succesful', 'Succesful', 'Succesful', 'Succesful',\n",
       "       'Succesful', 'Succesful', 'Succesful', 'Succesful', 'Succesful',\n",
       "       'Redesign', 'Succesful', 'Succesful', 'Succesful', 'Succesful',\n",
       "       'Succesful', 'Redesign', 'Succesful', 'Succesful', 'Succesful',\n",
       "       'Succesful', 'Succesful', 'Succesful', 'Succesful', 'Redesign',\n",
       "       'Redesign', 'Succesful', 'Succesful', 'Succesful', 'Redesign',\n",
       "       'Succesful', 'Succesful', 'Succesful', 'Succesful', 'Succesful',\n",
       "       'Succesful', 'Succesful', 'Succesful', 'Succesful', 'Succesful',\n",
       "       'Succesful', 'Succesful', 'Redesign', 'Succesful', 'Succesful',\n",
       "       'Redesign', 'Redesign', 'Redesign', 'Redesign', 'Succesful',\n",
       "       'Succesful', 'Redesign', 'Succesful', 'Redesign', 'Succesful',\n",
       "       'Redesign', 'Redesign', 'Redesign', 'Redesign', 'Redesign',\n",
       "       'Redesign', 'Redesign', 'Redesign', 'Succesful', 'Succesful',\n",
       "       'Redesign', 'Succesful', 'Succesful', 'Redesign', 'Succesful',\n",
       "       'Redesign', 'Succesful', 'Redesign', 'Succesful', 'Redesign',\n",
       "       'Succesful', 'Succesful', 'Succesful', 'Succesful', 'Succesful',\n",
       "       'Succesful', 'Succesful', 'Redesign', 'Redesign', 'Succesful',\n",
       "       'Redesign', 'Succesful', 'Succesful'], dtype=object)"
      ]
     },
     "execution_count": 29,
     "metadata": {},
     "output_type": "execute_result"
    }
   ],
   "source": [
    "Y"
   ]
  },
  {
   "cell_type": "code",
   "execution_count": 30,
   "id": "5b432c2a",
   "metadata": {
    "execution": {
     "iopub.execute_input": "2022-12-20T18:43:57.742249Z",
     "iopub.status.busy": "2022-12-20T18:43:57.741837Z",
     "iopub.status.idle": "2022-12-20T18:43:57.747865Z",
     "shell.execute_reply": "2022-12-20T18:43:57.746827Z"
    },
    "papermill": {
     "duration": 0.054825,
     "end_time": "2022-12-20T18:43:57.749932",
     "exception": false,
     "start_time": "2022-12-20T18:43:57.695107",
     "status": "completed"
    },
    "tags": []
   },
   "outputs": [],
   "source": [
    "validation_size = 0.20\n",
    "seed = 7\n",
    "X_train, X_validation, Y_train, Y_validation = model_selection.train_test_split(X, Y, test_size = validation_size, random_state = seed)"
   ]
  },
  {
   "cell_type": "code",
   "execution_count": 31,
   "id": "544ce310",
   "metadata": {
    "execution": {
     "iopub.execute_input": "2022-12-20T18:43:57.842105Z",
     "iopub.status.busy": "2022-12-20T18:43:57.841686Z",
     "iopub.status.idle": "2022-12-20T18:43:57.849565Z",
     "shell.execute_reply": "2022-12-20T18:43:57.848568Z"
    },
    "papermill": {
     "duration": 0.057268,
     "end_time": "2022-12-20T18:43:57.851849",
     "exception": false,
     "start_time": "2022-12-20T18:43:57.794581",
     "status": "completed"
    },
    "tags": []
   },
   "outputs": [],
   "source": [
    "from sklearn.naive_bayes import GaussianNB\n",
    "model = GaussianNB()"
   ]
  },
  {
   "cell_type": "code",
   "execution_count": 32,
   "id": "5480f466",
   "metadata": {
    "execution": {
     "iopub.execute_input": "2022-12-20T18:43:57.943800Z",
     "iopub.status.busy": "2022-12-20T18:43:57.943044Z",
     "iopub.status.idle": "2022-12-20T18:43:57.968840Z",
     "shell.execute_reply": "2022-12-20T18:43:57.968050Z"
    },
    "papermill": {
     "duration": 0.074673,
     "end_time": "2022-12-20T18:43:57.971300",
     "exception": false,
     "start_time": "2022-12-20T18:43:57.896627",
     "status": "completed"
    },
    "tags": []
   },
   "outputs": [],
   "source": [
    "scoring = 'accuracy'\n",
    "kfold = model_selection.KFold(n_splits = 10)\n",
    "cv_results = model_selection.cross_val_score(model, X_train, Y_train, cv = kfold, scoring = scoring)"
   ]
  },
  {
   "cell_type": "code",
   "execution_count": 33,
   "id": "b72a81f4",
   "metadata": {
    "execution": {
     "iopub.execute_input": "2022-12-20T18:43:58.063409Z",
     "iopub.status.busy": "2022-12-20T18:43:58.062402Z",
     "iopub.status.idle": "2022-12-20T18:43:58.069604Z",
     "shell.execute_reply": "2022-12-20T18:43:58.068657Z"
    },
    "papermill": {
     "duration": 0.055433,
     "end_time": "2022-12-20T18:43:58.071732",
     "exception": false,
     "start_time": "2022-12-20T18:43:58.016299",
     "status": "completed"
    },
    "tags": []
   },
   "outputs": [
    {
     "data": {
      "text/plain": [
       "array([0.95      , 0.95      , 0.95      , 0.975     , 0.95      ,\n",
       "       1.        , 0.95      , 0.975     , 0.94871795, 0.97435897])"
      ]
     },
     "execution_count": 33,
     "metadata": {},
     "output_type": "execute_result"
    }
   ],
   "source": [
    "cv_results"
   ]
  },
  {
   "cell_type": "code",
   "execution_count": 34,
   "id": "c975d9bb",
   "metadata": {
    "execution": {
     "iopub.execute_input": "2022-12-20T18:43:58.164438Z",
     "iopub.status.busy": "2022-12-20T18:43:58.163380Z",
     "iopub.status.idle": "2022-12-20T18:43:58.170779Z",
     "shell.execute_reply": "2022-12-20T18:43:58.169879Z"
    },
    "papermill": {
     "duration": 0.056145,
     "end_time": "2022-12-20T18:43:58.172872",
     "exception": false,
     "start_time": "2022-12-20T18:43:58.116727",
     "status": "completed"
    },
    "tags": []
   },
   "outputs": [
    {
     "data": {
      "text/plain": [
       "'Mean : 0.962308 - Std : (0.016823)'"
      ]
     },
     "execution_count": 34,
     "metadata": {},
     "output_type": "execute_result"
    }
   ],
   "source": [
    "msg = \"Mean : %f - Std : (%f)\" % (cv_results.mean(), cv_results.std())\n",
    "msg"
   ]
  },
  {
   "cell_type": "code",
   "execution_count": 35,
   "id": "0971bc42",
   "metadata": {
    "execution": {
     "iopub.execute_input": "2022-12-20T18:43:58.265687Z",
     "iopub.status.busy": "2022-12-20T18:43:58.265314Z",
     "iopub.status.idle": "2022-12-20T18:43:58.286320Z",
     "shell.execute_reply": "2022-12-20T18:43:58.284979Z"
    },
    "papermill": {
     "duration": 0.071009,
     "end_time": "2022-12-20T18:43:58.289174",
     "exception": false,
     "start_time": "2022-12-20T18:43:58.218165",
     "status": "completed"
    },
    "tags": []
   },
   "outputs": [
    {
     "name": "stdout",
     "output_type": "stream",
     "text": [
      "              precision    recall  f1-score   support\n",
      "\n",
      "    Redesign       0.95      0.98      0.97        43\n",
      "   Succesful       0.99      0.99      0.99       157\n",
      "\n",
      "    accuracy                           0.98       200\n",
      "   macro avg       0.97      0.98      0.98       200\n",
      "weighted avg       0.99      0.98      0.99       200\n",
      "\n",
      "[[ 42   1]\n",
      " [  2 155]]\n",
      "ACC:  0.985\n"
     ]
    }
   ],
   "source": [
    "from sklearn.model_selection import train_test_split\n",
    "X_train, X_test, y_train, y_test = train_test_split(X, Y, test_size = 0.4, random_state = 0)\n",
    "\n",
    "model.fit(X_train, y_train)\n",
    "\n",
    "y_pred = model.predict(X_test)\n",
    "\n",
    "#Summary of the predictions made by the classifier\n",
    "print(classification_report(y_test, y_pred))\n",
    "print(confusion_matrix(y_test, y_pred))\n",
    "#Accuracy score\n",
    "from sklearn.metrics import accuracy_score\n",
    "print(\"ACC: \",accuracy_score(y_pred,y_test))"
   ]
  },
  {
   "cell_type": "code",
   "execution_count": 36,
   "id": "f02f067e",
   "metadata": {
    "execution": {
     "iopub.execute_input": "2022-12-20T18:43:58.383236Z",
     "iopub.status.busy": "2022-12-20T18:43:58.382578Z",
     "iopub.status.idle": "2022-12-20T18:43:58.395912Z",
     "shell.execute_reply": "2022-12-20T18:43:58.395157Z"
    },
    "papermill": {
     "duration": 0.061818,
     "end_time": "2022-12-20T18:43:58.397903",
     "exception": false,
     "start_time": "2022-12-20T18:43:58.336085",
     "status": "completed"
    },
    "tags": []
   },
   "outputs": [
    {
     "data": {
      "text/html": [
       "<div>\n",
       "<style scoped>\n",
       "    .dataframe tbody tr th:only-of-type {\n",
       "        vertical-align: middle;\n",
       "    }\n",
       "\n",
       "    .dataframe tbody tr th {\n",
       "        vertical-align: top;\n",
       "    }\n",
       "\n",
       "    .dataframe thead th {\n",
       "        text-align: right;\n",
       "    }\n",
       "</style>\n",
       "<table border=\"1\" class=\"dataframe\">\n",
       "  <thead>\n",
       "    <tr style=\"text-align: right;\">\n",
       "      <th></th>\n",
       "      <th>loc</th>\n",
       "      <th>b</th>\n",
       "    </tr>\n",
       "  </thead>\n",
       "  <tbody>\n",
       "    <tr>\n",
       "      <th>0</th>\n",
       "      <td>1.1</td>\n",
       "      <td>1.30</td>\n",
       "    </tr>\n",
       "    <tr>\n",
       "      <th>1</th>\n",
       "      <td>1.0</td>\n",
       "      <td>1.00</td>\n",
       "    </tr>\n",
       "    <tr>\n",
       "      <th>2</th>\n",
       "      <td>24.0</td>\n",
       "      <td>0.10</td>\n",
       "    </tr>\n",
       "    <tr>\n",
       "      <th>3</th>\n",
       "      <td>20.0</td>\n",
       "      <td>0.07</td>\n",
       "    </tr>\n",
       "    <tr>\n",
       "      <th>4</th>\n",
       "      <td>24.0</td>\n",
       "      <td>0.12</td>\n",
       "    </tr>\n",
       "    <tr>\n",
       "      <th>...</th>\n",
       "      <td>...</td>\n",
       "      <td>...</td>\n",
       "    </tr>\n",
       "    <tr>\n",
       "      <th>493</th>\n",
       "      <td>47.0</td>\n",
       "      <td>0.52</td>\n",
       "    </tr>\n",
       "    <tr>\n",
       "      <th>494</th>\n",
       "      <td>24.0</td>\n",
       "      <td>0.20</td>\n",
       "    </tr>\n",
       "    <tr>\n",
       "      <th>495</th>\n",
       "      <td>82.0</td>\n",
       "      <td>1.05</td>\n",
       "    </tr>\n",
       "    <tr>\n",
       "      <th>496</th>\n",
       "      <td>10.0</td>\n",
       "      <td>0.05</td>\n",
       "    </tr>\n",
       "    <tr>\n",
       "      <th>497</th>\n",
       "      <td>28.0</td>\n",
       "      <td>0.19</td>\n",
       "    </tr>\n",
       "  </tbody>\n",
       "</table>\n",
       "<p>498 rows × 2 columns</p>\n",
       "</div>"
      ],
      "text/plain": [
       "      loc     b\n",
       "0     1.1  1.30\n",
       "1     1.0  1.00\n",
       "2    24.0  0.10\n",
       "3    20.0  0.07\n",
       "4    24.0  0.12\n",
       "..    ...   ...\n",
       "493  47.0  0.52\n",
       "494  24.0  0.20\n",
       "495  82.0  1.05\n",
       "496  10.0  0.05\n",
       "497  28.0  0.19\n",
       "\n",
       "[498 rows x 2 columns]"
      ]
     },
     "execution_count": 36,
     "metadata": {},
     "output_type": "execute_result"
    }
   ],
   "source": [
    " sel_loc = data['loc']\n",
    " sel_b = data[\"b\"]\n",
    " selected_data = pd.concat([sel_loc, sel_b], axis=1)\n",
    " selected_data"
   ]
  },
  {
   "cell_type": "code",
   "execution_count": 37,
   "id": "92a48f74",
   "metadata": {
    "execution": {
     "iopub.execute_input": "2022-12-20T18:43:58.491052Z",
     "iopub.status.busy": "2022-12-20T18:43:58.490356Z",
     "iopub.status.idle": "2022-12-20T18:43:58.507642Z",
     "shell.execute_reply": "2022-12-20T18:43:58.506602Z"
    },
    "papermill": {
     "duration": 0.066942,
     "end_time": "2022-12-20T18:43:58.510127",
     "exception": false,
     "start_time": "2022-12-20T18:43:58.443185",
     "status": "completed"
    },
    "tags": []
   },
   "outputs": [
    {
     "data": {
      "text/html": [
       "<div>\n",
       "<style scoped>\n",
       "    .dataframe tbody tr th:only-of-type {\n",
       "        vertical-align: middle;\n",
       "    }\n",
       "\n",
       "    .dataframe tbody tr th {\n",
       "        vertical-align: top;\n",
       "    }\n",
       "\n",
       "    .dataframe thead th {\n",
       "        text-align: right;\n",
       "    }\n",
       "</style>\n",
       "<table border=\"1\" class=\"dataframe\">\n",
       "  <thead>\n",
       "    <tr style=\"text-align: right;\">\n",
       "      <th></th>\n",
       "      <th>loc</th>\n",
       "      <th>b</th>\n",
       "    </tr>\n",
       "  </thead>\n",
       "  <tbody>\n",
       "    <tr>\n",
       "      <th>count</th>\n",
       "      <td>498.000000</td>\n",
       "      <td>498.000000</td>\n",
       "    </tr>\n",
       "    <tr>\n",
       "      <th>mean</th>\n",
       "      <td>29.644779</td>\n",
       "      <td>0.304699</td>\n",
       "    </tr>\n",
       "    <tr>\n",
       "      <th>std</th>\n",
       "      <td>42.753572</td>\n",
       "      <td>0.565998</td>\n",
       "    </tr>\n",
       "    <tr>\n",
       "      <th>min</th>\n",
       "      <td>1.000000</td>\n",
       "      <td>0.000000</td>\n",
       "    </tr>\n",
       "    <tr>\n",
       "      <th>25%</th>\n",
       "      <td>8.000000</td>\n",
       "      <td>0.030000</td>\n",
       "    </tr>\n",
       "    <tr>\n",
       "      <th>50%</th>\n",
       "      <td>17.000000</td>\n",
       "      <td>0.110000</td>\n",
       "    </tr>\n",
       "    <tr>\n",
       "      <th>75%</th>\n",
       "      <td>31.000000</td>\n",
       "      <td>0.300000</td>\n",
       "    </tr>\n",
       "    <tr>\n",
       "      <th>max</th>\n",
       "      <td>423.000000</td>\n",
       "      <td>5.710000</td>\n",
       "    </tr>\n",
       "  </tbody>\n",
       "</table>\n",
       "</div>"
      ],
      "text/plain": [
       "              loc           b\n",
       "count  498.000000  498.000000\n",
       "mean    29.644779    0.304699\n",
       "std     42.753572    0.565998\n",
       "min      1.000000    0.000000\n",
       "25%      8.000000    0.030000\n",
       "50%     17.000000    0.110000\n",
       "75%     31.000000    0.300000\n",
       "max    423.000000    5.710000"
      ]
     },
     "execution_count": 37,
     "metadata": {},
     "output_type": "execute_result"
    }
   ],
   "source": [
    "selected_data.describe()\n"
   ]
  },
  {
   "cell_type": "code",
   "execution_count": 38,
   "id": "3ddc0ec0",
   "metadata": {
    "execution": {
     "iopub.execute_input": "2022-12-20T18:43:58.603703Z",
     "iopub.status.busy": "2022-12-20T18:43:58.603305Z",
     "iopub.status.idle": "2022-12-20T18:43:58.615020Z",
     "shell.execute_reply": "2022-12-20T18:43:58.613982Z"
    },
    "papermill": {
     "duration": 0.060565,
     "end_time": "2022-12-20T18:43:58.617263",
     "exception": false,
     "start_time": "2022-12-20T18:43:58.556698",
     "status": "completed"
    },
    "tags": []
   },
   "outputs": [
    {
     "data": {
      "text/html": [
       "<div>\n",
       "<style scoped>\n",
       "    .dataframe tbody tr th:only-of-type {\n",
       "        vertical-align: middle;\n",
       "    }\n",
       "\n",
       "    .dataframe tbody tr th {\n",
       "        vertical-align: top;\n",
       "    }\n",
       "\n",
       "    .dataframe thead th {\n",
       "        text-align: right;\n",
       "    }\n",
       "</style>\n",
       "<table border=\"1\" class=\"dataframe\">\n",
       "  <thead>\n",
       "    <tr style=\"text-align: right;\">\n",
       "      <th></th>\n",
       "      <th>loc</th>\n",
       "      <th>b</th>\n",
       "    </tr>\n",
       "  </thead>\n",
       "  <tbody>\n",
       "    <tr>\n",
       "      <th>loc</th>\n",
       "      <td>1.000000</td>\n",
       "      <td>0.943339</td>\n",
       "    </tr>\n",
       "    <tr>\n",
       "      <th>b</th>\n",
       "      <td>0.943339</td>\n",
       "      <td>1.000000</td>\n",
       "    </tr>\n",
       "  </tbody>\n",
       "</table>\n",
       "</div>"
      ],
      "text/plain": [
       "          loc         b\n",
       "loc  1.000000  0.943339\n",
       "b    0.943339  1.000000"
      ]
     },
     "execution_count": 38,
     "metadata": {},
     "output_type": "execute_result"
    }
   ],
   "source": [
    "selected_data.corr()"
   ]
  },
  {
   "cell_type": "code",
   "execution_count": 39,
   "id": "c7fafa75",
   "metadata": {
    "execution": {
     "iopub.execute_input": "2022-12-20T18:43:58.714634Z",
     "iopub.status.busy": "2022-12-20T18:43:58.713960Z",
     "iopub.status.idle": "2022-12-20T18:43:58.755145Z",
     "shell.execute_reply": "2022-12-20T18:43:58.753977Z"
    },
    "papermill": {
     "duration": 0.094852,
     "end_time": "2022-12-20T18:43:58.758719",
     "exception": false,
     "start_time": "2022-12-20T18:43:58.663867",
     "status": "completed"
    },
    "tags": []
   },
   "outputs": [
    {
     "data": {
      "application/vnd.plotly.v1+json": {
       "config": {
        "linkText": "Export to plot.ly",
        "plotlyServerURL": "https://plot.ly",
        "showLink": false
       },
       "data": [
        {
         "marker": {
          "color": "darkmagenta"
         },
         "mode": "markers",
         "name": "Line of Code - Bug",
         "text": "Bug (b)",
         "type": "scatter",
         "x": [
          1.1,
          1.0,
          24.0,
          20.0,
          24.0,
          24.0,
          7.0,
          12.0,
          25.0,
          46.0,
          34.0,
          10.0,
          23.0,
          23.0,
          31.0,
          24.0,
          13.0,
          6.0,
          33.0,
          6.0,
          7.0,
          3.0,
          7.0,
          9.0,
          11.0,
          4.0,
          3.0,
          16.0,
          65.0,
          177.0,
          14.0,
          361.0,
          76.0,
          31.0,
          20.0,
          27.0,
          15.0,
          13.0,
          32.0,
          25.0,
          22.0,
          28.0,
          18.0,
          24.0,
          62.0,
          65.0,
          8.0,
          18.0,
          6.0,
          48.0,
          127.0,
          21.0,
          32.0,
          41.0,
          23.0,
          8.0,
          25.0,
          8.0,
          17.0,
          38.0,
          31.0,
          21.0,
          21.0,
          14.0,
          6.0,
          29.0,
          18.0,
          55.0,
          47.0,
          32.0,
          32.0,
          38.0,
          14.0,
          60.0,
          10.0,
          16.0,
          12.0,
          13.0,
          16.0,
          27.0,
          31.0,
          10.0,
          37.0,
          8.0,
          8.0,
          9.0,
          9.0,
          7.0,
          26.0,
          7.0,
          14.0,
          9.0,
          11.0,
          34.0,
          7.0,
          31.0,
          8.0,
          6.0,
          7.0,
          15.0,
          16.0,
          19.0,
          130.0,
          30.0,
          34.0,
          20.0,
          17.0,
          17.0,
          26.0,
          10.0,
          6.0,
          8.0,
          93.0,
          128.0,
          28.0,
          19.0,
          19.0,
          21.0,
          154.0,
          125.0,
          14.0,
          127.0,
          12.0,
          18.0,
          20.0,
          36.0,
          160.0,
          47.0,
          6.0,
          6.0,
          38.0,
          6.0,
          12.0,
          12.0,
          9.0,
          41.0,
          30.0,
          6.0,
          20.0,
          149.0,
          6.0,
          16.0,
          15.0,
          13.0,
          6.0,
          14.0,
          14.0,
          27.0,
          19.0,
          21.0,
          6.0,
          16.0,
          55.0,
          6.0,
          9.0,
          12.0,
          12.0,
          69.0,
          138.0,
          6.0,
          6.0,
          72.0,
          6.0,
          6.0,
          6.0,
          6.0,
          11.0,
          23.0,
          17.0,
          60.0,
          32.0,
          16.0,
          42.0,
          6.0,
          14.0,
          27.0,
          8.0,
          7.0,
          31.0,
          8.0,
          11.0,
          6.0,
          13.0,
          6.0,
          22.0,
          29.0,
          9.0,
          16.0,
          92.0,
          18.0,
          36.0,
          5.0,
          22.0,
          3.0,
          7.0,
          3.0,
          7.0,
          9.0,
          11.0,
          4.0,
          3.0,
          30.0,
          5.0,
          16.0,
          5.0,
          15.0,
          40.0,
          5.0,
          5.0,
          12.0,
          5.0,
          44.0,
          31.0,
          22.0,
          20.0,
          27.0,
          6.0,
          25.0,
          10.0,
          10.0,
          5.0,
          14.0,
          20.0,
          28.0,
          3.0,
          45.0,
          7.0,
          7.0,
          7.0,
          7.0,
          7.0,
          7.0,
          7.0,
          11.0,
          11.0,
          27.0,
          10.0,
          9.0,
          9.0,
          20.0,
          98.0,
          172.0,
          6.0,
          43.0,
          36.0,
          21.0,
          6.0,
          5.0,
          5.0,
          8.0,
          6.0,
          16.0,
          14.0,
          88.0,
          29.0,
          60.0,
          52.0,
          7.0,
          8.0,
          20.0,
          29.0,
          9.0,
          15.0,
          14.0,
          22.0,
          63.0,
          9.0,
          9.0,
          17.0,
          9.0,
          10.0,
          3.0,
          9.0,
          101.0,
          29.0,
          22.0,
          106.0,
          21.0,
          10.0,
          17.0,
          13.0,
          4.0,
          49.0,
          49.0,
          55.0,
          55.0,
          17.0,
          17.0,
          20.0,
          20.0,
          30.0,
          45.0,
          20.0,
          41.0,
          25.0,
          22.0,
          41.0,
          48.0,
          24.0,
          25.0,
          176.0,
          10.0,
          66.0,
          32.0,
          18.0,
          3.0,
          14.0,
          29.0,
          104.0,
          68.0,
          7.0,
          21.0,
          10.0,
          19.0,
          7.0,
          8.0,
          8.0,
          8.0,
          19.0,
          10.0,
          11.0,
          9.0,
          7.0,
          8.0,
          15.0,
          10.0,
          6.0,
          44.0,
          8.0,
          15.0,
          7.0,
          6.0,
          15.0,
          70.0,
          24.0,
          6.0,
          12.0,
          5.0,
          8.0,
          9.0,
          9.0,
          19.0,
          6.0,
          25.0,
          19.0,
          76.0,
          35.0,
          8.0,
          14.0,
          7.0,
          27.0,
          20.0,
          27.0,
          25.0,
          423.0,
          30.0,
          10.0,
          49.0,
          85.0,
          8.0,
          50.0,
          165.0,
          17.0,
          15.0,
          61.0,
          63.0,
          16.0,
          49.0,
          52.0,
          42.0,
          62.0,
          65.0,
          75.0,
          8.0,
          8.0,
          3.0,
          4.0,
          15.0,
          8.0,
          9.0,
          13.0,
          3.0,
          4.0,
          6.0,
          6.0,
          15.0,
          9.0,
          9.0,
          20.0,
          7.0,
          3.0,
          3.0,
          6.0,
          7.0,
          3.0,
          3.0,
          6.0,
          2.0,
          2.0,
          3.0,
          4.0,
          9.0,
          16.0,
          5.0,
          4.0,
          5.0,
          9.0,
          18.0,
          38.0,
          14.0,
          47.0,
          11.0,
          11.0,
          11.0,
          21.0,
          23.0,
          13.0,
          21.0,
          21.0,
          22.0,
          41.0,
          22.0,
          9.0,
          50.0,
          29.0,
          50.0,
          29.0,
          29.0,
          9.0,
          16.0,
          9.0,
          6.0,
          30.0,
          14.0,
          56.0,
          21.0,
          14.0,
          7.0,
          16.0,
          22.0,
          27.0,
          3.0,
          7.0,
          3.0,
          7.0,
          9.0,
          11.0,
          4.0,
          3.0,
          12.0,
          31.0,
          29.0,
          71.0,
          15.0,
          33.0,
          92.0,
          44.0,
          143.0,
          196.0,
          12.0,
          12.0,
          133.0,
          28.0,
          91.0,
          41.0,
          149.0,
          411.0,
          121.0,
          130.0,
          79.0,
          57.0,
          49.0,
          58.0,
          28.0,
          13.0,
          71.0,
          22.0,
          22.0,
          59.0,
          19.0,
          89.0,
          32.0,
          74.0,
          32.0,
          107.0,
          7.0,
          19.0,
          18.0,
          22.0,
          20.0,
          8.0,
          44.0,
          91.0,
          47.0,
          24.0,
          82.0,
          10.0,
          28.0
         ],
         "y": [
          1.3,
          1.0,
          0.1,
          0.07,
          0.12,
          0.12,
          0.01,
          0.03,
          0.18,
          0.45,
          0.29,
          0.05,
          0.26,
          0.16,
          0.43,
          0.22,
          0.09,
          0.02,
          0.25,
          0.02,
          0.04,
          0.02,
          0.04,
          0.06,
          0.07,
          0.01,
          0.01,
          0.12,
          1.11,
          1.86,
          0.06,
          5.12,
          0.65,
          0.88,
          0.12,
          0.18,
          0.09,
          0.1,
          0.23,
          0.23,
          0.13,
          0.24,
          0.21,
          0.36,
          0.67,
          0.55,
          0.06,
          0.14,
          0.01,
          0.54,
          1.78,
          0.13,
          0.43,
          0.33,
          0.08,
          0.05,
          0.16,
          0.01,
          0.18,
          0.35,
          0.27,
          0.1,
          0.1,
          0.03,
          0.02,
          0.19,
          0.15,
          0.44,
          0.31,
          0.17,
          1.04,
          0.3,
          0.09,
          0.72,
          0.04,
          0.12,
          0.05,
          0.06,
          0.06,
          0.17,
          0.2,
          0.01,
          0.16,
          0.01,
          0.04,
          0.06,
          0.05,
          0.01,
          0.17,
          0.03,
          0.12,
          0.02,
          0.03,
          0.25,
          0.01,
          0.21,
          0.01,
          0.01,
          0.01,
          0.1,
          0.1,
          0.1,
          1.7,
          0.21,
          0.26,
          0.43,
          0.08,
          0.08,
          0.38,
          0.02,
          0.01,
          0.01,
          0.9,
          1.89,
          0.18,
          0.1,
          0.09,
          0.1,
          1.71,
          1.04,
          0.03,
          1.57,
          0.04,
          0.12,
          0.15,
          0.28,
          1.15,
          0.66,
          0.01,
          0.01,
          0.3,
          0.01,
          0.03,
          0.03,
          0.03,
          0.49,
          0.28,
          0.01,
          0.1,
          1.86,
          0.01,
          0.12,
          0.06,
          0.1,
          0.01,
          0.05,
          0.05,
          0.25,
          0.1,
          0.18,
          0.01,
          0.06,
          0.58,
          0.0,
          0.02,
          0.04,
          0.03,
          0.92,
          1.56,
          0.01,
          0.01,
          0.52,
          0.0,
          0.0,
          0.01,
          0.01,
          0.02,
          0.13,
          0.07,
          0.31,
          0.12,
          0.05,
          0.44,
          0.01,
          0.11,
          0.15,
          0.03,
          0.01,
          0.09,
          0.01,
          0.04,
          0.0,
          0.02,
          0.01,
          0.14,
          0.17,
          0.12,
          0.23,
          0.88,
          0.12,
          0.34,
          0.01,
          0.11,
          0.01,
          0.04,
          0.02,
          0.04,
          0.06,
          0.07,
          0.01,
          0.01,
          0.38,
          0.0,
          0.2,
          0.0,
          0.2,
          0.87,
          0.0,
          0.0,
          0.17,
          0.01,
          0.83,
          0.24,
          0.17,
          0.22,
          0.27,
          0.04,
          0.25,
          0.07,
          0.07,
          0.0,
          0.09,
          0.18,
          0.27,
          0.01,
          0.6,
          0.03,
          0.03,
          0.03,
          0.03,
          0.03,
          0.03,
          0.03,
          0.04,
          0.07,
          0.16,
          0.03,
          0.04,
          0.06,
          0.05,
          1.14,
          1.86,
          0.07,
          0.54,
          0.31,
          0.16,
          0.03,
          0.02,
          0.02,
          0.05,
          0.05,
          0.16,
          0.06,
          1.1,
          0.3,
          1.92,
          0.74,
          0.03,
          0.05,
          0.17,
          0.24,
          0.04,
          0.09,
          0.08,
          0.07,
          0.54,
          0.06,
          0.06,
          0.11,
          0.02,
          0.1,
          0.0,
          0.04,
          1.63,
          1.23,
          0.36,
          0.91,
          0.15,
          0.05,
          0.24,
          0.11,
          0.0,
          0.77,
          0.77,
          0.76,
          0.76,
          0.21,
          0.21,
          0.22,
          0.22,
          0.73,
          1.06,
          0.43,
          0.64,
          0.42,
          0.2,
          0.48,
          0.59,
          0.12,
          0.16,
          1.74,
          0.03,
          0.73,
          0.25,
          0.12,
          0.01,
          0.07,
          0.26,
          0.8,
          0.38,
          0.01,
          0.19,
          0.03,
          0.12,
          0.01,
          0.01,
          0.01,
          0.01,
          0.09,
          0.03,
          0.05,
          0.02,
          0.01,
          0.06,
          0.06,
          0.06,
          0.01,
          0.3,
          0.05,
          0.1,
          0.04,
          0.03,
          0.05,
          0.75,
          0.16,
          0.03,
          0.18,
          0.01,
          0.06,
          0.06,
          0.08,
          0.24,
          0.01,
          0.34,
          0.12,
          1.22,
          0.37,
          0.06,
          0.07,
          0.03,
          0.3,
          0.38,
          0.54,
          0.18,
          5.71,
          0.35,
          0.04,
          0.87,
          1.34,
          0.12,
          0.43,
          2.86,
          0.17,
          0.09,
          0.52,
          1.11,
          0.14,
          0.26,
          0.28,
          0.54,
          0.55,
          1.19,
          1.08,
          0.02,
          0.04,
          0.0,
          0.01,
          0.08,
          0.02,
          0.04,
          0.1,
          0.0,
          0.01,
          0.02,
          0.02,
          0.06,
          0.03,
          0.03,
          0.21,
          0.01,
          0.03,
          0.03,
          0.04,
          0.01,
          0.03,
          0.03,
          0.04,
          0.0,
          0.0,
          0.0,
          0.0,
          0.02,
          0.14,
          0.0,
          0.02,
          0.04,
          0.06,
          0.07,
          0.28,
          0.09,
          0.29,
          0.04,
          0.04,
          0.05,
          0.16,
          0.16,
          0.08,
          0.13,
          0.13,
          0.18,
          0.37,
          0.1,
          0.03,
          0.24,
          0.21,
          0.25,
          0.44,
          0.17,
          0.12,
          0.23,
          0.03,
          0.02,
          0.32,
          0.02,
          0.99,
          0.4,
          0.13,
          0.01,
          0.06,
          0.45,
          0.12,
          0.01,
          0.04,
          0.02,
          0.04,
          0.06,
          0.07,
          0.01,
          0.01,
          0.08,
          0.28,
          0.21,
          0.42,
          0.13,
          0.33,
          2.08,
          0.58,
          1.67,
          3.05,
          0.05,
          0.05,
          1.4,
          0.19,
          1.25,
          0.25,
          1.69,
          4.25,
          1.27,
          1.43,
          0.41,
          0.44,
          0.45,
          0.35,
          0.28,
          0.05,
          0.66,
          0.19,
          0.15,
          0.77,
          0.19,
          0.87,
          0.22,
          0.76,
          0.19,
          1.12,
          0.04,
          0.15,
          0.1,
          0.15,
          0.11,
          0.03,
          0.32,
          1.39,
          0.52,
          0.2,
          1.05,
          0.05,
          0.19
         ]
        }
       ],
       "layout": {
        "template": {
         "data": {
          "bar": [
           {
            "error_x": {
             "color": "#2a3f5f"
            },
            "error_y": {
             "color": "#2a3f5f"
            },
            "marker": {
             "line": {
              "color": "#E5ECF6",
              "width": 0.5
             },
             "pattern": {
              "fillmode": "overlay",
              "size": 10,
              "solidity": 0.2
             }
            },
            "type": "bar"
           }
          ],
          "barpolar": [
           {
            "marker": {
             "line": {
              "color": "#E5ECF6",
              "width": 0.5
             },
             "pattern": {
              "fillmode": "overlay",
              "size": 10,
              "solidity": 0.2
             }
            },
            "type": "barpolar"
           }
          ],
          "carpet": [
           {
            "aaxis": {
             "endlinecolor": "#2a3f5f",
             "gridcolor": "white",
             "linecolor": "white",
             "minorgridcolor": "white",
             "startlinecolor": "#2a3f5f"
            },
            "baxis": {
             "endlinecolor": "#2a3f5f",
             "gridcolor": "white",
             "linecolor": "white",
             "minorgridcolor": "white",
             "startlinecolor": "#2a3f5f"
            },
            "type": "carpet"
           }
          ],
          "choropleth": [
           {
            "colorbar": {
             "outlinewidth": 0,
             "ticks": ""
            },
            "type": "choropleth"
           }
          ],
          "contour": [
           {
            "colorbar": {
             "outlinewidth": 0,
             "ticks": ""
            },
            "colorscale": [
             [
              0.0,
              "#0d0887"
             ],
             [
              0.1111111111111111,
              "#46039f"
             ],
             [
              0.2222222222222222,
              "#7201a8"
             ],
             [
              0.3333333333333333,
              "#9c179e"
             ],
             [
              0.4444444444444444,
              "#bd3786"
             ],
             [
              0.5555555555555556,
              "#d8576b"
             ],
             [
              0.6666666666666666,
              "#ed7953"
             ],
             [
              0.7777777777777778,
              "#fb9f3a"
             ],
             [
              0.8888888888888888,
              "#fdca26"
             ],
             [
              1.0,
              "#f0f921"
             ]
            ],
            "type": "contour"
           }
          ],
          "contourcarpet": [
           {
            "colorbar": {
             "outlinewidth": 0,
             "ticks": ""
            },
            "type": "contourcarpet"
           }
          ],
          "heatmap": [
           {
            "colorbar": {
             "outlinewidth": 0,
             "ticks": ""
            },
            "colorscale": [
             [
              0.0,
              "#0d0887"
             ],
             [
              0.1111111111111111,
              "#46039f"
             ],
             [
              0.2222222222222222,
              "#7201a8"
             ],
             [
              0.3333333333333333,
              "#9c179e"
             ],
             [
              0.4444444444444444,
              "#bd3786"
             ],
             [
              0.5555555555555556,
              "#d8576b"
             ],
             [
              0.6666666666666666,
              "#ed7953"
             ],
             [
              0.7777777777777778,
              "#fb9f3a"
             ],
             [
              0.8888888888888888,
              "#fdca26"
             ],
             [
              1.0,
              "#f0f921"
             ]
            ],
            "type": "heatmap"
           }
          ],
          "heatmapgl": [
           {
            "colorbar": {
             "outlinewidth": 0,
             "ticks": ""
            },
            "colorscale": [
             [
              0.0,
              "#0d0887"
             ],
             [
              0.1111111111111111,
              "#46039f"
             ],
             [
              0.2222222222222222,
              "#7201a8"
             ],
             [
              0.3333333333333333,
              "#9c179e"
             ],
             [
              0.4444444444444444,
              "#bd3786"
             ],
             [
              0.5555555555555556,
              "#d8576b"
             ],
             [
              0.6666666666666666,
              "#ed7953"
             ],
             [
              0.7777777777777778,
              "#fb9f3a"
             ],
             [
              0.8888888888888888,
              "#fdca26"
             ],
             [
              1.0,
              "#f0f921"
             ]
            ],
            "type": "heatmapgl"
           }
          ],
          "histogram": [
           {
            "marker": {
             "pattern": {
              "fillmode": "overlay",
              "size": 10,
              "solidity": 0.2
             }
            },
            "type": "histogram"
           }
          ],
          "histogram2d": [
           {
            "colorbar": {
             "outlinewidth": 0,
             "ticks": ""
            },
            "colorscale": [
             [
              0.0,
              "#0d0887"
             ],
             [
              0.1111111111111111,
              "#46039f"
             ],
             [
              0.2222222222222222,
              "#7201a8"
             ],
             [
              0.3333333333333333,
              "#9c179e"
             ],
             [
              0.4444444444444444,
              "#bd3786"
             ],
             [
              0.5555555555555556,
              "#d8576b"
             ],
             [
              0.6666666666666666,
              "#ed7953"
             ],
             [
              0.7777777777777778,
              "#fb9f3a"
             ],
             [
              0.8888888888888888,
              "#fdca26"
             ],
             [
              1.0,
              "#f0f921"
             ]
            ],
            "type": "histogram2d"
           }
          ],
          "histogram2dcontour": [
           {
            "colorbar": {
             "outlinewidth": 0,
             "ticks": ""
            },
            "colorscale": [
             [
              0.0,
              "#0d0887"
             ],
             [
              0.1111111111111111,
              "#46039f"
             ],
             [
              0.2222222222222222,
              "#7201a8"
             ],
             [
              0.3333333333333333,
              "#9c179e"
             ],
             [
              0.4444444444444444,
              "#bd3786"
             ],
             [
              0.5555555555555556,
              "#d8576b"
             ],
             [
              0.6666666666666666,
              "#ed7953"
             ],
             [
              0.7777777777777778,
              "#fb9f3a"
             ],
             [
              0.8888888888888888,
              "#fdca26"
             ],
             [
              1.0,
              "#f0f921"
             ]
            ],
            "type": "histogram2dcontour"
           }
          ],
          "mesh3d": [
           {
            "colorbar": {
             "outlinewidth": 0,
             "ticks": ""
            },
            "type": "mesh3d"
           }
          ],
          "parcoords": [
           {
            "line": {
             "colorbar": {
              "outlinewidth": 0,
              "ticks": ""
             }
            },
            "type": "parcoords"
           }
          ],
          "pie": [
           {
            "automargin": true,
            "type": "pie"
           }
          ],
          "scatter": [
           {
            "fillpattern": {
             "fillmode": "overlay",
             "size": 10,
             "solidity": 0.2
            },
            "type": "scatter"
           }
          ],
          "scatter3d": [
           {
            "line": {
             "colorbar": {
              "outlinewidth": 0,
              "ticks": ""
             }
            },
            "marker": {
             "colorbar": {
              "outlinewidth": 0,
              "ticks": ""
             }
            },
            "type": "scatter3d"
           }
          ],
          "scattercarpet": [
           {
            "marker": {
             "colorbar": {
              "outlinewidth": 0,
              "ticks": ""
             }
            },
            "type": "scattercarpet"
           }
          ],
          "scattergeo": [
           {
            "marker": {
             "colorbar": {
              "outlinewidth": 0,
              "ticks": ""
             }
            },
            "type": "scattergeo"
           }
          ],
          "scattergl": [
           {
            "marker": {
             "colorbar": {
              "outlinewidth": 0,
              "ticks": ""
             }
            },
            "type": "scattergl"
           }
          ],
          "scattermapbox": [
           {
            "marker": {
             "colorbar": {
              "outlinewidth": 0,
              "ticks": ""
             }
            },
            "type": "scattermapbox"
           }
          ],
          "scatterpolar": [
           {
            "marker": {
             "colorbar": {
              "outlinewidth": 0,
              "ticks": ""
             }
            },
            "type": "scatterpolar"
           }
          ],
          "scatterpolargl": [
           {
            "marker": {
             "colorbar": {
              "outlinewidth": 0,
              "ticks": ""
             }
            },
            "type": "scatterpolargl"
           }
          ],
          "scatterternary": [
           {
            "marker": {
             "colorbar": {
              "outlinewidth": 0,
              "ticks": ""
             }
            },
            "type": "scatterternary"
           }
          ],
          "surface": [
           {
            "colorbar": {
             "outlinewidth": 0,
             "ticks": ""
            },
            "colorscale": [
             [
              0.0,
              "#0d0887"
             ],
             [
              0.1111111111111111,
              "#46039f"
             ],
             [
              0.2222222222222222,
              "#7201a8"
             ],
             [
              0.3333333333333333,
              "#9c179e"
             ],
             [
              0.4444444444444444,
              "#bd3786"
             ],
             [
              0.5555555555555556,
              "#d8576b"
             ],
             [
              0.6666666666666666,
              "#ed7953"
             ],
             [
              0.7777777777777778,
              "#fb9f3a"
             ],
             [
              0.8888888888888888,
              "#fdca26"
             ],
             [
              1.0,
              "#f0f921"
             ]
            ],
            "type": "surface"
           }
          ],
          "table": [
           {
            "cells": {
             "fill": {
              "color": "#EBF0F8"
             },
             "line": {
              "color": "white"
             }
            },
            "header": {
             "fill": {
              "color": "#C8D4E3"
             },
             "line": {
              "color": "white"
             }
            },
            "type": "table"
           }
          ]
         },
         "layout": {
          "annotationdefaults": {
           "arrowcolor": "#2a3f5f",
           "arrowhead": 0,
           "arrowwidth": 1
          },
          "autotypenumbers": "strict",
          "coloraxis": {
           "colorbar": {
            "outlinewidth": 0,
            "ticks": ""
           }
          },
          "colorscale": {
           "diverging": [
            [
             0,
             "#8e0152"
            ],
            [
             0.1,
             "#c51b7d"
            ],
            [
             0.2,
             "#de77ae"
            ],
            [
             0.3,
             "#f1b6da"
            ],
            [
             0.4,
             "#fde0ef"
            ],
            [
             0.5,
             "#f7f7f7"
            ],
            [
             0.6,
             "#e6f5d0"
            ],
            [
             0.7,
             "#b8e186"
            ],
            [
             0.8,
             "#7fbc41"
            ],
            [
             0.9,
             "#4d9221"
            ],
            [
             1,
             "#276419"
            ]
           ],
           "sequential": [
            [
             0.0,
             "#0d0887"
            ],
            [
             0.1111111111111111,
             "#46039f"
            ],
            [
             0.2222222222222222,
             "#7201a8"
            ],
            [
             0.3333333333333333,
             "#9c179e"
            ],
            [
             0.4444444444444444,
             "#bd3786"
            ],
            [
             0.5555555555555556,
             "#d8576b"
            ],
            [
             0.6666666666666666,
             "#ed7953"
            ],
            [
             0.7777777777777778,
             "#fb9f3a"
            ],
            [
             0.8888888888888888,
             "#fdca26"
            ],
            [
             1.0,
             "#f0f921"
            ]
           ],
           "sequentialminus": [
            [
             0.0,
             "#0d0887"
            ],
            [
             0.1111111111111111,
             "#46039f"
            ],
            [
             0.2222222222222222,
             "#7201a8"
            ],
            [
             0.3333333333333333,
             "#9c179e"
            ],
            [
             0.4444444444444444,
             "#bd3786"
            ],
            [
             0.5555555555555556,
             "#d8576b"
            ],
            [
             0.6666666666666666,
             "#ed7953"
            ],
            [
             0.7777777777777778,
             "#fb9f3a"
            ],
            [
             0.8888888888888888,
             "#fdca26"
            ],
            [
             1.0,
             "#f0f921"
            ]
           ]
          },
          "colorway": [
           "#636efa",
           "#EF553B",
           "#00cc96",
           "#ab63fa",
           "#FFA15A",
           "#19d3f3",
           "#FF6692",
           "#B6E880",
           "#FF97FF",
           "#FECB52"
          ],
          "font": {
           "color": "#2a3f5f"
          },
          "geo": {
           "bgcolor": "white",
           "lakecolor": "white",
           "landcolor": "#E5ECF6",
           "showlakes": true,
           "showland": true,
           "subunitcolor": "white"
          },
          "hoverlabel": {
           "align": "left"
          },
          "hovermode": "closest",
          "mapbox": {
           "style": "light"
          },
          "paper_bgcolor": "white",
          "plot_bgcolor": "#E5ECF6",
          "polar": {
           "angularaxis": {
            "gridcolor": "white",
            "linecolor": "white",
            "ticks": ""
           },
           "bgcolor": "#E5ECF6",
           "radialaxis": {
            "gridcolor": "white",
            "linecolor": "white",
            "ticks": ""
           }
          },
          "scene": {
           "xaxis": {
            "backgroundcolor": "#E5ECF6",
            "gridcolor": "white",
            "gridwidth": 2,
            "linecolor": "white",
            "showbackground": true,
            "ticks": "",
            "zerolinecolor": "white"
           },
           "yaxis": {
            "backgroundcolor": "#E5ECF6",
            "gridcolor": "white",
            "gridwidth": 2,
            "linecolor": "white",
            "showbackground": true,
            "ticks": "",
            "zerolinecolor": "white"
           },
           "zaxis": {
            "backgroundcolor": "#E5ECF6",
            "gridcolor": "white",
            "gridwidth": 2,
            "linecolor": "white",
            "showbackground": true,
            "ticks": "",
            "zerolinecolor": "white"
           }
          },
          "shapedefaults": {
           "line": {
            "color": "#2a3f5f"
           }
          },
          "ternary": {
           "aaxis": {
            "gridcolor": "white",
            "linecolor": "white",
            "ticks": ""
           },
           "baxis": {
            "gridcolor": "white",
            "linecolor": "white",
            "ticks": ""
           },
           "bgcolor": "#E5ECF6",
           "caxis": {
            "gridcolor": "white",
            "linecolor": "white",
            "ticks": ""
           }
          },
          "title": {
           "x": 0.05
          },
          "xaxis": {
           "automargin": true,
           "gridcolor": "white",
           "linecolor": "white",
           "ticks": "",
           "title": {
            "standoff": 15
           },
           "zerolinecolor": "white",
           "zerolinewidth": 2
          },
          "yaxis": {
           "automargin": true,
           "gridcolor": "white",
           "linecolor": "white",
           "ticks": "",
           "title": {
            "standoff": 15
           },
           "zerolinecolor": "white",
           "zerolinewidth": 2
          }
         }
        },
        "title": {
         "text": "Line of Code - Bug"
        },
        "xaxis": {
         "ticklen": 5,
         "title": {
          "text": "Line of Code"
         }
        },
        "yaxis": {
         "ticklen": 5,
         "title": {
          "text": "Bug"
         }
        }
       }
      },
      "text/html": [
       "<div>                            <div id=\"c3a033bf-cb62-4e1b-949e-e9de25c1c6d2\" class=\"plotly-graph-div\" style=\"height:525px; width:100%;\"></div>            <script type=\"text/javascript\">                require([\"plotly\"], function(Plotly) {                    window.PLOTLYENV=window.PLOTLYENV || {};                                    if (document.getElementById(\"c3a033bf-cb62-4e1b-949e-e9de25c1c6d2\")) {                    Plotly.newPlot(                        \"c3a033bf-cb62-4e1b-949e-e9de25c1c6d2\",                        [{\"marker\":{\"color\":\"darkmagenta\"},\"mode\":\"markers\",\"name\":\"Line of Code - Bug\",\"text\":\"Bug (b)\",\"x\":[1.1,1.0,24.0,20.0,24.0,24.0,7.0,12.0,25.0,46.0,34.0,10.0,23.0,23.0,31.0,24.0,13.0,6.0,33.0,6.0,7.0,3.0,7.0,9.0,11.0,4.0,3.0,16.0,65.0,177.0,14.0,361.0,76.0,31.0,20.0,27.0,15.0,13.0,32.0,25.0,22.0,28.0,18.0,24.0,62.0,65.0,8.0,18.0,6.0,48.0,127.0,21.0,32.0,41.0,23.0,8.0,25.0,8.0,17.0,38.0,31.0,21.0,21.0,14.0,6.0,29.0,18.0,55.0,47.0,32.0,32.0,38.0,14.0,60.0,10.0,16.0,12.0,13.0,16.0,27.0,31.0,10.0,37.0,8.0,8.0,9.0,9.0,7.0,26.0,7.0,14.0,9.0,11.0,34.0,7.0,31.0,8.0,6.0,7.0,15.0,16.0,19.0,130.0,30.0,34.0,20.0,17.0,17.0,26.0,10.0,6.0,8.0,93.0,128.0,28.0,19.0,19.0,21.0,154.0,125.0,14.0,127.0,12.0,18.0,20.0,36.0,160.0,47.0,6.0,6.0,38.0,6.0,12.0,12.0,9.0,41.0,30.0,6.0,20.0,149.0,6.0,16.0,15.0,13.0,6.0,14.0,14.0,27.0,19.0,21.0,6.0,16.0,55.0,6.0,9.0,12.0,12.0,69.0,138.0,6.0,6.0,72.0,6.0,6.0,6.0,6.0,11.0,23.0,17.0,60.0,32.0,16.0,42.0,6.0,14.0,27.0,8.0,7.0,31.0,8.0,11.0,6.0,13.0,6.0,22.0,29.0,9.0,16.0,92.0,18.0,36.0,5.0,22.0,3.0,7.0,3.0,7.0,9.0,11.0,4.0,3.0,30.0,5.0,16.0,5.0,15.0,40.0,5.0,5.0,12.0,5.0,44.0,31.0,22.0,20.0,27.0,6.0,25.0,10.0,10.0,5.0,14.0,20.0,28.0,3.0,45.0,7.0,7.0,7.0,7.0,7.0,7.0,7.0,11.0,11.0,27.0,10.0,9.0,9.0,20.0,98.0,172.0,6.0,43.0,36.0,21.0,6.0,5.0,5.0,8.0,6.0,16.0,14.0,88.0,29.0,60.0,52.0,7.0,8.0,20.0,29.0,9.0,15.0,14.0,22.0,63.0,9.0,9.0,17.0,9.0,10.0,3.0,9.0,101.0,29.0,22.0,106.0,21.0,10.0,17.0,13.0,4.0,49.0,49.0,55.0,55.0,17.0,17.0,20.0,20.0,30.0,45.0,20.0,41.0,25.0,22.0,41.0,48.0,24.0,25.0,176.0,10.0,66.0,32.0,18.0,3.0,14.0,29.0,104.0,68.0,7.0,21.0,10.0,19.0,7.0,8.0,8.0,8.0,19.0,10.0,11.0,9.0,7.0,8.0,15.0,10.0,6.0,44.0,8.0,15.0,7.0,6.0,15.0,70.0,24.0,6.0,12.0,5.0,8.0,9.0,9.0,19.0,6.0,25.0,19.0,76.0,35.0,8.0,14.0,7.0,27.0,20.0,27.0,25.0,423.0,30.0,10.0,49.0,85.0,8.0,50.0,165.0,17.0,15.0,61.0,63.0,16.0,49.0,52.0,42.0,62.0,65.0,75.0,8.0,8.0,3.0,4.0,15.0,8.0,9.0,13.0,3.0,4.0,6.0,6.0,15.0,9.0,9.0,20.0,7.0,3.0,3.0,6.0,7.0,3.0,3.0,6.0,2.0,2.0,3.0,4.0,9.0,16.0,5.0,4.0,5.0,9.0,18.0,38.0,14.0,47.0,11.0,11.0,11.0,21.0,23.0,13.0,21.0,21.0,22.0,41.0,22.0,9.0,50.0,29.0,50.0,29.0,29.0,9.0,16.0,9.0,6.0,30.0,14.0,56.0,21.0,14.0,7.0,16.0,22.0,27.0,3.0,7.0,3.0,7.0,9.0,11.0,4.0,3.0,12.0,31.0,29.0,71.0,15.0,33.0,92.0,44.0,143.0,196.0,12.0,12.0,133.0,28.0,91.0,41.0,149.0,411.0,121.0,130.0,79.0,57.0,49.0,58.0,28.0,13.0,71.0,22.0,22.0,59.0,19.0,89.0,32.0,74.0,32.0,107.0,7.0,19.0,18.0,22.0,20.0,8.0,44.0,91.0,47.0,24.0,82.0,10.0,28.0],\"y\":[1.3,1.0,0.1,0.07,0.12,0.12,0.01,0.03,0.18,0.45,0.29,0.05,0.26,0.16,0.43,0.22,0.09,0.02,0.25,0.02,0.04,0.02,0.04,0.06,0.07,0.01,0.01,0.12,1.11,1.86,0.06,5.12,0.65,0.88,0.12,0.18,0.09,0.1,0.23,0.23,0.13,0.24,0.21,0.36,0.67,0.55,0.06,0.14,0.01,0.54,1.78,0.13,0.43,0.33,0.08,0.05,0.16,0.01,0.18,0.35,0.27,0.1,0.1,0.03,0.02,0.19,0.15,0.44,0.31,0.17,1.04,0.3,0.09,0.72,0.04,0.12,0.05,0.06,0.06,0.17,0.2,0.01,0.16,0.01,0.04,0.06,0.05,0.01,0.17,0.03,0.12,0.02,0.03,0.25,0.01,0.21,0.01,0.01,0.01,0.1,0.1,0.1,1.7,0.21,0.26,0.43,0.08,0.08,0.38,0.02,0.01,0.01,0.9,1.89,0.18,0.1,0.09,0.1,1.71,1.04,0.03,1.57,0.04,0.12,0.15,0.28,1.15,0.66,0.01,0.01,0.3,0.01,0.03,0.03,0.03,0.49,0.28,0.01,0.1,1.86,0.01,0.12,0.06,0.1,0.01,0.05,0.05,0.25,0.1,0.18,0.01,0.06,0.58,0.0,0.02,0.04,0.03,0.92,1.56,0.01,0.01,0.52,0.0,0.0,0.01,0.01,0.02,0.13,0.07,0.31,0.12,0.05,0.44,0.01,0.11,0.15,0.03,0.01,0.09,0.01,0.04,0.0,0.02,0.01,0.14,0.17,0.12,0.23,0.88,0.12,0.34,0.01,0.11,0.01,0.04,0.02,0.04,0.06,0.07,0.01,0.01,0.38,0.0,0.2,0.0,0.2,0.87,0.0,0.0,0.17,0.01,0.83,0.24,0.17,0.22,0.27,0.04,0.25,0.07,0.07,0.0,0.09,0.18,0.27,0.01,0.6,0.03,0.03,0.03,0.03,0.03,0.03,0.03,0.04,0.07,0.16,0.03,0.04,0.06,0.05,1.14,1.86,0.07,0.54,0.31,0.16,0.03,0.02,0.02,0.05,0.05,0.16,0.06,1.1,0.3,1.92,0.74,0.03,0.05,0.17,0.24,0.04,0.09,0.08,0.07,0.54,0.06,0.06,0.11,0.02,0.1,0.0,0.04,1.63,1.23,0.36,0.91,0.15,0.05,0.24,0.11,0.0,0.77,0.77,0.76,0.76,0.21,0.21,0.22,0.22,0.73,1.06,0.43,0.64,0.42,0.2,0.48,0.59,0.12,0.16,1.74,0.03,0.73,0.25,0.12,0.01,0.07,0.26,0.8,0.38,0.01,0.19,0.03,0.12,0.01,0.01,0.01,0.01,0.09,0.03,0.05,0.02,0.01,0.06,0.06,0.06,0.01,0.3,0.05,0.1,0.04,0.03,0.05,0.75,0.16,0.03,0.18,0.01,0.06,0.06,0.08,0.24,0.01,0.34,0.12,1.22,0.37,0.06,0.07,0.03,0.3,0.38,0.54,0.18,5.71,0.35,0.04,0.87,1.34,0.12,0.43,2.86,0.17,0.09,0.52,1.11,0.14,0.26,0.28,0.54,0.55,1.19,1.08,0.02,0.04,0.0,0.01,0.08,0.02,0.04,0.1,0.0,0.01,0.02,0.02,0.06,0.03,0.03,0.21,0.01,0.03,0.03,0.04,0.01,0.03,0.03,0.04,0.0,0.0,0.0,0.0,0.02,0.14,0.0,0.02,0.04,0.06,0.07,0.28,0.09,0.29,0.04,0.04,0.05,0.16,0.16,0.08,0.13,0.13,0.18,0.37,0.1,0.03,0.24,0.21,0.25,0.44,0.17,0.12,0.23,0.03,0.02,0.32,0.02,0.99,0.4,0.13,0.01,0.06,0.45,0.12,0.01,0.04,0.02,0.04,0.06,0.07,0.01,0.01,0.08,0.28,0.21,0.42,0.13,0.33,2.08,0.58,1.67,3.05,0.05,0.05,1.4,0.19,1.25,0.25,1.69,4.25,1.27,1.43,0.41,0.44,0.45,0.35,0.28,0.05,0.66,0.19,0.15,0.77,0.19,0.87,0.22,0.76,0.19,1.12,0.04,0.15,0.1,0.15,0.11,0.03,0.32,1.39,0.52,0.2,1.05,0.05,0.19],\"type\":\"scatter\"}],                        {\"template\":{\"data\":{\"barpolar\":[{\"marker\":{\"line\":{\"color\":\"#E5ECF6\",\"width\":0.5},\"pattern\":{\"fillmode\":\"overlay\",\"size\":10,\"solidity\":0.2}},\"type\":\"barpolar\"}],\"bar\":[{\"error_x\":{\"color\":\"#2a3f5f\"},\"error_y\":{\"color\":\"#2a3f5f\"},\"marker\":{\"line\":{\"color\":\"#E5ECF6\",\"width\":0.5},\"pattern\":{\"fillmode\":\"overlay\",\"size\":10,\"solidity\":0.2}},\"type\":\"bar\"}],\"carpet\":[{\"aaxis\":{\"endlinecolor\":\"#2a3f5f\",\"gridcolor\":\"white\",\"linecolor\":\"white\",\"minorgridcolor\":\"white\",\"startlinecolor\":\"#2a3f5f\"},\"baxis\":{\"endlinecolor\":\"#2a3f5f\",\"gridcolor\":\"white\",\"linecolor\":\"white\",\"minorgridcolor\":\"white\",\"startlinecolor\":\"#2a3f5f\"},\"type\":\"carpet\"}],\"choropleth\":[{\"colorbar\":{\"outlinewidth\":0,\"ticks\":\"\"},\"type\":\"choropleth\"}],\"contourcarpet\":[{\"colorbar\":{\"outlinewidth\":0,\"ticks\":\"\"},\"type\":\"contourcarpet\"}],\"contour\":[{\"colorbar\":{\"outlinewidth\":0,\"ticks\":\"\"},\"colorscale\":[[0.0,\"#0d0887\"],[0.1111111111111111,\"#46039f\"],[0.2222222222222222,\"#7201a8\"],[0.3333333333333333,\"#9c179e\"],[0.4444444444444444,\"#bd3786\"],[0.5555555555555556,\"#d8576b\"],[0.6666666666666666,\"#ed7953\"],[0.7777777777777778,\"#fb9f3a\"],[0.8888888888888888,\"#fdca26\"],[1.0,\"#f0f921\"]],\"type\":\"contour\"}],\"heatmapgl\":[{\"colorbar\":{\"outlinewidth\":0,\"ticks\":\"\"},\"colorscale\":[[0.0,\"#0d0887\"],[0.1111111111111111,\"#46039f\"],[0.2222222222222222,\"#7201a8\"],[0.3333333333333333,\"#9c179e\"],[0.4444444444444444,\"#bd3786\"],[0.5555555555555556,\"#d8576b\"],[0.6666666666666666,\"#ed7953\"],[0.7777777777777778,\"#fb9f3a\"],[0.8888888888888888,\"#fdca26\"],[1.0,\"#f0f921\"]],\"type\":\"heatmapgl\"}],\"heatmap\":[{\"colorbar\":{\"outlinewidth\":0,\"ticks\":\"\"},\"colorscale\":[[0.0,\"#0d0887\"],[0.1111111111111111,\"#46039f\"],[0.2222222222222222,\"#7201a8\"],[0.3333333333333333,\"#9c179e\"],[0.4444444444444444,\"#bd3786\"],[0.5555555555555556,\"#d8576b\"],[0.6666666666666666,\"#ed7953\"],[0.7777777777777778,\"#fb9f3a\"],[0.8888888888888888,\"#fdca26\"],[1.0,\"#f0f921\"]],\"type\":\"heatmap\"}],\"histogram2dcontour\":[{\"colorbar\":{\"outlinewidth\":0,\"ticks\":\"\"},\"colorscale\":[[0.0,\"#0d0887\"],[0.1111111111111111,\"#46039f\"],[0.2222222222222222,\"#7201a8\"],[0.3333333333333333,\"#9c179e\"],[0.4444444444444444,\"#bd3786\"],[0.5555555555555556,\"#d8576b\"],[0.6666666666666666,\"#ed7953\"],[0.7777777777777778,\"#fb9f3a\"],[0.8888888888888888,\"#fdca26\"],[1.0,\"#f0f921\"]],\"type\":\"histogram2dcontour\"}],\"histogram2d\":[{\"colorbar\":{\"outlinewidth\":0,\"ticks\":\"\"},\"colorscale\":[[0.0,\"#0d0887\"],[0.1111111111111111,\"#46039f\"],[0.2222222222222222,\"#7201a8\"],[0.3333333333333333,\"#9c179e\"],[0.4444444444444444,\"#bd3786\"],[0.5555555555555556,\"#d8576b\"],[0.6666666666666666,\"#ed7953\"],[0.7777777777777778,\"#fb9f3a\"],[0.8888888888888888,\"#fdca26\"],[1.0,\"#f0f921\"]],\"type\":\"histogram2d\"}],\"histogram\":[{\"marker\":{\"pattern\":{\"fillmode\":\"overlay\",\"size\":10,\"solidity\":0.2}},\"type\":\"histogram\"}],\"mesh3d\":[{\"colorbar\":{\"outlinewidth\":0,\"ticks\":\"\"},\"type\":\"mesh3d\"}],\"parcoords\":[{\"line\":{\"colorbar\":{\"outlinewidth\":0,\"ticks\":\"\"}},\"type\":\"parcoords\"}],\"pie\":[{\"automargin\":true,\"type\":\"pie\"}],\"scatter3d\":[{\"line\":{\"colorbar\":{\"outlinewidth\":0,\"ticks\":\"\"}},\"marker\":{\"colorbar\":{\"outlinewidth\":0,\"ticks\":\"\"}},\"type\":\"scatter3d\"}],\"scattercarpet\":[{\"marker\":{\"colorbar\":{\"outlinewidth\":0,\"ticks\":\"\"}},\"type\":\"scattercarpet\"}],\"scattergeo\":[{\"marker\":{\"colorbar\":{\"outlinewidth\":0,\"ticks\":\"\"}},\"type\":\"scattergeo\"}],\"scattergl\":[{\"marker\":{\"colorbar\":{\"outlinewidth\":0,\"ticks\":\"\"}},\"type\":\"scattergl\"}],\"scattermapbox\":[{\"marker\":{\"colorbar\":{\"outlinewidth\":0,\"ticks\":\"\"}},\"type\":\"scattermapbox\"}],\"scatterpolargl\":[{\"marker\":{\"colorbar\":{\"outlinewidth\":0,\"ticks\":\"\"}},\"type\":\"scatterpolargl\"}],\"scatterpolar\":[{\"marker\":{\"colorbar\":{\"outlinewidth\":0,\"ticks\":\"\"}},\"type\":\"scatterpolar\"}],\"scatter\":[{\"fillpattern\":{\"fillmode\":\"overlay\",\"size\":10,\"solidity\":0.2},\"type\":\"scatter\"}],\"scatterternary\":[{\"marker\":{\"colorbar\":{\"outlinewidth\":0,\"ticks\":\"\"}},\"type\":\"scatterternary\"}],\"surface\":[{\"colorbar\":{\"outlinewidth\":0,\"ticks\":\"\"},\"colorscale\":[[0.0,\"#0d0887\"],[0.1111111111111111,\"#46039f\"],[0.2222222222222222,\"#7201a8\"],[0.3333333333333333,\"#9c179e\"],[0.4444444444444444,\"#bd3786\"],[0.5555555555555556,\"#d8576b\"],[0.6666666666666666,\"#ed7953\"],[0.7777777777777778,\"#fb9f3a\"],[0.8888888888888888,\"#fdca26\"],[1.0,\"#f0f921\"]],\"type\":\"surface\"}],\"table\":[{\"cells\":{\"fill\":{\"color\":\"#EBF0F8\"},\"line\":{\"color\":\"white\"}},\"header\":{\"fill\":{\"color\":\"#C8D4E3\"},\"line\":{\"color\":\"white\"}},\"type\":\"table\"}]},\"layout\":{\"annotationdefaults\":{\"arrowcolor\":\"#2a3f5f\",\"arrowhead\":0,\"arrowwidth\":1},\"autotypenumbers\":\"strict\",\"coloraxis\":{\"colorbar\":{\"outlinewidth\":0,\"ticks\":\"\"}},\"colorscale\":{\"diverging\":[[0,\"#8e0152\"],[0.1,\"#c51b7d\"],[0.2,\"#de77ae\"],[0.3,\"#f1b6da\"],[0.4,\"#fde0ef\"],[0.5,\"#f7f7f7\"],[0.6,\"#e6f5d0\"],[0.7,\"#b8e186\"],[0.8,\"#7fbc41\"],[0.9,\"#4d9221\"],[1,\"#276419\"]],\"sequential\":[[0.0,\"#0d0887\"],[0.1111111111111111,\"#46039f\"],[0.2222222222222222,\"#7201a8\"],[0.3333333333333333,\"#9c179e\"],[0.4444444444444444,\"#bd3786\"],[0.5555555555555556,\"#d8576b\"],[0.6666666666666666,\"#ed7953\"],[0.7777777777777778,\"#fb9f3a\"],[0.8888888888888888,\"#fdca26\"],[1.0,\"#f0f921\"]],\"sequentialminus\":[[0.0,\"#0d0887\"],[0.1111111111111111,\"#46039f\"],[0.2222222222222222,\"#7201a8\"],[0.3333333333333333,\"#9c179e\"],[0.4444444444444444,\"#bd3786\"],[0.5555555555555556,\"#d8576b\"],[0.6666666666666666,\"#ed7953\"],[0.7777777777777778,\"#fb9f3a\"],[0.8888888888888888,\"#fdca26\"],[1.0,\"#f0f921\"]]},\"colorway\":[\"#636efa\",\"#EF553B\",\"#00cc96\",\"#ab63fa\",\"#FFA15A\",\"#19d3f3\",\"#FF6692\",\"#B6E880\",\"#FF97FF\",\"#FECB52\"],\"font\":{\"color\":\"#2a3f5f\"},\"geo\":{\"bgcolor\":\"white\",\"lakecolor\":\"white\",\"landcolor\":\"#E5ECF6\",\"showlakes\":true,\"showland\":true,\"subunitcolor\":\"white\"},\"hoverlabel\":{\"align\":\"left\"},\"hovermode\":\"closest\",\"mapbox\":{\"style\":\"light\"},\"paper_bgcolor\":\"white\",\"plot_bgcolor\":\"#E5ECF6\",\"polar\":{\"angularaxis\":{\"gridcolor\":\"white\",\"linecolor\":\"white\",\"ticks\":\"\"},\"bgcolor\":\"#E5ECF6\",\"radialaxis\":{\"gridcolor\":\"white\",\"linecolor\":\"white\",\"ticks\":\"\"}},\"scene\":{\"xaxis\":{\"backgroundcolor\":\"#E5ECF6\",\"gridcolor\":\"white\",\"gridwidth\":2,\"linecolor\":\"white\",\"showbackground\":true,\"ticks\":\"\",\"zerolinecolor\":\"white\"},\"yaxis\":{\"backgroundcolor\":\"#E5ECF6\",\"gridcolor\":\"white\",\"gridwidth\":2,\"linecolor\":\"white\",\"showbackground\":true,\"ticks\":\"\",\"zerolinecolor\":\"white\"},\"zaxis\":{\"backgroundcolor\":\"#E5ECF6\",\"gridcolor\":\"white\",\"gridwidth\":2,\"linecolor\":\"white\",\"showbackground\":true,\"ticks\":\"\",\"zerolinecolor\":\"white\"}},\"shapedefaults\":{\"line\":{\"color\":\"#2a3f5f\"}},\"ternary\":{\"aaxis\":{\"gridcolor\":\"white\",\"linecolor\":\"white\",\"ticks\":\"\"},\"baxis\":{\"gridcolor\":\"white\",\"linecolor\":\"white\",\"ticks\":\"\"},\"bgcolor\":\"#E5ECF6\",\"caxis\":{\"gridcolor\":\"white\",\"linecolor\":\"white\",\"ticks\":\"\"}},\"title\":{\"x\":0.05},\"xaxis\":{\"automargin\":true,\"gridcolor\":\"white\",\"linecolor\":\"white\",\"ticks\":\"\",\"title\":{\"standoff\":15},\"zerolinecolor\":\"white\",\"zerolinewidth\":2},\"yaxis\":{\"automargin\":true,\"gridcolor\":\"white\",\"linecolor\":\"white\",\"ticks\":\"\",\"title\":{\"standoff\":15},\"zerolinecolor\":\"white\",\"zerolinewidth\":2}}},\"title\":{\"text\":\"Line of Code - Bug\"},\"xaxis\":{\"ticklen\":5,\"title\":{\"text\":\"Line of Code\"}},\"yaxis\":{\"ticklen\":5,\"title\":{\"text\":\"Bug\"}}},                        {\"responsive\": true}                    ).then(function(){\n",
       "                            \n",
       "var gd = document.getElementById('c3a033bf-cb62-4e1b-949e-e9de25c1c6d2');\n",
       "var x = new MutationObserver(function (mutations, observer) {{\n",
       "        var display = window.getComputedStyle(gd).display;\n",
       "        if (!display || display === 'none') {{\n",
       "            console.log([gd, 'removed!']);\n",
       "            Plotly.purge(gd);\n",
       "            observer.disconnect();\n",
       "        }}\n",
       "}});\n",
       "\n",
       "// Listen for the removal of the full notebook cells\n",
       "var notebookContainer = gd.closest('#notebook-container');\n",
       "if (notebookContainer) {{\n",
       "    x.observe(notebookContainer, {childList: true});\n",
       "}}\n",
       "\n",
       "// Listen for the clearing of the current output cell\n",
       "var outputEl = gd.closest('.output');\n",
       "if (outputEl) {{\n",
       "    x.observe(outputEl, {childList: true});\n",
       "}}\n",
       "\n",
       "                        })                };                });            </script>        </div>"
      ]
     },
     "metadata": {},
     "output_type": "display_data"
    }
   ],
   "source": [
    "#Scatter Plot\n",
    "trace = go.Scatter(\n",
    "    x = data['loc'],\n",
    "    y = data.b,\n",
    "    mode = \"markers\",\n",
    "    name = \"Line of Code - Bug\",\n",
    "    marker = dict(color = 'darkmagenta'),\n",
    "    text = \"Bug (b)\")\n",
    "\n",
    "scatter_data = [trace]\n",
    "scatter_layout = dict(title = 'Line of Code - Bug',\n",
    "              xaxis = dict(title = 'Line of Code', ticklen = 5),\n",
    "              yaxis = dict(title = 'Bug' , ticklen = 5),\n",
    "             )\n",
    "fig = dict(data = scatter_data, layout = scatter_layout)\n",
    "iplot(fig)"
   ]
  },
  {
   "cell_type": "code",
   "execution_count": 40,
   "id": "c4a917d8",
   "metadata": {
    "execution": {
     "iopub.execute_input": "2022-12-20T18:43:58.869372Z",
     "iopub.status.busy": "2022-12-20T18:43:58.868718Z",
     "iopub.status.idle": "2022-12-20T18:43:58.879364Z",
     "shell.execute_reply": "2022-12-20T18:43:58.878560Z"
    },
    "papermill": {
     "duration": 0.068086,
     "end_time": "2022-12-20T18:43:58.881410",
     "exception": false,
     "start_time": "2022-12-20T18:43:58.813324",
     "status": "completed"
    },
    "tags": []
   },
   "outputs": [
    {
     "data": {
      "text/plain": [
       "array([1.3 , 1.  , 0.1 , 0.07, 0.12, 0.12, 0.01, 0.03, 0.18, 0.45, 0.29,\n",
       "       0.05, 0.26, 0.16, 0.43, 0.22, 0.09, 0.02, 0.25, 0.02, 0.04, 0.02,\n",
       "       0.04, 0.06, 0.07, 0.01, 0.01, 0.12, 1.11, 1.86, 0.06, 5.12, 0.65,\n",
       "       0.88, 0.12, 0.18, 0.09, 0.1 , 0.23, 0.23, 0.13, 0.24, 0.21, 0.36,\n",
       "       0.67, 0.55, 0.06, 0.14, 0.01, 0.54, 1.78, 0.13, 0.43, 0.33, 0.08,\n",
       "       0.05, 0.16, 0.01, 0.18, 0.35, 0.27, 0.1 , 0.1 , 0.03, 0.02, 0.19,\n",
       "       0.15, 0.44, 0.31, 0.17, 1.04, 0.3 , 0.09, 0.72, 0.04, 0.12, 0.05,\n",
       "       0.06, 0.06, 0.17, 0.2 , 0.01, 0.16, 0.01, 0.04, 0.06, 0.05, 0.01,\n",
       "       0.17, 0.03, 0.12, 0.02, 0.03, 0.25, 0.01, 0.21, 0.01, 0.01, 0.01,\n",
       "       0.1 , 0.1 , 0.1 , 1.7 , 0.21, 0.26, 0.43, 0.08, 0.08, 0.38, 0.02,\n",
       "       0.01, 0.01, 0.9 , 1.89, 0.18, 0.1 , 0.09, 0.1 , 1.71, 1.04, 0.03,\n",
       "       1.57, 0.04, 0.12, 0.15, 0.28, 1.15, 0.66, 0.01, 0.01, 0.3 , 0.01,\n",
       "       0.03, 0.03, 0.03, 0.49, 0.28, 0.01, 0.1 , 1.86, 0.01, 0.12, 0.06,\n",
       "       0.1 , 0.01, 0.05, 0.05, 0.25, 0.1 , 0.18, 0.01, 0.06, 0.58, 0.  ,\n",
       "       0.02, 0.04, 0.03, 0.92, 1.56, 0.01, 0.01, 0.52, 0.  , 0.  , 0.01,\n",
       "       0.01, 0.02, 0.13, 0.07, 0.31, 0.12, 0.05, 0.44, 0.01, 0.11, 0.15,\n",
       "       0.03, 0.01, 0.09, 0.01, 0.04, 0.  , 0.02, 0.01, 0.14, 0.17, 0.12,\n",
       "       0.23, 0.88, 0.12, 0.34, 0.01, 0.11, 0.01, 0.04, 0.02, 0.04, 0.06,\n",
       "       0.07, 0.01, 0.01, 0.38, 0.  , 0.2 , 0.  , 0.2 , 0.87, 0.  , 0.  ,\n",
       "       0.17, 0.01, 0.83, 0.24, 0.17, 0.22, 0.27, 0.04, 0.25, 0.07, 0.07,\n",
       "       0.  , 0.09, 0.18, 0.27, 0.01, 0.6 , 0.03, 0.03, 0.03, 0.03, 0.03,\n",
       "       0.03, 0.03, 0.04, 0.07, 0.16, 0.03, 0.04, 0.06, 0.05, 1.14, 1.86,\n",
       "       0.07, 0.54, 0.31, 0.16, 0.03, 0.02, 0.02, 0.05, 0.05, 0.16, 0.06,\n",
       "       1.1 , 0.3 , 1.92, 0.74, 0.03, 0.05, 0.17, 0.24, 0.04, 0.09, 0.08,\n",
       "       0.07, 0.54, 0.06, 0.06, 0.11, 0.02, 0.1 , 0.  , 0.04, 1.63, 1.23,\n",
       "       0.36, 0.91, 0.15, 0.05, 0.24, 0.11, 0.  , 0.77, 0.77, 0.76, 0.76,\n",
       "       0.21, 0.21, 0.22, 0.22, 0.73, 1.06, 0.43, 0.64, 0.42, 0.2 , 0.48,\n",
       "       0.59, 0.12, 0.16, 1.74, 0.03, 0.73, 0.25, 0.12, 0.01, 0.07, 0.26,\n",
       "       0.8 , 0.38, 0.01, 0.19, 0.03, 0.12, 0.01, 0.01, 0.01, 0.01, 0.09,\n",
       "       0.03, 0.05, 0.02, 0.01, 0.06, 0.06, 0.06, 0.01, 0.3 , 0.05, 0.1 ,\n",
       "       0.04, 0.03, 0.05, 0.75, 0.16, 0.03, 0.18, 0.01, 0.06, 0.06, 0.08,\n",
       "       0.24, 0.01, 0.34, 0.12, 1.22, 0.37, 0.06, 0.07, 0.03, 0.3 , 0.38,\n",
       "       0.54, 0.18, 5.71, 0.35, 0.04, 0.87, 1.34, 0.12, 0.43, 2.86, 0.17,\n",
       "       0.09, 0.52, 1.11, 0.14, 0.26, 0.28, 0.54, 0.55, 1.19, 1.08, 0.02,\n",
       "       0.04, 0.  , 0.01, 0.08, 0.02, 0.04, 0.1 , 0.  , 0.01, 0.02, 0.02,\n",
       "       0.06, 0.03, 0.03, 0.21, 0.01, 0.03, 0.03, 0.04, 0.01, 0.03, 0.03,\n",
       "       0.04, 0.  , 0.  , 0.  , 0.  , 0.02, 0.14, 0.  , 0.02, 0.04, 0.06,\n",
       "       0.07, 0.28, 0.09, 0.29, 0.04, 0.04, 0.05, 0.16, 0.16, 0.08, 0.13,\n",
       "       0.13, 0.18, 0.37, 0.1 , 0.03, 0.24, 0.21, 0.25, 0.44, 0.17, 0.12,\n",
       "       0.23, 0.03, 0.02, 0.32, 0.02, 0.99, 0.4 , 0.13, 0.01, 0.06, 0.45,\n",
       "       0.12, 0.01, 0.04, 0.02, 0.04, 0.06, 0.07, 0.01, 0.01, 0.08, 0.28,\n",
       "       0.21, 0.42, 0.13, 0.33, 2.08, 0.58, 1.67, 3.05, 0.05, 0.05, 1.4 ,\n",
       "       0.19, 1.25, 0.25, 1.69, 4.25, 1.27, 1.43, 0.41, 0.44, 0.45, 0.35,\n",
       "       0.28, 0.05, 0.66, 0.19, 0.15, 0.77, 0.19, 0.87, 0.22, 0.76, 0.19,\n",
       "       1.12, 0.04, 0.15, 0.1 , 0.15, 0.11, 0.03, 0.32, 1.39, 0.52, 0.2 ,\n",
       "       1.05, 0.05, 0.19])"
      ]
     },
     "execution_count": 40,
     "metadata": {},
     "output_type": "execute_result"
    }
   ],
   "source": [
    "Y = selected_data['b'].values  \n",
    "X = selected_data['loc'].values  \n",
    "X = X.reshape(-1,1)\n",
    "#Select the X and Y values for selection\n",
    "Y"
   ]
  },
  {
   "cell_type": "code",
   "execution_count": 41,
   "id": "483d91df",
   "metadata": {
    "execution": {
     "iopub.execute_input": "2022-12-20T18:43:58.992757Z",
     "iopub.status.busy": "2022-12-20T18:43:58.992091Z",
     "iopub.status.idle": "2022-12-20T18:43:58.998285Z",
     "shell.execute_reply": "2022-12-20T18:43:58.997169Z"
    },
    "papermill": {
     "duration": 0.064729,
     "end_time": "2022-12-20T18:43:59.000538",
     "exception": false,
     "start_time": "2022-12-20T18:43:58.935809",
     "status": "completed"
    },
    "tags": []
   },
   "outputs": [],
   "source": [
    "from sklearn.model_selection import train_test_split  \n",
    "X_train, X_test, y_train, y_test = train_test_split(X, Y, test_size=0.3, random_state=0)"
   ]
  },
  {
   "cell_type": "code",
   "execution_count": 42,
   "id": "214f1991",
   "metadata": {
    "execution": {
     "iopub.execute_input": "2022-12-20T18:43:59.111775Z",
     "iopub.status.busy": "2022-12-20T18:43:59.111317Z",
     "iopub.status.idle": "2022-12-20T18:43:59.195320Z",
     "shell.execute_reply": "2022-12-20T18:43:59.194114Z"
    },
    "papermill": {
     "duration": 0.142309,
     "end_time": "2022-12-20T18:43:59.197710",
     "exception": false,
     "start_time": "2022-12-20T18:43:59.055401",
     "status": "completed"
    },
    "tags": []
   },
   "outputs": [
    {
     "data": {
      "text/plain": [
       "LinearRegression()"
      ]
     },
     "execution_count": 42,
     "metadata": {},
     "output_type": "execute_result"
    }
   ],
   "source": [
    "#Creation of Linear Regression model\n",
    "from sklearn.linear_model import LinearRegression  \n",
    "model = LinearRegression()  \n",
    "model.fit(X_train, y_train)  "
   ]
  },
  {
   "cell_type": "code",
   "execution_count": 43,
   "id": "82532da6",
   "metadata": {
    "execution": {
     "iopub.execute_input": "2022-12-20T18:43:59.307711Z",
     "iopub.status.busy": "2022-12-20T18:43:59.307309Z",
     "iopub.status.idle": "2022-12-20T18:43:59.312652Z",
     "shell.execute_reply": "2022-12-20T18:43:59.311842Z"
    },
    "papermill": {
     "duration": 0.064773,
     "end_time": "2022-12-20T18:43:59.315714",
     "exception": false,
     "start_time": "2022-12-20T18:43:59.250941",
     "status": "completed"
    },
    "tags": []
   },
   "outputs": [
    {
     "name": "stdout",
     "output_type": "stream",
     "text": [
      "Intercept : -0.07757248320437915\n",
      "Coef : [0.01296645]\n"
     ]
    }
   ],
   "source": [
    "print(\"Intercept :\", model.intercept_)  \n",
    "print(\"Coef :\", model.coef_)"
   ]
  },
  {
   "cell_type": "code",
   "execution_count": 44,
   "id": "da3e4347",
   "metadata": {
    "execution": {
     "iopub.execute_input": "2022-12-20T18:43:59.429053Z",
     "iopub.status.busy": "2022-12-20T18:43:59.428600Z",
     "iopub.status.idle": "2022-12-20T18:43:59.438129Z",
     "shell.execute_reply": "2022-12-20T18:43:59.437061Z"
    },
    "papermill": {
     "duration": 0.069146,
     "end_time": "2022-12-20T18:43:59.440309",
     "exception": false,
     "start_time": "2022-12-20T18:43:59.371163",
     "status": "completed"
    },
    "tags": []
   },
   "outputs": [
    {
     "data": {
      "text/plain": [
       "array([[ 14.],\n",
       "       [ 29.],\n",
       "       [ 49.],\n",
       "       [  3.],\n",
       "       [ 12.],\n",
       "       [ 24.],\n",
       "       [  8.],\n",
       "       [ 18.],\n",
       "       [  6.],\n",
       "       [  6.],\n",
       "       [172.],\n",
       "       [  6.],\n",
       "       [ 29.],\n",
       "       [ 20.],\n",
       "       [ 16.],\n",
       "       [ 44.],\n",
       "       [411.],\n",
       "       [ 25.],\n",
       "       [  9.],\n",
       "       [ 13.],\n",
       "       [ 15.],\n",
       "       [ 61.],\n",
       "       [ 98.],\n",
       "       [ 26.],\n",
       "       [ 65.],\n",
       "       [ 14.],\n",
       "       [  3.],\n",
       "       [ 63.],\n",
       "       [  8.],\n",
       "       [ 11.],\n",
       "       [  9.],\n",
       "       [154.],\n",
       "       [ 20.],\n",
       "       [  5.],\n",
       "       [ 75.],\n",
       "       [ 49.],\n",
       "       [ 21.],\n",
       "       [  4.],\n",
       "       [ 20.],\n",
       "       [  9.],\n",
       "       [  7.],\n",
       "       [  8.],\n",
       "       [  9.],\n",
       "       [ 14.],\n",
       "       [ 12.],\n",
       "       [  1.],\n",
       "       [ 22.],\n",
       "       [121.],\n",
       "       [ 13.],\n",
       "       [130.],\n",
       "       [165.],\n",
       "       [ 32.],\n",
       "       [  3.],\n",
       "       [  6.],\n",
       "       [ 12.],\n",
       "       [ 23.],\n",
       "       [  6.],\n",
       "       [  6.],\n",
       "       [  3.],\n",
       "       [  9.],\n",
       "       [ 16.],\n",
       "       [106.],\n",
       "       [ 15.],\n",
       "       [ 29.],\n",
       "       [ 10.],\n",
       "       [  7.],\n",
       "       [ 34.],\n",
       "       [ 16.],\n",
       "       [  3.],\n",
       "       [ 16.],\n",
       "       [ 15.],\n",
       "       [ 29.],\n",
       "       [ 12.],\n",
       "       [  6.],\n",
       "       [ 27.],\n",
       "       [ 50.],\n",
       "       [ 22.],\n",
       "       [ 16.],\n",
       "       [ 20.],\n",
       "       [ 22.],\n",
       "       [176.],\n",
       "       [ 27.],\n",
       "       [ 29.],\n",
       "       [ 10.],\n",
       "       [  8.],\n",
       "       [ 10.],\n",
       "       [ 22.],\n",
       "       [ 69.],\n",
       "       [ 35.],\n",
       "       [ 23.],\n",
       "       [  5.],\n",
       "       [  4.],\n",
       "       [ 15.],\n",
       "       [  3.],\n",
       "       [  8.],\n",
       "       [  3.],\n",
       "       [ 25.],\n",
       "       [ 16.],\n",
       "       [ 31.],\n",
       "       [  5.],\n",
       "       [ 17.],\n",
       "       [  2.],\n",
       "       [ 38.],\n",
       "       [ 74.],\n",
       "       [  7.],\n",
       "       [ 47.],\n",
       "       [128.],\n",
       "       [ 10.],\n",
       "       [ 25.],\n",
       "       [ 12.],\n",
       "       [  9.],\n",
       "       [ 12.],\n",
       "       [  6.],\n",
       "       [ 25.],\n",
       "       [ 16.],\n",
       "       [  9.],\n",
       "       [ 16.],\n",
       "       [ 55.],\n",
       "       [  5.],\n",
       "       [ 92.],\n",
       "       [  9.],\n",
       "       [ 48.],\n",
       "       [  9.],\n",
       "       [ 15.],\n",
       "       [ 38.],\n",
       "       [ 20.],\n",
       "       [ 38.],\n",
       "       [ 47.],\n",
       "       [133.],\n",
       "       [ 14.],\n",
       "       [ 32.],\n",
       "       [  7.],\n",
       "       [ 48.],\n",
       "       [  8.],\n",
       "       [ 41.],\n",
       "       [ 22.],\n",
       "       [ 44.],\n",
       "       [ 92.],\n",
       "       [ 22.],\n",
       "       [  9.],\n",
       "       [  7.],\n",
       "       [ 32.],\n",
       "       [ 10.],\n",
       "       [  3.],\n",
       "       [ 19.],\n",
       "       [ 24.],\n",
       "       [ 19.],\n",
       "       [ 15.],\n",
       "       [ 21.],\n",
       "       [ 24.]])"
      ]
     },
     "execution_count": 44,
     "metadata": {},
     "output_type": "execute_result"
    }
   ],
   "source": [
    "X_test"
   ]
  },
  {
   "cell_type": "code",
   "execution_count": 45,
   "id": "0abb1079",
   "metadata": {
    "execution": {
     "iopub.execute_input": "2022-12-20T18:43:59.552208Z",
     "iopub.status.busy": "2022-12-20T18:43:59.551750Z",
     "iopub.status.idle": "2022-12-20T18:43:59.558664Z",
     "shell.execute_reply": "2022-12-20T18:43:59.557572Z"
    },
    "papermill": {
     "duration": 0.06635,
     "end_time": "2022-12-20T18:43:59.561391",
     "exception": false,
     "start_time": "2022-12-20T18:43:59.495041",
     "status": "completed"
    },
    "tags": []
   },
   "outputs": [],
   "source": [
    "y_pred = model.predict(X_test) "
   ]
  },
  {
   "cell_type": "code",
   "execution_count": 46,
   "id": "d342b87a",
   "metadata": {
    "execution": {
     "iopub.execute_input": "2022-12-20T18:43:59.671803Z",
     "iopub.status.busy": "2022-12-20T18:43:59.671057Z",
     "iopub.status.idle": "2022-12-20T18:43:59.685206Z",
     "shell.execute_reply": "2022-12-20T18:43:59.683992Z"
    },
    "papermill": {
     "duration": 0.071904,
     "end_time": "2022-12-20T18:43:59.687486",
     "exception": false,
     "start_time": "2022-12-20T18:43:59.615582",
     "status": "completed"
    },
    "tags": []
   },
   "outputs": [
    {
     "data": {
      "text/html": [
       "<div>\n",
       "<style scoped>\n",
       "    .dataframe tbody tr th:only-of-type {\n",
       "        vertical-align: middle;\n",
       "    }\n",
       "\n",
       "    .dataframe tbody tr th {\n",
       "        vertical-align: top;\n",
       "    }\n",
       "\n",
       "    .dataframe thead th {\n",
       "        text-align: right;\n",
       "    }\n",
       "</style>\n",
       "<table border=\"1\" class=\"dataframe\">\n",
       "  <thead>\n",
       "    <tr style=\"text-align: right;\">\n",
       "      <th></th>\n",
       "      <th>real</th>\n",
       "      <th>estimated</th>\n",
       "    </tr>\n",
       "  </thead>\n",
       "  <tbody>\n",
       "    <tr>\n",
       "      <th>0</th>\n",
       "      <td>0.12</td>\n",
       "      <td>0.103958</td>\n",
       "    </tr>\n",
       "    <tr>\n",
       "      <th>1</th>\n",
       "      <td>0.30</td>\n",
       "      <td>0.298455</td>\n",
       "    </tr>\n",
       "    <tr>\n",
       "      <th>2</th>\n",
       "      <td>0.77</td>\n",
       "      <td>0.557784</td>\n",
       "    </tr>\n",
       "    <tr>\n",
       "      <th>3</th>\n",
       "      <td>0.02</td>\n",
       "      <td>-0.038673</td>\n",
       "    </tr>\n",
       "    <tr>\n",
       "      <th>4</th>\n",
       "      <td>0.18</td>\n",
       "      <td>0.078025</td>\n",
       "    </tr>\n",
       "    <tr>\n",
       "      <th>...</th>\n",
       "      <td>...</td>\n",
       "      <td>...</td>\n",
       "    </tr>\n",
       "    <tr>\n",
       "      <th>145</th>\n",
       "      <td>0.12</td>\n",
       "      <td>0.233622</td>\n",
       "    </tr>\n",
       "    <tr>\n",
       "      <th>146</th>\n",
       "      <td>0.09</td>\n",
       "      <td>0.168790</td>\n",
       "    </tr>\n",
       "    <tr>\n",
       "      <th>147</th>\n",
       "      <td>0.10</td>\n",
       "      <td>0.116924</td>\n",
       "    </tr>\n",
       "    <tr>\n",
       "      <th>148</th>\n",
       "      <td>0.16</td>\n",
       "      <td>0.194723</td>\n",
       "    </tr>\n",
       "    <tr>\n",
       "      <th>149</th>\n",
       "      <td>0.12</td>\n",
       "      <td>0.233622</td>\n",
       "    </tr>\n",
       "  </tbody>\n",
       "</table>\n",
       "<p>150 rows × 2 columns</p>\n",
       "</div>"
      ],
      "text/plain": [
       "     real  estimated\n",
       "0    0.12   0.103958\n",
       "1    0.30   0.298455\n",
       "2    0.77   0.557784\n",
       "3    0.02  -0.038673\n",
       "4    0.18   0.078025\n",
       "..    ...        ...\n",
       "145  0.12   0.233622\n",
       "146  0.09   0.168790\n",
       "147  0.10   0.116924\n",
       "148  0.16   0.194723\n",
       "149  0.12   0.233622\n",
       "\n",
       "[150 rows x 2 columns]"
      ]
     },
     "execution_count": 46,
     "metadata": {},
     "output_type": "execute_result"
    }
   ],
   "source": [
    "# New data (real , estimated)\n",
    "new_data = pd.DataFrame({'real': y_test, 'estimated': y_pred})  \n",
    "new_data"
   ]
  },
  {
   "cell_type": "code",
   "execution_count": 47,
   "id": "e4d614f3",
   "metadata": {
    "execution": {
     "iopub.execute_input": "2022-12-20T18:43:59.800225Z",
     "iopub.status.busy": "2022-12-20T18:43:59.799123Z",
     "iopub.status.idle": "2022-12-20T18:44:00.007917Z",
     "shell.execute_reply": "2022-12-20T18:44:00.006771Z"
    },
    "papermill": {
     "duration": 0.268712,
     "end_time": "2022-12-20T18:44:00.010900",
     "exception": false,
     "start_time": "2022-12-20T18:43:59.742188",
     "status": "completed"
    },
    "tags": []
   },
   "outputs": [
    {
     "data": {
      "image/png": "[encoded data removed]",
      "text/plain": [
       "<Figure size 432x288 with 1 Axes>"
      ]
     },
     "metadata": {
      "needs_background": "light"
     },
     "output_type": "display_data"
    }
   ],
   "source": [
    "#The nearest line of all values in the model\n",
    "plt.scatter(X_train, y_train, color = 'red')\n",
    "modelin_tahmin_ettigi_y = model.predict(X_train)\n",
    "plt.plot(X_train, modelin_tahmin_ettigi_y, color = 'black')\n",
    "plt.title('Line of Code - Bug', size = 15)  \n",
    "plt.xlabel('Line of Code')  \n",
    "plt.ylabel('Bug')  \n",
    "plt.show()"
   ]
  },
  {
   "cell_type": "code",
   "execution_count": 48,
   "id": "aec6f986",
   "metadata": {
    "execution": {
     "iopub.execute_input": "2022-12-20T18:44:00.124750Z",
     "iopub.status.busy": "2022-12-20T18:44:00.123896Z",
     "iopub.status.idle": "2022-12-20T18:44:00.132138Z",
     "shell.execute_reply": "2022-12-20T18:44:00.130758Z"
    },
    "papermill": {
     "duration": 0.067339,
     "end_time": "2022-12-20T18:44:00.134747",
     "exception": false,
     "start_time": "2022-12-20T18:44:00.067408",
     "status": "completed"
    },
    "tags": []
   },
   "outputs": [
    {
     "name": "stdout",
     "output_type": "stream",
     "text": [
      "Mean Squared Error (MSE): 0.03730825148999717\n",
      "Root Mean Squared Error (RMSE): 0.19315344027481665\n"
     ]
    }
   ],
   "source": [
    "from sklearn import metrics   \n",
    "print('Mean Squared Error (MSE):', metrics.mean_squared_error(y_test, y_pred))  \n",
    "print('Root Mean Squared Error (RMSE):', np.sqrt(metrics.mean_squared_error(y_test, y_pred)))"
   ]
  }
 ],
 "metadata": {
  "kernelspec": {
   "display_name": "Python 3",
   "language": "python",
   "name": "python3"
  },
  "language_info": {
   "codemirror_mode": {
    "name": "ipython",
    "version": 3
   },
   "file_extension": ".py",
   "mimetype": "text/x-python",
   "name": "python",
   "nbconvert_exporter": "python",
   "pygments_lexer": "ipython3",
   "version": "3.7.12"
  },
  "papermill": {
   "default_parameters": {},
   "duration": 17.859477,
   "end_time": "2022-12-20T18:44:01.014314",
   "environment_variables": {},
   "exception": null,
   "input_path": "__notebook__.ipynb",
   "output_path": "__notebook__.ipynb",
   "parameters": {},
   "start_time": "2022-12-20T18:43:43.154837",
   "version": "2.3.4"
  }
 },
 "nbformat": 4,
 "nbformat_minor": 5
}
